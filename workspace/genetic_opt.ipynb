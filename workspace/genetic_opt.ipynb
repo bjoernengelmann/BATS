{
 "cells": [
  {
   "cell_type": "code",
   "execution_count": 1,
   "metadata": {},
   "outputs": [],
   "source": [
    "import random\n",
    "from deap import base, creator, tools, algorithms\n",
    "import pickle\n",
    "import numpy as np\n",
    "import matplotlib.pyplot as plt\n",
    "\n",
    "from sklearn.ensemble import GradientBoostingClassifier, RandomForestClassifier, GradientBoostingRegressor, RandomForestRegressor\n",
    "from sklearn.model_selection import KFold\n",
    "from sklearn.utils import shuffle\n",
    "\n",
    "import multiprocessing\n",
    "\n",
    "from tqdm import tqdm\n"
   ]
  },
  {
   "cell_type": "code",
   "execution_count": 2,
   "metadata": {},
   "outputs": [
    {
     "name": "stdout",
     "output_type": "stream",
     "text": [
      "(2416, 1249)\n",
      "(2416,)\n"
     ]
    }
   ],
   "source": [
    "#load data\n",
    "ds_name = \"SemEval_2007-1249\"\n",
    "\n",
    "simp_path = f\"workspace/datasets/__all_LFs/{ds_name}_simp_labels.pkl\"        \n",
    "src_path = f\"/workspace/datasets/__all_LFs/{ds_name}_src_labels.pkl\"  \n",
    "\n",
    "simp_labels = pickle.load(open(simp_path, \"rb\"))\n",
    "src_labels= pickle.load(open(src_path, \"rb\"))\n",
    "\n",
    "X , y = np.concatenate([simp_labels, src_labels]), np.array([0]*len(simp_labels) + [1]*len(src_labels))\n",
    "print(X.shape)\n",
    "print(y.shape)"
   ]
  },
  {
   "cell_type": "code",
   "execution_count": 3,
   "metadata": {},
   "outputs": [],
   "source": [
    "# datasets: list of datasets\n",
    "# make_categorical_data: transform numeric -1, 0, 1 data to categorical data, for each dimension 2 new ones, \n",
    "#       one with either SIMP/NOT_SIMP and one for ABSTAIN\n",
    "def load_data(datasets, make_categorical_data):\n",
    "    KAT = ''\n",
    "    if make_categorical_data:\n",
    "        KAT = '_KAT'\n",
    "\n",
    "    data_merged = []\n",
    "    labels = []\n",
    "\n",
    "    for d_s in datasets:\n",
    "        simp_path = f\"workspace/datasets/__all_LFs/{ds_name}_simp_labels.pkl\"        \n",
    "        src_path = f\"/workspace/datasets/__all_LFs/{ds_name}_src_labels.pkl\"    \n",
    "\n",
    "        simp_labels = pickle.load(open(simp_path, \"rb\"))\n",
    "        src_labels = pickle.load(open(src_path, \"rb\")) \n",
    "\n",
    "        for entry in simp_labels:\n",
    "            if make_categorical_data:\n",
    "                new_ent = []\n",
    "                for e in entry:\n",
    "                    if e == -1:\n",
    "                        new_ent.append(0)\n",
    "                        new_ent.append(0)\n",
    "\n",
    "                    if e == 0:\n",
    "                        new_ent.append(1)\n",
    "                        new_ent.append(0)\n",
    "\n",
    "                    if e == 1:\n",
    "                        new_ent.append(0)\n",
    "                        new_ent.append(1)\n",
    "                    \n",
    "                data_merged.append(new_ent)\n",
    "            else:\n",
    "                data_merged.append(entry.tolist())\n",
    "\n",
    "        for entry in src_labels:\n",
    "            if make_categorical_data:\n",
    "                new_ent = []\n",
    "                for e in entry:\n",
    "                    if e == -1:\n",
    "                        new_ent.append(0)\n",
    "                        new_ent.append(0)\n",
    "\n",
    "                    if e == 0:\n",
    "                        new_ent.append(1)\n",
    "                        new_ent.append(0)\n",
    "\n",
    "                    if e == 1:\n",
    "                        new_ent.append(0)\n",
    "                        new_ent.append(1)\n",
    "\n",
    "                data_merged.append(new_ent)\n",
    "            else:\n",
    "                data_merged.append(entry.tolist())\n",
    "\n",
    "        curr_lab = [0] * len(simp_labels) + [1] * len(simp_labels)\n",
    "        labels = labels + curr_lab\n",
    "\n",
    "    X, y = shuffle(data_merged, labels, random_state=42)\n",
    "    X = np.array(X)\n",
    "    y = np.array(y)\n",
    "    return X, y, KAT"
   ]
  },
  {
   "cell_type": "code",
   "execution_count": 4,
   "metadata": {},
   "outputs": [],
   "source": [
    "X, y, _ = load_data([ds_name], make_categorical_data=False)"
   ]
  },
  {
   "cell_type": "code",
   "execution_count": 5,
   "metadata": {},
   "outputs": [
    {
     "name": "stdout",
     "output_type": "stream",
     "text": [
      "(2416, 1249)\n",
      "(2416,)\n"
     ]
    }
   ],
   "source": [
    "print(X.shape)\n",
    "print(y.shape)"
   ]
  },
  {
   "cell_type": "code",
   "execution_count": 6,
   "metadata": {},
   "outputs": [],
   "source": [
    "creator.create(\"FitnessMax\", base.Fitness, weights=(1.0,-5.0))\n",
    "#creator.create(\"FitnessMulti\", base.Fitness, weights=(.1, -1.0))\n",
    "\n",
    "creator.create(\"Individual\", list, fitness=creator.FitnessMax)"
   ]
  },
  {
   "cell_type": "code",
   "execution_count": 7,
   "metadata": {},
   "outputs": [],
   "source": [
    "toolbox = base.Toolbox()\n",
    "toolbox.register(\"attr_bool\", random.randint, 0, 1)\n",
    "toolbox.register(\"individual\", tools.initRepeat, creator.Individual, toolbox.attr_bool, n=X.shape[1])\n",
    "toolbox.register(\"individual_test\", tools.initRepeat, creator.Individual, toolbox.attr_bool, n=10)\n",
    "\n",
    "toolbox.register(\"population\", tools.initRepeat, list, toolbox.individual)"
   ]
  },
  {
   "cell_type": "code",
   "execution_count": 8,
   "metadata": {},
   "outputs": [],
   "source": [
    "clf_rf = RandomForestClassifier(random_state=42)\n",
    "kfold = KFold(n_splits=5, shuffle=True, random_state=42)\n",
    "from sklearn.model_selection import cross_val_score"
   ]
  },
  {
   "cell_type": "code",
   "execution_count": 9,
   "metadata": {},
   "outputs": [],
   "source": [
    "def eval_dim_vec(individual):\n",
    "\n",
    "    sel_indices = np.array(individual).nonzero()[0]\n",
    "    can_X = np.take(X, sel_indices, axis=1)\n",
    "\n",
    "    cv_scores = cross_val_score(clf_rf, can_X, y, cv=kfold)\n",
    "    mean_acc = np.mean(cv_scores)\n",
    "    num_lfs = len(sel_indices)\n",
    "    #calc ratio of remaining lfs\n",
    "    ratio = len(sel_indices)/len(individual)\n",
    "\n",
    "\n",
    "    return ratio, mean_acc\n",
    "    return mean_acc, ratio\n",
    "     "
   ]
  },
  {
   "cell_type": "code",
   "execution_count": 10,
   "metadata": {},
   "outputs": [],
   "source": [
    "def eval_dim_vec_s_objective(individual):\n",
    "\n",
    "    l1 = 1\n",
    "    l2 = 20\n",
    "\n",
    "    sel_indices = np.array(individual).nonzero()[0]\n",
    "    can_X = np.take(X, sel_indices, axis=1)\n",
    "\n",
    "    cv_scores = cross_val_score(clf_rf, can_X, y, cv=kfold)\n",
    "    mean_acc = np.mean(cv_scores)\n",
    "    num_lfs = len(sel_indices)\n",
    "    #calc ratio of remaining lfs\n",
    "    ratio = len(sel_indices)/len(individual)\n",
    "\n",
    "    score = l1*mean_acc+l2*ratio\n",
    "\n",
    "    return score,"
   ]
  },
  {
   "cell_type": "code",
   "execution_count": 11,
   "metadata": {},
   "outputs": [],
   "source": [
    "def show_pareto_front(pareto_optimal_inds):\n",
    "    fitness_vals = []\n",
    "    with tqdm(total = len(pareto_optimal_inds)) as pbar:\n",
    "        for ind in pareto_optimal_inds:\n",
    "            fitness_vals.append(eval_dim_vec(ind))\n",
    "            pbar.update(1)\n",
    "\n",
    "    xs, ys = [x[0] for x in fitness_vals], [x[1] for x in fitness_vals]\n",
    "    plt.scatter(xs, ys)\n",
    "    plt.show()\n",
    "    \n",
    "    return fitness_vals"
   ]
  },
  {
   "cell_type": "code",
   "execution_count": 12,
   "metadata": {},
   "outputs": [],
   "source": [
    "toolbox.register(\"evaluate\", eval_dim_vec)\n",
    "toolbox.register(\"mate\", tools.cxTwoPoint)\n",
    "toolbox.register(\"mutate\", tools.mutFlipBit, indpb=0.05)\n",
    "toolbox.register(\"select\", tools.selBest)"
   ]
  },
  {
   "cell_type": "code",
   "execution_count": 13,
   "metadata": {},
   "outputs": [],
   "source": [
    "def main():\n",
    "    \n",
    "    NGEN = 20\n",
    "    MU = 200\n",
    "    LAMBDA = 100\n",
    "    CXPB = 0.5\n",
    "    MUTPB = 0.2\n",
    "\n",
    "    pop = toolbox.population(n=MU)\n",
    "    #hof = tools.HallOfFame(15)\n",
    "    hof = tools.ParetoFront()\n",
    "\n",
    "    stats = tools.Statistics(lambda ind: ind.fitness.values)\n",
    "    pool = multiprocessing.Pool(processes=4)\n",
    "    toolbox.register(\"map\", pool.map)\n",
    "\n",
    "    stats.register(\"avg\", np.mean, axis=0)\n",
    "    stats.register(\"std\", np.std, axis=0)\n",
    "    stats.register(\"min\", np.min, axis=0)\n",
    "    stats.register(\"max\", np.max, axis=0)\n",
    "    \n",
    "    #pop, logbook = algorithms.eaSimple(pop, toolbox, cxpb=0.5, mutpb=0.2, ngen=5, stats=stats, halloffame=hof, verbose=True)\n",
    "\n",
    "    pop, logbook = algorithms.eaMuPlusLambda(pop, toolbox, MU, LAMBDA, CXPB, MUTPB, NGEN, stats,\n",
    "                              halloffame=hof)\n",
    "    \n",
    "    return pop, logbook, hof"
   ]
  },
  {
   "cell_type": "code",
   "execution_count": 14,
   "metadata": {},
   "outputs": [
    {
     "name": "stdout",
     "output_type": "stream",
     "text": [
      "SemEval_2007-1249\n",
      "gen\tnevals\tavg                    \tstd                    \tmin                    \tmax                    \n",
      "0  \t200   \t[0.79018193 0.50083667]\t[0.00692071 0.01334666]\t[0.7632548  0.46997598]\t[0.80381568 0.53963171]\n",
      "1  \t67    \t[0.7945923  0.50239392]\t[0.00403131 0.01278645]\t[0.78849991 0.47157726]\t[0.80713259 0.5316253 ]\n",
      "2  \t74    \t[0.79678577 0.50345476]\t[0.00334225 0.01262782]\t[0.7922249  0.46036829]\t[0.80713259 0.5316253 ]\n",
      "3  \t68    \t[0.79842875 0.50481585]\t[0.00289292 0.01242979]\t[0.79470766 0.46036829]\t[0.80713259 0.5316253 ]\n",
      "4  \t65    \t[0.79955457 0.50570456]\t[0.00255305 0.01370463]\t[0.7963674  0.46036829]\t[0.80713259 0.53803042]\n",
      "5  \t69    \t[0.80070286 0.50696958]\t[0.00224129 0.01309122]\t[0.79760194 0.46036829]\t[0.80795733 0.53803042]\n",
      "6  \t61    \t[0.80181829 0.50801041]\t[0.00205064 0.0128185 ]\t[0.79926424 0.46036829]\t[0.80795733 0.53803042]\n",
      "7  \t71    \t[0.80265832 0.50730985]\t[0.00186693 0.01224726]\t[0.80009154 0.4723779 ]\t[0.80836456 0.53803042]\n",
      "8  \t76    \t[0.80338008 0.5091273 ]\t[0.00154942 0.01258229]\t[0.80092825 0.4723779 ]\t[0.80836456 0.53803042]\n",
      "9  \t76    \t[0.80408592 0.50914331]\t[0.00146787 0.01305372]\t[0.80216194 0.4723779 ]\t[0.81126996 0.53803042]\n",
      "10 \t71    \t[0.80461614 0.51020016]\t[0.00137577 0.01303576]\t[0.80298924 0.4723779 ]\t[0.81126996 0.54123299]\n",
      "11 \t77    \t[0.80514382 0.50995196]\t[0.00142343 0.01270133]\t[0.80340588 0.4723779 ]\t[0.81126996 0.54123299]\n",
      "12 \t73    \t[0.80575314 0.51176942]\t[0.00153021 0.01413782]\t[0.80382167 0.4723779 ]\t[0.81291857 0.54203363]\n",
      "13 \t75    \t[0.80625417 0.51257806]\t[0.00154945 0.01410709]\t[0.80464384 0.47958367]\t[0.81291857 0.54203363]\n",
      "14 \t74    \t[0.80675894 0.51289031]\t[0.00156817 0.01409468]\t[0.80505706 0.47958367]\t[0.81291857 0.54123299]\n"
     ]
    },
    {
     "ename": "KeyboardInterrupt",
     "evalue": "",
     "output_type": "error",
     "traceback": [
      "\u001b[0;31m---------------------------------------------------------------------------\u001b[0m",
      "\u001b[0;31mKeyboardInterrupt\u001b[0m                         Traceback (most recent call last)",
      "\u001b[1;32m/workspace/genetic_opt.ipynb Cell 14\u001b[0m line \u001b[0;36m3\n\u001b[1;32m      <a href='vscode-notebook-cell://attached-container%2B7b22636f6e7461696e65724e616d65223a222f7573622d706970656c696e655f7573622d706970656c696e655f31227d/workspace/genetic_opt.ipynb#X14sdnNjb2RlLXJlbW90ZQ%3D%3D?line=0'>1</a>\u001b[0m \u001b[39mif\u001b[39;00m \u001b[39m__name__\u001b[39m \u001b[39m==\u001b[39m \u001b[39m\"\u001b[39m\u001b[39m__main__\u001b[39m\u001b[39m\"\u001b[39m:\n\u001b[1;32m      <a href='vscode-notebook-cell://attached-container%2B7b22636f6e7461696e65724e616d65223a222f7573622d706970656c696e655f7573622d706970656c696e655f31227d/workspace/genetic_opt.ipynb#X14sdnNjb2RlLXJlbW90ZQ%3D%3D?line=1'>2</a>\u001b[0m     \u001b[39mprint\u001b[39m(ds_name)\n\u001b[0;32m----> <a href='vscode-notebook-cell://attached-container%2B7b22636f6e7461696e65724e616d65223a222f7573622d706970656c696e655f7573622d706970656c696e655f31227d/workspace/genetic_opt.ipynb#X14sdnNjb2RlLXJlbW90ZQ%3D%3D?line=2'>3</a>\u001b[0m     pop, log, hof \u001b[39m=\u001b[39m main()\n\u001b[1;32m      <a href='vscode-notebook-cell://attached-container%2B7b22636f6e7461696e65724e616d65223a222f7573622d706970656c696e655f7573622d706970656c696e655f31227d/workspace/genetic_opt.ipynb#X14sdnNjb2RlLXJlbW90ZQ%3D%3D?line=4'>5</a>\u001b[0m     show_pareto_front(hof)\n\u001b[1;32m      <a href='vscode-notebook-cell://attached-container%2B7b22636f6e7461696e65724e616d65223a222f7573622d706970656c696e655f7573622d706970656c696e655f31227d/workspace/genetic_opt.ipynb#X14sdnNjb2RlLXJlbW90ZQ%3D%3D?line=6'>7</a>\u001b[0m     gen, avg, min_, max_ \u001b[39m=\u001b[39m log\u001b[39m.\u001b[39mselect(\u001b[39m\"\u001b[39m\u001b[39mgen\u001b[39m\u001b[39m\"\u001b[39m, \u001b[39m\"\u001b[39m\u001b[39mavg\u001b[39m\u001b[39m\"\u001b[39m, \u001b[39m\"\u001b[39m\u001b[39mmin\u001b[39m\u001b[39m\"\u001b[39m, \u001b[39m\"\u001b[39m\u001b[39mmax\u001b[39m\u001b[39m\"\u001b[39m)\n",
      "\u001b[1;32m/workspace/genetic_opt.ipynb Cell 14\u001b[0m line \u001b[0;36m2\n\u001b[1;32m     <a href='vscode-notebook-cell://attached-container%2B7b22636f6e7461696e65724e616d65223a222f7573622d706970656c696e655f7573622d706970656c696e655f31227d/workspace/genetic_opt.ipynb#X14sdnNjb2RlLXJlbW90ZQ%3D%3D?line=19'>20</a>\u001b[0m stats\u001b[39m.\u001b[39mregister(\u001b[39m\"\u001b[39m\u001b[39mmax\u001b[39m\u001b[39m\"\u001b[39m, np\u001b[39m.\u001b[39mmax, axis\u001b[39m=\u001b[39m\u001b[39m0\u001b[39m)\n\u001b[1;32m     <a href='vscode-notebook-cell://attached-container%2B7b22636f6e7461696e65724e616d65223a222f7573622d706970656c696e655f7573622d706970656c696e655f31227d/workspace/genetic_opt.ipynb#X14sdnNjb2RlLXJlbW90ZQ%3D%3D?line=21'>22</a>\u001b[0m \u001b[39m#pop, logbook = algorithms.eaSimple(pop, toolbox, cxpb=0.5, mutpb=0.2, ngen=5, stats=stats, halloffame=hof, verbose=True)\u001b[39;00m\n\u001b[0;32m---> <a href='vscode-notebook-cell://attached-container%2B7b22636f6e7461696e65724e616d65223a222f7573622d706970656c696e655f7573622d706970656c696e655f31227d/workspace/genetic_opt.ipynb#X14sdnNjb2RlLXJlbW90ZQ%3D%3D?line=23'>24</a>\u001b[0m pop, logbook \u001b[39m=\u001b[39m algorithms\u001b[39m.\u001b[39;49meaMuPlusLambda(pop, toolbox, MU, LAMBDA, CXPB, MUTPB, NGEN, stats,\n\u001b[1;32m     <a href='vscode-notebook-cell://attached-container%2B7b22636f6e7461696e65724e616d65223a222f7573622d706970656c696e655f7573622d706970656c696e655f31227d/workspace/genetic_opt.ipynb#X14sdnNjb2RlLXJlbW90ZQ%3D%3D?line=24'>25</a>\u001b[0m                           halloffame\u001b[39m=\u001b[39;49mhof)\n\u001b[1;32m     <a href='vscode-notebook-cell://attached-container%2B7b22636f6e7461696e65724e616d65223a222f7573622d706970656c696e655f7573622d706970656c696e655f31227d/workspace/genetic_opt.ipynb#X14sdnNjb2RlLXJlbW90ZQ%3D%3D?line=26'>27</a>\u001b[0m \u001b[39mreturn\u001b[39;00m pop, logbook, hof\n",
      "File \u001b[0;32m/usr/local/lib/python3.8/site-packages/deap/algorithms.py:320\u001b[0m, in \u001b[0;36meaMuPlusLambda\u001b[0;34m(population, toolbox, mu, lambda_, cxpb, mutpb, ngen, stats, halloffame, verbose)\u001b[0m\n\u001b[1;32m    318\u001b[0m \u001b[39m# Evaluate the individuals with an invalid fitness\u001b[39;00m\n\u001b[1;32m    319\u001b[0m invalid_ind \u001b[39m=\u001b[39m [ind \u001b[39mfor\u001b[39;00m ind \u001b[39min\u001b[39;00m offspring \u001b[39mif\u001b[39;00m \u001b[39mnot\u001b[39;00m ind\u001b[39m.\u001b[39mfitness\u001b[39m.\u001b[39mvalid]\n\u001b[0;32m--> 320\u001b[0m fitnesses \u001b[39m=\u001b[39m toolbox\u001b[39m.\u001b[39;49mmap(toolbox\u001b[39m.\u001b[39;49mevaluate, invalid_ind)\n\u001b[1;32m    321\u001b[0m \u001b[39mfor\u001b[39;00m ind, fit \u001b[39min\u001b[39;00m \u001b[39mzip\u001b[39m(invalid_ind, fitnesses):\n\u001b[1;32m    322\u001b[0m     ind\u001b[39m.\u001b[39mfitness\u001b[39m.\u001b[39mvalues \u001b[39m=\u001b[39m fit\n",
      "File \u001b[0;32m/usr/local/lib/python3.8/multiprocessing/pool.py:364\u001b[0m, in \u001b[0;36mPool.map\u001b[0;34m(self, func, iterable, chunksize)\u001b[0m\n\u001b[1;32m    359\u001b[0m \u001b[39mdef\u001b[39;00m \u001b[39mmap\u001b[39m(\u001b[39mself\u001b[39m, func, iterable, chunksize\u001b[39m=\u001b[39m\u001b[39mNone\u001b[39;00m):\n\u001b[1;32m    360\u001b[0m \u001b[39m    \u001b[39m\u001b[39m'''\u001b[39;00m\n\u001b[1;32m    361\u001b[0m \u001b[39m    Apply `func` to each element in `iterable`, collecting the results\u001b[39;00m\n\u001b[1;32m    362\u001b[0m \u001b[39m    in a list that is returned.\u001b[39;00m\n\u001b[1;32m    363\u001b[0m \u001b[39m    '''\u001b[39;00m\n\u001b[0;32m--> 364\u001b[0m     \u001b[39mreturn\u001b[39;00m \u001b[39mself\u001b[39;49m\u001b[39m.\u001b[39;49m_map_async(func, iterable, mapstar, chunksize)\u001b[39m.\u001b[39;49mget()\n",
      "File \u001b[0;32m/usr/local/lib/python3.8/multiprocessing/pool.py:765\u001b[0m, in \u001b[0;36mApplyResult.get\u001b[0;34m(self, timeout)\u001b[0m\n\u001b[1;32m    764\u001b[0m \u001b[39mdef\u001b[39;00m \u001b[39mget\u001b[39m(\u001b[39mself\u001b[39m, timeout\u001b[39m=\u001b[39m\u001b[39mNone\u001b[39;00m):\n\u001b[0;32m--> 765\u001b[0m     \u001b[39mself\u001b[39;49m\u001b[39m.\u001b[39;49mwait(timeout)\n\u001b[1;32m    766\u001b[0m     \u001b[39mif\u001b[39;00m \u001b[39mnot\u001b[39;00m \u001b[39mself\u001b[39m\u001b[39m.\u001b[39mready():\n\u001b[1;32m    767\u001b[0m         \u001b[39mraise\u001b[39;00m \u001b[39mTimeoutError\u001b[39;00m\n",
      "File \u001b[0;32m/usr/local/lib/python3.8/multiprocessing/pool.py:762\u001b[0m, in \u001b[0;36mApplyResult.wait\u001b[0;34m(self, timeout)\u001b[0m\n\u001b[1;32m    761\u001b[0m \u001b[39mdef\u001b[39;00m \u001b[39mwait\u001b[39m(\u001b[39mself\u001b[39m, timeout\u001b[39m=\u001b[39m\u001b[39mNone\u001b[39;00m):\n\u001b[0;32m--> 762\u001b[0m     \u001b[39mself\u001b[39;49m\u001b[39m.\u001b[39;49m_event\u001b[39m.\u001b[39;49mwait(timeout)\n",
      "File \u001b[0;32m/usr/local/lib/python3.8/threading.py:558\u001b[0m, in \u001b[0;36mEvent.wait\u001b[0;34m(self, timeout)\u001b[0m\n\u001b[1;32m    556\u001b[0m signaled \u001b[39m=\u001b[39m \u001b[39mself\u001b[39m\u001b[39m.\u001b[39m_flag\n\u001b[1;32m    557\u001b[0m \u001b[39mif\u001b[39;00m \u001b[39mnot\u001b[39;00m signaled:\n\u001b[0;32m--> 558\u001b[0m     signaled \u001b[39m=\u001b[39m \u001b[39mself\u001b[39;49m\u001b[39m.\u001b[39;49m_cond\u001b[39m.\u001b[39;49mwait(timeout)\n\u001b[1;32m    559\u001b[0m \u001b[39mreturn\u001b[39;00m signaled\n",
      "File \u001b[0;32m/usr/local/lib/python3.8/threading.py:302\u001b[0m, in \u001b[0;36mCondition.wait\u001b[0;34m(self, timeout)\u001b[0m\n\u001b[1;32m    300\u001b[0m \u001b[39mtry\u001b[39;00m:    \u001b[39m# restore state no matter what (e.g., KeyboardInterrupt)\u001b[39;00m\n\u001b[1;32m    301\u001b[0m     \u001b[39mif\u001b[39;00m timeout \u001b[39mis\u001b[39;00m \u001b[39mNone\u001b[39;00m:\n\u001b[0;32m--> 302\u001b[0m         waiter\u001b[39m.\u001b[39;49macquire()\n\u001b[1;32m    303\u001b[0m         gotit \u001b[39m=\u001b[39m \u001b[39mTrue\u001b[39;00m\n\u001b[1;32m    304\u001b[0m     \u001b[39melse\u001b[39;00m:\n",
      "\u001b[0;31mKeyboardInterrupt\u001b[0m: "
     ]
    }
   ],
   "source": [
    "if __name__ == \"__main__\":\n",
    "    print(ds_name)\n",
    "    pop, log, hof = main()\n",
    "    \n",
    "    show_pareto_front(hof)\n",
    "\n",
    "    gen, avg, min_, max_ = log.select(\"gen\", \"avg\", \"min\", \"max\")\n",
    "    plt.plot(gen, avg, label=\"average\")\n",
    "    plt.plot(gen, min_, label=\"minimum\")\n",
    "    plt.plot(gen, max_, label=\"maximum\")\n",
    "    plt.xlabel(\"Generation\")\n",
    "    plt.ylabel(\"Fitness\")\n",
    "    plt.legend(loc=\"lower right\")\n",
    "    plt.show()"
   ]
  },
  {
   "cell_type": "code",
   "execution_count": null,
   "metadata": {},
   "outputs": [],
   "source": [
    "show_pareto_front(hof)"
   ]
  },
  {
   "cell_type": "code",
   "execution_count": null,
   "metadata": {},
   "outputs": [],
   "source": []
  },
  {
   "cell_type": "code",
   "execution_count": null,
   "metadata": {},
   "outputs": [],
   "source": []
  },
  {
   "cell_type": "code",
   "execution_count": null,
   "metadata": {},
   "outputs": [],
   "source": []
  },
  {
   "cell_type": "code",
   "execution_count": null,
   "metadata": {},
   "outputs": [],
   "source": []
  },
  {
   "cell_type": "code",
   "execution_count": null,
   "metadata": {},
   "outputs": [],
   "source": []
  },
  {
   "cell_type": "code",
   "execution_count": null,
   "metadata": {},
   "outputs": [],
   "source": []
  },
  {
   "cell_type": "code",
   "execution_count": null,
   "metadata": {},
   "outputs": [],
   "source": []
  },
  {
   "cell_type": "code",
   "execution_count": null,
   "metadata": {},
   "outputs": [],
   "source": [
    "opt_lfs_path = f\"/workspace/datasets/gen_opt_lfs/{ds_name}_lfs.pkl\""
   ]
  },
  {
   "cell_type": "code",
   "execution_count": null,
   "metadata": {},
   "outputs": [],
   "source": [
    "pickle.dump(np.array(hof[0]), open(opt_lfs_path, \"wb\"))"
   ]
  },
  {
   "cell_type": "code",
   "execution_count": null,
   "metadata": {},
   "outputs": [],
   "source": [
    "pickle.load(open(opt_lfs_path, \"rb\"))"
   ]
  },
  {
   "cell_type": "code",
   "execution_count": null,
   "metadata": {},
   "outputs": [],
   "source": []
  }
 ],
 "metadata": {
  "kernelspec": {
   "display_name": "Python 3",
   "language": "python",
   "name": "python3"
  },
  "language_info": {
   "codemirror_mode": {
    "name": "ipython",
    "version": 3
   },
   "file_extension": ".py",
   "mimetype": "text/x-python",
   "name": "python",
   "nbconvert_exporter": "python",
   "pygments_lexer": "ipython3",
   "version": "3.8.18"
  }
 },
 "nbformat": 4,
 "nbformat_minor": 2
}
