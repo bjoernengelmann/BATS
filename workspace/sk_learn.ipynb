{
 "cells": [
  {
   "cell_type": "markdown",
   "metadata": {},
   "source": [
    "### Classifiers and Regressors"
   ]
  },
  {
   "cell_type": "markdown",
   "metadata": {},
   "source": [
    "#### Classifiers and Regressors help cells"
   ]
  },
  {
   "cell_type": "code",
   "execution_count": 1,
   "metadata": {},
   "outputs": [],
   "source": [
    "import pickle\n",
    "from sklearn.utils import shuffle\n",
    "from sklearn.model_selection import cross_val_score\n",
    "from sklearn.ensemble import GradientBoostingClassifier, RandomForestClassifier, GradientBoostingRegressor, RandomForestRegressor\n",
    "from sklearn.neural_network import MLPRegressor\n",
    "from sklearn.model_selection import KFold\n",
    "from sklearn.inspection import permutation_importance\n",
    "import numpy as np"
   ]
  },
  {
   "cell_type": "code",
   "execution_count": 2,
   "metadata": {},
   "outputs": [],
   "source": [
    "# datasets: list of datasets or single dataset, depending on if multiple_datasets is set to True\n",
    "# make_categorical_data: transform numeric -1, 0, 1 data to categorical data, for each dimension 2 new ones, \n",
    "#       one with either SIMP/NOT_SIMP and one for ABSTAIN\n",
    "# use1249LFs: use the fully unpruned dataset\n",
    "def load_data(datasets, make_categorical_data, use1249LFs=False, multiple_datasets=False):\n",
    "    KAT = ''\n",
    "    if make_categorical_data:\n",
    "        KAT = '_KAT'\n",
    "\n",
    "    data_merged = []\n",
    "    labels = []\n",
    "\n",
    "    if not multiple_datasets:\n",
    "        datasets = [datasets]\n",
    "\n",
    "    for d_s in datasets:    \n",
    "        if use1249LFs:\n",
    "            simp_path = f\"/workspace/datasets/__all_LFs/{d_s}-1249_simp_labels.pkl\"        \n",
    "            src_path = f\"/workspace/datasets/__all_LFs/{d_s}-1249_src_labels.pkl\"  \n",
    "        else:\n",
    "            simp_path = f\"/workspace/datasets/ds_labels/{d_s}_simp_labels.pkl\"        \n",
    "            src_path = f\"/workspace/datasets/ds_labels/{d_s}_src_labels.pkl\"  \n",
    "\n",
    "        simp_labels = pickle.load(open(simp_path, \"rb\"))\n",
    "        src_labels = pickle.load(open(src_path, \"rb\")) \n",
    "\n",
    "        for entry in simp_labels:\n",
    "            if make_categorical_data:\n",
    "                new_ent = []\n",
    "                for e in entry:\n",
    "                    if e == -1:\n",
    "                        new_ent.append(0)\n",
    "                        new_ent.append(0)\n",
    "\n",
    "                    if e == 0:\n",
    "                        new_ent.append(1)\n",
    "                        new_ent.append(0)\n",
    "\n",
    "                    if e == 1:\n",
    "                        new_ent.append(0)\n",
    "                        new_ent.append(1)\n",
    "                    \n",
    "                data_merged.append(new_ent)\n",
    "            else:\n",
    "                data_merged.append(entry.tolist())\n",
    "\n",
    "        for entry in src_labels:\n",
    "            if make_categorical_data:\n",
    "                new_ent = []\n",
    "                for e in entry:\n",
    "                    if e == -1:\n",
    "                        new_ent.append(0)\n",
    "                        new_ent.append(0)\n",
    "\n",
    "                    if e == 0:\n",
    "                        new_ent.append(1)\n",
    "                        new_ent.append(0)\n",
    "\n",
    "                    if e == 1:\n",
    "                        new_ent.append(0)\n",
    "                        new_ent.append(1)\n",
    "\n",
    "                data_merged.append(new_ent)\n",
    "            else:\n",
    "                data_merged.append(entry.tolist())\n",
    "\n",
    "        curr_lab = [0] * len(simp_labels) + [1] * len(simp_labels)\n",
    "        labels = labels + curr_lab\n",
    "\n",
    "    X, y = shuffle(data_merged, labels, random_state=42)\n",
    "    return X, y, KAT"
   ]
  },
  {
   "cell_type": "code",
   "execution_count": 3,
   "metadata": {},
   "outputs": [],
   "source": [
    "clf_gb = GradientBoostingClassifier(random_state=42)\n",
    "clf_rf = RandomForestClassifier(random_state=42)\n",
    "\n",
    "clfs = {'gb': clf_gb, 'rf': clf_rf}\n",
    "\n",
    "reg_gb = GradientBoostingRegressor(random_state=42)\n",
    "reg_rf = RandomForestRegressor(random_state=42)\n",
    "reg_mlp = MLPRegressor(random_state=42)\n",
    "\n",
    "regs = {'reg_gb': reg_gb, 'reg_rf': reg_rf, 'reg_mlp': reg_mlp}"
   ]
  },
  {
   "cell_type": "code",
   "execution_count": 4,
   "metadata": {},
   "outputs": [],
   "source": [
    "def run_classifiers(run, X, y, run_type, n):\n",
    "    if run:\n",
    "        output = ''\n",
    "        kfold = KFold(n_splits=n, shuffle=True, random_state=42)\n",
    "        for clf in clfs:\n",
    "            cv_scores = cross_val_score(clfs[clf], X, y, cv=kfold)\n",
    "            output += clf + ' (' + run_type + ') : '\n",
    "            output += str(sum(cv_scores)/len(cv_scores)) + '\\n'\n",
    "            output += str(cv_scores) + '\\n___\\n'\n",
    "        return output, sum(cv_scores)/len(cv_scores)\n",
    "    return '', 0\n",
    "\n",
    "def run_single_classifier(X_train, y_train, clf_name, n, X_test=None, y_test=None):\n",
    "    score = -1\n",
    "    curr_clf = clfs[clf_name].fit(X_train, y_train)\n",
    "\n",
    "    if X_test and y_test:\n",
    "        score = curr_clf.score(X_test, y_test)\n",
    "    else:\n",
    "        X_test = X_train\n",
    "        y_test = y_train\n",
    "\n",
    "    # find dimensions of most important LFs\n",
    "    perm_importance = permutation_importance(curr_clf, X_test, y_test).importances_mean\n",
    "    if n < 0:\n",
    "        return perm_importance, score\n",
    "    top_LFs = np.argsort(perm_importance)[::-1][:n]\n",
    "\n",
    "    return top_LFs, score\n",
    "\n",
    "def run_regressors(run, X, y, n):\n",
    "    if run:\n",
    "        output = ''\n",
    "        kfold = KFold(n_splits=n, shuffle=True, random_state=42)\n",
    "        for reg in regs:\n",
    "            cv_scores = cross_val_score(regs[reg], X, y, cv=kfold)\n",
    "            output += reg + ': '\n",
    "            output += str(sum(cv_scores)/len(cv_scores)) + '\\n'\n",
    "            output += str(cv_scores) + '\\n___\\n'\n",
    "        return output, sum(cv_scores)/len(cv_scores)\n",
    "    return '', 0"
   ]
  },
  {
   "cell_type": "markdown",
   "metadata": {},
   "source": [
    "#### Classifiers and Regressors run"
   ]
  },
  {
   "cell_type": "code",
   "execution_count": 5,
   "metadata": {},
   "outputs": [
    {
     "name": "stdout",
     "output_type": "stream",
     "text": [
      "gb (vanilla) : 0.4573053486797563\n",
      "[0.44075829 0.41232227 0.46919431 0.46445498 0.45971564 0.47393365\n",
      " 0.43127962 0.507109   0.50952381 0.4047619 ]\n",
      "___\n",
      "rf (vanilla) : 0.3026404874746107\n",
      "[0.30331754 0.32227488 0.33649289 0.29383886 0.30331754 0.27488152\n",
      " 0.28436019 0.33649289 0.30952381 0.26190476]\n",
      "___\n",
      "\n",
      "\n"
     ]
    }
   ],
   "source": [
    "def run():\n",
    "    datasets = 'Wiki-Manual' #'britannica', 'ASSET', 'MTurkSF', 'Wiki-Manual','eval'\n",
    "\n",
    "    n = 10\n",
    "\n",
    "    X, y, KAT = load_data(datasets, make_categorical_data=False, use1249LFs=True)\n",
    "    print(run_classifiers(True, X, y, 'vanilla' + KAT, n)[0])\n",
    "    print(run_regressors(False, X, y, n)[0])\n",
    "\n",
    "run()"
   ]
  },
  {
   "cell_type": "markdown",
   "metadata": {},
   "source": [
    "### Feature Selection"
   ]
  },
  {
   "cell_type": "markdown",
   "metadata": {},
   "source": [
    "#### Feature Selection help cells"
   ]
  },
  {
   "cell_type": "code",
   "execution_count": 6,
   "metadata": {},
   "outputs": [],
   "source": [
    "from sklearn.feature_selection import SelectKBest, chi2\n",
    "from sklearn.inspection import permutation_importance\n",
    "import numpy as np\n",
    "import pandas as pd\n",
    "from tqdm import tqdm"
   ]
  },
  {
   "cell_type": "code",
   "execution_count": 7,
   "metadata": {},
   "outputs": [],
   "source": [
    "# naive_categorical_tuples: if using the naive_feature_selection_count and make_categorical_data and 1 dim of the 2 belonging together is chosen,\n",
    "#       should the two dimensions both be considered together in the resulting dimensions\n",
    "def run_naive_feature_selection(X, y, k, naive_categorical_tuples):    \n",
    "    dims_to_include = []\n",
    "    \n",
    "    # only include dimensions where values are the most different \n",
    "    for lf_dim in range(len(X[0])):\n",
    "        sum_i_src = 0\n",
    "        sum_i_simp = 0\n",
    "        for d_p in range(len(X)):\n",
    "            if y[d_p] == 0:\n",
    "                sum_i_simp += X[d_p][lf_dim]\n",
    "            else:\n",
    "                sum_i_src += X[d_p][lf_dim]\n",
    "\n",
    "        dist = abs(sum_i_simp - sum_i_src)\n",
    "\n",
    "        if len(dims_to_include) < k:\n",
    "            dims_to_include.append((lf_dim, dist))\n",
    "        else:\n",
    "            replace_cand_dist = -1\n",
    "            replace_cand_dim = -1\n",
    "            # find dim with lowest dist\n",
    "            for inc_dim in range(len(dims_to_include)):\n",
    "                if dims_to_include[inc_dim][1] < dist and (replace_cand_dist == -1 or replace_cand_dist > dims_to_include[inc_dim][1]):\n",
    "                    replace_cand_dim = inc_dim\n",
    "                    replace_cand_dist = dims_to_include[inc_dim][1]\n",
    "                        \n",
    "            # replace it\n",
    "            if replace_cand_dim > -1:\n",
    "                dims_to_include[replace_cand_dim] = (lf_dim, dist)\n",
    "\n",
    "    X_naive = []\n",
    "    for d_p in range(len(X)):\n",
    "        new_dp = []\n",
    "        all_bases = []\n",
    "        for inc_dims in dims_to_include:\n",
    "            if naive_categorical_tuples:\n",
    "                # check if dim has already been included\n",
    "                base = int(inc_dims[0] / 2)\n",
    "                if base not in all_bases:\n",
    "                    all_bases.append(base)\n",
    "                    base_dim = 2 * base\n",
    "\n",
    "                    new_dp.append(X[d_p][base_dim])\n",
    "                    new_dp.append(X[d_p][base_dim + 1])\n",
    "            else:\n",
    "                new_dp.append(X[d_p][inc_dims[0]])\n",
    "        X_naive.append(new_dp)\n",
    "    return X_naive\n",
    "\n",
    "def run_chi2(X, y, k):\n",
    "    X_chi2 = SelectKBest(chi2, k=k).fit_transform(X, y)\n",
    "    return X_chi2\n",
    "\n",
    "def run_mean_importance(X, y, k, n, clf_name):\n",
    "    kfold = KFold(n_splits=n, shuffle=True, random_state=42)\n",
    "\n",
    "    feature_importances = []\n",
    "\n",
    "    for train_index, test_index in kfold.split(X):\n",
    "        X_train, X_test = np.take(X, train_index, axis=0), np.take(X, test_index, axis=0)\n",
    "        y_train, y_test = np.take(y, train_index), np.take(y, test_index)\n",
    "\n",
    "        curr_clf = clfs[clf_name]\n",
    "        curr_clf.fit(X_train, y_train)\n",
    "\n",
    "        perm_importance = permutation_importance(curr_clf, X_test, y_test)\n",
    "        feature_importances.append(perm_importance.importances_mean)\n",
    "\n",
    "    mean_importance = np.mean(feature_importances, axis=0)\n",
    "    sorted_indices = np.argsort(mean_importance)[::-1]\n",
    "    top_k_indices = sorted_indices[:k]\n",
    "\n",
    "    X_mean_importance = []\n",
    "\n",
    "    for dp in X:\n",
    "        new_dp = []\n",
    "        for dim in top_k_indices:\n",
    "            new_dp.append(dp[dim])\n",
    "        X_mean_importance.append(new_dp)\n",
    "    return X_mean_importance\n",
    "\n",
    "def run_random(X, y, k):\n",
    "    dims_to_include = shuffle(range(0, len(X[0]) - 1), random_state=42)[:k]\n",
    "\n",
    "    X_random = []\n",
    "\n",
    "    for d_p in range(len(X)):\n",
    "        new_dp = []\n",
    "        for inc_dims in dims_to_include:\n",
    "            new_dp.append(X[d_p][inc_dims])\n",
    "        X_random.append(new_dp)\n",
    "    return X_random"
   ]
  },
  {
   "cell_type": "markdown",
   "metadata": {},
   "source": [
    "#### Feature Selection run"
   ]
  },
  {
   "cell_type": "code",
   "execution_count": 8,
   "metadata": {},
   "outputs": [],
   "source": [
    "def run_feature_selection(X, y, n, KAT, clf_name, lower=10, upper=-1):\n",
    "    if upper == -1:\n",
    "        upper = len(X[0])-1\n",
    "    all_res = []\n",
    "\n",
    "    for i in tqdm(range(lower, upper, 10)):\n",
    "        num_cat = i\n",
    "        \n",
    "        if len(X[0]) < num_cat:\n",
    "            print('Error: Number of categories smaller than dimensions of input data!')\n",
    "            exit()\n",
    "\n",
    "        X_naive = run_naive_feature_selection(X, y, num_cat, False)\n",
    "        X_chi2 = run_chi2(X, y, num_cat)\n",
    "        X_mean_importance = run_mean_importance(X, y, num_cat, n, clf_name)\n",
    "        X_random = run_random(X, y, num_cat)\n",
    "\n",
    "        naive_score = run_classifiers(True, X_naive, y, 'naive' + KAT + '_' + str(num_cat))[1]\n",
    "        chi_score = run_classifiers(True, X_chi2, y, 'chi2' + KAT + '_' + str(num_cat))[1]\n",
    "        meanImp_score = run_classifiers(True, X_mean_importance, y, 'mean importance' + KAT + '_' + str(num_cat))[1]\n",
    "        rand_score = run_classifiers(True, X_random, y, 'random' + KAT + '_' + str(num_cat))[1]\n",
    "\n",
    "        all_res.append([naive_score, chi_score, meanImp_score, rand_score])\n",
    "    return all_res, lower, upper"
   ]
  },
  {
   "cell_type": "markdown",
   "metadata": {},
   "source": [
    "#### Feature Selection Visualisation"
   ]
  },
  {
   "cell_type": "code",
   "execution_count": 9,
   "metadata": {},
   "outputs": [
    {
     "name": "stdout",
     "output_type": "stream",
     "text": [
      "Requirement already satisfied: seaborn in /usr/local/lib/python3.8/site-packages (0.13.0)\n",
      "Requirement already satisfied: numpy!=1.24.0,>=1.20 in /usr/local/lib/python3.8/site-packages (from seaborn) (1.24.3)\n",
      "Requirement already satisfied: pandas>=1.2 in /usr/local/lib/python3.8/site-packages (from seaborn) (2.0.3)\n",
      "Requirement already satisfied: matplotlib!=3.6.1,>=3.3 in /usr/local/lib/python3.8/site-packages (from seaborn) (3.7.3)\n",
      "Requirement already satisfied: contourpy>=1.0.1 in /usr/local/lib/python3.8/site-packages (from matplotlib!=3.6.1,>=3.3->seaborn) (1.1.1)\n",
      "Requirement already satisfied: cycler>=0.10 in /usr/local/lib/python3.8/site-packages (from matplotlib!=3.6.1,>=3.3->seaborn) (0.12.1)\n",
      "Requirement already satisfied: fonttools>=4.22.0 in /usr/local/lib/python3.8/site-packages (from matplotlib!=3.6.1,>=3.3->seaborn) (4.44.0)\n",
      "Requirement already satisfied: kiwisolver>=1.0.1 in /usr/local/lib/python3.8/site-packages (from matplotlib!=3.6.1,>=3.3->seaborn) (1.4.5)\n",
      "Requirement already satisfied: packaging>=20.0 in /usr/local/lib/python3.8/site-packages (from matplotlib!=3.6.1,>=3.3->seaborn) (23.2)\n",
      "Requirement already satisfied: pillow>=6.2.0 in /usr/local/lib/python3.8/site-packages (from matplotlib!=3.6.1,>=3.3->seaborn) (10.1.0)\n",
      "Requirement already satisfied: pyparsing>=2.3.1 in /usr/local/lib/python3.8/site-packages (from matplotlib!=3.6.1,>=3.3->seaborn) (3.1.1)\n",
      "Requirement already satisfied: python-dateutil>=2.7 in /usr/local/lib/python3.8/site-packages (from matplotlib!=3.6.1,>=3.3->seaborn) (2.8.2)\n",
      "Requirement already satisfied: importlib-resources>=3.2.0 in /usr/local/lib/python3.8/site-packages (from matplotlib!=3.6.1,>=3.3->seaborn) (6.1.0)\n",
      "Requirement already satisfied: pytz>=2020.1 in /usr/local/lib/python3.8/site-packages (from pandas>=1.2->seaborn) (2023.3.post1)\n",
      "Requirement already satisfied: tzdata>=2022.1 in /usr/local/lib/python3.8/site-packages (from pandas>=1.2->seaborn) (2023.3)\n",
      "Requirement already satisfied: zipp>=3.1.0 in /usr/local/lib/python3.8/site-packages (from importlib-resources>=3.2.0->matplotlib!=3.6.1,>=3.3->seaborn) (3.17.0)\n",
      "Requirement already satisfied: six>=1.5 in /usr/local/lib/python3.8/site-packages (from python-dateutil>=2.7->matplotlib!=3.6.1,>=3.3->seaborn) (1.16.0)\n",
      "\u001b[33mWARNING: Running pip as the 'root' user can result in broken permissions and conflicting behaviour with the system package manager. It is recommended to use a virtual environment instead: https://pip.pypa.io/warnings/venv\u001b[0m\u001b[33m\n",
      "\u001b[0m"
     ]
    }
   ],
   "source": [
    "!pip install seaborn"
   ]
  },
  {
   "cell_type": "code",
   "execution_count": 10,
   "metadata": {},
   "outputs": [],
   "source": [
    "import pickle as pkl\n",
    "import seaborn as sns\n",
    "from scipy import stats"
   ]
  },
  {
   "cell_type": "code",
   "execution_count": 11,
   "metadata": {},
   "outputs": [],
   "source": [
    "def save_visualisation(datasets, newly_generated = False):\n",
    "    if newly_generated:\n",
    "        with open('/workspace/datasets/performance_of_features/' + datasets[0] + '_performance_of_feature_selection.pkl', 'wb') as f:\n",
    "            pkl.dump(all_res, f)\n",
    "    else:\n",
    "        all_res = pd.read_pickle('/workspace/datasets/performance_of_features/' + datasets[0] + '_performance_of_feature_selection.pkl')\n",
    "\n",
    "def run_visualisation(all_res, datasets, X, lower=10, upper=-1):\n",
    "    if upper == -1:\n",
    "        upper = len(X[0])-1\n",
    "    df = pd.DataFrame(all_res, index=range(lower, upper, 10), columns=['naive approach', 'chi2', 'mean importance', 'random'])\n",
    "    sns.lineplot(data=df).set(title=datasets[0], xlabel='Number of Dimensions', ylabel='Mean Accuracy')"
   ]
  },
  {
   "cell_type": "markdown",
   "metadata": {},
   "source": [
    "### Find most important LF per Dataset"
   ]
  },
  {
   "cell_type": "code",
   "execution_count": 12,
   "metadata": {},
   "outputs": [],
   "source": [
    "clf_name = 'gb'"
   ]
  },
  {
   "cell_type": "code",
   "execution_count": 13,
   "metadata": {},
   "outputs": [],
   "source": [
    "datasets = [] #['MTurkSF']#, 'simpa']\n",
    "top_dims_single = []\n",
    "\n",
    "for ds in datasets:\n",
    "    X, y, KAT = load_data(ds, make_categorical_data=False, use1249LFs=True)\n",
    "    topLFs, score = run_single_classifier(X, y, clf_name, -1)\n",
    "    top_dims_single.append(topLFs)"
   ]
  },
  {
   "cell_type": "markdown",
   "metadata": {},
   "source": [
    "#### Rank correlation"
   ]
  },
  {
   "cell_type": "code",
   "execution_count": 112,
   "metadata": {},
   "outputs": [],
   "source": [
    "def calc_dim_imp(datasets, clf_name):\n",
    "    top_LFs_of_all_ds = {}\n",
    "\n",
    "    for a in datasets:\n",
    "        X, y, KAT = load_data(a, make_categorical_data=False, use1249LFs=True)\n",
    "        topLFs, score = run_single_classifier(X, y, clf_name, -1)\n",
    "        top_LFs_of_all_ds[a] = topLFs\n",
    "\n",
    "    return top_LFs_of_all_ds\n",
    "\n",
    "def prune_dims(datasets, top_LFs_of_all_ds, k):\n",
    "    only_top_LFs_of_all_ds = {}\n",
    "\n",
    "    for a in datasets:\n",
    "        sorted = np.argsort(top_LFs_of_all_ds[a])[::-1]\n",
    "        top_k_indices = sorted[:k]\n",
    "        pruned_values = []\n",
    "        for dim in range(len(top_LFs_of_all_ds[a])):\n",
    "            if dim in top_k_indices:\n",
    "                pruned_values.append(top_LFs_of_all_ds[a][dim])\n",
    "            else:\n",
    "                pruned_values.append(0)\n",
    "        \n",
    "        only_top_LFs_of_all_ds[a] = pruned_values\n",
    "    \n",
    "    return only_top_LFs_of_all_ds\n",
    "\n",
    "def calc_spearman(datasets, top_LFs_of_all_ds):\n",
    "    spears = []\n",
    "    for a in range(len(datasets)):\n",
    "        for b in range(a + 1, len(datasets)):\n",
    "            res = stats.spearmanr(top_LFs_of_all_ds[datasets[a]], top_LFs_of_all_ds[datasets[b]])\n",
    "            #print(datasets[a] + ' - ' + datasets[b] + ': ' +  str(res.statistic))\n",
    "            spears.append(res.statistic)\n",
    "    return sum(spears)/len(spears)\n",
    "\n",
    "def calc_overlap(datasets, top_LFs_of_all_ds, num_dims):\n",
    "    if len(datasets) > 1:\n",
    "        overlaps = []\n",
    "        for a in range(len(datasets)):\n",
    "            for b in range(a + 1, len(datasets)):\n",
    "                # iterate through all dimensions to calculate overlap\n",
    "                identical_dims = 0\n",
    "                for i in range(len(top_LFs_of_all_ds[datasets[a]])):\n",
    "\n",
    "                    if top_LFs_of_all_ds[datasets[a]][i] > 0 and top_LFs_of_all_ds[datasets[b]][i] > 0:\n",
    "                        identical_dims += 1\n",
    "\n",
    "                overlaps.append(identical_dims/num_dims)\n",
    "        return sum(overlaps)/len(overlaps)\n",
    "    else:\n",
    "        return 0\n",
    "\n",
    "def calc_thresless_overlap(datasets, top_LFs_of_all_ds, num_dims, name_to_thresless, dims_to_names):\n",
    "    overlaps = []\n",
    "    dataset_LFs = {}\n",
    "    for a in range(len(datasets)):\n",
    "        for i in range(len(top_LFs_of_all_ds[datasets[a]])):\n",
    "            if top_LFs_of_all_ds[datasets[a]][i] > 0:\n",
    "                if a not in dataset_LFs:\n",
    "                    dataset_LFs[a] = []\n",
    "                for actual_lf in dims_to_names[i]:\n",
    "                    dataset_LFs[a].append(name_to_thresless[actual_lf])\n",
    "\n",
    "    for a in range(len(datasets)):            \n",
    "        for b in range(a + 1, len(datasets)):\n",
    "            #print(num_dims)\n",
    "            #print(dataset_LFs[a])\n",
    "            #print(dataset_LFs[b])\n",
    "            intersection_a = [x for x in dataset_LFs[a] if x in dataset_LFs[b]]\n",
    "            intersection_b = [x for x in dataset_LFs[b] if x in dataset_LFs[a]]\n",
    "\n",
    "            #print(len(intersection_a))\n",
    "            #print(len(intersection_b))\n",
    "            #print((len(intersection_a) + len(intersection_b))/(len(dataset_LFs[a]) + len(dataset_LFs[b])))\n",
    "            #print('_____')\n",
    "            overlaps.append(min(len(intersection_a), len(intersection_b))/len(dataset_LFs[a]))\n",
    "    return sum(overlaps)/len(overlaps)\n",
    "\n",
    "\n",
    "\n",
    "def draw_data(df, t, y):\n",
    "    sns.lineplot(data=df).set(title=t, xlabel='Number of Dimensions', ylabel=y)"
   ]
  },
  {
   "cell_type": "code",
   "execution_count": 15,
   "metadata": {},
   "outputs": [],
   "source": [
    "datasets = ['BenchLS', 'britannica', 'HutSSF', 'MTurkSF', 'NNSeval', 'SemEval_2007', 'simpa', 'Wiki-Manual']\n",
    "\n",
    "top_LFs_of_all_ds_GB = calc_dim_imp(datasets, clf_name)"
   ]
  },
  {
   "cell_type": "code",
   "execution_count": 16,
   "metadata": {},
   "outputs": [],
   "source": [
    "#top_LFs_of_all_ds_RF = top_LFs_of_all_ds"
   ]
  },
  {
   "cell_type": "code",
   "execution_count": 17,
   "metadata": {},
   "outputs": [
    {
     "data": {
      "text/plain": [
       "0.06501036610455024"
      ]
     },
     "execution_count": 17,
     "metadata": {},
     "output_type": "execute_result"
    }
   ],
   "source": [
    "calc_spearman(datasets, top_LFs_of_all_ds_GB)"
   ]
  },
  {
   "cell_type": "code",
   "execution_count": 18,
   "metadata": {},
   "outputs": [
    {
     "name": "stderr",
     "output_type": "stream",
     "text": [
      "/usr/local/lib/python3.8/site-packages/scipy/stats/_stats_py.py:4916: ConstantInputWarning: An input array is constant; the correlation coefficient is not defined.\n",
      "  warnings.warn(stats.ConstantInputWarning(warn_msg))\n"
     ]
    }
   ],
   "source": [
    "data = {}\n",
    "for i in range(1249):\n",
    "    only_top_LFs_of_all_ds = prune_dims(datasets, top_LFs_of_all_ds_GB, i)\n",
    "    val = calc_spearman(datasets, only_top_LFs_of_all_ds)\n",
    "    data[i] = val"
   ]
  },
  {
   "cell_type": "code",
   "execution_count": 19,
   "metadata": {},
   "outputs": [
    {
     "data": {
      "image/png": "[encoded data removed]",
      "text/plain": [
       "<Figure size 640x480 with 1 Axes>"
      ]
     },
     "metadata": {},
     "output_type": "display_data"
    }
   ],
   "source": [
    "draw_data(data, 'Avg pairwise Spearman for different numbers of dimensions', 'Spearman')"
   ]
  },
  {
   "cell_type": "code",
   "execution_count": 20,
   "metadata": {},
   "outputs": [],
   "source": [
    "datasets = [] #[['MTurkSF', 'simpa'], ['simpa', 'MTurkSF']]\n",
    "top_dims_merge = []\n",
    "scores = []\n",
    "\n",
    "for ds in datasets:\n",
    "    X, y, KAT = load_data(ds[0], make_categorical_data=False, use1249LFs=True)\n",
    "    X2, y2, KAT = load_data(ds[1], make_categorical_data=False, use1249LFs=True)\n",
    "    topLFs, score = run_single_classifier(X, y, clf_name, -1, X2, y2)\n",
    "    top_dims_merge.append(topLFs)\n",
    "    scores.append(score)"
   ]
  },
  {
   "cell_type": "code",
   "execution_count": 21,
   "metadata": {},
   "outputs": [
    {
     "data": {
      "text/plain": [
       "[]"
      ]
     },
     "execution_count": 21,
     "metadata": {},
     "output_type": "execute_result"
    }
   ],
   "source": [
    "top_dims_merge"
   ]
  },
  {
   "cell_type": "code",
   "execution_count": 22,
   "metadata": {},
   "outputs": [
    {
     "data": {
      "text/plain": [
       "[]"
      ]
     },
     "execution_count": 22,
     "metadata": {},
     "output_type": "execute_result"
    }
   ],
   "source": [
    "scores"
   ]
  },
  {
   "cell_type": "code",
   "execution_count": 32,
   "metadata": {},
   "outputs": [],
   "source": [
    "# todo: Berechne Overlap\n",
    "data_overlap = {}\n",
    "for i in range(1, 1249):\n",
    "    only_top_LFs_of_all_ds = prune_dims(datasets, top_LFs_of_all_ds_GB, i)\n",
    "    val = calc_overlap(datasets, only_top_LFs_of_all_ds, i)\n",
    "    data_overlap[i] = val"
   ]
  },
  {
   "cell_type": "code",
   "execution_count": 33,
   "metadata": {},
   "outputs": [
    {
     "data": {
      "image/png": "[encoded data removed]",
      "text/plain": [
       "<Figure size 640x480 with 1 Axes>"
      ]
     },
     "metadata": {},
     "output_type": "display_data"
    }
   ],
   "source": [
    "draw_data(data_overlap, 'Avg pairwise overlap for different numbers of dimensions', 'Overlap')"
   ]
  },
  {
   "cell_type": "markdown",
   "metadata": {},
   "source": [
    "### Mapping of LFs to thresless and categories"
   ]
  },
  {
   "cell_type": "code",
   "execution_count": 34,
   "metadata": {},
   "outputs": [
    {
     "name": "stderr",
     "output_type": "stream",
     "text": [
      "/usr/local/lib/python3.8/site-packages/torchvision/io/image.py:13: UserWarning: Failed to load image Python extension: \n",
      "  warn(f\"Failed to load image Python extension: {e}\")\n"
     ]
    },
    {
     "name": "stdout",
     "output_type": "stream",
     "text": [
      "resources get initialised\n"
     ]
    },
    {
     "name": "stderr",
     "output_type": "stream",
     "text": [
      "Some weights of BertModel were not initialized from the model checkpoint at SpanBERT/spanbert-large-cased and are newly initialized: ['bert.pooler.dense.weight', 'bert.pooler.dense.bias']\n",
      "You should probably TRAIN this model on a down-stream task to be able to use it for predictions and inference.\n"
     ]
    }
   ],
   "source": [
    "from matcher import get_mapping_of_LF_and_dims"
   ]
  },
  {
   "cell_type": "code",
   "execution_count": 37,
   "metadata": {},
   "outputs": [],
   "source": [
    "dims_to_names, names_to_dims, name_to_thresless, name_to_category = get_mapping_of_LF_and_dims()\n",
    "datasets = ['BenchLS', 'britannica', 'HutSSF', 'MTurkSF', 'NNSeval', 'SemEval_2007', 'simpa', 'Wiki-Manual']"
   ]
  },
  {
   "cell_type": "code",
   "execution_count": 108,
   "metadata": {},
   "outputs": [
    {
     "name": "stdout",
     "output_type": "stream",
     "text": [
      "BenchLS 10\n",
      "{'lf_infrequent_words_per_sentence=4_leopard_NOT_SIMPLE', 'low_prop_long_words_syllables_long=3_prop=0.075_label=0', 'high_fkre_threshold=50_1', 'lf_infrequent_words_cnt=3_octopus_NOT_SIMPLE', 'lf_med_imageability=3.65_SIMPLE', 'lf_median_concreteness=2.125_NOT_SIMPLE', 'lf_infrequent_words_per_sentence=3_octopus_NOT_SIMPLE', 'lf_max_age_of_acquisition=9_SIMPLE', 'low_prop_long_words_letters_long=7_prop=0.2_label=0', 'percentage_appositions=0.01_0'}\n",
      "britannica 10\n",
      "{'depth_of_syntactic_tree_label=0_thresh=3', 'entity_token_ratio_sentence_label=0_thresh=0.065', 'lf_max_age_of_acquisition=11_SIMPLE', 'avg_num_punctuation_text_label=0_thresh=1.95', 'avg_num_punctuation_text_label=0_thresh=1.5', 'lf_infrequent_words_per_sentence=2_bunny_NOT_SIMPLE', 'high_fkre_threshold=60_0', 'low_modifier_ratio_thres=0.01_label=0', 'lf_max_age_of_acquisition=9_SIMPLE', 'low_prop_long_words_letters_long=9_prop=0.15_label=0'}\n",
      "HutSSF 10\n",
      "{'low_prop_long_words_syllables_long=2_prop=0.1_label=0', 'avg_num_words_before_main_verb_label=0_thresh=2', 'low_prop_long_words_letters_long=6_prop=0.3_label=0', 'few_noun_phrases_thres=3_label=0', 'num_sents_num_thres=1_label=0', 'entity_token_ratio_sentence_label=0_thresh=0.2', 'low_prop_long_words_letters_long=7_prop=0.3_label=0', 'low_prop_long_words_letters_long=7_prop=0.075_label=0', 'ratio_academic_word_list_label=0_thresh=0.13', 'lf_median_concreteness=1.75_NOT_SIMPLE'}\n",
      "MTurkSF 10\n",
      "{'low_fkg_threshold=16_1', 'low_prop_long_words_syllables_long=2_prop=0.3_label=0', 'low_modifier_ratio_thres=0.15_label=0', 'lf_median_concreteness=2.25_NOT_SIMPLE', 'low_prop_long_words_syllables_long=2_prop=0.25_label=0', 'perc_vocab_initial_forLang_learn_label=0_thresh=0.425', 'low_fkg_threshold=13_1', 'low_prop_long_words_syllables_long=3_prop=0.225_label=0', 'low_modifier_ratio_thres=0.1_label=0', 'lf_infrequent_words_cnt=3_roadrunner_NOT_SIMPLE'}\n",
      "NNSeval 10\n",
      "{'low_prop_long_words_syllables_long=3_prop=0.15_label=0', 'few_noun_phrases_ratio_thres=0.15_label=0', 'depth_of_syntactic_tree_label=0_thresh=8', 'lf_max_age_of_acquisition=12_NOT_SIMPLE', 'depth_of_syntactic_tree_label=0_thresh=5', 'low_fkg_threshold=15_1', 'perc_vocab_initial_forLang_learn_label=0_thresh=0.5', 'low_prop_long_words_syllables_long=2_prop=0.225_label=0', 'low_prop_long_words_syllables_long=3_prop=0.225_label=0', 'lf_median_concreteness=3_SIMPLE'}\n",
      "SemEval_2007 10\n",
      "{'low_prop_long_words_letters_long=6_prop=0.25_label=0', 'low_prop_long_words_syllables_long=2_prop=0.3_label=0', 'lf_infrequent_words_cnt=1_bat_SIMPLE', 'lf_median_age_of_acquisition=5.5_SIMPLE', 'low_prop_long_words_letters_long=5_prop=0.4_label=0', 'lf_infrequent_words_per_sentence=4_fish_NOT_SIMPLE', 'lf_avg_concreteness=2.5_NOT_SIMPLE', 'num_past_perfect_label=0_thresh=1', 'lf_infrequent_words_per_sentence=4_dog_NOT_SIMPLE', 'lf_avg_imageability=3.6_SIMPLE'}\n",
      "simpa 10\n",
      "{'lf_words_cnt_wcount=18_SIMPLE', 'low_fkg_threshold=8_0', 'low_num_words_in_sents_max_thres=15_label=0', 'low_prop_long_words_letters_long=8_prop=0.25_label=0', 'lf_words_cnt_wcount=19_SIMPLE', 'lf_words_cnt_wcount=19_NOT_SIMPLE', 'low_prop_long_words_syllables_long=3_prop=0.025_label=0', 'num_sents_num_thres=1_label=0', 'lf_infrequent_words_cnt=1_roadrunner_SIMPLE', 'low_prop_long_words_syllables_long=3_prop=0.225_label=0'}\n",
      "Wiki-Manual 10\n",
      "{'low_prop_long_words_letters_long=5_prop=0.3_label=0', 'entity_token_ratio_sentence_label=0_thresh=0.065', 'few_noun_phrases_ratio_thres=0.25_label=0', 'lf_infrequent_words_per_sentence=4_sheep_NOT_SIMPLE', 'low_prop_long_words_letters_long=7_prop=0.05_label=0', 'percentage_appositions=0.05_0', 'lf_words_cnt_wcount=4_SIMPLE', 'lf_max_age_of_acquisition=9_SIMPLE', 'unique_entities_text_ratio_label=1_thresh=0.2', 'lf_median_concreteness=3_SIMPLE'}\n"
     ]
    }
   ],
   "source": [
    "# most important dims per dataset\n",
    "only_top_LFs_of_all_ds = prune_dims(datasets, top_LFs_of_all_ds_GB, 10)\n",
    "for a in datasets:\n",
    "    LFs = set()\n",
    "    for i in range(1249):\n",
    "        if only_top_LFs_of_all_ds[a][i] > 0:\n",
    "            LFs.add(dims_to_names[i][0])\n",
    "    print(a + ' ' + str(len(LFs)))\n",
    "    print(LFs)"
   ]
  },
  {
   "cell_type": "code",
   "execution_count": 109,
   "metadata": {},
   "outputs": [
    {
     "name": "stdout",
     "output_type": "stream",
     "text": [
      "BenchLS 9\n",
      "{'infrequent_words_lfs_complex', 'lfs_proportions_of_long_words_letters_simple', 'max_aoa_lfs_simple', 'lfs_high_fkre_complex', 'infrequent_words_per_sentence_lfs_complex', 'median_concreteness_lfs_complex', 'med_image_lfs_simple', 'lfs_percentage_appositions_simple', 'lfs_proportions_of_long_words_syllables_simple'}\n",
      "britannica 8\n",
      "{'avg_depth_of_syntactic_tree_lfs', 'lfs_low_modifier_ratio_thres_simple', 'max_aoa_lfs_simple', 'lfs_high_fkre_simple', 'entity_token_ratio_sentence_lfs', 'infrequent_words_per_sentence_lfs_complex', 'avg_num_punctuation_text_lfs', 'lfs_proportions_of_long_words_syllables_simple'}\n",
      "HutSSF 8\n",
      "{'lfs_proportions_of_long_words_letters_simple', 'ratio_academic_word_list_lfs', 'lfs_few_noun_phrases', 'avg_num_words_before_main_verb_lfs', 'entity_token_ratio_sentence_lfs', 'median_concreteness_lfs_complex', 'lfs_proportions_of_long_words_syllables_simple', 'lfs_low_sents_num'}\n",
      "MTurkSF 6\n",
      "{'infrequent_words_lfs_complex', 'lfs_low_modifier_ratio_thres_simple', 'lfs_proportions_of_long_words_letters_simple', 'median_concreteness_lfs_complex', 'perc_vocab_initial_forLang_learn_lfs', 'lfs_low_fkg_complex'}\n",
      "NNSeval 7\n",
      "{'avg_depth_of_syntactic_tree_lfs', 'lfs_proportions_of_long_words_letters_simple', 'lfs_few_noun_phrases_ratio_thres_simple', 'median_concreteness_lfs_simple', 'max_aoa_lfs_complex', 'perc_vocab_initial_forLang_learn_lfs', 'lfs_low_fkg_complex'}\n",
      "SemEval_2007 8\n",
      "{'lfs_proportions_of_long_words_letters_simple', 'avg_image_lfs_simple', 'median_aoa_lfs_simple', 'infrequent_words_per_sentence_lfs_complex', 'avg_concreteness_lfs_complex', 'infrequent_words_lfs_simple', 'lfs_proportions_of_long_words_syllables_simple', 'num_past_perfect_lfs'}\n",
      "simpa 8\n",
      "{'lfs_proportions_of_long_words_letters_simple', 'word_cnt_lfs_simple', 'lfs_low_length_sents_max', 'word_cnt_lfs_complex', 'lfs_low_fkg_simple', 'infrequent_words_lfs_simple', 'lfs_proportions_of_long_words_syllables_simple', 'lfs_low_sents_num'}\n",
      "Wiki-Manual 9\n",
      "{'lfs_make_unique_entities_text_ratio_lf_complex', 'max_aoa_lfs_simple', 'word_cnt_lfs_simple', 'lfs_few_noun_phrases_ratio_thres_simple', 'entity_token_ratio_sentence_lfs', 'median_concreteness_lfs_simple', 'infrequent_words_per_sentence_lfs_complex', 'lfs_percentage_appositions_simple', 'lfs_proportions_of_long_words_syllables_simple'}\n"
     ]
    }
   ],
   "source": [
    "# most important dims per dataset\n",
    "dataset_LFs = {}\n",
    "only_top_LFs_of_all_ds = prune_dims(datasets, top_LFs_of_all_ds_GB, 10)\n",
    "for a in datasets:\n",
    "    LFs = set()\n",
    "    for i in range(1249):\n",
    "        if only_top_LFs_of_all_ds[a][i] > 0:\n",
    "            LFs.add(name_to_thresless[dims_to_names[i][0]])\n",
    "            \n",
    "    print(a + ' ' + str(len(LFs)))\n",
    "    print(LFs)\n",
    "    dataset_LFs[a] = LFs"
   ]
  },
  {
   "cell_type": "code",
   "execution_count": 113,
   "metadata": {},
   "outputs": [],
   "source": [
    "# todo: Berechne Overlap\n",
    "data_overlap = {}\n",
    "for i in range(1, 1250):\n",
    "    only_top_LFs_of_all_ds = prune_dims(datasets, top_LFs_of_all_ds_GB, i)\n",
    "    val = calc_thresless_overlap(datasets, only_top_LFs_of_all_ds, i, name_to_thresless, dims_to_names)\n",
    "    data_overlap[i] = val"
   ]
  },
  {
   "cell_type": "code",
   "execution_count": 114,
   "metadata": {},
   "outputs": [
    {
     "data": {
      "image/png": "[encoded data removed]",
      "text/plain": [
       "<Figure size 640x480 with 1 Axes>"
      ]
     },
     "metadata": {},
     "output_type": "display_data"
    },
    {
     "ename": "",
     "evalue": "",
     "output_type": "error",
     "traceback": [
      "\u001b[1;31mDer Kernel ist beim Ausführen von Code in der aktuellen Zelle oder einer vorherigen Zelle abgestürzt. Bitte überprüfen Sie den Code in der/den Zelle(n), um eine mögliche Fehlerursache zu identifizieren. Klicken Sie <a href='https://aka.ms/vscodeJupyterKernelCrash'>hier</a>, um weitere Informationen zu erhalten. Weitere Details finden Sie in Jupyter <a href='command:jupyter.viewOutput'>log</a>."
     ]
    }
   ],
   "source": [
    "draw_data(data_overlap, 'Avg pairwise overlap for different numbers of dimensions for thressless LFs', 'Overlap')"
   ]
  }
 ],
 "metadata": {
  "kernelspec": {
   "display_name": "Python 3",
   "language": "python",
   "name": "python3"
  },
  "language_info": {
   "codemirror_mode": {
    "name": "ipython",
    "version": 3
   },
   "file_extension": ".py",
   "mimetype": "text/x-python",
   "name": "python",
   "nbconvert_exporter": "python",
   "pygments_lexer": "ipython3",
   "version": "3.8.18"
  }
 },
 "nbformat": 4,
 "nbformat_minor": 2
}
