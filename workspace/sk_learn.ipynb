{
 "cells": [
  {
   "cell_type": "code",
   "execution_count": 1,
   "metadata": {},
   "outputs": [],
   "source": [
    "import pickle\n",
    "from sklearn.utils import shuffle\n",
    "from sklearn.model_selection import cross_val_score\n",
    "from sklearn.ensemble import GradientBoostingClassifier, RandomForestClassifier\n",
    "from sklearn.model_selection import KFold"
   ]
  },
  {
   "cell_type": "code",
   "execution_count": 2,
   "metadata": {},
   "outputs": [],
   "source": [
    "data_merged = []\n",
    "labels = []\n",
    "\n",
    "for d_s in ['MTurkSF', 'Wiki-Manual']: # 'britannica', \n",
    "\n",
    "    simp_path = f\"/workspace/datasets/ds_labels/{d_s}_simp_labels.pkl\"        \n",
    "    src_path = f\"/workspace/datasets/ds_labels/{d_s}_src_labels.pkl\"  \n",
    "\n",
    "    simp_labels = pickle.load(open(simp_path, \"rb\"))\n",
    "    src_labels = pickle.load(open(src_path, \"rb\")) \n",
    "    \n",
    "    for entry in simp_labels:\n",
    "        data_merged.append(entry.tolist())\n",
    "\n",
    "    for entry in src_labels:\n",
    "        data_merged.append(entry.tolist())\n",
    "\n",
    "    curr_lab = [0] * len(simp_labels) + [1] * len(simp_labels)\n",
    "    labels = labels + curr_lab\n",
    "\n",
    "X, y = shuffle(data_merged, labels, random_state=42)"
   ]
  },
  {
   "cell_type": "code",
   "execution_count": 3,
   "metadata": {},
   "outputs": [],
   "source": [
    "clf_gb = GradientBoostingClassifier(n_estimators=100, learning_rate=0.01, random_state=42)\n",
    "clf_rf = RandomForestClassifier(random_state=42)\n",
    "\n",
    "clfs = {'gb': clf_gb, 'rf': clf_rf}"
   ]
  },
  {
   "cell_type": "code",
   "execution_count": 4,
   "metadata": {},
   "outputs": [
    {
     "name": "stdout",
     "output_type": "stream",
     "text": [
      "gb\n",
      "0.5199999999999999\n",
      "[0.50980392 0.54509804 0.53333333 0.51764706 0.51764706 0.50980392\n",
      " 0.50196078 0.55686275 0.50196078 0.50588235]\n",
      "___\n",
      "rf\n",
      "0.3952941176470588\n",
      "[0.44313725 0.36078431 0.36470588 0.36862745 0.41568627 0.42745098\n",
      " 0.4        0.38039216 0.37254902 0.41960784]\n",
      "___\n"
     ]
    }
   ],
   "source": [
    "kfold = KFold(n_splits=10, shuffle=True, random_state=42)\n",
    "for clf in clfs:\n",
    "    cv_scores = cross_val_score(clfs[clf], X, y, cv=kfold)\n",
    "    print(clf)\n",
    "    print(sum(cv_scores)/len(cv_scores))\n",
    "    print(cv_scores)\n",
    "    print('___')"
   ]
  }
 ],
 "metadata": {
  "kernelspec": {
   "display_name": "Python 3",
   "language": "python",
   "name": "python3"
  },
  "language_info": {
   "codemirror_mode": {
    "name": "ipython",
    "version": 3
   },
   "file_extension": ".py",
   "mimetype": "text/x-python",
   "name": "python",
   "nbconvert_exporter": "python",
   "pygments_lexer": "ipython3",
   "version": "3.8.18"
  }
 },
 "nbformat": 4,
 "nbformat_minor": 2
}
