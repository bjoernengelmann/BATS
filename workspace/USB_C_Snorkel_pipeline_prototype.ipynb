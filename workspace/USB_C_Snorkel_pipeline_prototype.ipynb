{
  "cells": [
    {
      "cell_type": "code",
      "execution_count": 2,
      "metadata": {
        "id": "oKFVekHJsXh2"
      },
      "outputs": [],
      "source": [
        "#uselful snorkel sources:\n",
        "#https://www.snorkel.org/use-cases/01-spam-tutorial#2-writing-labeling-functions-lfs 3a) keyword lookup\n",
        "#https://www.snorkel.org/use-cases/01-spam-tutorial#2-writing-labeling-functions-lfs 3e) preprocessor\n"
      ]
    },
    {
      "cell_type": "markdown",
      "metadata": {
        "id": "2crAtUGO9PUM"
      },
      "source": [
        "## Setup"
      ]
    },
    {
      "cell_type": "markdown",
      "metadata": {
        "id": "pQJup2BP-gC0"
      },
      "source": [
        "# Imports"
      ]
    },
    {
      "cell_type": "code",
      "execution_count": 3,
      "metadata": {},
      "outputs": [
        {
          "name": "stdout",
          "output_type": "stream",
          "text": [
            "Requirement already satisfied: openpyxl in /usr/local/lib/python3.8/site-packages (3.1.2)\n",
            "Requirement already satisfied: et-xmlfile in /usr/local/lib/python3.8/site-packages (from openpyxl) (1.1.0)\n",
            "\u001b[33mWARNING: Running pip as the 'root' user can result in broken permissions and conflicting behaviour with the system package manager. It is recommended to use a virtual environment instead: https://pip.pypa.io/warnings/venv\u001b[0m\u001b[33m\n",
            "\u001b[0m"
          ]
        }
      ],
      "source": [
        "!pip install openpyxl"
      ]
    },
    {
      "cell_type": "code",
      "execution_count": 4,
      "metadata": {},
      "outputs": [
        {
          "name": "stdout",
          "output_type": "stream",
          "text": [
            "Requirement already satisfied: ipywidgets in /usr/local/lib/python3.8/site-packages (8.1.1)\n",
            "Requirement already satisfied: comm>=0.1.3 in /usr/local/lib/python3.8/site-packages (from ipywidgets) (0.1.4)\n",
            "Requirement already satisfied: ipython>=6.1.0 in /usr/local/lib/python3.8/site-packages (from ipywidgets) (8.12.3)\n",
            "Requirement already satisfied: traitlets>=4.3.1 in /usr/local/lib/python3.8/site-packages (from ipywidgets) (5.10.1)\n",
            "Requirement already satisfied: widgetsnbextension~=4.0.9 in /usr/local/lib/python3.8/site-packages (from ipywidgets) (4.0.9)\n",
            "Requirement already satisfied: jupyterlab-widgets~=3.0.9 in /usr/local/lib/python3.8/site-packages (from ipywidgets) (3.0.9)\n",
            "Requirement already satisfied: backcall in /usr/local/lib/python3.8/site-packages (from ipython>=6.1.0->ipywidgets) (0.2.0)\n",
            "Requirement already satisfied: decorator in /usr/local/lib/python3.8/site-packages (from ipython>=6.1.0->ipywidgets) (5.1.1)\n",
            "Requirement already satisfied: jedi>=0.16 in /usr/local/lib/python3.8/site-packages (from ipython>=6.1.0->ipywidgets) (0.19.1)\n",
            "Requirement already satisfied: matplotlib-inline in /usr/local/lib/python3.8/site-packages (from ipython>=6.1.0->ipywidgets) (0.1.6)\n",
            "Requirement already satisfied: pickleshare in /usr/local/lib/python3.8/site-packages (from ipython>=6.1.0->ipywidgets) (0.7.5)\n",
            "Requirement already satisfied: prompt-toolkit!=3.0.37,<3.1.0,>=3.0.30 in /usr/local/lib/python3.8/site-packages (from ipython>=6.1.0->ipywidgets) (3.0.39)\n",
            "Requirement already satisfied: pygments>=2.4.0 in /usr/local/lib/python3.8/site-packages (from ipython>=6.1.0->ipywidgets) (2.16.1)\n",
            "Requirement already satisfied: stack-data in /usr/local/lib/python3.8/site-packages (from ipython>=6.1.0->ipywidgets) (0.6.3)\n",
            "Requirement already satisfied: typing-extensions in /usr/local/lib/python3.8/site-packages (from ipython>=6.1.0->ipywidgets) (4.5.0)\n",
            "Requirement already satisfied: pexpect>4.3 in /usr/local/lib/python3.8/site-packages (from ipython>=6.1.0->ipywidgets) (4.8.0)\n",
            "Requirement already satisfied: parso<0.9.0,>=0.8.3 in /usr/local/lib/python3.8/site-packages (from jedi>=0.16->ipython>=6.1.0->ipywidgets) (0.8.3)\n",
            "Requirement already satisfied: ptyprocess>=0.5 in /usr/local/lib/python3.8/site-packages (from pexpect>4.3->ipython>=6.1.0->ipywidgets) (0.7.0)\n",
            "Requirement already satisfied: wcwidth in /usr/local/lib/python3.8/site-packages (from prompt-toolkit!=3.0.37,<3.1.0,>=3.0.30->ipython>=6.1.0->ipywidgets) (0.2.8)\n",
            "Requirement already satisfied: executing>=1.2.0 in /usr/local/lib/python3.8/site-packages (from stack-data->ipython>=6.1.0->ipywidgets) (2.0.0)\n",
            "Requirement already satisfied: asttokens>=2.1.0 in /usr/local/lib/python3.8/site-packages (from stack-data->ipython>=6.1.0->ipywidgets) (2.4.0)\n",
            "Requirement already satisfied: pure-eval in /usr/local/lib/python3.8/site-packages (from stack-data->ipython>=6.1.0->ipywidgets) (0.2.2)\n",
            "Requirement already satisfied: six>=1.12.0 in /usr/local/lib/python3.8/site-packages (from asttokens>=2.1.0->stack-data->ipython>=6.1.0->ipywidgets) (1.16.0)\n",
            "^C\n",
            "\u001b[31mERROR: Operation cancelled by user\u001b[0m\u001b[31m\n",
            "\u001b[0m"
          ]
        }
      ],
      "source": [
        "!pip install ipywidgets"
      ]
    },
    {
      "cell_type": "code",
      "execution_count": 1,
      "metadata": {
        "id": "d470bdN3-kJ1"
      },
      "outputs": [],
      "source": [
        "import numpy as np\n",
        "import pandas as pd\n",
        "import os\n",
        "import tqdm\n",
        "import pickle\n",
        "from tqdm import tqdm\n",
        "\n",
        "from functools import lru_cache\n",
        "\n",
        "from snorkel.labeling import labeling_function\n",
        "from snorkel.labeling import LabelingFunction\n",
        "from snorkel.labeling.model import LabelModel\n",
        "from snorkel.labeling import PandasLFApplier\n",
        "\n",
        "import warnings"
      ]
    },
    {
      "cell_type": "markdown",
      "metadata": {
        "id": "Dx6ojso15h2G"
      },
      "source": [
        "## Datasets"
      ]
    },
    {
      "cell_type": "code",
      "execution_count": 2,
      "metadata": {
        "id": "mf5ok0mfxIoH"
      },
      "outputs": [
        {
          "name": "stderr",
          "output_type": "stream",
          "text": [
            "/usr/local/lib/python3.8/site-packages/spacy/util.py:865: UserWarning: [W095] Model 'en_core_web_sm' (3.3.0) was trained with spaCy v3.3 and may not be 100% compatible with the current version (3.4.1). If you see errors or degraded performance, download a newer compatible model or retrain your custom model with the current spaCy version. For more details and available updates, run: python -m spacy validate\n",
            "  warnings.warn(warn_msg)\n"
          ]
        },
        {
          "name": "stdout",
          "output_type": "stream",
          "text": [
            "sl.BnGgW0UxMV4RIzFlzjZXsHUhO35w1Zk1W3q2PAJ9Oz3cXIxk_W96ZbjBmZL7b6rcd3M0KjEXN2JgnhWD6-Jl31pjZruFydtF-ZLPzi2RzRk-CRtEc9AtAYKITyBA0_3-0LXmAe5TPauxsB0\n",
            "\n",
            "None\n"
          ]
        }
      ],
      "source": [
        "from load_datasets import load_asset_ds\n",
        "from load_datasets import load_automets_ds\n",
        "from load_datasets import load_benchls_ds\n",
        "from load_datasets import load_britannica_ds\n",
        "from load_datasets import load_dwikipedia_ds\n",
        "from load_datasets import load_ewsewgmpm_ds\n",
        "from load_datasets import load_ewsewturk_ds\n",
        "from load_datasets import load_htss_ds\n",
        "from load_datasets import load_hutssf_ds\n",
        "from load_datasets import load_massalign_ds\n",
        "from load_datasets import load_metaeval_ds\n",
        "from load_datasets import load_mturksf_ds\n",
        "from load_datasets import load_nnseval_ds\n",
        "from load_datasets import load_onestopenglish_ds\n",
        "from load_datasets import load_pwkp_ds\n",
        "from load_datasets import load_semeval07_ds\n",
        "from load_datasets import load_simpa_ds\n",
        "from load_datasets import load_simpeval_ds\n",
        "from load_datasets import load_sscorpus_ds\n",
        "from load_datasets import load_turkcorpus_ds\n",
        "from load_datasets import load_wikiauto_ds\n",
        "from load_datasets import load_wikimanual_ds\n",
        "from load_datasets import load_wikisplit_ds\n",
        "from load_datasets import load_wikipediav1_ds\n",
        "from load_datasets import load_wikipediav2_ds\n",
        "from load_datasets import path_to_datasets\n",
        "\n",
        "if not os.path.isdir(path_to_datasets):\n",
        "    os.mkdir(path_to_datasets)\n",
        "\n",
        "asset = load_asset_ds()\n",
        "automets = load_automets_ds()\n",
        "benchls = load_benchls_ds()\n",
        "britannica = load_britannica_ds()\n",
        "dwikipedia = load_dwikipedia_ds()\n",
        "ewsewgmpm = load_ewsewgmpm_ds()\n",
        "ewsewturk = load_ewsewturk_ds()\n",
        "htss = load_htss_ds()\n",
        "hutssf = load_hutssf_ds()\n",
        "massalign = load_massalign_ds()\n",
        "metaeval = load_metaeval_ds()\n",
        "mturksf = load_mturksf_ds()\n",
        "nnseval = load_nnseval_ds()\n",
        "onestopenglish = load_onestopenglish_ds()\n",
        "pwkp = load_pwkp_ds()\n",
        "semeval07 = load_semeval07_ds()\n",
        "simpa = load_simpa_ds()\n",
        "simpeval = load_simpeval_ds()\n",
        "sscorpus = load_sscorpus_ds()\n",
        "turkcorpus = load_turkcorpus_ds()\n",
        "wikiauto = load_wikiauto_ds()\n",
        "wikimanual = load_wikimanual_ds()\n",
        "wikisplit = load_wikisplit_ds()\n",
        "wikipediav1 = load_wikipediav1_ds()\n",
        "wikipediav2 = load_wikipediav2_ds()\n",
        "\n",
        "combined_dataset = pd.concat([asset, automets, benchls, britannica, dwikipedia, ewsewgmpm, ewsewturk, htss, hutssf, massalign, \n",
        "                              metaeval, mturksf, nnseval, onestopenglish, pwkp, semeval07, simpa, simpeval, sscorpus, turkcorpus, \n",
        "                              wikiauto, wikimanual, wikisplit, wikipediav1, wikipediav2], axis=0).reset_index()\n",
        "print(combined_dataset)\n",
        "\n",
        "with open('/' + path_to_datasets + '/combined_dataset.pkl', 'wb') as f:\n",
        "    pickle.dump(combined_dataset, f)"
      ]
    },
    {
      "cell_type": "markdown",
      "metadata": {
        "id": "AXRHX7Ke48l7"
      },
      "source": [
        "## Meaning Preservation"
      ]
    },
    {
      "cell_type": "code",
      "execution_count": null,
      "metadata": {
        "colab": {
          "base_uri": "https://localhost:8080/"
        },
        "id": "qNMbmdb75RrQ",
        "outputId": "61caa766-b98a-43e0-b50e-7750bbf4df1e"
      },
      "outputs": [],
      "source": [
        "from usb_utils import remove_stop_words\n",
        "from usb_utils import check_sent_sim\n",
        "from usb_utils import core_preserved_meaning_max_depth_5\n"
      ]
    },
    {
      "cell_type": "code",
      "execution_count": null,
      "metadata": {
        "colab": {
          "base_uri": "https://localhost:8080/",
          "height": 462
        },
        "id": "ezjPw52py-Jg",
        "outputId": "eae28504-e5f7-48c0-c533-5c920a22f6f2"
      },
      "outputs": [],
      "source": [
        "# check impact of stopwords on similarity\n",
        "print(check_sent_sim(str(htss_dataset.iloc[3].orig_snt),str(htss_dataset.iloc[3].simp)))\n",
        "print(check_sent_sim(remove_stop_words(htss_dataset.iloc[3].orig_snt),remove_stop_words(htss_dataset.iloc[3].simp)))"
      ]
    },
    {
      "cell_type": "code",
      "execution_count": null,
      "metadata": {
        "id": "TorLvZCXxAgI"
      },
      "outputs": [],
      "source": [
        "# test with simplified paragraph\n",
        "print(check_sent_sim(str(htss_dataset.iloc[3].orig_snt),str(htss_dataset.iloc[3].simp)))\n",
        "print(core_preserved_meaning_max_depth_5(str(htss_dataset.iloc[3].orig_snt),str(htss_dataset.iloc[3].simp)))"
      ]
    },
    {
      "cell_type": "code",
      "execution_count": null,
      "metadata": {
        "id": "eQYds056YJtN"
      },
      "outputs": [],
      "source": [
        "# test with simplified paragraph\n",
        "print(check_sent_sim(str(htss_dataset.iloc[3].orig_snt),str(htss_dataset.iloc[3].simp)))\n",
        "print(core_preserved_meaning_max_depth_5(remove_stop_words(htss_dataset.iloc[3].orig_snt),remove_stop_words(htss_dataset.iloc[3].simp)))"
      ]
    },
    {
      "cell_type": "markdown",
      "metadata": {
        "id": "JHIsklox1QDo"
      },
      "source": [
        "### comparison of effectiveness and efficiency: max depth, stopwords"
      ]
    },
    {
      "cell_type": "code",
      "execution_count": null,
      "metadata": {
        "id": "A49r9e5piuy1"
      },
      "outputs": [],
      "source": [
        "tqdm.pandas()\n",
        "pwkp_dataset_meaning_test = pwkp_dataset.sample(100)"
      ]
    },
    {
      "cell_type": "code",
      "execution_count": null,
      "metadata": {
        "id": "Tl-Q-xXfj30h"
      },
      "outputs": [],
      "source": [
        "# no max depth\n",
        "pwkp_dataset_meaning_test[\"meaning_pres\"] = pwkp_dataset_meaning_test.progress_apply(lambda row: check_sent_sim(row[\"orig_snt\"], row[\"simp\"]), axis=1)\n",
        "pwkp_dataset_meaning_test[\"core_meaning_pres\"] = pwkp_dataset_meaning_test.progress_apply(lambda row: core_preserved_meaning(row[\"orig_snt\"], row[\"simp\"])[0], axis=1)\n",
        "print(pwkp_dataset_meaning_test.core_meaning_pres.describe())\n",
        "print(pwkp_dataset_meaning_test.meaning_pres.describe())"
      ]
    },
    {
      "cell_type": "code",
      "execution_count": null,
      "metadata": {
        "id": "wLnCK6XZ4i92"
      },
      "outputs": [],
      "source": [
        "# max depth 5\n",
        "pwkp_dataset_meaning_test2 = pwkp_dataset_meaning_test\n",
        "pwkp_dataset_meaning_test2[\"meaning_pres\"] = pwkp_dataset_meaning_test.progress_apply(lambda row: check_sent_sim(row[\"orig_snt\"], row[\"simp\"]), axis=1)\n",
        "pwkp_dataset_meaning_test2[\"core_meaning_pres\"] = pwkp_dataset_meaning_test.progress_apply(lambda row: core_preserved_meaning_max_depth_5(row[\"orig_snt\"], row[\"simp\"])[0], axis=1)\n",
        "print(pwkp_dataset_meaning_test2.core_meaning_pres.describe())\n",
        "print(pwkp_dataset_meaning_test2.meaning_pres.describe())"
      ]
    },
    {
      "cell_type": "code",
      "execution_count": null,
      "metadata": {
        "id": "NFM3yh_1zYM8"
      },
      "outputs": [],
      "source": [
        "# no max depth, stopwords removed\n",
        "pwkp_dataset_meaning_test[\"meaning_pres\"] = pwkp_dataset_meaning_test.progress_apply(lambda row: check_sent_sim(remove_stop_words(row[\"orig_snt\"]), remove_stop_words(row[\"simp\"])), axis=1)\n",
        "pwkp_dataset_meaning_test[\"core_meaning_pres\"] = pwkp_dataset_meaning_test.progress_apply(lambda row: core_preserved_meaning(remove_stop_words(row[\"orig_snt\"]), remove_stop_words(row[\"simp\"]))[0], axis=1)\n",
        "print(pwkp_dataset_meaning_test.core_meaning_pres.describe())\n",
        "print(pwkp_dataset_meaning_test.meaning_pres.describe())"
      ]
    },
    {
      "cell_type": "code",
      "execution_count": null,
      "metadata": {
        "id": "TkKmmxD3mDMd"
      },
      "outputs": [],
      "source": [
        "from scipy.stats import ttest_ind\n",
        "#perform independent two sample t-test\n",
        "ttest_ind(pwkp_dataset_meaning_test['core_meaning_pres'], pwkp_dataset_meaning_test['meaning_pres'])"
      ]
    },
    {
      "cell_type": "code",
      "execution_count": null,
      "metadata": {
        "id": "4aaTmbACwQpf"
      },
      "outputs": [],
      "source": [
        "# shuffled randomly\n",
        "df_random = ebbe_dataset[:104]\n",
        "l = df_random.simp.to_list()\n",
        "np.random.shuffle(l)\n",
        "df_random[\"simp\"] = l\n",
        "\n",
        "\n",
        "df_random[\"meaning_pres\"] = df_random.progress_apply(lambda row: check_sent_sim(row[\"orig_snt\"], row[\"simp\"]), axis=1)\n",
        "df_random[\"core_meaning_pres\"] = df_random.progress_apply(lambda row: core_preserved_meaning_max_depth_5(row[\"orig_snt\"], row[\"simp\"])[0], axis=1)\n",
        "\n",
        "# shuffled in topic\n",
        "df_in_topic_random = ebbe_dataset.loc[ebbe_dataset[\"label\"] == 'baghdad-hum' ]\n",
        "l = df_in_topic_random.simp.to_list()\n",
        "np.random.shuffle(l)\n",
        "df_in_topic_random[\"simp\"] = l\n",
        "for city in ['bangkok-hum', 'budapest-hum', 'buenos-hum']:\n",
        "  df_t2  = ebbe_dataset.loc[ebbe_dataset[\"label\"] == city ]\n",
        "  l = df_t2.simp.to_list()\n",
        "  np.random.shuffle(l)\n",
        "  df_t2[\"simp\"] = l\n",
        "  df_in_topic_random = df_in_topic_random.append([df_t2],ignore_index=True)\n",
        "\n",
        "\n",
        "df_in_topic_random[\"meaning_pres\"] = df_in_topic_random.progress_apply(lambda row: check_sent_sim(row[\"orig_snt\"], row[\"simp\"]), axis=1)\n",
        "df_in_topic_random[\"core_meaning_pres\"] = df_in_topic_random.progress_apply(lambda row: core_preserved_meaning_max_depth_5(row[\"orig_snt\"], row[\"simp\"])[0], axis=1)\n",
        "\n",
        "# not shuffled\n",
        "df_in_topic = ebbe_dataset.loc[ebbe_dataset[\"label\"] == 'baghdad-hum' ]\n",
        "for city in ['bangkok-hum', 'budapest-hum', 'buenos-hum']:\n",
        "  df_t2  = ebbe_dataset.loc[ebbe_dataset[\"label\"] == city ]\n",
        "  df_in_topic = df_in_topic.append([df_t2],ignore_index=True)\n",
        "\n",
        "\n",
        "df_in_topic[\"meaning_pres\"] = df_in_topic.progress_apply(lambda row: check_sent_sim(row[\"orig_snt\"], row[\"simp\"]), axis=1)\n",
        "df_in_topic[\"core_meaning_pres\"] = df_in_topic.progress_apply(lambda row: core_preserved_meaning_max_depth_5(row[\"orig_snt\"], row[\"simp\"])[0], axis=1)"
      ]
    },
    {
      "cell_type": "code",
      "execution_count": null,
      "metadata": {
        "id": "dPfLpuOXidZP"
      },
      "outputs": [],
      "source": [
        "pwkp_dataset.sample(104)"
      ]
    },
    {
      "cell_type": "code",
      "execution_count": null,
      "metadata": {
        "id": "XYv5FFTBfQLm"
      },
      "outputs": [],
      "source": [
        "# pwkp dataset\n",
        "df_pwkp = pwkp_dataset.sample(104)\n",
        "\n",
        "df_pwkp[\"meaning_pres\"] = df_pwkp.progress_apply(lambda row: check_sent_sim(row[\"orig_snt\"], row[\"simp\"]), axis=1)\n",
        "df_pwkp[\"core_meaning_pres\"] = df_pwkp.progress_apply(lambda row: core_preserved_meaning_max_depth_5(row[\"orig_snt\"], row[\"simp\"])[0], axis=1)"
      ]
    },
    {
      "cell_type": "code",
      "execution_count": null,
      "metadata": {
        "id": "PJ9yz2ubkc23"
      },
      "outputs": [],
      "source": [
        "# simpa dataset\n",
        "df_simpa = simpa_dataset_ls.sample(104)\n",
        "\n",
        "df_simpa[\"meaning_pres\"] = df_simpa.progress_apply(lambda row: check_sent_sim(row[\"orig_snt\"], row[\"simp\"]), axis=1)\n",
        "df_simpa[\"core_meaning_pres\"] = df_simpa.progress_apply(lambda row: core_preserved_meaning_max_depth_5(row[\"orig_snt\"], row[\"simp\"])[0], axis=1)"
      ]
    },
    {
      "cell_type": "code",
      "execution_count": null,
      "metadata": {
        "id": "aRbhtJ1yyfdv"
      },
      "outputs": [],
      "source": [
        "df = pd.DataFrame({\"ebbe_rnd\":df_random.core_meaning_pres.to_list(), \"ebbe_in_topic_rnd\":df_in_topic_random.core_meaning_pres.to_list(), \"ebbe_reg\":df_in_topic.core_meaning_pres.to_list(),  \"pwkp_reg\":df_pwkp.core_meaning_pres.to_list(),  \"simpa_reg\":df_simpa.core_meaning_pres.to_list()})"
      ]
    },
    {
      "cell_type": "code",
      "execution_count": null,
      "metadata": {
        "id": "IhaCZJLayxix"
      },
      "outputs": [],
      "source": [
        "df.boxplot()"
      ]
    },
    {
      "cell_type": "code",
      "execution_count": null,
      "metadata": {
        "id": "wJD4cApreL04"
      },
      "outputs": [],
      "source": [
        "sep = []\n",
        "for i in range(0,25):\n",
        "  sep.append(i*0.04)\n",
        "df.plot.kde(ind=sep)"
      ]
    },
    {
      "cell_type": "code",
      "execution_count": null,
      "metadata": {
        "id": "Tf3iQ4YKFbMB"
      },
      "outputs": [],
      "source": [
        "sep = []\n",
        "for i in range(0,25):\n",
        "  sep.append(i*0.04)\n",
        "df.plot.kde(ind=sep)"
      ]
    },
    {
      "cell_type": "code",
      "execution_count": null,
      "metadata": {
        "id": "FD_uRYJqziUL"
      },
      "outputs": [],
      "source": [
        "print((ttest_ind(df['pwkp_regular'], df['ebbe_regular'])))\n",
        "print((ttest_ind(df['ebbe_random'], df['ebbe_regular'])))\n",
        "print(ttest_ind(df['ebbe_random'], df['ebbe_in_topic_random']))\n",
        "print(ttest_ind(df['ebbe_in_topic_random'], df['ebbe_regular']))"
      ]
    },
    {
      "cell_type": "markdown",
      "metadata": {
        "id": "6dt1fIYG9Jar"
      },
      "source": [
        "## LF Assembly"
      ]
    },
    {
      "cell_type": "code",
      "execution_count": null,
      "metadata": {
        "colab": {
          "base_uri": "https://localhost:8080/",
          "height": 355,
          "referenced_widgets": [
            "a356644865f045a59e9ea18d26232cae",
            "95ac78f8d5d5427996a98ad444cf0ca9",
            "33e3df6772834648ab3013859d8b078a",
            "cf2aa49dc0414dec826144ef1a10f6f3",
            "e5f98751652a4f3388372051eff898d7",
            "2674cef370ea419b95cb52c52595f47d",
            "b1fabf74e25948a7866d6e3fc361f344",
            "80c2b3ca7aa242a0a8af0b55b76949bd",
            "91ed063a501f4d3881d32b735ef5c97c",
            "7cdbcafc948e4f0ca722f547521ff8b4",
            "44c46cfb8590475c8db5cfbf3f945423",
            "b21578db294e4b9e81a4314275e99fb5",
            "98bc94d0b4c14a4f9221561c3c1bf0c7",
            "4577e3b117a94ca4a7439400d75c35a4",
            "0bdcbd639e24419e9b63aafe81bd3410",
            "da0b9900dad5481dac0c2012efd2d2eb",
            "af37c6bece82491b93de9fca4fce71d6",
            "fd5ca44f9b5a48629fb7779d33a42864",
            "186ecc46e8c949be89df0ce199876907",
            "1c076c79d7e5403b9e252ec1c86f4f2e",
            "89fc991af13c49a39e81042ba21ad7ff",
            "ecbae671f15142c78bd7ed6de2ef91d7",
            "b96e8e3f79ba446b9684eb0cce678402",
            "45df46b6d0904e518adc56e071ff6bb0",
            "18a5e76281f6451e89a1922108b04119",
            "54fa6e88a71a40e28f52068dffb7b890",
            "07c59bd308834ec7b9cc14a91c19e3c7",
            "f23e2279b31c4c3a8c616ca56645b147",
            "28fc930fc62041b4ac407984a975144b",
            "1af677cef8e74a01ad9e6005489e068f",
            "a2d33ba92c2f4a9eaed42e78c5d0152c",
            "f665f0cc9cdd4c939539c2586d167c17",
            "7f823138dad0411980fc203247885aa7",
            "dccb9af9539240ad9551bc120da33c52",
            "c6b4183dea974a439d5bf447300336cf"
          ]
        },
        "id": "rQPSMhyZAZux",
        "outputId": "7384618d-8d28-46aa-a1dd-db5f67cd0622"
      },
      "outputs": [],
      "source": [
        "from labeling_functions import get_all_lfs"
      ]
    },
    {
      "cell_type": "code",
      "execution_count": null,
      "metadata": {
        "id": "ix-gDh0FBO3F"
      },
      "outputs": [],
      "source": [
        "ABSTAIN = -1\n",
        "SIMPLE = 0\n",
        "NOT_SIMPLE = 1\n",
        "LOST_MEANING = 2\n",
        "\n",
        "label_map = {-1: \"ABSTAIN\", 0: \"SIMPLE\", 1: \"NOT_SIMPLE\", 2: \"LOST_MEANING\"}"
      ]
    },
    {
      "cell_type": "code",
      "execution_count": null,
      "metadata": {
        "colab": {
          "base_uri": "https://localhost:8080/"
        },
        "collapsed": true,
        "id": "BKMiYFHkevpF",
        "outputId": "b4cb1a4d-0da2-457f-c691-fb54d665fa43"
      },
      "outputs": [],
      "source": [
        "all_lfs = get_all_lfs()\n",
        "\n",
        "applier = PandasLFApplier(all_lfs)\n",
        "with warnings.catch_warnings():\n",
        "  warnings.simplefilter(\"ignore\")\n",
        "  labels = applier.apply(sub_sample)"
      ]
    },
    {
      "cell_type": "code",
      "execution_count": null,
      "metadata": {
        "colab": {
          "base_uri": "https://localhost:8080/",
          "height": 687
        },
        "id": "AsIxafeBf0vd",
        "outputId": "7dab6a50-db39-443e-f652-733ab5b1bf2a"
      },
      "outputs": [],
      "source": [
        "#show some stats for the results\n",
        "from snorkel.labeling import LFAnalysis\n",
        "LFAnalysis(L=labels, lfs=all_lfs).lf_summary()"
      ]
    },
    {
      "cell_type": "code",
      "execution_count": null,
      "metadata": {
        "id": "ValqoamX01fY"
      },
      "outputs": [],
      "source": [
        "test_l = labels[:,:250]"
      ]
    },
    {
      "cell_type": "code",
      "execution_count": null,
      "metadata": {
        "id": "9Je_YaHE1AVS"
      },
      "outputs": [],
      "source": [
        "test_l.shape"
      ]
    },
    {
      "cell_type": "code",
      "execution_count": null,
      "metadata": {
        "id": "p3wACGoji_IW"
      },
      "outputs": [],
      "source": [
        "#apply snorkel magic and automatically combine labels\n",
        "from snorkel.labeling.model import LabelModel\n",
        "\n",
        "label_model = LabelModel(cardinality=2, verbose=True)\n",
        "label_model.fit(L_train=labels, n_epochs=500, log_freq=5, seed=42, lr=0.001)"
      ]
    },
    {
      "cell_type": "code",
      "execution_count": null,
      "metadata": {
        "id": "buBsRaeqCIkm"
      },
      "outputs": [],
      "source": [
        "#snorkel generates noisy labels based on the aggregation of signals provided by the labeling functions\n",
        "label_model_preds = label_model.predict(L=labels)\n",
        "label_model_pred_probs = label_model.predict_proba(L=labels)"
      ]
    },
    {
      "cell_type": "code",
      "execution_count": null,
      "metadata": {
        "id": "HclVmd0iFtI8"
      },
      "outputs": [],
      "source": [
        "#explain label model\n",
        "weights = label_model.get_weights()\n",
        "\n",
        "for i in range(len(all_lfs)):\n",
        "  print(f\"{all_lfs[i].name} : {weights[i]}\")"
      ]
    },
    {
      "cell_type": "code",
      "execution_count": null,
      "metadata": {
        "id": "P_XPJccbGb1N"
      },
      "outputs": [],
      "source": [
        "def check_instance(id):\n",
        "  print(f\"src_snt : {sub_sample.iloc[id]['source_snt']}\")\n",
        "  print(f\"simp_snt : {sub_sample.iloc[id]['simplified_snt']}\")\n",
        "  print()\n",
        "  print(\"Signals:\")\n",
        "\n",
        "  for i in range(len(all_lfs)):\n",
        "    print(f\"{all_lfs[i].name} : {label_map[labels[i][id]]}\")\n",
        "  print()\n",
        "  print(f\"complexity_score: {label_map[label_model_preds[id]]} ({label_model_pred_probs[id]})\")\n",
        "  print(f\"gold label : {label_map[sub_sample.iloc[id]['gold_label']]}\")"
      ]
    },
    {
      "cell_type": "code",
      "execution_count": null,
      "metadata": {
        "id": "vipa1-jQQLjR"
      },
      "outputs": [],
      "source": [
        "res = label_model.score(L=labels, Y=sub_sample['gold_label'], metrics=['accuracy', 'f1'], tie_break_policy=\"random\")\n",
        "\n",
        "print(f\"{'Label Model Accuracy:':<25} {res['accuracy'] * 100:.1f}%\")\n",
        "print(f\"{'Label Model F1-Score:':<25} {res['f1'] * 100:.1f}%\")"
      ]
    },
    {
      "cell_type": "code",
      "execution_count": null,
      "metadata": {
        "id": "svR1KxY7Gtuq"
      },
      "outputs": [],
      "source": [
        "res"
      ]
    },
    {
      "cell_type": "code",
      "execution_count": null,
      "metadata": {
        "id": "UVrhpPzqUtUh"
      },
      "outputs": [],
      "source": [
        "LFAnalysis(labels, all_lfs).lf_summary(sub_sample['gold_label'].values)"
      ]
    },
    {
      "cell_type": "code",
      "execution_count": null,
      "metadata": {
        "id": "1X9zAXhgTEH9"
      },
      "outputs": [],
      "source": [
        "for i in range(1):\n",
        "  check_instance(i)\n",
        "  print('-'*30)"
      ]
    },
    {
      "cell_type": "code",
      "execution_count": null,
      "metadata": {
        "id": "kGqecojIhhZr"
      },
      "outputs": [],
      "source": []
    }
  ],
  "metadata": {
    "accelerator": "GPU",
    "colab": {
      "gpuType": "T4",
      "machine_shape": "hm",
      "provenance": []
    },
    "kernelspec": {
      "display_name": "Python 3",
      "name": "python3"
    },
    "language_info": {
      "codemirror_mode": {
        "name": "ipython",
        "version": 3
      },
      "file_extension": ".py",
      "mimetype": "text/x-python",
      "name": "python",
      "nbconvert_exporter": "python",
      "pygments_lexer": "ipython3",
      "version": "3.8.18"
    },
    "widgets": {
      "application/vnd.jupyter.widget-state+json": {
        "07c59bd308834ec7b9cc14a91c19e3c7": {
          "model_module": "@jupyter-widgets/controls",
          "model_module_version": "1.5.0",
          "model_name": "FloatProgressModel",
          "state": {
            "_dom_classes": [],
            "_model_module": "@jupyter-widgets/controls",
            "_model_module_version": "1.5.0",
            "_model_name": "FloatProgressModel",
            "_view_count": null,
            "_view_module": "@jupyter-widgets/controls",
            "_view_module_version": "1.5.0",
            "_view_name": "ProgressView",
            "bar_style": "success",
            "description": "",
            "description_tooltip": null,
            "layout": "IPY_MODEL_f665f0cc9cdd4c939539c2586d167c17",
            "max": 665132540,
            "min": 0,
            "orientation": "horizontal",
            "style": "IPY_MODEL_7f823138dad0411980fc203247885aa7",
            "value": 665132540
          }
        },
        "0bdcbd639e24419e9b63aafe81bd3410": {
          "model_module": "@jupyter-widgets/controls",
          "model_module_version": "1.5.0",
          "model_name": "HTMLModel",
          "state": {
            "_dom_classes": [],
            "_model_module": "@jupyter-widgets/controls",
            "_model_module_version": "1.5.0",
            "_model_name": "HTMLModel",
            "_view_count": null,
            "_view_module": "@jupyter-widgets/controls",
            "_view_module_version": "1.5.0",
            "_view_name": "HTMLView",
            "description": "",
            "description_tooltip": null,
            "layout": "IPY_MODEL_186ecc46e8c949be89df0ce199876907",
            "placeholder": "​",
            "style": "IPY_MODEL_1c076c79d7e5403b9e252ec1c86f4f2e",
            "value": "Downloading: 100%"
          }
        },
        "186ecc46e8c949be89df0ce199876907": {
          "model_module": "@jupyter-widgets/base",
          "model_module_version": "1.2.0",
          "model_name": "LayoutModel",
          "state": {
            "_model_module": "@jupyter-widgets/base",
            "_model_module_version": "1.2.0",
            "_model_name": "LayoutModel",
            "_view_count": null,
            "_view_module": "@jupyter-widgets/base",
            "_view_module_version": "1.2.0",
            "_view_name": "LayoutView",
            "align_content": null,
            "align_items": null,
            "align_self": null,
            "border": null,
            "bottom": null,
            "display": null,
            "flex": null,
            "flex_flow": null,
            "grid_area": null,
            "grid_auto_columns": null,
            "grid_auto_flow": null,
            "grid_auto_rows": null,
            "grid_column": null,
            "grid_gap": null,
            "grid_row": null,
            "grid_template_areas": null,
            "grid_template_columns": null,
            "grid_template_rows": null,
            "height": null,
            "justify_content": null,
            "justify_items": null,
            "left": null,
            "margin": null,
            "max_height": null,
            "max_width": null,
            "min_height": null,
            "min_width": null,
            "object_fit": null,
            "object_position": null,
            "order": null,
            "overflow": null,
            "overflow_x": null,
            "overflow_y": null,
            "padding": null,
            "right": null,
            "top": null,
            "visibility": null,
            "width": null
          }
        },
        "18a5e76281f6451e89a1922108b04119": {
          "model_module": "@jupyter-widgets/controls",
          "model_module_version": "1.5.0",
          "model_name": "HBoxModel",
          "state": {
            "_dom_classes": [],
            "_model_module": "@jupyter-widgets/controls",
            "_model_module_version": "1.5.0",
            "_model_name": "HBoxModel",
            "_view_count": null,
            "_view_module": "@jupyter-widgets/controls",
            "_view_module_version": "1.5.0",
            "_view_name": "HBoxView",
            "box_style": "",
            "children": [
              "IPY_MODEL_54fa6e88a71a40e28f52068dffb7b890",
              "IPY_MODEL_07c59bd308834ec7b9cc14a91c19e3c7",
              "IPY_MODEL_f23e2279b31c4c3a8c616ca56645b147"
            ],
            "layout": "IPY_MODEL_28fc930fc62041b4ac407984a975144b"
          }
        },
        "1af677cef8e74a01ad9e6005489e068f": {
          "model_module": "@jupyter-widgets/base",
          "model_module_version": "1.2.0",
          "model_name": "LayoutModel",
          "state": {
            "_model_module": "@jupyter-widgets/base",
            "_model_module_version": "1.2.0",
            "_model_name": "LayoutModel",
            "_view_count": null,
            "_view_module": "@jupyter-widgets/base",
            "_view_module_version": "1.2.0",
            "_view_name": "LayoutView",
            "align_content": null,
            "align_items": null,
            "align_self": null,
            "border": null,
            "bottom": null,
            "display": null,
            "flex": null,
            "flex_flow": null,
            "grid_area": null,
            "grid_auto_columns": null,
            "grid_auto_flow": null,
            "grid_auto_rows": null,
            "grid_column": null,
            "grid_gap": null,
            "grid_row": null,
            "grid_template_areas": null,
            "grid_template_columns": null,
            "grid_template_rows": null,
            "height": null,
            "justify_content": null,
            "justify_items": null,
            "left": null,
            "margin": null,
            "max_height": null,
            "max_width": null,
            "min_height": null,
            "min_width": null,
            "object_fit": null,
            "object_position": null,
            "order": null,
            "overflow": null,
            "overflow_x": null,
            "overflow_y": null,
            "padding": null,
            "right": null,
            "top": null,
            "visibility": null,
            "width": null
          }
        },
        "1c076c79d7e5403b9e252ec1c86f4f2e": {
          "model_module": "@jupyter-widgets/controls",
          "model_module_version": "1.5.0",
          "model_name": "DescriptionStyleModel",
          "state": {
            "_model_module": "@jupyter-widgets/controls",
            "_model_module_version": "1.5.0",
            "_model_name": "DescriptionStyleModel",
            "_view_count": null,
            "_view_module": "@jupyter-widgets/base",
            "_view_module_version": "1.2.0",
            "_view_name": "StyleView",
            "description_width": ""
          }
        },
        "2674cef370ea419b95cb52c52595f47d": {
          "model_module": "@jupyter-widgets/controls",
          "model_module_version": "1.5.0",
          "model_name": "HTMLModel",
          "state": {
            "_dom_classes": [],
            "_model_module": "@jupyter-widgets/controls",
            "_model_module_version": "1.5.0",
            "_model_name": "HTMLModel",
            "_view_count": null,
            "_view_module": "@jupyter-widgets/controls",
            "_view_module_version": "1.5.0",
            "_view_name": "HTMLView",
            "description": "",
            "description_tooltip": null,
            "layout": "IPY_MODEL_b21578db294e4b9e81a4314275e99fb5",
            "placeholder": "​",
            "style": "IPY_MODEL_98bc94d0b4c14a4f9221561c3c1bf0c7",
            "value": " 414/414 [00:00&lt;00:00, 31.9kB/s]"
          }
        },
        "28fc930fc62041b4ac407984a975144b": {
          "model_module": "@jupyter-widgets/base",
          "model_module_version": "1.2.0",
          "model_name": "LayoutModel",
          "state": {
            "_model_module": "@jupyter-widgets/base",
            "_model_module_version": "1.2.0",
            "_model_name": "LayoutModel",
            "_view_count": null,
            "_view_module": "@jupyter-widgets/base",
            "_view_module_version": "1.2.0",
            "_view_name": "LayoutView",
            "align_content": null,
            "align_items": null,
            "align_self": null,
            "border": null,
            "bottom": null,
            "display": null,
            "flex": null,
            "flex_flow": null,
            "grid_area": null,
            "grid_auto_columns": null,
            "grid_auto_flow": null,
            "grid_auto_rows": null,
            "grid_column": null,
            "grid_gap": null,
            "grid_row": null,
            "grid_template_areas": null,
            "grid_template_columns": null,
            "grid_template_rows": null,
            "height": null,
            "justify_content": null,
            "justify_items": null,
            "left": null,
            "margin": null,
            "max_height": null,
            "max_width": null,
            "min_height": null,
            "min_width": null,
            "object_fit": null,
            "object_position": null,
            "order": null,
            "overflow": null,
            "overflow_x": null,
            "overflow_y": null,
            "padding": null,
            "right": null,
            "top": null,
            "visibility": null,
            "width": null
          }
        },
        "33e3df6772834648ab3013859d8b078a": {
          "model_module": "@jupyter-widgets/controls",
          "model_module_version": "1.5.0",
          "model_name": "HBoxModel",
          "state": {
            "_dom_classes": [],
            "_model_module": "@jupyter-widgets/controls",
            "_model_module_version": "1.5.0",
            "_model_name": "HBoxModel",
            "_view_count": null,
            "_view_module": "@jupyter-widgets/controls",
            "_view_module_version": "1.5.0",
            "_view_name": "HBoxView",
            "box_style": "",
            "children": [
              "IPY_MODEL_cf2aa49dc0414dec826144ef1a10f6f3",
              "IPY_MODEL_e5f98751652a4f3388372051eff898d7",
              "IPY_MODEL_2674cef370ea419b95cb52c52595f47d"
            ],
            "layout": "IPY_MODEL_b1fabf74e25948a7866d6e3fc361f344"
          }
        },
        "44c46cfb8590475c8db5cfbf3f945423": {
          "model_module": "@jupyter-widgets/controls",
          "model_module_version": "1.5.0",
          "model_name": "ProgressStyleModel",
          "state": {
            "_model_module": "@jupyter-widgets/controls",
            "_model_module_version": "1.5.0",
            "_model_name": "ProgressStyleModel",
            "_view_count": null,
            "_view_module": "@jupyter-widgets/base",
            "_view_module_version": "1.2.0",
            "_view_name": "StyleView",
            "bar_color": null,
            "description_width": ""
          }
        },
        "4577e3b117a94ca4a7439400d75c35a4": {
          "model_module": "@jupyter-widgets/controls",
          "model_module_version": "1.5.0",
          "model_name": "HBoxModel",
          "state": {
            "_dom_classes": [],
            "_model_module": "@jupyter-widgets/controls",
            "_model_module_version": "1.5.0",
            "_model_name": "HBoxModel",
            "_view_count": null,
            "_view_module": "@jupyter-widgets/controls",
            "_view_module_version": "1.5.0",
            "_view_name": "HBoxView",
            "box_style": "",
            "children": [
              "IPY_MODEL_0bdcbd639e24419e9b63aafe81bd3410",
              "IPY_MODEL_da0b9900dad5481dac0c2012efd2d2eb",
              "IPY_MODEL_af37c6bece82491b93de9fca4fce71d6"
            ],
            "layout": "IPY_MODEL_fd5ca44f9b5a48629fb7779d33a42864"
          }
        },
        "45df46b6d0904e518adc56e071ff6bb0": {
          "model_module": "@jupyter-widgets/controls",
          "model_module_version": "1.5.0",
          "model_name": "DescriptionStyleModel",
          "state": {
            "_model_module": "@jupyter-widgets/controls",
            "_model_module_version": "1.5.0",
            "_model_name": "DescriptionStyleModel",
            "_view_count": null,
            "_view_module": "@jupyter-widgets/base",
            "_view_module_version": "1.2.0",
            "_view_name": "StyleView",
            "description_width": ""
          }
        },
        "54fa6e88a71a40e28f52068dffb7b890": {
          "model_module": "@jupyter-widgets/controls",
          "model_module_version": "1.5.0",
          "model_name": "HTMLModel",
          "state": {
            "_dom_classes": [],
            "_model_module": "@jupyter-widgets/controls",
            "_model_module_version": "1.5.0",
            "_model_name": "HTMLModel",
            "_view_count": null,
            "_view_module": "@jupyter-widgets/controls",
            "_view_module_version": "1.5.0",
            "_view_name": "HTMLView",
            "description": "",
            "description_tooltip": null,
            "layout": "IPY_MODEL_1af677cef8e74a01ad9e6005489e068f",
            "placeholder": "​",
            "style": "IPY_MODEL_a2d33ba92c2f4a9eaed42e78c5d0152c",
            "value": "Downloading: 100%"
          }
        },
        "7cdbcafc948e4f0ca722f547521ff8b4": {
          "model_module": "@jupyter-widgets/base",
          "model_module_version": "1.2.0",
          "model_name": "LayoutModel",
          "state": {
            "_model_module": "@jupyter-widgets/base",
            "_model_module_version": "1.2.0",
            "_model_name": "LayoutModel",
            "_view_count": null,
            "_view_module": "@jupyter-widgets/base",
            "_view_module_version": "1.2.0",
            "_view_name": "LayoutView",
            "align_content": null,
            "align_items": null,
            "align_self": null,
            "border": null,
            "bottom": null,
            "display": null,
            "flex": null,
            "flex_flow": null,
            "grid_area": null,
            "grid_auto_columns": null,
            "grid_auto_flow": null,
            "grid_auto_rows": null,
            "grid_column": null,
            "grid_gap": null,
            "grid_row": null,
            "grid_template_areas": null,
            "grid_template_columns": null,
            "grid_template_rows": null,
            "height": null,
            "justify_content": null,
            "justify_items": null,
            "left": null,
            "margin": null,
            "max_height": null,
            "max_width": null,
            "min_height": null,
            "min_width": null,
            "object_fit": null,
            "object_position": null,
            "order": null,
            "overflow": null,
            "overflow_x": null,
            "overflow_y": null,
            "padding": null,
            "right": null,
            "top": null,
            "visibility": null,
            "width": null
          }
        },
        "7f823138dad0411980fc203247885aa7": {
          "model_module": "@jupyter-widgets/controls",
          "model_module_version": "1.5.0",
          "model_name": "ProgressStyleModel",
          "state": {
            "_model_module": "@jupyter-widgets/controls",
            "_model_module_version": "1.5.0",
            "_model_name": "ProgressStyleModel",
            "_view_count": null,
            "_view_module": "@jupyter-widgets/base",
            "_view_module_version": "1.2.0",
            "_view_name": "StyleView",
            "bar_color": null,
            "description_width": ""
          }
        },
        "80c2b3ca7aa242a0a8af0b55b76949bd": {
          "model_module": "@jupyter-widgets/base",
          "model_module_version": "1.2.0",
          "model_name": "LayoutModel",
          "state": {
            "_model_module": "@jupyter-widgets/base",
            "_model_module_version": "1.2.0",
            "_model_name": "LayoutModel",
            "_view_count": null,
            "_view_module": "@jupyter-widgets/base",
            "_view_module_version": "1.2.0",
            "_view_name": "LayoutView",
            "align_content": null,
            "align_items": null,
            "align_self": null,
            "border": null,
            "bottom": null,
            "display": null,
            "flex": null,
            "flex_flow": null,
            "grid_area": null,
            "grid_auto_columns": null,
            "grid_auto_flow": null,
            "grid_auto_rows": null,
            "grid_column": null,
            "grid_gap": null,
            "grid_row": null,
            "grid_template_areas": null,
            "grid_template_columns": null,
            "grid_template_rows": null,
            "height": null,
            "justify_content": null,
            "justify_items": null,
            "left": null,
            "margin": null,
            "max_height": null,
            "max_width": null,
            "min_height": null,
            "min_width": null,
            "object_fit": null,
            "object_position": null,
            "order": null,
            "overflow": null,
            "overflow_x": null,
            "overflow_y": null,
            "padding": null,
            "right": null,
            "top": null,
            "visibility": null,
            "width": null
          }
        },
        "89fc991af13c49a39e81042ba21ad7ff": {
          "model_module": "@jupyter-widgets/base",
          "model_module_version": "1.2.0",
          "model_name": "LayoutModel",
          "state": {
            "_model_module": "@jupyter-widgets/base",
            "_model_module_version": "1.2.0",
            "_model_name": "LayoutModel",
            "_view_count": null,
            "_view_module": "@jupyter-widgets/base",
            "_view_module_version": "1.2.0",
            "_view_name": "LayoutView",
            "align_content": null,
            "align_items": null,
            "align_self": null,
            "border": null,
            "bottom": null,
            "display": null,
            "flex": null,
            "flex_flow": null,
            "grid_area": null,
            "grid_auto_columns": null,
            "grid_auto_flow": null,
            "grid_auto_rows": null,
            "grid_column": null,
            "grid_gap": null,
            "grid_row": null,
            "grid_template_areas": null,
            "grid_template_columns": null,
            "grid_template_rows": null,
            "height": null,
            "justify_content": null,
            "justify_items": null,
            "left": null,
            "margin": null,
            "max_height": null,
            "max_width": null,
            "min_height": null,
            "min_width": null,
            "object_fit": null,
            "object_position": null,
            "order": null,
            "overflow": null,
            "overflow_x": null,
            "overflow_y": null,
            "padding": null,
            "right": null,
            "top": null,
            "visibility": null,
            "width": null
          }
        },
        "91ed063a501f4d3881d32b735ef5c97c": {
          "model_module": "@jupyter-widgets/controls",
          "model_module_version": "1.5.0",
          "model_name": "DescriptionStyleModel",
          "state": {
            "_model_module": "@jupyter-widgets/controls",
            "_model_module_version": "1.5.0",
            "_model_name": "DescriptionStyleModel",
            "_view_count": null,
            "_view_module": "@jupyter-widgets/base",
            "_view_module_version": "1.2.0",
            "_view_name": "StyleView",
            "description_width": ""
          }
        },
        "95ac78f8d5d5427996a98ad444cf0ca9": {
          "model_module": "@jupyter-widgets/base",
          "model_module_version": "1.2.0",
          "model_name": "LayoutModel",
          "state": {
            "_model_module": "@jupyter-widgets/base",
            "_model_module_version": "1.2.0",
            "_model_name": "LayoutModel",
            "_view_count": null,
            "_view_module": "@jupyter-widgets/base",
            "_view_module_version": "1.2.0",
            "_view_name": "LayoutView",
            "align_content": null,
            "align_items": null,
            "align_self": null,
            "border": null,
            "bottom": null,
            "display": null,
            "flex": null,
            "flex_flow": null,
            "grid_area": null,
            "grid_auto_columns": null,
            "grid_auto_flow": null,
            "grid_auto_rows": null,
            "grid_column": null,
            "grid_gap": null,
            "grid_row": null,
            "grid_template_areas": null,
            "grid_template_columns": null,
            "grid_template_rows": null,
            "height": null,
            "justify_content": null,
            "justify_items": null,
            "left": null,
            "margin": null,
            "max_height": null,
            "max_width": null,
            "min_height": null,
            "min_width": null,
            "object_fit": null,
            "object_position": null,
            "order": null,
            "overflow": null,
            "overflow_x": null,
            "overflow_y": null,
            "padding": null,
            "right": null,
            "top": null,
            "visibility": null,
            "width": null
          }
        },
        "98bc94d0b4c14a4f9221561c3c1bf0c7": {
          "model_module": "@jupyter-widgets/controls",
          "model_module_version": "1.5.0",
          "model_name": "DescriptionStyleModel",
          "state": {
            "_model_module": "@jupyter-widgets/controls",
            "_model_module_version": "1.5.0",
            "_model_name": "DescriptionStyleModel",
            "_view_count": null,
            "_view_module": "@jupyter-widgets/base",
            "_view_module_version": "1.2.0",
            "_view_name": "StyleView",
            "description_width": ""
          }
        },
        "a2d33ba92c2f4a9eaed42e78c5d0152c": {
          "model_module": "@jupyter-widgets/controls",
          "model_module_version": "1.5.0",
          "model_name": "DescriptionStyleModel",
          "state": {
            "_model_module": "@jupyter-widgets/controls",
            "_model_module_version": "1.5.0",
            "_model_name": "DescriptionStyleModel",
            "_view_count": null,
            "_view_module": "@jupyter-widgets/base",
            "_view_module_version": "1.2.0",
            "_view_name": "StyleView",
            "description_width": ""
          }
        },
        "a356644865f045a59e9ea18d26232cae": {
          "model_module": "@jupyter-widgets/output",
          "model_module_version": "1.0.0",
          "model_name": "OutputModel",
          "state": {
            "_dom_classes": [],
            "_model_module": "@jupyter-widgets/output",
            "_model_module_version": "1.0.0",
            "_model_name": "OutputModel",
            "_view_count": null,
            "_view_module": "@jupyter-widgets/output",
            "_view_module_version": "1.0.0",
            "_view_name": "OutputView",
            "layout": "IPY_MODEL_95ac78f8d5d5427996a98ad444cf0ca9",
            "msg_id": "",
            "outputs": [
              {
                "data": {
                  "text/html": "<pre style=\"white-space:pre;overflow-x:auto;line-height:normal;font-family:Menlo,'DejaVu Sans Mono',consolas,'Courier New',monospace\">Downloading <span style=\"color: #008080; text-decoration-color: #008080; font-style: italic\">https://storage.googleapis.com/allennlp-public-mo…</span> <span style=\"color: #f92672; text-decoration-color: #f92672\">━━━━━━━━━━━━━━━━━━━━━━━━━━━╸</span> <span style=\"color: #800080; text-decoration-color: #800080\">100%</span> <span style=\"color: #808000; text-decoration-color: #808000\">0:00:24</span> <span style=\"color: #008000; text-decoration-color: #008000\">1.3/1.3 GB</span>\n</pre>\n",
                  "text/plain": "Downloading \u001b[3;36mhttps://storage.googleapis.com/allennlp-public-mo…\u001b[0m \u001b[38;2;249;38;114m━━━━━━━━━━━━━━━━━━━━━━━━━━━\u001b[0m\u001b[38;2;249;38;114m╸\u001b[0m \u001b[35m100%\u001b[0m \u001b[33m0:00:24\u001b[0m \u001b[32m1.3/1.3 GB\u001b[0m\n"
                },
                "metadata": {},
                "output_type": "display_data"
              }
            ]
          }
        },
        "af37c6bece82491b93de9fca4fce71d6": {
          "model_module": "@jupyter-widgets/controls",
          "model_module_version": "1.5.0",
          "model_name": "HTMLModel",
          "state": {
            "_dom_classes": [],
            "_model_module": "@jupyter-widgets/controls",
            "_model_module_version": "1.5.0",
            "_model_name": "HTMLModel",
            "_view_count": null,
            "_view_module": "@jupyter-widgets/controls",
            "_view_module_version": "1.5.0",
            "_view_name": "HTMLView",
            "description": "",
            "description_tooltip": null,
            "layout": "IPY_MODEL_b96e8e3f79ba446b9684eb0cce678402",
            "placeholder": "​",
            "style": "IPY_MODEL_45df46b6d0904e518adc56e071ff6bb0",
            "value": " 208k/208k [00:00&lt;00:00, 3.03MB/s]"
          }
        },
        "b1fabf74e25948a7866d6e3fc361f344": {
          "model_module": "@jupyter-widgets/base",
          "model_module_version": "1.2.0",
          "model_name": "LayoutModel",
          "state": {
            "_model_module": "@jupyter-widgets/base",
            "_model_module_version": "1.2.0",
            "_model_name": "LayoutModel",
            "_view_count": null,
            "_view_module": "@jupyter-widgets/base",
            "_view_module_version": "1.2.0",
            "_view_name": "LayoutView",
            "align_content": null,
            "align_items": null,
            "align_self": null,
            "border": null,
            "bottom": null,
            "display": null,
            "flex": null,
            "flex_flow": null,
            "grid_area": null,
            "grid_auto_columns": null,
            "grid_auto_flow": null,
            "grid_auto_rows": null,
            "grid_column": null,
            "grid_gap": null,
            "grid_row": null,
            "grid_template_areas": null,
            "grid_template_columns": null,
            "grid_template_rows": null,
            "height": null,
            "justify_content": null,
            "justify_items": null,
            "left": null,
            "margin": null,
            "max_height": null,
            "max_width": null,
            "min_height": null,
            "min_width": null,
            "object_fit": null,
            "object_position": null,
            "order": null,
            "overflow": null,
            "overflow_x": null,
            "overflow_y": null,
            "padding": null,
            "right": null,
            "top": null,
            "visibility": null,
            "width": null
          }
        },
        "b21578db294e4b9e81a4314275e99fb5": {
          "model_module": "@jupyter-widgets/base",
          "model_module_version": "1.2.0",
          "model_name": "LayoutModel",
          "state": {
            "_model_module": "@jupyter-widgets/base",
            "_model_module_version": "1.2.0",
            "_model_name": "LayoutModel",
            "_view_count": null,
            "_view_module": "@jupyter-widgets/base",
            "_view_module_version": "1.2.0",
            "_view_name": "LayoutView",
            "align_content": null,
            "align_items": null,
            "align_self": null,
            "border": null,
            "bottom": null,
            "display": null,
            "flex": null,
            "flex_flow": null,
            "grid_area": null,
            "grid_auto_columns": null,
            "grid_auto_flow": null,
            "grid_auto_rows": null,
            "grid_column": null,
            "grid_gap": null,
            "grid_row": null,
            "grid_template_areas": null,
            "grid_template_columns": null,
            "grid_template_rows": null,
            "height": null,
            "justify_content": null,
            "justify_items": null,
            "left": null,
            "margin": null,
            "max_height": null,
            "max_width": null,
            "min_height": null,
            "min_width": null,
            "object_fit": null,
            "object_position": null,
            "order": null,
            "overflow": null,
            "overflow_x": null,
            "overflow_y": null,
            "padding": null,
            "right": null,
            "top": null,
            "visibility": null,
            "width": null
          }
        },
        "b96e8e3f79ba446b9684eb0cce678402": {
          "model_module": "@jupyter-widgets/base",
          "model_module_version": "1.2.0",
          "model_name": "LayoutModel",
          "state": {
            "_model_module": "@jupyter-widgets/base",
            "_model_module_version": "1.2.0",
            "_model_name": "LayoutModel",
            "_view_count": null,
            "_view_module": "@jupyter-widgets/base",
            "_view_module_version": "1.2.0",
            "_view_name": "LayoutView",
            "align_content": null,
            "align_items": null,
            "align_self": null,
            "border": null,
            "bottom": null,
            "display": null,
            "flex": null,
            "flex_flow": null,
            "grid_area": null,
            "grid_auto_columns": null,
            "grid_auto_flow": null,
            "grid_auto_rows": null,
            "grid_column": null,
            "grid_gap": null,
            "grid_row": null,
            "grid_template_areas": null,
            "grid_template_columns": null,
            "grid_template_rows": null,
            "height": null,
            "justify_content": null,
            "justify_items": null,
            "left": null,
            "margin": null,
            "max_height": null,
            "max_width": null,
            "min_height": null,
            "min_width": null,
            "object_fit": null,
            "object_position": null,
            "order": null,
            "overflow": null,
            "overflow_x": null,
            "overflow_y": null,
            "padding": null,
            "right": null,
            "top": null,
            "visibility": null,
            "width": null
          }
        },
        "c6b4183dea974a439d5bf447300336cf": {
          "model_module": "@jupyter-widgets/controls",
          "model_module_version": "1.5.0",
          "model_name": "DescriptionStyleModel",
          "state": {
            "_model_module": "@jupyter-widgets/controls",
            "_model_module_version": "1.5.0",
            "_model_name": "DescriptionStyleModel",
            "_view_count": null,
            "_view_module": "@jupyter-widgets/base",
            "_view_module_version": "1.2.0",
            "_view_name": "StyleView",
            "description_width": ""
          }
        },
        "cf2aa49dc0414dec826144ef1a10f6f3": {
          "model_module": "@jupyter-widgets/controls",
          "model_module_version": "1.5.0",
          "model_name": "HTMLModel",
          "state": {
            "_dom_classes": [],
            "_model_module": "@jupyter-widgets/controls",
            "_model_module_version": "1.5.0",
            "_model_name": "HTMLModel",
            "_view_count": null,
            "_view_module": "@jupyter-widgets/controls",
            "_view_module_version": "1.5.0",
            "_view_name": "HTMLView",
            "description": "",
            "description_tooltip": null,
            "layout": "IPY_MODEL_80c2b3ca7aa242a0a8af0b55b76949bd",
            "placeholder": "​",
            "style": "IPY_MODEL_91ed063a501f4d3881d32b735ef5c97c",
            "value": "Downloading: 100%"
          }
        },
        "da0b9900dad5481dac0c2012efd2d2eb": {
          "model_module": "@jupyter-widgets/controls",
          "model_module_version": "1.5.0",
          "model_name": "FloatProgressModel",
          "state": {
            "_dom_classes": [],
            "_model_module": "@jupyter-widgets/controls",
            "_model_module_version": "1.5.0",
            "_model_name": "FloatProgressModel",
            "_view_count": null,
            "_view_module": "@jupyter-widgets/controls",
            "_view_module_version": "1.5.0",
            "_view_name": "ProgressView",
            "bar_style": "success",
            "description": "",
            "description_tooltip": null,
            "layout": "IPY_MODEL_89fc991af13c49a39e81042ba21ad7ff",
            "max": 213450,
            "min": 0,
            "orientation": "horizontal",
            "style": "IPY_MODEL_ecbae671f15142c78bd7ed6de2ef91d7",
            "value": 213450
          }
        },
        "dccb9af9539240ad9551bc120da33c52": {
          "model_module": "@jupyter-widgets/base",
          "model_module_version": "1.2.0",
          "model_name": "LayoutModel",
          "state": {
            "_model_module": "@jupyter-widgets/base",
            "_model_module_version": "1.2.0",
            "_model_name": "LayoutModel",
            "_view_count": null,
            "_view_module": "@jupyter-widgets/base",
            "_view_module_version": "1.2.0",
            "_view_name": "LayoutView",
            "align_content": null,
            "align_items": null,
            "align_self": null,
            "border": null,
            "bottom": null,
            "display": null,
            "flex": null,
            "flex_flow": null,
            "grid_area": null,
            "grid_auto_columns": null,
            "grid_auto_flow": null,
            "grid_auto_rows": null,
            "grid_column": null,
            "grid_gap": null,
            "grid_row": null,
            "grid_template_areas": null,
            "grid_template_columns": null,
            "grid_template_rows": null,
            "height": null,
            "justify_content": null,
            "justify_items": null,
            "left": null,
            "margin": null,
            "max_height": null,
            "max_width": null,
            "min_height": null,
            "min_width": null,
            "object_fit": null,
            "object_position": null,
            "order": null,
            "overflow": null,
            "overflow_x": null,
            "overflow_y": null,
            "padding": null,
            "right": null,
            "top": null,
            "visibility": null,
            "width": null
          }
        },
        "e5f98751652a4f3388372051eff898d7": {
          "model_module": "@jupyter-widgets/controls",
          "model_module_version": "1.5.0",
          "model_name": "FloatProgressModel",
          "state": {
            "_dom_classes": [],
            "_model_module": "@jupyter-widgets/controls",
            "_model_module_version": "1.5.0",
            "_model_name": "FloatProgressModel",
            "_view_count": null,
            "_view_module": "@jupyter-widgets/controls",
            "_view_module_version": "1.5.0",
            "_view_name": "ProgressView",
            "bar_style": "success",
            "description": "",
            "description_tooltip": null,
            "layout": "IPY_MODEL_7cdbcafc948e4f0ca722f547521ff8b4",
            "max": 414,
            "min": 0,
            "orientation": "horizontal",
            "style": "IPY_MODEL_44c46cfb8590475c8db5cfbf3f945423",
            "value": 414
          }
        },
        "ecbae671f15142c78bd7ed6de2ef91d7": {
          "model_module": "@jupyter-widgets/controls",
          "model_module_version": "1.5.0",
          "model_name": "ProgressStyleModel",
          "state": {
            "_model_module": "@jupyter-widgets/controls",
            "_model_module_version": "1.5.0",
            "_model_name": "ProgressStyleModel",
            "_view_count": null,
            "_view_module": "@jupyter-widgets/base",
            "_view_module_version": "1.2.0",
            "_view_name": "StyleView",
            "bar_color": null,
            "description_width": ""
          }
        },
        "f23e2279b31c4c3a8c616ca56645b147": {
          "model_module": "@jupyter-widgets/controls",
          "model_module_version": "1.5.0",
          "model_name": "HTMLModel",
          "state": {
            "_dom_classes": [],
            "_model_module": "@jupyter-widgets/controls",
            "_model_module_version": "1.5.0",
            "_model_name": "HTMLModel",
            "_view_count": null,
            "_view_module": "@jupyter-widgets/controls",
            "_view_module_version": "1.5.0",
            "_view_name": "HTMLView",
            "description": "",
            "description_tooltip": null,
            "layout": "IPY_MODEL_dccb9af9539240ad9551bc120da33c52",
            "placeholder": "​",
            "style": "IPY_MODEL_c6b4183dea974a439d5bf447300336cf",
            "value": " 634M/634M [00:05&lt;00:00, 116MB/s]"
          }
        },
        "f665f0cc9cdd4c939539c2586d167c17": {
          "model_module": "@jupyter-widgets/base",
          "model_module_version": "1.2.0",
          "model_name": "LayoutModel",
          "state": {
            "_model_module": "@jupyter-widgets/base",
            "_model_module_version": "1.2.0",
            "_model_name": "LayoutModel",
            "_view_count": null,
            "_view_module": "@jupyter-widgets/base",
            "_view_module_version": "1.2.0",
            "_view_name": "LayoutView",
            "align_content": null,
            "align_items": null,
            "align_self": null,
            "border": null,
            "bottom": null,
            "display": null,
            "flex": null,
            "flex_flow": null,
            "grid_area": null,
            "grid_auto_columns": null,
            "grid_auto_flow": null,
            "grid_auto_rows": null,
            "grid_column": null,
            "grid_gap": null,
            "grid_row": null,
            "grid_template_areas": null,
            "grid_template_columns": null,
            "grid_template_rows": null,
            "height": null,
            "justify_content": null,
            "justify_items": null,
            "left": null,
            "margin": null,
            "max_height": null,
            "max_width": null,
            "min_height": null,
            "min_width": null,
            "object_fit": null,
            "object_position": null,
            "order": null,
            "overflow": null,
            "overflow_x": null,
            "overflow_y": null,
            "padding": null,
            "right": null,
            "top": null,
            "visibility": null,
            "width": null
          }
        },
        "fd5ca44f9b5a48629fb7779d33a42864": {
          "model_module": "@jupyter-widgets/base",
          "model_module_version": "1.2.0",
          "model_name": "LayoutModel",
          "state": {
            "_model_module": "@jupyter-widgets/base",
            "_model_module_version": "1.2.0",
            "_model_name": "LayoutModel",
            "_view_count": null,
            "_view_module": "@jupyter-widgets/base",
            "_view_module_version": "1.2.0",
            "_view_name": "LayoutView",
            "align_content": null,
            "align_items": null,
            "align_self": null,
            "border": null,
            "bottom": null,
            "display": null,
            "flex": null,
            "flex_flow": null,
            "grid_area": null,
            "grid_auto_columns": null,
            "grid_auto_flow": null,
            "grid_auto_rows": null,
            "grid_column": null,
            "grid_gap": null,
            "grid_row": null,
            "grid_template_areas": null,
            "grid_template_columns": null,
            "grid_template_rows": null,
            "height": null,
            "justify_content": null,
            "justify_items": null,
            "left": null,
            "margin": null,
            "max_height": null,
            "max_width": null,
            "min_height": null,
            "min_width": null,
            "object_fit": null,
            "object_position": null,
            "order": null,
            "overflow": null,
            "overflow_x": null,
            "overflow_y": null,
            "padding": null,
            "right": null,
            "top": null,
            "visibility": null,
            "width": null
          }
        }
      }
    }
  },
  "nbformat": 4,
  "nbformat_minor": 0
}
