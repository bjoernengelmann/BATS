{
 "cells": [
  {
   "cell_type": "code",
   "execution_count": 12,
   "metadata": {},
   "outputs": [],
   "source": [
    "from bats_label_model import BatsModel\n",
    "import numpy as np\n",
    "import pickle"
   ]
  },
  {
   "cell_type": "code",
   "execution_count": 3,
   "metadata": {},
   "outputs": [
    {
     "name": "stderr",
     "output_type": "stream",
     "text": [
      "100%|██████████| 100/100 [00:00<00:00, 470.29epoch/s]\n",
      "/workspace/pruning_lfs.py:52: RuntimeWarning: invalid value encountered in scalar divide\n",
      "  merged_data.append([index, polarity, cov_simp, cov_src, precision, 1 - precision, cov_simp+cov_src, abs(cov_simp - cov_src), abs(cov_simp - cov_src)/(cov_simp+cov_src)])\n"
     ]
    }
   ],
   "source": [
    "model = BatsModel(\"MTurkSF\")"
   ]
  },
  {
   "cell_type": "code",
   "execution_count": 4,
   "metadata": {},
   "outputs": [
    {
     "name": "stderr",
     "output_type": "stream",
     "text": [
      "/usr/local/lib/python3.8/site-packages/snorkel/labeling/model/label_model.py:387: RuntimeWarning: divide by zero encountered in divide\n",
      "  return np.clip(accs / self.coverage, 1e-6, 1.0)\n"
     ]
    }
   ],
   "source": [
    "weights = model.label_model.get_weights()"
   ]
  },
  {
   "cell_type": "code",
   "execution_count": 5,
   "metadata": {},
   "outputs": [
    {
     "data": {
      "text/plain": [
       "328"
      ]
     },
     "execution_count": 5,
     "metadata": {},
     "output_type": "execute_result"
    }
   ],
   "source": [
    "len(weights)"
   ]
  },
  {
   "cell_type": "code",
   "execution_count": 6,
   "metadata": {},
   "outputs": [
    {
     "data": {
      "text/plain": [
       "271.41527601890243"
      ]
     },
     "execution_count": 6,
     "metadata": {},
     "output_type": "execute_result"
    }
   ],
   "source": [
    "np.sum(weights)"
   ]
  },
  {
   "cell_type": "code",
   "execution_count": 7,
   "metadata": {},
   "outputs": [
    {
     "data": {
      "text/plain": [
       "array([0.96194698, 0.94821669, 0.95290867, 0.94552225, 0.93662483,\n",
       "       0.93108797, 0.90712456, 0.90388951, 0.88531515, 0.84030419,\n",
       "       0.76680431, 0.85770602, 0.90444662, 0.93324914, 0.98498478,\n",
       "       1.        , 1.        , 1.        , 1.        , 1.        ,\n",
       "       1.        , 1.        , 1.        , 1.        , 1.        ,\n",
       "       1.        , 1.        , 1.        , 1.        , 1.        ,\n",
       "       1.        , 1.        , 1.        , 0.36036263, 1.        ,\n",
       "       1.        , 1.        , 1.        , 0.9917048 , 1.        ,\n",
       "       0.59083402, 1.        , 1.        , 1.        , 0.62489727,\n",
       "       1.        , 1.        , 1.        , 1.        , 0.9539656 ,\n",
       "       0.91701342, 1.        , 1.        , 1.        , 0.9345297 ,\n",
       "       0.95360773, 0.94669524, 0.94613218, 0.78217966, 0.74080209,\n",
       "       0.45792033, 0.48611527, 0.51263496, 0.65157626, 1.        ,\n",
       "       1.        , 1.        , 1.        , 1.        , 1.        ,\n",
       "       1.        , 0.99296066, 1.        , 0.94520915, 0.71858316,\n",
       "       0.46821445, 0.55750162, 0.44309498, 0.37092836, 0.53361417,\n",
       "       0.61217096, 0.34628103, 0.7951086 , 0.7951086 , 0.77973987,\n",
       "       0.79054508, 0.598916  , 0.58590256, 0.57713625, 0.57853716,\n",
       "       0.56820082, 0.77003485, 0.71521037, 0.96194698, 0.95290878,\n",
       "       0.9310879 , 0.90388951, 0.78091874, 0.50000001, 0.50000001,\n",
       "       0.50000001, 0.50000001, 0.50000001, 0.50000001, 0.50000001,\n",
       "       0.50000001, 0.50000001, 0.50000001, 0.50000001, 0.50000001,\n",
       "       0.50000001, 0.50000001, 0.50000001, 0.50000001, 0.50000001,\n",
       "       0.50000001, 0.50000001, 0.50000001, 0.50000001, 0.50000001,\n",
       "       0.50000001, 0.50000001, 0.62668425, 0.71521037, 1.        ,\n",
       "       1.        , 1.        , 1.        , 1.        , 1.        ,\n",
       "       1.        , 1.        , 1.        , 0.91515636, 0.91515636,\n",
       "       0.91515636, 0.91515636, 0.91515636, 0.91515636, 0.91808333,\n",
       "       0.91808333, 0.58898922, 0.58898922, 0.58898922, 0.58898922,\n",
       "       0.58898922, 0.71112942, 0.71112942, 0.71112942, 0.71112942,\n",
       "       0.71112942, 0.71112942, 0.71112942, 0.71112942, 0.71112942,\n",
       "       0.71112942, 1.        , 0.96741081, 0.93142889, 0.82156135,\n",
       "       0.76264982, 0.98538375, 1.        , 1.        , 1.        ,\n",
       "       0.03683334, 0.03157143, 0.4922694 , 0.49574735, 0.02104762,\n",
       "       0.58293565, 0.64443608, 0.01774131, 0.74909052, 0.66854272,\n",
       "       0.56167297, 0.65149258, 1.        , 1.        , 1.        ,\n",
       "       1.        , 1.        , 1.        , 1.        , 1.        ,\n",
       "       1.        , 1.        , 0.77512572, 0.77512572, 0.76452714,\n",
       "       0.67222308, 0.83983566, 0.99667348, 1.        , 1.        ,\n",
       "       1.        , 1.        , 1.        , 1.        , 0.66672159,\n",
       "       0.60785479, 1.        , 1.        , 1.        , 1.        ,\n",
       "       1.        , 1.        , 1.        , 1.        , 1.        ,\n",
       "       1.        , 1.        , 1.        , 1.        , 1.        ,\n",
       "       1.        , 0.11050001, 1.        , 1.        , 1.        ,\n",
       "       1.        , 1.        , 1.        , 1.        , 1.        ,\n",
       "       0.50000001, 0.50000001, 1.        , 1.        , 1.        ,\n",
       "       1.        , 1.        , 1.        , 1.        , 1.        ,\n",
       "       1.        , 1.        , 1.        , 1.        , 1.        ,\n",
       "       1.        , 0.93125645, 0.92204884, 1.        , 1.        ,\n",
       "       1.        , 0.98954124, 0.91350629, 1.        , 0.98726556,\n",
       "       0.67576328, 0.67739194, 0.69110003, 0.48955413, 0.52415125,\n",
       "       0.62287321, 0.79894343, 0.88565833, 0.92951428, 0.47766362,\n",
       "       0.60745619, 0.53322127, 0.62253381, 0.72042134, 0.94277301,\n",
       "       0.99440018, 1.        , 0.51897328, 0.70077509, 0.5262861 ,\n",
       "       0.58547248, 0.71656572, 0.76212042, 0.79626694, 0.81136039,\n",
       "       1.        , 0.49866341, 0.54394142, 0.69047822, 0.39787211,\n",
       "       0.39787211, 0.39787211, 0.39787211, 0.39787211, 0.57627469,\n",
       "       1.        , 0.16496761, 1.        , 1.        , 1.        ,\n",
       "       1.        , 1.        , 1.        , 1.        , 1.        ,\n",
       "       1.        , 1.        , 1.        , 1.        , 1.        ,\n",
       "       1.        , 1.        , 1.        , 1.        , 1.        ,\n",
       "       1.        , 1.        , 1.        , 1.        , 1.        ,\n",
       "       1.        , 1.        , 1.        , 1.        , 1.        ,\n",
       "       1.        , 1.        , 1.        , 0.76680431, 0.90444674,\n",
       "       0.98498485, 1.        , 1.        , 1.        , 1.        ,\n",
       "       1.        , 1.        , 1.        ])"
      ]
     },
     "execution_count": 7,
     "metadata": {},
     "output_type": "execute_result"
    }
   ],
   "source": [
    "weights"
   ]
  },
  {
   "cell_type": "code",
   "execution_count": 8,
   "metadata": {},
   "outputs": [],
   "source": [
    "norm_weigts = weights/np.sum(weights)"
   ]
  },
  {
   "cell_type": "code",
   "execution_count": 9,
   "metadata": {},
   "outputs": [
    {
     "data": {
      "text/plain": [
       "0.9999999999999999"
      ]
     },
     "execution_count": 9,
     "metadata": {},
     "output_type": "execute_result"
    }
   ],
   "source": [
    "np.sum(norm_weigts)"
   ]
  },
  {
   "cell_type": "code",
   "execution_count": 10,
   "metadata": {},
   "outputs": [],
   "source": [
    "all_lfs = model.all_lfs"
   ]
  },
  {
   "cell_type": "code",
   "execution_count": null,
   "metadata": {},
   "outputs": [],
   "source": []
  },
  {
   "cell_type": "code",
   "execution_count": null,
   "metadata": {},
   "outputs": [
    {
     "ename": "NameError",
     "evalue": "name 'pickle' is not defined",
     "output_type": "error",
     "traceback": [
      "\u001b[0;31m---------------------------------------------------------------------------\u001b[0m",
      "\u001b[0;31mNameError\u001b[0m                                 Traceback (most recent call last)",
      "\u001b[1;32m/workspace/test_sute.ipynb Cell 12\u001b[0m line \u001b[0;36m2\n\u001b[1;32m      <a href='vscode-notebook-cell://attached-container%2B7b22636f6e7461696e65724e616d65223a222f7573622d706970656c696e655f7573622d706970656c696e655f31227d/workspace/test_sute.ipynb#X14sdnNjb2RlLXJlbW90ZQ%3D%3D?line=0'>1</a>\u001b[0m \u001b[39mwith\u001b[39;00m \u001b[39mopen\u001b[39m(\u001b[39m\"\u001b[39m\u001b[39m/workspace/datasets/eval_simp_labels.pkl\u001b[39m\u001b[39m\"\u001b[39m, \u001b[39m'\u001b[39m\u001b[39mrb\u001b[39m\u001b[39m'\u001b[39m) \u001b[39mas\u001b[39;00m f:\n\u001b[0;32m----> <a href='vscode-notebook-cell://attached-container%2B7b22636f6e7461696e65724e616d65223a222f7573622d706970656c696e655f7573622d706970656c696e655f31227d/workspace/test_sute.ipynb#X14sdnNjb2RlLXJlbW90ZQ%3D%3D?line=1'>2</a>\u001b[0m     eval_simp \u001b[39m=\u001b[39m pickle\u001b[39m.\u001b[39mload(f)\n",
      "\u001b[0;31mNameError\u001b[0m: name 'pickle' is not defined"
     ]
    }
   ],
   "source": [
    "with open(\"/workspace/datasets/eval_simp_labels.pkl\", 'rb') as f:\n",
    "    eval_simp = pickle.load(f)"
   ]
  },
  {
   "cell_type": "code",
   "execution_count": 14,
   "metadata": {},
   "outputs": [],
   "source": [
    "with open(\"workspace/datasets/final_combined_with_index.pkl\", 'rb') as f:\n",
    "    dataset = pickle.load(f)"
   ]
  },
  {
   "cell_type": "code",
   "execution_count": 15,
   "metadata": {},
   "outputs": [],
   "source": [
    "dataset['simplified_snt'] = dataset['simp']\n",
    "dataset['source_snt'] = dataset['src']"
   ]
  },
  {
   "cell_type": "code",
   "execution_count": 16,
   "metadata": {},
   "outputs": [],
   "source": [
    "selected_dataset = \"MTurkSF\"\n",
    "dataset = dataset[dataset['ds_id'] == selected_dataset]"
   ]
  },
  {
   "cell_type": "code",
   "execution_count": 37,
   "metadata": {},
   "outputs": [
    {
     "data": {
      "text/html": [
       "<div>\n",
       "<style scoped>\n",
       "    .dataframe tbody tr th:only-of-type {\n",
       "        vertical-align: middle;\n",
       "    }\n",
       "\n",
       "    .dataframe tbody tr th {\n",
       "        vertical-align: top;\n",
       "    }\n",
       "\n",
       "    .dataframe thead th {\n",
       "        text-align: right;\n",
       "    }\n",
       "</style>\n",
       "<table border=\"1\" class=\"dataframe\">\n",
       "  <thead>\n",
       "    <tr style=\"text-align: right;\">\n",
       "      <th></th>\n",
       "      <th>ds_id</th>\n",
       "      <th>Year</th>\n",
       "      <th>Target_Audience</th>\n",
       "      <th>Domain</th>\n",
       "      <th>index</th>\n",
       "      <th>src</th>\n",
       "      <th>src_id</th>\n",
       "      <th>simp</th>\n",
       "      <th>simp_id</th>\n",
       "      <th>label</th>\n",
       "      <th>...</th>\n",
       "      <th>granularity</th>\n",
       "      <th>duplicated</th>\n",
       "      <th>topic</th>\n",
       "      <th>src_title</th>\n",
       "      <th>simp_title</th>\n",
       "      <th>similarity</th>\n",
       "      <th>topics</th>\n",
       "      <th>val_split</th>\n",
       "      <th>simplified_snt</th>\n",
       "      <th>source_snt</th>\n",
       "    </tr>\n",
       "  </thead>\n",
       "  <tbody>\n",
       "    <tr>\n",
       "      <th>506530</th>\n",
       "      <td>MTurkSF</td>\n",
       "      <td>2022</td>\n",
       "      <td>non-experts</td>\n",
       "      <td>medical</td>\n",
       "      <td>MTurkSF__0__0</td>\n",
       "      <td>Abdominal wall defects are a type of congenita...</td>\n",
       "      <td>0</td>\n",
       "      <td>Abdominal wall defects are a type of congenita...</td>\n",
       "      <td>0</td>\n",
       "      <td>NaN</td>\n",
       "      <td>...</td>\n",
       "      <td>sentence</td>\n",
       "      <td>False</td>\n",
       "      <td>abdominalwalldefect</td>\n",
       "      <td>NaN</td>\n",
       "      <td>NaN</td>\n",
       "      <td>NaN</td>\n",
       "      <td>NaN</td>\n",
       "      <td>False</td>\n",
       "      <td>Abdominal wall defects are a type of congenita...</td>\n",
       "      <td>Abdominal wall defects are a type of congenita...</td>\n",
       "    </tr>\n",
       "    <tr>\n",
       "      <th>506531</th>\n",
       "      <td>MTurkSF</td>\n",
       "      <td>2022</td>\n",
       "      <td>non-experts</td>\n",
       "      <td>medical</td>\n",
       "      <td>MTurkSF__0__1</td>\n",
       "      <td>Abdominal wall defects are a type of congenita...</td>\n",
       "      <td>0</td>\n",
       "      <td>Abdominal wall defects are a type of congenita...</td>\n",
       "      <td>1</td>\n",
       "      <td>NaN</td>\n",
       "      <td>...</td>\n",
       "      <td>sentence</td>\n",
       "      <td>False</td>\n",
       "      <td>abdominalwalldefect</td>\n",
       "      <td>NaN</td>\n",
       "      <td>NaN</td>\n",
       "      <td>NaN</td>\n",
       "      <td>NaN</td>\n",
       "      <td>False</td>\n",
       "      <td>Abdominal wall defects are a type of congenita...</td>\n",
       "      <td>Abdominal wall defects are a type of congenita...</td>\n",
       "    </tr>\n",
       "    <tr>\n",
       "      <th>506532</th>\n",
       "      <td>MTurkSF</td>\n",
       "      <td>2022</td>\n",
       "      <td>non-experts</td>\n",
       "      <td>medical</td>\n",
       "      <td>MTurkSF__0__2</td>\n",
       "      <td>Abdominal wall defects are a type of congenita...</td>\n",
       "      <td>0</td>\n",
       "      <td>Abdominal wall defects are a type of congenita...</td>\n",
       "      <td>2</td>\n",
       "      <td>NaN</td>\n",
       "      <td>...</td>\n",
       "      <td>sentence</td>\n",
       "      <td>False</td>\n",
       "      <td>abdominalwalldefect</td>\n",
       "      <td>NaN</td>\n",
       "      <td>NaN</td>\n",
       "      <td>NaN</td>\n",
       "      <td>NaN</td>\n",
       "      <td>False</td>\n",
       "      <td>Abdominal wall defects are a type of congenita...</td>\n",
       "      <td>Abdominal wall defects are a type of congenita...</td>\n",
       "    </tr>\n",
       "    <tr>\n",
       "      <th>506533</th>\n",
       "      <td>MTurkSF</td>\n",
       "      <td>2022</td>\n",
       "      <td>non-experts</td>\n",
       "      <td>medical</td>\n",
       "      <td>MTurkSF__0__3</td>\n",
       "      <td>Abdominal wall defects are a type of congenita...</td>\n",
       "      <td>0</td>\n",
       "      <td>Abdominal wall defects are a type of congenita...</td>\n",
       "      <td>3</td>\n",
       "      <td>NaN</td>\n",
       "      <td>...</td>\n",
       "      <td>sentence</td>\n",
       "      <td>False</td>\n",
       "      <td>abdominalwalldefect</td>\n",
       "      <td>NaN</td>\n",
       "      <td>NaN</td>\n",
       "      <td>NaN</td>\n",
       "      <td>NaN</td>\n",
       "      <td>False</td>\n",
       "      <td>Abdominal wall defects are a type of congenita...</td>\n",
       "      <td>Abdominal wall defects are a type of congenita...</td>\n",
       "    </tr>\n",
       "    <tr>\n",
       "      <th>506534</th>\n",
       "      <td>MTurkSF</td>\n",
       "      <td>2022</td>\n",
       "      <td>non-experts</td>\n",
       "      <td>medical</td>\n",
       "      <td>MTurkSF__0__4</td>\n",
       "      <td>Abdominal wall defects are a type of congenita...</td>\n",
       "      <td>0</td>\n",
       "      <td>Abdominal wall defects are a type of congenita...</td>\n",
       "      <td>4</td>\n",
       "      <td>NaN</td>\n",
       "      <td>...</td>\n",
       "      <td>sentence</td>\n",
       "      <td>False</td>\n",
       "      <td>abdominalwalldefect</td>\n",
       "      <td>NaN</td>\n",
       "      <td>NaN</td>\n",
       "      <td>NaN</td>\n",
       "      <td>NaN</td>\n",
       "      <td>False</td>\n",
       "      <td>Abdominal wall defects are a type of congenita...</td>\n",
       "      <td>Abdominal wall defects are a type of congenita...</td>\n",
       "    </tr>\n",
       "    <tr>\n",
       "      <th>...</th>\n",
       "      <td>...</td>\n",
       "      <td>...</td>\n",
       "      <td>...</td>\n",
       "      <td>...</td>\n",
       "      <td>...</td>\n",
       "      <td>...</td>\n",
       "      <td>...</td>\n",
       "      <td>...</td>\n",
       "      <td>...</td>\n",
       "      <td>...</td>\n",
       "      <td>...</td>\n",
       "      <td>...</td>\n",
       "      <td>...</td>\n",
       "      <td>...</td>\n",
       "      <td>...</td>\n",
       "      <td>...</td>\n",
       "      <td>...</td>\n",
       "      <td>...</td>\n",
       "      <td>...</td>\n",
       "      <td>...</td>\n",
       "      <td>...</td>\n",
       "    </tr>\n",
       "    <tr>\n",
       "      <th>506746</th>\n",
       "      <td>MTurkSF</td>\n",
       "      <td>2022</td>\n",
       "      <td>non-experts</td>\n",
       "      <td>medical</td>\n",
       "      <td>MTurkSF__62__216</td>\n",
       "      <td>Visual impairment may cause difficulties with ...</td>\n",
       "      <td>62</td>\n",
       "      <td>Visual impairment may cause difficult with nor...</td>\n",
       "      <td>216</td>\n",
       "      <td>NaN</td>\n",
       "      <td>...</td>\n",
       "      <td>sentence</td>\n",
       "      <td>False</td>\n",
       "      <td>visual-impairment</td>\n",
       "      <td>NaN</td>\n",
       "      <td>NaN</td>\n",
       "      <td>NaN</td>\n",
       "      <td>NaN</td>\n",
       "      <td>False</td>\n",
       "      <td>Visual impairment may cause difficult with nor...</td>\n",
       "      <td>Visual impairment may cause difficulties with ...</td>\n",
       "    </tr>\n",
       "    <tr>\n",
       "      <th>506747</th>\n",
       "      <td>MTurkSF</td>\n",
       "      <td>2022</td>\n",
       "      <td>non-experts</td>\n",
       "      <td>medical</td>\n",
       "      <td>MTurkSF__62__217</td>\n",
       "      <td>Visual impairment may cause difficulties with ...</td>\n",
       "      <td>62</td>\n",
       "      <td>Visual impairment may cause trouble with norma...</td>\n",
       "      <td>217</td>\n",
       "      <td>NaN</td>\n",
       "      <td>...</td>\n",
       "      <td>sentence</td>\n",
       "      <td>False</td>\n",
       "      <td>visual-impairment</td>\n",
       "      <td>NaN</td>\n",
       "      <td>NaN</td>\n",
       "      <td>NaN</td>\n",
       "      <td>NaN</td>\n",
       "      <td>False</td>\n",
       "      <td>Visual impairment may cause trouble with norma...</td>\n",
       "      <td>Visual impairment may cause difficulties with ...</td>\n",
       "    </tr>\n",
       "    <tr>\n",
       "      <th>506748</th>\n",
       "      <td>MTurkSF</td>\n",
       "      <td>2022</td>\n",
       "      <td>non-experts</td>\n",
       "      <td>medical</td>\n",
       "      <td>MTurkSF__60__218</td>\n",
       "      <td>Visual impairment, also known as vision impair...</td>\n",
       "      <td>60</td>\n",
       "      <td>Visual impairment, also known as vision impair...</td>\n",
       "      <td>218</td>\n",
       "      <td>NaN</td>\n",
       "      <td>...</td>\n",
       "      <td>sentence</td>\n",
       "      <td>False</td>\n",
       "      <td>visual-impairment</td>\n",
       "      <td>NaN</td>\n",
       "      <td>NaN</td>\n",
       "      <td>NaN</td>\n",
       "      <td>NaN</td>\n",
       "      <td>False</td>\n",
       "      <td>Visual impairment, also known as vision impair...</td>\n",
       "      <td>Visual impairment, also known as vision impair...</td>\n",
       "    </tr>\n",
       "    <tr>\n",
       "      <th>506749</th>\n",
       "      <td>MTurkSF</td>\n",
       "      <td>2022</td>\n",
       "      <td>non-experts</td>\n",
       "      <td>medical</td>\n",
       "      <td>MTurkSF__60__219</td>\n",
       "      <td>Visual impairment, also known as vision impair...</td>\n",
       "      <td>60</td>\n",
       "      <td>Visual impairment, also known as vision impair...</td>\n",
       "      <td>219</td>\n",
       "      <td>NaN</td>\n",
       "      <td>...</td>\n",
       "      <td>sentence</td>\n",
       "      <td>False</td>\n",
       "      <td>visual-impairment</td>\n",
       "      <td>NaN</td>\n",
       "      <td>NaN</td>\n",
       "      <td>NaN</td>\n",
       "      <td>NaN</td>\n",
       "      <td>False</td>\n",
       "      <td>Visual impairment, also known as vision impair...</td>\n",
       "      <td>Visual impairment, also known as vision impair...</td>\n",
       "    </tr>\n",
       "    <tr>\n",
       "      <th>506750</th>\n",
       "      <td>MTurkSF</td>\n",
       "      <td>2022</td>\n",
       "      <td>non-experts</td>\n",
       "      <td>medical</td>\n",
       "      <td>MTurkSF__60__220</td>\n",
       "      <td>Visual impairment, also known as vision impair...</td>\n",
       "      <td>60</td>\n",
       "      <td>Visual impairment, also known as vision impair...</td>\n",
       "      <td>220</td>\n",
       "      <td>NaN</td>\n",
       "      <td>...</td>\n",
       "      <td>sentence</td>\n",
       "      <td>False</td>\n",
       "      <td>visual-impairment</td>\n",
       "      <td>NaN</td>\n",
       "      <td>NaN</td>\n",
       "      <td>NaN</td>\n",
       "      <td>NaN</td>\n",
       "      <td>False</td>\n",
       "      <td>Visual impairment, also known as vision impair...</td>\n",
       "      <td>Visual impairment, also known as vision impair...</td>\n",
       "    </tr>\n",
       "  </tbody>\n",
       "</table>\n",
       "<p>221 rows × 21 columns</p>\n",
       "</div>"
      ],
      "text/plain": [
       "          ds_id  Year Target_Audience   Domain             index  \\\n",
       "506530  MTurkSF  2022     non-experts  medical     MTurkSF__0__0   \n",
       "506531  MTurkSF  2022     non-experts  medical     MTurkSF__0__1   \n",
       "506532  MTurkSF  2022     non-experts  medical     MTurkSF__0__2   \n",
       "506533  MTurkSF  2022     non-experts  medical     MTurkSF__0__3   \n",
       "506534  MTurkSF  2022     non-experts  medical     MTurkSF__0__4   \n",
       "...         ...   ...             ...      ...               ...   \n",
       "506746  MTurkSF  2022     non-experts  medical  MTurkSF__62__216   \n",
       "506747  MTurkSF  2022     non-experts  medical  MTurkSF__62__217   \n",
       "506748  MTurkSF  2022     non-experts  medical  MTurkSF__60__218   \n",
       "506749  MTurkSF  2022     non-experts  medical  MTurkSF__60__219   \n",
       "506750  MTurkSF  2022     non-experts  medical  MTurkSF__60__220   \n",
       "\n",
       "                                                      src  src_id  \\\n",
       "506530  Abdominal wall defects are a type of congenita...       0   \n",
       "506531  Abdominal wall defects are a type of congenita...       0   \n",
       "506532  Abdominal wall defects are a type of congenita...       0   \n",
       "506533  Abdominal wall defects are a type of congenita...       0   \n",
       "506534  Abdominal wall defects are a type of congenita...       0   \n",
       "...                                                   ...     ...   \n",
       "506746  Visual impairment may cause difficulties with ...      62   \n",
       "506747  Visual impairment may cause difficulties with ...      62   \n",
       "506748  Visual impairment, also known as vision impair...      60   \n",
       "506749  Visual impairment, also known as vision impair...      60   \n",
       "506750  Visual impairment, also known as vision impair...      60   \n",
       "\n",
       "                                                     simp  simp_id label  ...  \\\n",
       "506530  Abdominal wall defects are a type of congenita...        0   NaN  ...   \n",
       "506531  Abdominal wall defects are a type of congenita...        1   NaN  ...   \n",
       "506532  Abdominal wall defects are a type of congenita...        2   NaN  ...   \n",
       "506533  Abdominal wall defects are a type of congenita...        3   NaN  ...   \n",
       "506534  Abdominal wall defects are a type of congenita...        4   NaN  ...   \n",
       "...                                                   ...      ...   ...  ...   \n",
       "506746  Visual impairment may cause difficult with nor...      216   NaN  ...   \n",
       "506747  Visual impairment may cause trouble with norma...      217   NaN  ...   \n",
       "506748  Visual impairment, also known as vision impair...      218   NaN  ...   \n",
       "506749  Visual impairment, also known as vision impair...      219   NaN  ...   \n",
       "506750  Visual impairment, also known as vision impair...      220   NaN  ...   \n",
       "\n",
       "       granularity duplicated                topic src_title simp_title  \\\n",
       "506530    sentence      False  abdominalwalldefect       NaN        NaN   \n",
       "506531    sentence      False  abdominalwalldefect       NaN        NaN   \n",
       "506532    sentence      False  abdominalwalldefect       NaN        NaN   \n",
       "506533    sentence      False  abdominalwalldefect       NaN        NaN   \n",
       "506534    sentence      False  abdominalwalldefect       NaN        NaN   \n",
       "...            ...        ...                  ...       ...        ...   \n",
       "506746    sentence      False    visual-impairment       NaN        NaN   \n",
       "506747    sentence      False    visual-impairment       NaN        NaN   \n",
       "506748    sentence      False    visual-impairment       NaN        NaN   \n",
       "506749    sentence      False    visual-impairment       NaN        NaN   \n",
       "506750    sentence      False    visual-impairment       NaN        NaN   \n",
       "\n",
       "       similarity  topics val_split  \\\n",
       "506530        NaN     NaN     False   \n",
       "506531        NaN     NaN     False   \n",
       "506532        NaN     NaN     False   \n",
       "506533        NaN     NaN     False   \n",
       "506534        NaN     NaN     False   \n",
       "...           ...     ...       ...   \n",
       "506746        NaN     NaN     False   \n",
       "506747        NaN     NaN     False   \n",
       "506748        NaN     NaN     False   \n",
       "506749        NaN     NaN     False   \n",
       "506750        NaN     NaN     False   \n",
       "\n",
       "                                           simplified_snt  \\\n",
       "506530  Abdominal wall defects are a type of congenita...   \n",
       "506531  Abdominal wall defects are a type of congenita...   \n",
       "506532  Abdominal wall defects are a type of congenita...   \n",
       "506533  Abdominal wall defects are a type of congenita...   \n",
       "506534  Abdominal wall defects are a type of congenita...   \n",
       "...                                                   ...   \n",
       "506746  Visual impairment may cause difficult with nor...   \n",
       "506747  Visual impairment may cause trouble with norma...   \n",
       "506748  Visual impairment, also known as vision impair...   \n",
       "506749  Visual impairment, also known as vision impair...   \n",
       "506750  Visual impairment, also known as vision impair...   \n",
       "\n",
       "                                               source_snt  \n",
       "506530  Abdominal wall defects are a type of congenita...  \n",
       "506531  Abdominal wall defects are a type of congenita...  \n",
       "506532  Abdominal wall defects are a type of congenita...  \n",
       "506533  Abdominal wall defects are a type of congenita...  \n",
       "506534  Abdominal wall defects are a type of congenita...  \n",
       "...                                                   ...  \n",
       "506746  Visual impairment may cause difficulties with ...  \n",
       "506747  Visual impairment may cause difficulties with ...  \n",
       "506748  Visual impairment, also known as vision impair...  \n",
       "506749  Visual impairment, also known as vision impair...  \n",
       "506750  Visual impairment, also known as vision impair...  \n",
       "\n",
       "[221 rows x 21 columns]"
      ]
     },
     "execution_count": 37,
     "metadata": {},
     "output_type": "execute_result"
    }
   ],
   "source": [
    "dataset"
   ]
  },
  {
   "cell_type": "code",
   "execution_count": 47,
   "metadata": {},
   "outputs": [
    {
     "name": "stdout",
     "output_type": "stream",
     "text": [
      "1.0\n",
      "1.0\n",
      "1.0\n",
      "1.0\n",
      "1.0\n",
      "1.0\n",
      "1.0\n",
      "1.0\n",
      "1.0\n",
      "1.0\n",
      "1.0\n",
      "1.0\n",
      "1.0\n",
      "1.0\n",
      "1.0\n",
      "1.0\n",
      "1.0\n",
      "1.0\n",
      "1.0\n",
      "1.0\n",
      "1.0\n",
      "1.0\n",
      "1.0\n",
      "1.0\n",
      "1.0\n",
      "1.0\n",
      "1.0\n",
      "1.0\n",
      "1.0\n",
      "1.0\n"
     ]
    }
   ],
   "source": [
    "for i in range(30):\n",
    "    t1 = dataset.iloc[1].simp\n",
    "    print(model.calc_score(t1))"
   ]
  },
  {
   "cell_type": "code",
   "execution_count": 41,
   "metadata": {},
   "outputs": [],
   "source": []
  },
  {
   "cell_type": "code",
   "execution_count": 42,
   "metadata": {},
   "outputs": [
    {
     "data": {
      "text/plain": [
       "1.0"
      ]
     },
     "execution_count": 42,
     "metadata": {},
     "output_type": "execute_result"
    }
   ],
   "source": []
  },
  {
   "cell_type": "code",
   "execution_count": 23,
   "metadata": {},
   "outputs": [],
   "source": [
    "t1_bin =model.transform_to_bin_vec(t1)"
   ]
  },
  {
   "cell_type": "code",
   "execution_count": 35,
   "metadata": {},
   "outputs": [
    {
     "data": {
      "text/plain": [
       "array([[-1, -1, -1, -1, -1, -1, -1, -1, -1, -1,  1,  1,  1,  1,  1,  1,\n",
       "         1,  1,  1,  1, -1, -1, -1, -1, -1, -1, -1, -1, -1, -1, -1, -1,\n",
       "        -1, -1, -1, -1, -1, -1, -1, -1,  0, -1, -1, -1,  0, -1, -1, -1,\n",
       "        -1, -1, -1, -1, -1, -1, -1, -1, -1, -1, -1, -1,  1, -1,  1,  1,\n",
       "        -1, -1, -1, -1, -1, -1, -1, -1, -1, -1, -1,  1, -1, -1, -1,  0,\n",
       "        -1, -1,  0,  0,  0,  0,  0,  0,  0,  0,  0, -1, -1, -1, -1, -1,\n",
       "        -1, -1,  0,  0,  0,  0,  0,  0,  0,  0,  0,  0,  0,  0,  0,  0,\n",
       "         0,  0,  0,  0,  0,  0,  0,  0,  0,  0,  0,  0, -1, -1, -1, -1,\n",
       "        -1, -1, -1, -1, -1, -1, -1, -1, -1, -1, -1, -1, -1,  1,  1,  1,\n",
       "         1,  1, -1, -1, -1, -1, -1, -1, -1, -1, -1, -1, -1, -1, -1, -1,\n",
       "         1,  1, -1, -1, -1, -1, -1,  0,  0, -1, -1, -1, -1, -1, -1, -1,\n",
       "        -1, -1, -1, -1, -1, -1, -1, -1, -1, -1, -1, -1, -1, -1, -1,  1,\n",
       "         1,  1,  1,  1,  1,  1,  1,  0,  0, -1, -1, -1, -1, -1, -1, -1,\n",
       "        -1, -1, -1, -1, -1, -1, -1, -1, -1, -1, -1, -1, -1, -1, -1, -1,\n",
       "        -1,  0,  0, -1, -1, -1, -1, -1, -1, -1, -1, -1, -1, -1, -1, -1,\n",
       "        -1, -1, -1, -1, -1, -1, -1, -1, -1, -1, -1, -1, -1,  1,  1,  1,\n",
       "        -1, -1, -1,  1,  1,  1,  1,  1, -1, -1, -1,  1,  1,  1,  1,  1,\n",
       "         1, -1, -1, -1,  1, -1, -1, -1, -1, -1, -1, -1, -1, -1, -1, -1,\n",
       "        -1, -1, -1, -1, -1, -1, -1, -1, -1, -1, -1, -1, -1, -1, -1, -1,\n",
       "        -1, -1, -1, -1, -1, -1,  1,  1, -1, -1, -1, -1, -1, -1,  1,  1,\n",
       "         1,  1,  1, -1, -1, -1, -1, -1]])"
      ]
     },
     "execution_count": 35,
     "metadata": {},
     "output_type": "execute_result"
    }
   ],
   "source": [
    "t1_bin"
   ]
  },
  {
   "cell_type": "code",
   "execution_count": 27,
   "metadata": {},
   "outputs": [
    {
     "data": {
      "text/plain": [
       "array([0.96194698, 0.94821669, 0.95290867, 0.94552225, 0.93662483,\n",
       "       0.93108797, 0.90712456, 0.90388951, 0.88531515, 0.84030419,\n",
       "       0.76680431, 0.85770602, 0.90444662, 0.93324914, 0.98498478,\n",
       "       1.        , 1.        , 1.        , 1.        , 1.        ,\n",
       "       1.        , 1.        , 1.        , 1.        , 1.        ,\n",
       "       1.        , 1.        , 1.        , 1.        , 1.        ,\n",
       "       1.        , 1.        , 1.        , 0.36036263, 1.        ,\n",
       "       1.        , 1.        , 1.        , 0.9917048 , 1.        ,\n",
       "       0.59083402, 1.        , 1.        , 1.        , 0.62489727,\n",
       "       1.        , 1.        , 1.        , 1.        , 0.9539656 ,\n",
       "       0.91701342, 1.        , 1.        , 1.        , 0.9345297 ,\n",
       "       0.95360773, 0.94669524, 0.94613218, 0.78217966, 0.74080209,\n",
       "       0.45792033, 0.48611527, 0.51263496, 0.65157626, 1.        ,\n",
       "       1.        , 1.        , 1.        , 1.        , 1.        ,\n",
       "       1.        , 0.99296066, 1.        , 0.94520915, 0.71858316,\n",
       "       0.46821445, 0.55750162, 0.44309498, 0.37092836, 0.53361417,\n",
       "       0.61217096, 0.34628103, 0.7951086 , 0.7951086 , 0.77973987,\n",
       "       0.79054508, 0.598916  , 0.58590256, 0.57713625, 0.57853716,\n",
       "       0.56820082, 0.77003485, 0.71521037, 0.96194698, 0.95290878,\n",
       "       0.9310879 , 0.90388951, 0.78091874, 0.50000001, 0.50000001,\n",
       "       0.50000001, 0.50000001, 0.50000001, 0.50000001, 0.50000001,\n",
       "       0.50000001, 0.50000001, 0.50000001, 0.50000001, 0.50000001,\n",
       "       0.50000001, 0.50000001, 0.50000001, 0.50000001, 0.50000001,\n",
       "       0.50000001, 0.50000001, 0.50000001, 0.50000001, 0.50000001,\n",
       "       0.50000001, 0.50000001, 0.62668425, 0.71521037, 1.        ,\n",
       "       1.        , 1.        , 1.        , 1.        , 1.        ,\n",
       "       1.        , 1.        , 1.        , 0.91515636, 0.91515636,\n",
       "       0.91515636, 0.91515636, 0.91515636, 0.91515636, 0.91808333,\n",
       "       0.91808333, 0.58898922, 0.58898922, 0.58898922, 0.58898922,\n",
       "       0.58898922, 0.71112942, 0.71112942, 0.71112942, 0.71112942,\n",
       "       0.71112942, 0.71112942, 0.71112942, 0.71112942, 0.71112942,\n",
       "       0.71112942, 1.        , 0.96741081, 0.93142889, 0.82156135,\n",
       "       0.76264982, 0.98538375, 1.        , 1.        , 1.        ,\n",
       "       0.03683334, 0.03157143, 0.4922694 , 0.49574735, 0.02104762,\n",
       "       0.58293565, 0.64443608, 0.01774131, 0.74909052, 0.66854272,\n",
       "       0.56167297, 0.65149258, 1.        , 1.        , 1.        ,\n",
       "       1.        , 1.        , 1.        , 1.        , 1.        ,\n",
       "       1.        , 1.        , 0.77512572, 0.77512572, 0.76452714,\n",
       "       0.67222308, 0.83983566, 0.99667348, 1.        , 1.        ,\n",
       "       1.        , 1.        , 1.        , 1.        , 0.66672159,\n",
       "       0.60785479, 1.        , 1.        , 1.        , 1.        ,\n",
       "       1.        , 1.        , 1.        , 1.        , 1.        ,\n",
       "       1.        , 1.        , 1.        , 1.        , 1.        ,\n",
       "       1.        , 0.11050001, 1.        , 1.        , 1.        ,\n",
       "       1.        , 1.        , 1.        , 1.        , 1.        ,\n",
       "       0.50000001, 0.50000001, 1.        , 1.        , 1.        ,\n",
       "       1.        , 1.        , 1.        , 1.        , 1.        ,\n",
       "       1.        , 1.        , 1.        , 1.        , 1.        ,\n",
       "       1.        , 0.93125645, 0.92204884, 1.        , 1.        ,\n",
       "       1.        , 0.98954124, 0.91350629, 1.        , 0.98726556,\n",
       "       0.67576328, 0.67739194, 0.69110003, 0.48955413, 0.52415125,\n",
       "       0.62287321, 0.79894343, 0.88565833, 0.92951428, 0.47766362,\n",
       "       0.60745619, 0.53322127, 0.62253381, 0.72042134, 0.94277301,\n",
       "       0.99440018, 1.        , 0.51897328, 0.70077509, 0.5262861 ,\n",
       "       0.58547248, 0.71656572, 0.76212042, 0.79626694, 0.81136039,\n",
       "       1.        , 0.49866341, 0.54394142, 0.69047822, 0.39787211,\n",
       "       0.39787211, 0.39787211, 0.39787211, 0.39787211, 0.57627469,\n",
       "       1.        , 0.16496761, 1.        , 1.        , 1.        ,\n",
       "       1.        , 1.        , 1.        , 1.        , 1.        ,\n",
       "       1.        , 1.        , 1.        , 1.        , 1.        ,\n",
       "       1.        , 1.        , 1.        , 1.        , 1.        ,\n",
       "       1.        , 1.        , 1.        , 1.        , 1.        ,\n",
       "       1.        , 1.        , 1.        , 1.        , 1.        ,\n",
       "       1.        , 1.        , 1.        , 0.76680431, 0.90444674,\n",
       "       0.98498485, 1.        , 1.        , 1.        , 1.        ,\n",
       "       1.        , 1.        , 1.        ])"
      ]
     },
     "execution_count": 27,
     "metadata": {},
     "output_type": "execute_result"
    }
   ],
   "source": [
    "weights"
   ]
  },
  {
   "cell_type": "code",
   "execution_count": 32,
   "metadata": {},
   "outputs": [],
   "source": [
    "s_val = 0\n",
    "ns_val = 0\n",
    "\n",
    "for i in range(len(t1_bin[0])):\n",
    "    if t1_bin[0][i] == 0:\n",
    "        s_val += weights[i]\n",
    "    elif t1_bin[0][i] == 1:\n",
    "        ns_val += weights[i]"
   ]
  },
  {
   "cell_type": "code",
   "execution_count": 33,
   "metadata": {},
   "outputs": [
    {
     "data": {
      "text/plain": [
       "24.42302832058494"
      ]
     },
     "execution_count": 33,
     "metadata": {},
     "output_type": "execute_result"
    }
   ],
   "source": [
    "s_val"
   ]
  },
  {
   "cell_type": "code",
   "execution_count": 34,
   "metadata": {},
   "outputs": [
    {
     "data": {
      "text/plain": [
       "39.62999288092415"
      ]
     },
     "execution_count": 34,
     "metadata": {},
     "output_type": "execute_result"
    }
   ],
   "source": [
    "ns_val"
   ]
  },
  {
   "cell_type": "code",
   "execution_count": 36,
   "metadata": {},
   "outputs": [
    {
     "data": {
      "text/plain": [
       "array([-1, -1, -1, -1, -1, -1, -1, -1, -1, -1,  1,  1,  1,  1,  1,  1,  1,\n",
       "        1,  1,  1, -1, -1, -1, -1, -1, -1, -1, -1, -1, -1, -1, -1, -1, -1,\n",
       "       -1, -1, -1, -1, -1, -1,  0, -1, -1, -1,  0, -1, -1, -1, -1, -1, -1,\n",
       "       -1, -1, -1, -1, -1, -1, -1, -1, -1,  1, -1,  1,  1, -1, -1, -1, -1,\n",
       "       -1, -1, -1, -1, -1, -1, -1,  1, -1, -1, -1,  0, -1, -1,  0,  0,  0,\n",
       "        0,  0,  0,  0,  0,  0, -1, -1, -1, -1, -1, -1, -1,  0,  0,  0,  0,\n",
       "        0,  0,  0,  0,  0,  0,  0,  0,  0,  0,  0,  0,  0,  0,  0,  0,  0,\n",
       "        0,  0,  0,  0,  0, -1, -1, -1, -1, -1, -1, -1, -1, -1, -1, -1, -1,\n",
       "       -1, -1, -1, -1, -1,  1,  1,  1,  1,  1, -1, -1, -1, -1, -1, -1, -1,\n",
       "       -1, -1, -1, -1, -1, -1, -1,  1,  1, -1, -1, -1, -1, -1,  0,  0, -1,\n",
       "       -1, -1, -1, -1, -1, -1, -1, -1, -1, -1, -1, -1, -1, -1, -1, -1, -1,\n",
       "       -1, -1, -1, -1,  1,  1,  1,  1,  1,  1,  1,  1,  0,  0, -1, -1, -1,\n",
       "       -1, -1, -1, -1, -1, -1, -1, -1, -1, -1, -1, -1, -1, -1, -1, -1, -1,\n",
       "       -1, -1, -1, -1,  0,  0, -1, -1, -1, -1, -1, -1, -1, -1, -1, -1, -1,\n",
       "       -1, -1, -1, -1, -1, -1, -1, -1, -1, -1, -1, -1, -1, -1, -1,  1,  1,\n",
       "        1, -1, -1, -1,  1,  1,  1,  1,  1, -1, -1, -1,  1,  1,  1,  1,  1,\n",
       "        1, -1, -1, -1,  1, -1, -1, -1, -1, -1, -1, -1, -1, -1, -1, -1, -1,\n",
       "       -1, -1, -1, -1, -1, -1, -1, -1, -1, -1, -1, -1, -1, -1, -1, -1, -1,\n",
       "       -1, -1, -1, -1,  1,  1, -1, -1, -1, -1, -1, -1,  1,  1,  1,  1,  1,\n",
       "       -1, -1, -1, -1, -1])"
      ]
     },
     "execution_count": 36,
     "metadata": {},
     "output_type": "execute_result"
    }
   ],
   "source": [
    "t1_bin[0]"
   ]
  },
  {
   "cell_type": "code",
   "execution_count": null,
   "metadata": {},
   "outputs": [],
   "source": []
  }
 ],
 "metadata": {
  "kernelspec": {
   "display_name": "Python 3",
   "language": "python",
   "name": "python3"
  },
  "language_info": {
   "codemirror_mode": {
    "name": "ipython",
    "version": 3
   },
   "file_extension": ".py",
   "mimetype": "text/x-python",
   "name": "python",
   "nbconvert_exporter": "python",
   "pygments_lexer": "ipython3",
   "version": "3.8.18"
  }
 },
 "nbformat": 4,
 "nbformat_minor": 2
}
