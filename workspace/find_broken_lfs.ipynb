{
 "cells": [
  {
   "cell_type": "code",
   "execution_count": 121,
   "metadata": {},
   "outputs": [],
   "source": [
    "import pickle\n",
    "import pandas as pd\n",
    "from labeling_functions import get_all_lfs\n",
    "from snorkel.labeling import PandasLFApplier\n",
    "from tqdm import tqdm\n",
    "import numpy as np\n",
    "from multiprocessing import Process, Manager"
   ]
  },
  {
   "cell_type": "code",
   "execution_count": 122,
   "metadata": {},
   "outputs": [],
   "source": [
    "def apply_lfs(df, lfs, chunk_start, size, label_dic):\n",
    "    applier = PandasLFApplier(lfs)\n",
    "    labels = applier.apply(df[chunk_start:chunk_start+size], progress_bar=False)\n",
    "    label_dic[chunk_start] = labels"
   ]
  },
  {
   "cell_type": "code",
   "execution_count": 123,
   "metadata": {},
   "outputs": [],
   "source": [
    "def preprocess_dataset(dataset, sel_ds_id, app_type=\"simp\"):\n",
    "    \n",
    "    if sel_ds_id == \"eval\":\n",
    "        dataset = dataset[dataset['val_split'] == True]\n",
    "    else:\n",
    "        dataset = dataset[dataset['ds_id'] == sel_ds_id]        \n",
    "\n",
    "    dataset['simplified_snt'] = dataset[app_type]\n",
    "    dataset['source_snt'] = dataset['src']\n",
    "\n",
    "    return dataset"
   ]
  },
  {
   "cell_type": "code",
   "execution_count": 124,
   "metadata": {},
   "outputs": [],
   "source": [
    "def regen_labels(label_dic):\n",
    "    labels = label_dic[sorted(label_dic.keys())[0]].squeeze()\n",
    "    for key in sorted(label_dic.keys())[1:]:\n",
    "        labels = np.concatenate((labels, label_dic[key].squeeze()))\n",
    "    return labels"
   ]
  },
  {
   "cell_type": "code",
   "execution_count": 125,
   "metadata": {},
   "outputs": [],
   "source": [
    "def result_for_lf(labels):\n",
    "    abstain_cnt = np.sum(labels == -1)\n",
    "    simple_cnt = np.sum(labels == 0)\n",
    "    complex_cnt = np.sum(labels == 1)\n",
    "    return abstain_cnt, simple_cnt, complex_cnt"
   ]
  },
  {
   "cell_type": "code",
   "execution_count": 126,
   "metadata": {},
   "outputs": [],
   "source": [
    "with open(\"/workspace/datasets/final_combined_with_index_with_arts\", 'rb') as f:\n",
    "    dataset = pickle.load(f)"
   ]
  },
  {
   "cell_type": "code",
   "execution_count": 127,
   "metadata": {},
   "outputs": [
    {
     "name": "stderr",
     "output_type": "stream",
     "text": [
      "/tmp/ipykernel_522/2833539944.py:8: SettingWithCopyWarning: \n",
      "A value is trying to be set on a copy of a slice from a DataFrame.\n",
      "Try using .loc[row_indexer,col_indexer] = value instead\n",
      "\n",
      "See the caveats in the documentation: https://pandas.pydata.org/pandas-docs/stable/user_guide/indexing.html#returning-a-view-versus-a-copy\n",
      "  dataset['simplified_snt'] = dataset[app_type]\n",
      "/tmp/ipykernel_522/2833539944.py:9: SettingWithCopyWarning: \n",
      "A value is trying to be set on a copy of a slice from a DataFrame.\n",
      "Try using .loc[row_indexer,col_indexer] = value instead\n",
      "\n",
      "See the caveats in the documentation: https://pandas.pydata.org/pandas-docs/stable/user_guide/indexing.html#returning-a-view-versus-a-copy\n",
      "  dataset['source_snt'] = dataset['src']\n"
     ]
    }
   ],
   "source": [
    "ds_to_test_on = \"arts300\"\n",
    "all_lfs = get_all_lfs()\n",
    "test_dataset = preprocess_dataset(dataset, ds_to_test_on)"
   ]
  },
  {
   "cell_type": "code",
   "execution_count": 128,
   "metadata": {},
   "outputs": [
    {
     "name": "stderr",
     "output_type": "stream",
     "text": [
      "100%|██████████| 15/15 [02:40<00:00, 10.67s/it]\n"
     ]
    }
   ],
   "source": [
    "num_processes = 5\n",
    "batch_size = 20\n",
    "all_batch_indices = list(range(0, len(test_dataset), batch_size))\n",
    "\n",
    "manager = Manager()\n",
    "label_dic = manager.dict()\n",
    "procs = []\n",
    "\n",
    "\n",
    "with tqdm(total = len(all_batch_indices)) as pbar:\n",
    "    while len(all_batch_indices) > 0:\n",
    "        for i in range(num_processes):\n",
    "            current_index = all_batch_indices.pop()\n",
    "            proc = Process(target=apply_lfs, args=(test_dataset, all_lfs, current_index , batch_size, label_dic))\n",
    "            procs.append(proc)\n",
    "            proc.start()\n",
    "            pbar.update(1)\n",
    "            \n",
    "        for proc in procs:\n",
    "            proc.join()\n",
    "\n",
    "    label_dic = dict(label_dic)"
   ]
  },
  {
   "cell_type": "code",
   "execution_count": 129,
   "metadata": {},
   "outputs": [],
   "source": [
    "full_labels = regen_labels(label_dic)"
   ]
  },
  {
   "cell_type": "code",
   "execution_count": 130,
   "metadata": {},
   "outputs": [],
   "source": [
    "lf_stat_dic = {}\n",
    "\n",
    "for i in range(len(all_lfs)):\n",
    "    lf_stat_dic[all_lfs[i].name] = result_for_lf(full_labels[:,i])\n",
    "    #print(all_lfs[i].name, result_for_lf(full_labels[:,i]))"
   ]
  },
  {
   "cell_type": "code",
   "execution_count": 135,
   "metadata": {},
   "outputs": [],
   "source": [
    "lf_stats = pd.DataFrame(lf_stat_dic).T\n",
    "lf_stats.columns = ['Abstain', \"Simple\", \"Complex\"]"
   ]
  },
  {
   "cell_type": "code",
   "execution_count": 136,
   "metadata": {},
   "outputs": [],
   "source": [
    "lf_stats.to_excel(\"/workspace/lf_stats.xlsx\")"
   ]
  },
  {
   "cell_type": "code",
   "execution_count": 137,
   "metadata": {},
   "outputs": [
    {
     "data": {
      "text/html": [
       "<div>\n",
       "<style scoped>\n",
       "    .dataframe tbody tr th:only-of-type {\n",
       "        vertical-align: middle;\n",
       "    }\n",
       "\n",
       "    .dataframe tbody tr th {\n",
       "        vertical-align: top;\n",
       "    }\n",
       "\n",
       "    .dataframe thead th {\n",
       "        text-align: right;\n",
       "    }\n",
       "</style>\n",
       "<table border=\"1\" class=\"dataframe\">\n",
       "  <thead>\n",
       "    <tr style=\"text-align: right;\">\n",
       "      <th></th>\n",
       "      <th>Abstain</th>\n",
       "      <th>Simple</th>\n",
       "      <th>Complex</th>\n",
       "    </tr>\n",
       "  </thead>\n",
       "  <tbody>\n",
       "    <tr>\n",
       "      <th>lf_words_cnt_wcount=3_SIMPLE</th>\n",
       "      <td>299</td>\n",
       "      <td>1</td>\n",
       "      <td>0</td>\n",
       "    </tr>\n",
       "    <tr>\n",
       "      <th>lf_words_cnt_wcount=4_SIMPLE</th>\n",
       "      <td>297</td>\n",
       "      <td>3</td>\n",
       "      <td>0</td>\n",
       "    </tr>\n",
       "    <tr>\n",
       "      <th>lf_words_cnt_wcount=5_SIMPLE</th>\n",
       "      <td>296</td>\n",
       "      <td>4</td>\n",
       "      <td>0</td>\n",
       "    </tr>\n",
       "    <tr>\n",
       "      <th>lf_words_cnt_wcount=6_SIMPLE</th>\n",
       "      <td>292</td>\n",
       "      <td>8</td>\n",
       "      <td>0</td>\n",
       "    </tr>\n",
       "    <tr>\n",
       "      <th>lf_words_cnt_wcount=7_SIMPLE</th>\n",
       "      <td>285</td>\n",
       "      <td>15</td>\n",
       "      <td>0</td>\n",
       "    </tr>\n",
       "    <tr>\n",
       "      <th>...</th>\n",
       "      <td>...</td>\n",
       "      <td>...</td>\n",
       "      <td>...</td>\n",
       "    </tr>\n",
       "    <tr>\n",
       "      <th>few_noun_phrases_thres=16_label=1</th>\n",
       "      <td>294</td>\n",
       "      <td>0</td>\n",
       "      <td>6</td>\n",
       "    </tr>\n",
       "    <tr>\n",
       "      <th>few_noun_phrases_thres=17_label=1</th>\n",
       "      <td>296</td>\n",
       "      <td>0</td>\n",
       "      <td>4</td>\n",
       "    </tr>\n",
       "    <tr>\n",
       "      <th>few_noun_phrases_thres=18_label=1</th>\n",
       "      <td>298</td>\n",
       "      <td>0</td>\n",
       "      <td>2</td>\n",
       "    </tr>\n",
       "    <tr>\n",
       "      <th>few_noun_phrases_thres=19_label=1</th>\n",
       "      <td>298</td>\n",
       "      <td>0</td>\n",
       "      <td>2</td>\n",
       "    </tr>\n",
       "    <tr>\n",
       "      <th>few_noun_phrases_thres=20_label=1</th>\n",
       "      <td>299</td>\n",
       "      <td>0</td>\n",
       "      <td>1</td>\n",
       "    </tr>\n",
       "  </tbody>\n",
       "</table>\n",
       "<p>1249 rows × 3 columns</p>\n",
       "</div>"
      ],
      "text/plain": [
       "                                   Abstain  Simple  Complex\n",
       "lf_words_cnt_wcount=3_SIMPLE           299       1        0\n",
       "lf_words_cnt_wcount=4_SIMPLE           297       3        0\n",
       "lf_words_cnt_wcount=5_SIMPLE           296       4        0\n",
       "lf_words_cnt_wcount=6_SIMPLE           292       8        0\n",
       "lf_words_cnt_wcount=7_SIMPLE           285      15        0\n",
       "...                                    ...     ...      ...\n",
       "few_noun_phrases_thres=16_label=1      294       0        6\n",
       "few_noun_phrases_thres=17_label=1      296       0        4\n",
       "few_noun_phrases_thres=18_label=1      298       0        2\n",
       "few_noun_phrases_thres=19_label=1      298       0        2\n",
       "few_noun_phrases_thres=20_label=1      299       0        1\n",
       "\n",
       "[1249 rows x 3 columns]"
      ]
     },
     "execution_count": 137,
     "metadata": {},
     "output_type": "execute_result"
    }
   ],
   "source": [
    "lf_stats"
   ]
  },
  {
   "cell_type": "code",
   "execution_count": null,
   "metadata": {},
   "outputs": [],
   "source": []
  }
 ],
 "metadata": {
  "kernelspec": {
   "display_name": "Python 3",
   "language": "python",
   "name": "python3"
  },
  "language_info": {
   "codemirror_mode": {
    "name": "ipython",
    "version": 3
   },
   "file_extension": ".py",
   "mimetype": "text/x-python",
   "name": "python",
   "nbconvert_exporter": "python",
   "pygments_lexer": "ipython3",
   "version": "3.8.18"
  }
 },
 "nbformat": 4,
 "nbformat_minor": 2
}
