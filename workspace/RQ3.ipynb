{
 "cells": [
  {
   "cell_type": "markdown",
   "metadata": {},
   "source": [
    "### RQ 3\n",
    "#### Read in ARTS datasets"
   ]
  },
  {
   "cell_type": "code",
   "execution_count": null,
   "metadata": {},
   "outputs": [],
   "source": [
    "import pickle\n",
    "import pandas as pd\n",
    "import numpy as np\n",
    "import math\n",
    "from scipy import stats\n",
    "from matcher import get_mapping_of_LF_and_dims\n",
    "from sklearn.ensemble import GradientBoostingRegressor, RandomForestRegressor\n",
    "from sklearn.metrics import mean_squared_error, r2_score, max_error"
   ]
  },
  {
   "cell_type": "code",
   "execution_count": null,
   "metadata": {},
   "outputs": [],
   "source": [
    "def load_ARTS_data(dims):\n",
    "    data = pickle.load(open(f'/workspace/vectors/ARTS_' + str(dims) + '_vectors.pkl', \"rb\"))\n",
    "\n",
    "    return data[0], data[1], data[2]"
   ]
  },
  {
   "cell_type": "code",
   "execution_count": null,
   "metadata": {},
   "outputs": [],
   "source": [
    "arts94_X, arts94_scores, arts94_embeddings = load_ARTS_data(94)\n",
    "arts300_X, arts300_scores, arts300_embeddings = load_ARTS_data(300)\n",
    "arts3000_X, arts3000_scores, arts3000_embeddings = load_ARTS_data(3000)"
   ]
  },
  {
   "cell_type": "markdown",
   "metadata": {},
   "source": [
    "#### Prepare structures containing information on relation of parametrizations, interpretations, features, categories - we only require the information of dimensions to names and names to features"
   ]
  },
  {
   "cell_type": "code",
   "execution_count": null,
   "metadata": {},
   "outputs": [],
   "source": [
    "dims_to_names, name_to_dims_UNUSED, name_to_interpretation_UNUSED, name_to_category_UNUSED, name_to_feature = get_mapping_of_LF_and_dims()"
   ]
  },
  {
   "cell_type": "code",
   "execution_count": null,
   "metadata": {},
   "outputs": [],
   "source": [
    "names_to_comp_simp = {}\n",
    "\n",
    "df_cs = pd.DataFrame(arts3000_X)\n",
    "\n",
    "for dim in range(len(arts3000_X[0])):\n",
    "    cnts = df_cs[dim].value_counts()\n",
    "\n",
    "    name = dims_to_names[dim][0]\n",
    "\n",
    "    if 0 in cnts:\n",
    "        names_to_comp_simp[name] = 'simp'\n",
    "    else:\n",
    "        if 1 in cnts:\n",
    "            names_to_comp_simp[name] = 'complex'\n",
    "        else:\n",
    "            if 'NOT_SIMPLE' in name:\n",
    "                names_to_comp_simp[name] = 'complex'\n",
    "            else:\n",
    "                if 'SIMPLE' in name:\n",
    "                    names_to_comp_simp[name] = 'simp'\n",
    "                else:\n",
    "                    if 'label=1' in name:\n",
    "                        names_to_comp_simp[name] = 'complex'\n",
    "                    else:\n",
    "                        if 'label=0' in name:\n",
    "                            names_to_comp_simp[name] = 'simp'\n",
    "                        else:\n",
    "                            if dim == 228 or dim == 229 or dim == 230 or dim == 555 or dim == 556 or dim == 557 or dim == 558 or dim == 559 or dim == 560 or dim == 561 or dim == 562 or \\\n",
    "                                dim == 563 or dim == 564 or dim == 565 or dim == 566 or dim == 567 or dim == 568 or dim == 569 or dim == 570 or dim == 571 or dim == 571 or dim == 572 or \\\n",
    "                                dim == 573 or dim == 574 or dim == 990:\n",
    "                                names_to_comp_simp[name] = 'simp'\n",
    "                            else:\n",
    "                                if dim == 985 or dim == 991 or dim == 992 or dim == 993 or dim == 994 or dim == 995 or dim == 1001 or dim == 1002 or dim == 1004 or dim == 1005:\n",
    "                                    names_to_comp_simp[name] = 'complex'\n",
    "                                else:\n",
    "                                    print(dim)\n",
    "                                    print(name)\n",
    "\n",
    "cnt_feat = {}\n",
    "cnt_cat = {}\n",
    "\n",
    "comp_name_to_feature = {}\n",
    "simp_name_to_feature = {}\n",
    "\n",
    "for name in name_to_feature:\n",
    "    feat = name_to_feature[name]\n",
    "    if names_to_comp_simp[name] == 'simp':\n",
    "        simp_name_to_feature[name] = feat\n",
    "    else:\n",
    "        comp_name_to_feature[name] = feat\n"
   ]
  },
  {
   "cell_type": "markdown",
   "metadata": {},
   "source": [
    "#### Remap values in X so 1 indicates a characteristic has been encountered and 0 means abstain"
   ]
  },
  {
   "cell_type": "code",
   "execution_count": null,
   "metadata": {},
   "outputs": [],
   "source": [
    "def remap(ds):\n",
    "    arts_X_remapped = []\n",
    "\n",
    "    for entry in ds:\n",
    "        vals = []\n",
    "\n",
    "        for n in entry:\n",
    "            if n == 0: # simple\n",
    "                vals.append(1)\n",
    "            else:\n",
    "                if n == -1: # abstain \n",
    "                    vals.append(0)\n",
    "                else:\n",
    "                    if n == 1: # complex\n",
    "                        vals.append(1)\n",
    "\n",
    "        arts_X_remapped.append(vals)\n",
    "        \n",
    "    return arts_X_remapped"
   ]
  },
  {
   "cell_type": "code",
   "execution_count": null,
   "metadata": {},
   "outputs": [],
   "source": [
    "arts3000_X_remapped = remap(arts3000_X)\n",
    "arts300_X_remapped = remap(arts300_X)\n",
    "arts94_X_remapped = remap(arts94_X)"
   ]
  },
  {
   "cell_type": "markdown",
   "metadata": {},
   "source": [
    "#### Create structures containing summed up values for dimensions per representation"
   ]
  },
  {
   "cell_type": "code",
   "execution_count": null,
   "metadata": {},
   "outputs": [],
   "source": [
    "dim_to_name_simp = {}\n",
    "dim_to_name_comp = {}"
   ]
  },
  {
   "cell_type": "code",
   "execution_count": null,
   "metadata": {},
   "outputs": [],
   "source": [
    "def split_ds_by_sc(ds):\n",
    "    para_to_dim_simp = {}\n",
    "    para_to_dim_comp = {}\n",
    "\n",
    "    for i in range(len(ds[0])):\n",
    "        name = dims_to_names[i][0].strip()\n",
    "        sc = names_to_comp_simp[name]\n",
    "\n",
    "        if sc == 'simp':\n",
    "            if not name in para_to_dim_simp:\n",
    "                dim_to_name_simp[len(para_to_dim_simp)] = name\n",
    "                para_to_dim_simp[name] = len(para_to_dim_simp)\n",
    "        else: \n",
    "            if not name in para_to_dim_comp:\n",
    "                dim_to_name_comp[len(para_to_dim_comp)] = name\n",
    "                para_to_dim_comp[name] = len(para_to_dim_comp)\n",
    "\n",
    "    all_para_s = []\n",
    "    all_para_c = []\n",
    "\n",
    "    for i in range(len(ds)):\n",
    "        all_para_s.append([0] * len(simp_name_to_feature))\n",
    "        all_para_c.append([0] * len(comp_name_to_feature))\n",
    "\n",
    "    # fill structures\n",
    "    for i in range(len(ds)):\n",
    "        for j in range(len(ds[i])):\n",
    "            val = ds[i][j]\n",
    "            name = dims_to_names[j][0]\n",
    "            sc = names_to_comp_simp[name]\n",
    "\n",
    "            if sc == 'simp':\n",
    "                all_para_s[i][para_to_dim_simp[name]] = val\n",
    "            else:\n",
    "                all_para_c[i][para_to_dim_comp[name]] = val\n",
    "            \n",
    "    all_para_s = pd.DataFrame(all_para_s)\n",
    "    all_para_c = pd.DataFrame(all_para_c)\n",
    "\n",
    "    return all_para_s, all_para_c"
   ]
  },
  {
   "cell_type": "code",
   "execution_count": null,
   "metadata": {},
   "outputs": [],
   "source": [
    "all_para_s_94, all_para_c_94 = split_ds_by_sc(arts94_X_remapped)\n",
    "all_para_s_300, all_para_c_300 = split_ds_by_sc(arts300_X_remapped)\n",
    "all_para_s_3000, all_para_c_3000 = split_ds_by_sc(arts3000_X_remapped)"
   ]
  },
  {
   "cell_type": "markdown",
   "metadata": {},
   "source": [
    "#### Identify dimensions to be kept (based on \"high\" correlation of ARTS score and different dimensions from vector representation)"
   ]
  },
  {
   "cell_type": "code",
   "execution_count": null,
   "metadata": {},
   "outputs": [],
   "source": [
    "def calc_cors(arts_ds_s, arts_ds_c, scores_ds):\n",
    "        \n",
    "    final_cor_s = []\n",
    "\n",
    "    for i in arts_ds_s.columns:\n",
    "        cor = stats.pearsonr(arts_ds_s[i], scores_ds)[0]\n",
    "        if not math.isnan(cor):\n",
    "            final_cor_s.append((cor, i))\n",
    "        else:\n",
    "            final_cor_s.append((0, i))\n",
    "\n",
    "    final_cor_c = []\n",
    "\n",
    "    for i in arts_ds_c.columns:\n",
    "        cor = stats.pearsonr(arts_ds_c[i], scores_ds)[0]\n",
    "        if not math.isnan(cor):\n",
    "            final_cor_c.append((cor, i))\n",
    "        else:\n",
    "            final_cor_c.append((0, i))\n",
    "    \n",
    "    return final_cor_s, final_cor_c"
   ]
  },
  {
   "cell_type": "code",
   "execution_count": null,
   "metadata": {},
   "outputs": [],
   "source": [
    "final_cor_s_reduce_3000, final_cor_c_reduce_3000 = calc_cors(all_para_s_3000, all_para_c_3000, arts3000_scores)\n",
    "\n",
    "kept_names = []\n",
    "kept_names_s = []\n",
    "kept_dim_s = []\n",
    "\n",
    "for tuple in final_cor_s_reduce_3000:\n",
    "    if tuple[0] <= -0.25:\n",
    "        kept_dim_s.append(tuple[1])\n",
    "        kept_names_s.append(dim_to_name_simp[tuple[1]])\n",
    "        kept_names.append(dim_to_name_simp[tuple[1]])\n",
    "\n",
    "kept_names_c = []\n",
    "kept_dim_c = []\n",
    "\n",
    "for tuple in final_cor_c_reduce_3000:\n",
    "    if tuple[0] >= 0.25:\n",
    "        kept_dim_c.append(tuple[1])\n",
    "        kept_names_c.append(dim_to_name_comp[tuple[1]])\n",
    "        kept_names.append(dim_to_name_comp[tuple[1]])"
   ]
  },
  {
   "cell_type": "markdown",
   "metadata": {},
   "source": [
    "#### Generate BATS vectors of ARTS datasets (to only contain the kept dimensions) "
   ]
  },
  {
   "cell_type": "code",
   "execution_count": null,
   "metadata": {},
   "outputs": [],
   "source": [
    "def reduce_to_kept_dims(cur_s, cur_c):\n",
    "    kept = []\n",
    "    for i, r in cur_s.iterrows():\n",
    "        vars = []\n",
    "        for col in cur_s.columns:\n",
    "            if col in kept_dim_s:\n",
    "                vars.append(cur_s[col][i])\n",
    "        for col in cur_c.columns:\n",
    "            if col in kept_dim_c:\n",
    "                vars.append(cur_c[col][i])\n",
    "        kept.append(vars)\n",
    "    \n",
    "    return kept"
   ]
  },
  {
   "cell_type": "code",
   "execution_count": null,
   "metadata": {},
   "outputs": [],
   "source": [
    "kept_94 = reduce_to_kept_dims(all_para_s_94, all_para_c_94)\n",
    "kept_300 = reduce_to_kept_dims(all_para_s_300, all_para_c_300)\n",
    "kept_3000 = reduce_to_kept_dims(all_para_s_3000, all_para_c_3000)"
   ]
  },
  {
   "cell_type": "markdown",
   "metadata": {},
   "source": [
    "#### Regression"
   ]
  },
  {
   "cell_type": "code",
   "execution_count": null,
   "metadata": {},
   "outputs": [],
   "source": [
    "reg_gb = GradientBoostingRegressor(random_state=42)\n",
    "reg_rf = RandomForestRegressor(random_state=42)\n",
    "\n",
    "regs = {'reg_gb': reg_gb, 'reg_rf': reg_rf}"
   ]
  },
  {
   "cell_type": "code",
   "execution_count": null,
   "metadata": {},
   "outputs": [],
   "source": [
    "# settings\n",
    "training_dim = 3000\n",
    "pred_dim = 300\n",
    "vector = 'GPT' # 'BATS' or 'GPT'\n",
    "regressor = reg_gb # reg_gb OR reg_rf\n",
    "\n",
    "# train regressor\n",
    "if vector == 'BATS':\n",
    "    if training_dim == 94:\n",
    "        r = regressor.fit(kept_94, arts94_scores)\n",
    "    if training_dim == 300:\n",
    "        r = regressor.fit(kept_300, arts300_scores)\n",
    "    if training_dim == 3000:\n",
    "        r = regressor.fit(kept_3000, arts3000_scores)\n",
    "if vector == 'GPT':\n",
    "    if training_dim == 94:\n",
    "        r = regressor.fit(arts94_embeddings, arts94_scores)\n",
    "    if training_dim == 300:\n",
    "        r = regressor.fit(arts300_embeddings, arts300_scores)\n",
    "    if training_dim == 3000:\n",
    "        r = regressor.fit(arts3000_embeddings, arts3000_scores)"
   ]
  },
  {
   "cell_type": "code",
   "execution_count": null,
   "metadata": {},
   "outputs": [],
   "source": [
    "# predict scores\n",
    "if vector == 'BATS':\n",
    "    if pred_dim == 94:\n",
    "        pred = r.predict(kept_94)\n",
    "        comp = arts94_scores\n",
    "    if pred_dim == 300:\n",
    "        pred = r.predict(kept_300)\n",
    "        comp = arts300_scores\n",
    "    if pred_dim == 3000:\n",
    "        pred = r.predict(kept_3000)\n",
    "        comp = arts3000_scores\n",
    "if vector == 'GPT':\n",
    "    if pred_dim == 94:\n",
    "        pred = r.predict(arts94_embeddings)\n",
    "        comp = arts94_scores\n",
    "    if pred_dim == 300:\n",
    "        pred = r.predict(arts300_embeddings)\n",
    "        comp = arts300_scores\n",
    "    if pred_dim == 3000:\n",
    "        pred = r.predict(arts3000_embeddings)\n",
    "        comp = arts3000_scores\n",
    "\n",
    "# evaluation measures: MSE and R2\n",
    "print(round(mean_squared_error(comp, pred), 3))\n",
    "print(round(r2_score(comp, pred), 3))"
   ]
  }
 ],
 "metadata": {
  "kernelspec": {
   "display_name": "Python 3",
   "language": "python",
   "name": "python3"
  },
  "language_info": {
   "codemirror_mode": {
    "name": "ipython",
    "version": 3
   },
   "file_extension": ".py",
   "mimetype": "text/x-python",
   "name": "python",
   "nbconvert_exporter": "python",
   "pygments_lexer": "ipython3",
   "version": "3.8.18"
  }
 },
 "nbformat": 4,
 "nbformat_minor": 2
}
