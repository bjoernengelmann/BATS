{
 "cells": [
  {
   "cell_type": "code",
   "execution_count": null,
   "metadata": {},
   "outputs": [],
   "source": [
    "import pandas as pd\n",
    "from pruning_lfs import prune_lfs\n",
    "import re\n",
    "import pickle"
   ]
  },
  {
   "cell_type": "code",
   "execution_count": null,
   "metadata": {},
   "outputs": [],
   "source": [
    "manualLF2C = pd.read_excel(\"/workspace/datasets/manualLF2C.xlsx\")\n",
    "remaining_LFs = prune_lfs(CHOSEN_DS='eval')\n",
    "\n",
    "animals = [\"dog\", \"fish\", \"sheep\", \"bunny\", \"octopus\", \"roadrunner\", \"okapi\", \"anisakis\", \"bat\", \"leopard\" ]"
   ]
  },
  {
   "cell_type": "code",
   "execution_count": null,
   "metadata": {},
   "outputs": [],
   "source": [
    "thresless_LFs = {}\n",
    "\n",
    "for index, row in manualLF2C.iterrows():\n",
    "    curr_meth = row['Methode']\n",
    "    pts_left_brackets = curr_meth.split('{')\n",
    "\n",
    "    cryptic_name = pts_left_brackets[0]\n",
    "    for pt in pts_left_brackets:\n",
    "        pts_right_brackets = pt.split('}')\n",
    "\n",
    "        if len(pts_right_brackets) > 1:\n",
    "           cryptic_name = cryptic_name + 'XXX' + pts_right_brackets[1]\n",
    "    \n",
    "    thresless_LFs[cryptic_name] = curr_meth\n"
   ]
  },
  {
   "cell_type": "code",
   "execution_count": null,
   "metadata": {},
   "outputs": [],
   "source": [
    "remaining_to_thresless = {}\n",
    "clustered_to_cluster = {}\n",
    "\n",
    "for lf in remaining_LFs:\n",
    "    curr_lf = lf.name.replace('label=1', 'label=NOT_SIMPLE').replace('label=0', 'label=SIMPLE')\n",
    "\n",
    "    if 'label' not in curr_lf and 'SIMPLE' not in curr_lf:\n",
    "        if curr_lf[-2:] == '_1':\n",
    "            curr_lf = curr_lf[:-2] + '_NOT_SIMPLE'\n",
    "        if curr_lf[-2:] == '_0':\n",
    "            curr_lf = curr_lf[:-2] + '_SIMPLE'\n",
    "        \n",
    "    wo_percentage = re.sub('\\d+\\.\\d+', 'XXX', curr_lf)\n",
    "    curr_lf = re.sub('\\d+', 'XXX', wo_percentage)\n",
    "    \n",
    "    for to_exclude in animals:\n",
    "        curr_lf = curr_lf.replace('_' + to_exclude + '_', '_XXX_')\n",
    "\n",
    "    if 'perc_more_than_XXX_characters' in curr_lf:\n",
    "        curr_lf = curr_lf.replace('perc_more_than_XXX_characters', 'perc_more_than_8_characters')\n",
    "    \n",
    "    if curr_lf not in thresless_LFs.keys():\n",
    "        print(curr_lf)\n",
    "    \n",
    "    remaining_to_thresless[lf.name] = manualLF2C[manualLF2C['Methode'] == thresless_LFs[curr_lf]]['cluster'].values[0]\n",
    "    #remaining_to_thresless[lf.name] = thresless_LFs[curr_lf]"
   ]
  },
  {
   "cell_type": "code",
   "execution_count": null,
   "metadata": {},
   "outputs": [],
   "source": [
    "overview = {} # how often do we find a LF belonging to Structural, Lexical, Pragmatic, Syntactic\n",
    "labels_to_clusters = {}\n",
    "final_clustering_of_manual_LFs = {} # use this to compare to automatically clustered LFs\n",
    "\n",
    "for lf in remaining_to_thresless.keys():\n",
    "    if remaining_to_thresless[lf] in overview:\n",
    "        overview[remaining_to_thresless[lf]] = overview[remaining_to_thresless[lf]] + 1\n",
    "    else:\n",
    "        labels_to_clusters[remaining_to_thresless[lf]] = len(labels_to_clusters)\n",
    "        overview[remaining_to_thresless[lf]] = 1\n",
    "\n",
    "    final_clustering_of_manual_LFs[lf] = labels_to_clusters[remaining_to_thresless[lf]]"
   ]
  },
  {
   "cell_type": "code",
   "execution_count": null,
   "metadata": {},
   "outputs": [],
   "source": [
    "with open('/workspace/datasets/clustering_manual_LFs.pkl', 'wb') as f:\n",
    "        pickle.dump(final_clustering_of_manual_LFs, f)"
   ]
  },
  {
   "cell_type": "code",
   "execution_count": null,
   "metadata": {},
   "outputs": [],
   "source": [
    "with open('/workspace/datasets/clustering_manual_LFs_with_CLUSTERS.pkl', 'wb') as f:\n",
    "        pickle.dump(final_clustering_of_manual_LFs, f)"
   ]
  }
 ],
 "metadata": {
  "kernelspec": {
   "display_name": "Python 3",
   "language": "python",
   "name": "python3"
  },
  "language_info": {
   "codemirror_mode": {
    "name": "ipython",
    "version": 3
   },
   "file_extension": ".py",
   "mimetype": "text/x-python",
   "name": "python",
   "nbconvert_exporter": "python",
   "pygments_lexer": "ipython3",
   "version": "3.8.18"
  }
 },
 "nbformat": 4,
 "nbformat_minor": 2
}
