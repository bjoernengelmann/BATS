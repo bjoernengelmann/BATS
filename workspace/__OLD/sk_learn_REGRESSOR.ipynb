{
 "cells": [
  {
   "cell_type": "markdown",
   "metadata": {},
   "source": [
    "### Classifiers and Regressors"
   ]
  },
  {
   "cell_type": "markdown",
   "metadata": {},
   "source": [
    "#### Classifiers and Regressors help cells"
   ]
  },
  {
   "cell_type": "code",
   "execution_count": 1,
   "metadata": {},
   "outputs": [],
   "source": [
    "import pickle\n",
    "from sklearn.utils import shuffle\n",
    "from sklearn.model_selection import cross_val_score\n",
    "from sklearn.ensemble import GradientBoostingClassifier, RandomForestClassifier, GradientBoostingRegressor, RandomForestRegressor\n",
    "from sklearn.neural_network import MLPRegressor\n",
    "from sklearn.model_selection import KFold\n",
    "from sklearn.inspection import permutation_importance\n",
    "import numpy as np\n",
    "import pandas as pd"
   ]
  },
  {
   "cell_type": "code",
   "execution_count": 2,
   "metadata": {},
   "outputs": [],
   "source": [
    "# datasets: list of datasets or single dataset, depending on if multiple_datasets is set to True\n",
    "# make_categorical_data: transform numeric -1, 0, 1 data to categorical data, for each dimension 2 new ones, \n",
    "#       one with either SIMP/NOT_SIMP and one for ABSTAIN\n",
    "# use1249LFs: use the fully unpruned dataset\n",
    "def load_data(datasets, make_categorical_data, use1249LFs=False, multiple_datasets=False):\n",
    "    data_merged = []\n",
    "    labels = []\n",
    "\n",
    "    if not multiple_datasets:\n",
    "        datasets = [datasets]\n",
    "\n",
    "    for d_s in datasets:    \n",
    "        if use1249LFs:\n",
    "            simp_path = f\"/workspace/datasets/ds_labels/{d_s}-1249_simp_labels.pkl\"        \n",
    "            src_path = f\"/workspace/datasets/ds_labels/{d_s}-1249_src_labels.pkl\"  \n",
    "        else:\n",
    "            simp_path = f\"/workspace/datasets/ds_labels/{d_s}_simp_labels.pkl\"        \n",
    "            src_path = f\"/workspace/datasets/ds_labels/{d_s}_src_labels.pkl\"  \n",
    "\n",
    "        simp_labels = pickle.load(open(simp_path, \"rb\"))\n",
    "        src_labels = pickle.load(open(src_path, \"rb\")) \n",
    "\n",
    "        for entry in simp_labels:\n",
    "            data_merged.append([number for number in entry.tolist()])\n",
    "\n",
    "        for entry in src_labels:\n",
    "            data_merged.append([number for number in entry.tolist()])\n",
    "\n",
    "        curr_lab = [0] * len(simp_labels) + [1] * len(simp_labels)\n",
    "        labels = labels + curr_lab\n",
    "\n",
    "    # load textual data\n",
    "    textual_dataset = pd.read_pickle('/workspace/datasets/' + d_s + '/' + d_s + '.pkl')\n",
    "    \n",
    "    dups_simp = textual_dataset['simp'].duplicated()\n",
    "    dups_src = textual_dataset['src'].duplicated()\n",
    "\n",
    "    num_left_simp = len(dups_simp) - sum(dups_simp)\n",
    "    num_left_src= len(dups_src) - sum(dups_src)\n",
    "    \n",
    "    num_left = min(num_left_simp, num_left_src)\n",
    "\n",
    "\n",
    "    data_merged_simp_dedup = []\n",
    "    data_merged_src_dedup = []\n",
    "\n",
    "    labels_dedup = []\n",
    "\n",
    "    for index, val in dups_simp.items():\n",
    "        if val == False:\n",
    "            data_merged_simp_dedup.append(data_merged[index])\n",
    "\n",
    "    data_merged_simp_dedup = shuffle(data_merged_simp_dedup, random_state=42)[:num_left]\n",
    "\n",
    "    for index, val in dups_src.items():\n",
    "        if val == False:\n",
    "            data_merged_src_dedup.append(data_merged[len(dups_src) + index])\n",
    "\n",
    "    data_merged_src_dedup = shuffle(data_merged_src_dedup, random_state=42)[:num_left]\n",
    "\n",
    "    labels_dedup = [0] * num_left + [1] * num_left\n",
    "\n",
    "    X, y = shuffle(data_merged_simp_dedup + data_merged_src_dedup, labels_dedup, random_state=42)\n",
    "\n",
    "    return X, y"
   ]
  },
  {
   "cell_type": "code",
   "execution_count": 3,
   "metadata": {},
   "outputs": [],
   "source": [
    "def load_ARTS_data(dims):\n",
    "    X = []\n",
    "    y = []\n",
    "\n",
    "    if dims == 94:\n",
    "        path_X = f\"/workspace/datasets/ds_labels/arts94-1249_labels.pkl\"        \n",
    "        path_y = f\"/workspace/datasets/ds_labels/Gold_Scores.pkl\"        \n",
    "    if dims == 300:\n",
    "        path_X = f\"/workspace/datasets/ds_labels/arts300-1249_labels.pkl\"        \n",
    "        path_y = f\"/workspace/datasets/ds_labels/gpt300_Scores.pkl\"        \n",
    "\n",
    "    X_labels = pickle.load(open(path_X, \"rb\"))\n",
    "    y_labels = pickle.load(open(path_y, \"rb\"))\n",
    "\n",
    "    for entry in X_labels:\n",
    "        X.append([number for number in entry.tolist()])\n",
    "    \n",
    "    for i in range(len(X)):\n",
    "        y.append(y_labels[i][0])\n",
    "\n",
    "    return X, y"
   ]
  },
  {
   "cell_type": "code",
   "execution_count": 4,
   "metadata": {},
   "outputs": [],
   "source": [
    "import random"
   ]
  },
  {
   "cell_type": "code",
   "execution_count": 9,
   "metadata": {},
   "outputs": [],
   "source": [
    "# datasets: list of datasets or single dataset, depending on if multiple_datasets is set to True\n",
    "# make_categorical_data: transform numeric -1, 0, 1 data to categorical data, for each dimension 2 new ones, \n",
    "#       one with either SIMP/NOT_SIMP and one for ABSTAIN\n",
    "# use1249LFs: use the fully unpruned dataset\n",
    "def load_200_data(datasets, make_categorical_data, use1249LFs=False, multiple_datasets=False):\n",
    "    if not multiple_datasets:\n",
    "        datasets = [datasets]\n",
    "\n",
    "    data_merged_dedup = []\n",
    "    labels_dedup = []\n",
    "\n",
    "\n",
    "    for d_s in datasets:    \n",
    "        data_merged_simp_dedup = []\n",
    "        data_merged_src_dedup = []\n",
    "\n",
    "        data_merged_simp = []\n",
    "        data_merged_src = []\n",
    "        \n",
    "        if use1249LFs:\n",
    "            simp_path = f\"/workspace/datasets/ds_labels/{d_s}-1249_simp_labels.pkl\"        \n",
    "            src_path = f\"/workspace/datasets/ds_labels/{d_s}-1249_src_labels.pkl\"  \n",
    "        else:\n",
    "            simp_path = f\"/workspace/datasets/ds_labels/{d_s}_simp_labels.pkl\"        \n",
    "            src_path = f\"/workspace/datasets/ds_labels/{d_s}_src_labels.pkl\"  \n",
    "\n",
    "        random.seed(42)\n",
    "        simp_labels = pickle.load(open(simp_path, \"rb\"))\n",
    "        src_labels = pickle.load(open(src_path, \"rb\"))\n",
    "\n",
    "        for entry in simp_labels:\n",
    "            data_merged_simp.append([number for number in entry.tolist()])\n",
    "\n",
    "        for entry in src_labels:\n",
    "            data_merged_src.append([number for number in entry.tolist()])\n",
    "\n",
    "        labels_dedup += [0] * 200 + [1] * 200\n",
    "\n",
    "        # load textual data\n",
    "        textual_dataset = pd.read_pickle('/workspace/datasets/' + d_s + '/' + d_s + '.pkl')\n",
    "        \n",
    "        dups_simp = textual_dataset['simp'].duplicated()\n",
    "        dups_src = textual_dataset['src'].duplicated()\n",
    "\n",
    "        for index, val in dups_simp.items():\n",
    "            if val == False:\n",
    "                data_merged_simp_dedup.append(data_merged_simp[index])\n",
    "\n",
    "        for index, val in dups_src.items():\n",
    "            if val == False:\n",
    "                data_merged_src_dedup.append(data_merged_src[index])\n",
    "\n",
    "        data_merged_dedup += shuffle(data_merged_simp_dedup, random_state=42)[:200] + shuffle(data_merged_src_dedup, random_state=42)[:200]\n",
    "\n",
    "    X, y = shuffle(data_merged_dedup, labels_dedup, random_state=42)\n",
    "\n",
    "    return X, y"
   ]
  },
  {
   "cell_type": "code",
   "execution_count": 10,
   "metadata": {},
   "outputs": [],
   "source": [
    "clf_gb = GradientBoostingClassifier(random_state=42)\n",
    "clf_rf = RandomForestClassifier(random_state=42)\n",
    "\n",
    "clfs = {'gb': clf_gb, 'rf': clf_rf}\n",
    "\n",
    "reg_gb = GradientBoostingRegressor(random_state=42)\n",
    "reg_rf = RandomForestRegressor(random_state=42)\n",
    "reg_mlp = MLPRegressor(random_state=42)\n",
    "\n",
    "#regs = {'reg_gb': reg_gb, 'reg_rf': reg_rf, 'reg_mlp': reg_mlp}\n",
    "regs = {'reg_rf': reg_rf}"
   ]
  },
  {
   "cell_type": "code",
   "execution_count": 11,
   "metadata": {},
   "outputs": [],
   "source": [
    "from sklearn.metrics import make_scorer\n",
    "from sklearn.metrics import accuracy_score"
   ]
  },
  {
   "cell_type": "code",
   "execution_count": 23,
   "metadata": {},
   "outputs": [],
   "source": [
    "def reg_scoring(y_true, y_pred):\n",
    "    thres_y_pred = np.floor(y_pred + (1-0.5812))\n",
    "\n",
    "    # Calculate the mean of the true values\n",
    "    #mean_y_true = np.mean(y_true)\n",
    " \n",
    "    # Calculate the sum of squares of residuals and total sum of squares\n",
    "    #ss_res = np.sum((y_true - thres_y_pred) ** 2)\n",
    "    #ss_tot = np.sum((y_true - mean_y_true) ** 2)\n",
    " \n",
    "    # Calculate R²\n",
    "    #r2 = 1 - (ss_res / ss_tot)\n",
    " \n",
    "    ac = accuracy_score(y_true, thres_y_pred)\n",
    "\n",
    "    return ac\n",
    "\n",
    "def run_reg(run, X, y, run_type, n=10):\n",
    "    if run:\n",
    "        reg_score = make_scorer(reg_scoring)\n",
    "\n",
    "        output = ''\n",
    "        kfold = KFold(n_splits=n, shuffle=True, random_state=42)\n",
    "        for clf in regs:\n",
    "            #cv_scores = cross_val_score(regs[clf], X, y, cv=kfold, scoring='neg_mean_absolute_error')\n",
    "\n",
    "            cv_scores = cross_val_score(regs[clf], X, y, cv=kfold, scoring=reg_score)\n",
    "\n",
    "            output += clf + ' (' + run_type + ') : '\n",
    "            output += str(sum(cv_scores)/len(cv_scores)) + '\\n'\n",
    "            output += str(cv_scores) + '\\n___\\n'\n",
    "        return output, sum(cv_scores)/len(cv_scores)\n",
    "    return '', 0"
   ]
  },
  {
   "cell_type": "markdown",
   "metadata": {},
   "source": [
    "#### Classifiers and Regressors run"
   ]
  },
  {
   "cell_type": "code",
   "execution_count": 13,
   "metadata": {},
   "outputs": [],
   "source": [
    "from sklearn.model_selection import cross_val_predict\n"
   ]
  },
  {
   "cell_type": "code",
   "execution_count": 30,
   "metadata": {},
   "outputs": [
    {
     "name": "stdout",
     "output_type": "stream",
     "text": [
      "13200\n"
     ]
    },
    {
     "ename": "KeyboardInterrupt",
     "evalue": "",
     "output_type": "error",
     "traceback": [
      "\u001b[0;31m---------------------------------------------------------------------------\u001b[0m",
      "\u001b[0;31mKeyboardInterrupt\u001b[0m                         Traceback (most recent call last)",
      "Cell \u001b[0;32mIn[30], line 35\u001b[0m\n\u001b[1;32m     32\u001b[0m     \u001b[38;5;28;01melse\u001b[39;00m:\n\u001b[1;32m     33\u001b[0m         \u001b[38;5;28mprint\u001b[39m(run_reg(\u001b[38;5;28;01mTrue\u001b[39;00m, X, y, \u001b[38;5;124m'\u001b[39m\u001b[38;5;124mvanilla\u001b[39m\u001b[38;5;124m'\u001b[39m \u001b[38;5;241m+\u001b[39m KAT, n)[\u001b[38;5;241m0\u001b[39m])\n\u001b[0;32m---> 35\u001b[0m \u001b[43mrun\u001b[49m\u001b[43m(\u001b[49m\u001b[43m)\u001b[49m\n",
      "Cell \u001b[0;32mIn[30], line 33\u001b[0m, in \u001b[0;36mrun\u001b[0;34m()\u001b[0m\n\u001b[1;32m     30\u001b[0m     \u001b[38;5;28mprint\u001b[39m(cntc\u001b[38;5;241m/\u001b[39m(\u001b[38;5;28mlen\u001b[39m(scores)\u001b[38;5;241m/\u001b[39m\u001b[38;5;241m2\u001b[39m))\n\u001b[1;32m     32\u001b[0m \u001b[38;5;28;01melse\u001b[39;00m:\n\u001b[0;32m---> 33\u001b[0m     \u001b[38;5;28mprint\u001b[39m(\u001b[43mrun_reg\u001b[49m\u001b[43m(\u001b[49m\u001b[38;5;28;43;01mTrue\u001b[39;49;00m\u001b[43m,\u001b[49m\u001b[43m \u001b[49m\u001b[43mX\u001b[49m\u001b[43m,\u001b[49m\u001b[43m \u001b[49m\u001b[43my\u001b[49m\u001b[43m,\u001b[49m\u001b[43m \u001b[49m\u001b[38;5;124;43m'\u001b[39;49m\u001b[38;5;124;43mvanilla\u001b[39;49m\u001b[38;5;124;43m'\u001b[39;49m\u001b[43m \u001b[49m\u001b[38;5;241;43m+\u001b[39;49m\u001b[43m \u001b[49m\u001b[43mKAT\u001b[49m\u001b[43m,\u001b[49m\u001b[43m \u001b[49m\u001b[43mn\u001b[49m\u001b[43m)\u001b[49m[\u001b[38;5;241m0\u001b[39m])\n",
      "Cell \u001b[0;32mIn[23], line 27\u001b[0m, in \u001b[0;36mrun_reg\u001b[0;34m(run, X, y, run_type, n)\u001b[0m\n\u001b[1;32m     23\u001b[0m kfold \u001b[38;5;241m=\u001b[39m KFold(n_splits\u001b[38;5;241m=\u001b[39mn, shuffle\u001b[38;5;241m=\u001b[39m\u001b[38;5;28;01mTrue\u001b[39;00m, random_state\u001b[38;5;241m=\u001b[39m\u001b[38;5;241m42\u001b[39m)\n\u001b[1;32m     24\u001b[0m \u001b[38;5;28;01mfor\u001b[39;00m clf \u001b[38;5;129;01min\u001b[39;00m regs:\n\u001b[1;32m     25\u001b[0m     \u001b[38;5;66;03m#cv_scores = cross_val_score(regs[clf], X, y, cv=kfold, scoring='neg_mean_absolute_error')\u001b[39;00m\n\u001b[0;32m---> 27\u001b[0m     cv_scores \u001b[38;5;241m=\u001b[39m \u001b[43mcross_val_score\u001b[49m\u001b[43m(\u001b[49m\u001b[43mregs\u001b[49m\u001b[43m[\u001b[49m\u001b[43mclf\u001b[49m\u001b[43m]\u001b[49m\u001b[43m,\u001b[49m\u001b[43m \u001b[49m\u001b[43mX\u001b[49m\u001b[43m,\u001b[49m\u001b[43m \u001b[49m\u001b[43my\u001b[49m\u001b[43m,\u001b[49m\u001b[43m \u001b[49m\u001b[43mcv\u001b[49m\u001b[38;5;241;43m=\u001b[39;49m\u001b[43mkfold\u001b[49m\u001b[43m,\u001b[49m\u001b[43m \u001b[49m\u001b[43mscoring\u001b[49m\u001b[38;5;241;43m=\u001b[39;49m\u001b[43mreg_score\u001b[49m\u001b[43m)\u001b[49m\n\u001b[1;32m     29\u001b[0m     output \u001b[38;5;241m+\u001b[39m\u001b[38;5;241m=\u001b[39m clf \u001b[38;5;241m+\u001b[39m \u001b[38;5;124m'\u001b[39m\u001b[38;5;124m (\u001b[39m\u001b[38;5;124m'\u001b[39m \u001b[38;5;241m+\u001b[39m run_type \u001b[38;5;241m+\u001b[39m \u001b[38;5;124m'\u001b[39m\u001b[38;5;124m) : \u001b[39m\u001b[38;5;124m'\u001b[39m\n\u001b[1;32m     30\u001b[0m     output \u001b[38;5;241m+\u001b[39m\u001b[38;5;241m=\u001b[39m \u001b[38;5;28mstr\u001b[39m(\u001b[38;5;28msum\u001b[39m(cv_scores)\u001b[38;5;241m/\u001b[39m\u001b[38;5;28mlen\u001b[39m(cv_scores)) \u001b[38;5;241m+\u001b[39m \u001b[38;5;124m'\u001b[39m\u001b[38;5;130;01m\\n\u001b[39;00m\u001b[38;5;124m'\u001b[39m\n",
      "File \u001b[0;32m/usr/local/lib/python3.8/site-packages/sklearn/model_selection/_validation.py:562\u001b[0m, in \u001b[0;36mcross_val_score\u001b[0;34m(estimator, X, y, groups, scoring, cv, n_jobs, verbose, fit_params, pre_dispatch, error_score)\u001b[0m\n\u001b[1;32m    559\u001b[0m \u001b[38;5;66;03m# To ensure multimetric format is not supported\u001b[39;00m\n\u001b[1;32m    560\u001b[0m scorer \u001b[38;5;241m=\u001b[39m check_scoring(estimator, scoring\u001b[38;5;241m=\u001b[39mscoring)\n\u001b[0;32m--> 562\u001b[0m cv_results \u001b[38;5;241m=\u001b[39m \u001b[43mcross_validate\u001b[49m\u001b[43m(\u001b[49m\n\u001b[1;32m    563\u001b[0m \u001b[43m    \u001b[49m\u001b[43mestimator\u001b[49m\u001b[38;5;241;43m=\u001b[39;49m\u001b[43mestimator\u001b[49m\u001b[43m,\u001b[49m\n\u001b[1;32m    564\u001b[0m \u001b[43m    \u001b[49m\u001b[43mX\u001b[49m\u001b[38;5;241;43m=\u001b[39;49m\u001b[43mX\u001b[49m\u001b[43m,\u001b[49m\n\u001b[1;32m    565\u001b[0m \u001b[43m    \u001b[49m\u001b[43my\u001b[49m\u001b[38;5;241;43m=\u001b[39;49m\u001b[43my\u001b[49m\u001b[43m,\u001b[49m\n\u001b[1;32m    566\u001b[0m \u001b[43m    \u001b[49m\u001b[43mgroups\u001b[49m\u001b[38;5;241;43m=\u001b[39;49m\u001b[43mgroups\u001b[49m\u001b[43m,\u001b[49m\n\u001b[1;32m    567\u001b[0m \u001b[43m    \u001b[49m\u001b[43mscoring\u001b[49m\u001b[38;5;241;43m=\u001b[39;49m\u001b[43m{\u001b[49m\u001b[38;5;124;43m\"\u001b[39;49m\u001b[38;5;124;43mscore\u001b[39;49m\u001b[38;5;124;43m\"\u001b[39;49m\u001b[43m:\u001b[49m\u001b[43m \u001b[49m\u001b[43mscorer\u001b[49m\u001b[43m}\u001b[49m\u001b[43m,\u001b[49m\n\u001b[1;32m    568\u001b[0m \u001b[43m    \u001b[49m\u001b[43mcv\u001b[49m\u001b[38;5;241;43m=\u001b[39;49m\u001b[43mcv\u001b[49m\u001b[43m,\u001b[49m\n\u001b[1;32m    569\u001b[0m \u001b[43m    \u001b[49m\u001b[43mn_jobs\u001b[49m\u001b[38;5;241;43m=\u001b[39;49m\u001b[43mn_jobs\u001b[49m\u001b[43m,\u001b[49m\n\u001b[1;32m    570\u001b[0m \u001b[43m    \u001b[49m\u001b[43mverbose\u001b[49m\u001b[38;5;241;43m=\u001b[39;49m\u001b[43mverbose\u001b[49m\u001b[43m,\u001b[49m\n\u001b[1;32m    571\u001b[0m \u001b[43m    \u001b[49m\u001b[43mfit_params\u001b[49m\u001b[38;5;241;43m=\u001b[39;49m\u001b[43mfit_params\u001b[49m\u001b[43m,\u001b[49m\n\u001b[1;32m    572\u001b[0m \u001b[43m    \u001b[49m\u001b[43mpre_dispatch\u001b[49m\u001b[38;5;241;43m=\u001b[39;49m\u001b[43mpre_dispatch\u001b[49m\u001b[43m,\u001b[49m\n\u001b[1;32m    573\u001b[0m \u001b[43m    \u001b[49m\u001b[43merror_score\u001b[49m\u001b[38;5;241;43m=\u001b[39;49m\u001b[43merror_score\u001b[49m\u001b[43m,\u001b[49m\n\u001b[1;32m    574\u001b[0m \u001b[43m\u001b[49m\u001b[43m)\u001b[49m\n\u001b[1;32m    575\u001b[0m \u001b[38;5;28;01mreturn\u001b[39;00m cv_results[\u001b[38;5;124m\"\u001b[39m\u001b[38;5;124mtest_score\u001b[39m\u001b[38;5;124m\"\u001b[39m]\n",
      "File \u001b[0;32m/usr/local/lib/python3.8/site-packages/sklearn/utils/_param_validation.py:214\u001b[0m, in \u001b[0;36mvalidate_params.<locals>.decorator.<locals>.wrapper\u001b[0;34m(*args, **kwargs)\u001b[0m\n\u001b[1;32m    208\u001b[0m \u001b[38;5;28;01mtry\u001b[39;00m:\n\u001b[1;32m    209\u001b[0m     \u001b[38;5;28;01mwith\u001b[39;00m config_context(\n\u001b[1;32m    210\u001b[0m         skip_parameter_validation\u001b[38;5;241m=\u001b[39m(\n\u001b[1;32m    211\u001b[0m             prefer_skip_nested_validation \u001b[38;5;129;01mor\u001b[39;00m global_skip_validation\n\u001b[1;32m    212\u001b[0m         )\n\u001b[1;32m    213\u001b[0m     ):\n\u001b[0;32m--> 214\u001b[0m         \u001b[38;5;28;01mreturn\u001b[39;00m \u001b[43mfunc\u001b[49m\u001b[43m(\u001b[49m\u001b[38;5;241;43m*\u001b[39;49m\u001b[43margs\u001b[49m\u001b[43m,\u001b[49m\u001b[43m \u001b[49m\u001b[38;5;241;43m*\u001b[39;49m\u001b[38;5;241;43m*\u001b[39;49m\u001b[43mkwargs\u001b[49m\u001b[43m)\u001b[49m\n\u001b[1;32m    215\u001b[0m \u001b[38;5;28;01mexcept\u001b[39;00m InvalidParameterError \u001b[38;5;28;01mas\u001b[39;00m e:\n\u001b[1;32m    216\u001b[0m     \u001b[38;5;66;03m# When the function is just a wrapper around an estimator, we allow\u001b[39;00m\n\u001b[1;32m    217\u001b[0m     \u001b[38;5;66;03m# the function to delegate validation to the estimator, but we replace\u001b[39;00m\n\u001b[1;32m    218\u001b[0m     \u001b[38;5;66;03m# the name of the estimator by the name of the function in the error\u001b[39;00m\n\u001b[1;32m    219\u001b[0m     \u001b[38;5;66;03m# message to avoid confusion.\u001b[39;00m\n\u001b[1;32m    220\u001b[0m     msg \u001b[38;5;241m=\u001b[39m re\u001b[38;5;241m.\u001b[39msub(\n\u001b[1;32m    221\u001b[0m         \u001b[38;5;124mr\u001b[39m\u001b[38;5;124m\"\u001b[39m\u001b[38;5;124mparameter of \u001b[39m\u001b[38;5;124m\\\u001b[39m\u001b[38;5;124mw+ must be\u001b[39m\u001b[38;5;124m\"\u001b[39m,\n\u001b[1;32m    222\u001b[0m         \u001b[38;5;124mf\u001b[39m\u001b[38;5;124m\"\u001b[39m\u001b[38;5;124mparameter of \u001b[39m\u001b[38;5;132;01m{\u001b[39;00mfunc\u001b[38;5;241m.\u001b[39m\u001b[38;5;18m__qualname__\u001b[39m\u001b[38;5;132;01m}\u001b[39;00m\u001b[38;5;124m must be\u001b[39m\u001b[38;5;124m\"\u001b[39m,\n\u001b[1;32m    223\u001b[0m         \u001b[38;5;28mstr\u001b[39m(e),\n\u001b[1;32m    224\u001b[0m     )\n",
      "File \u001b[0;32m/usr/local/lib/python3.8/site-packages/sklearn/model_selection/_validation.py:309\u001b[0m, in \u001b[0;36mcross_validate\u001b[0;34m(estimator, X, y, groups, scoring, cv, n_jobs, verbose, fit_params, pre_dispatch, return_train_score, return_estimator, return_indices, error_score)\u001b[0m\n\u001b[1;32m    306\u001b[0m \u001b[38;5;66;03m# We clone the estimator to make sure that all the folds are\u001b[39;00m\n\u001b[1;32m    307\u001b[0m \u001b[38;5;66;03m# independent, and that it is pickle-able.\u001b[39;00m\n\u001b[1;32m    308\u001b[0m parallel \u001b[38;5;241m=\u001b[39m Parallel(n_jobs\u001b[38;5;241m=\u001b[39mn_jobs, verbose\u001b[38;5;241m=\u001b[39mverbose, pre_dispatch\u001b[38;5;241m=\u001b[39mpre_dispatch)\n\u001b[0;32m--> 309\u001b[0m results \u001b[38;5;241m=\u001b[39m \u001b[43mparallel\u001b[49m\u001b[43m(\u001b[49m\n\u001b[1;32m    310\u001b[0m \u001b[43m    \u001b[49m\u001b[43mdelayed\u001b[49m\u001b[43m(\u001b[49m\u001b[43m_fit_and_score\u001b[49m\u001b[43m)\u001b[49m\u001b[43m(\u001b[49m\n\u001b[1;32m    311\u001b[0m \u001b[43m        \u001b[49m\u001b[43mclone\u001b[49m\u001b[43m(\u001b[49m\u001b[43mestimator\u001b[49m\u001b[43m)\u001b[49m\u001b[43m,\u001b[49m\n\u001b[1;32m    312\u001b[0m \u001b[43m        \u001b[49m\u001b[43mX\u001b[49m\u001b[43m,\u001b[49m\n\u001b[1;32m    313\u001b[0m \u001b[43m        \u001b[49m\u001b[43my\u001b[49m\u001b[43m,\u001b[49m\n\u001b[1;32m    314\u001b[0m \u001b[43m        \u001b[49m\u001b[43mscorers\u001b[49m\u001b[43m,\u001b[49m\n\u001b[1;32m    315\u001b[0m \u001b[43m        \u001b[49m\u001b[43mtrain\u001b[49m\u001b[43m,\u001b[49m\n\u001b[1;32m    316\u001b[0m \u001b[43m        \u001b[49m\u001b[43mtest\u001b[49m\u001b[43m,\u001b[49m\n\u001b[1;32m    317\u001b[0m \u001b[43m        \u001b[49m\u001b[43mverbose\u001b[49m\u001b[43m,\u001b[49m\n\u001b[1;32m    318\u001b[0m \u001b[43m        \u001b[49m\u001b[38;5;28;43;01mNone\u001b[39;49;00m\u001b[43m,\u001b[49m\n\u001b[1;32m    319\u001b[0m \u001b[43m        \u001b[49m\u001b[43mfit_params\u001b[49m\u001b[43m,\u001b[49m\n\u001b[1;32m    320\u001b[0m \u001b[43m        \u001b[49m\u001b[43mreturn_train_score\u001b[49m\u001b[38;5;241;43m=\u001b[39;49m\u001b[43mreturn_train_score\u001b[49m\u001b[43m,\u001b[49m\n\u001b[1;32m    321\u001b[0m \u001b[43m        \u001b[49m\u001b[43mreturn_times\u001b[49m\u001b[38;5;241;43m=\u001b[39;49m\u001b[38;5;28;43;01mTrue\u001b[39;49;00m\u001b[43m,\u001b[49m\n\u001b[1;32m    322\u001b[0m \u001b[43m        \u001b[49m\u001b[43mreturn_estimator\u001b[49m\u001b[38;5;241;43m=\u001b[39;49m\u001b[43mreturn_estimator\u001b[49m\u001b[43m,\u001b[49m\n\u001b[1;32m    323\u001b[0m \u001b[43m        \u001b[49m\u001b[43merror_score\u001b[49m\u001b[38;5;241;43m=\u001b[39;49m\u001b[43merror_score\u001b[49m\u001b[43m,\u001b[49m\n\u001b[1;32m    324\u001b[0m \u001b[43m    \u001b[49m\u001b[43m)\u001b[49m\n\u001b[1;32m    325\u001b[0m \u001b[43m    \u001b[49m\u001b[38;5;28;43;01mfor\u001b[39;49;00m\u001b[43m \u001b[49m\u001b[43mtrain\u001b[49m\u001b[43m,\u001b[49m\u001b[43m \u001b[49m\u001b[43mtest\u001b[49m\u001b[43m \u001b[49m\u001b[38;5;129;43;01min\u001b[39;49;00m\u001b[43m \u001b[49m\u001b[43mindices\u001b[49m\n\u001b[1;32m    326\u001b[0m \u001b[43m\u001b[49m\u001b[43m)\u001b[49m\n\u001b[1;32m    328\u001b[0m _warn_or_raise_about_fit_failures(results, error_score)\n\u001b[1;32m    330\u001b[0m \u001b[38;5;66;03m# For callable scoring, the return type is only know after calling. If the\u001b[39;00m\n\u001b[1;32m    331\u001b[0m \u001b[38;5;66;03m# return type is a dictionary, the error scores can now be inserted with\u001b[39;00m\n\u001b[1;32m    332\u001b[0m \u001b[38;5;66;03m# the correct key.\u001b[39;00m\n",
      "File \u001b[0;32m/usr/local/lib/python3.8/site-packages/sklearn/utils/parallel.py:65\u001b[0m, in \u001b[0;36mParallel.__call__\u001b[0;34m(self, iterable)\u001b[0m\n\u001b[1;32m     60\u001b[0m config \u001b[38;5;241m=\u001b[39m get_config()\n\u001b[1;32m     61\u001b[0m iterable_with_config \u001b[38;5;241m=\u001b[39m (\n\u001b[1;32m     62\u001b[0m     (_with_config(delayed_func, config), args, kwargs)\n\u001b[1;32m     63\u001b[0m     \u001b[38;5;28;01mfor\u001b[39;00m delayed_func, args, kwargs \u001b[38;5;129;01min\u001b[39;00m iterable\n\u001b[1;32m     64\u001b[0m )\n\u001b[0;32m---> 65\u001b[0m \u001b[38;5;28;01mreturn\u001b[39;00m \u001b[38;5;28;43msuper\u001b[39;49m\u001b[43m(\u001b[49m\u001b[43m)\u001b[49m\u001b[38;5;241;43m.\u001b[39;49m\u001b[38;5;21;43m__call__\u001b[39;49m\u001b[43m(\u001b[49m\u001b[43miterable_with_config\u001b[49m\u001b[43m)\u001b[49m\n",
      "File \u001b[0;32m/usr/local/lib/python3.8/site-packages/joblib/parallel.py:1863\u001b[0m, in \u001b[0;36mParallel.__call__\u001b[0;34m(self, iterable)\u001b[0m\n\u001b[1;32m   1861\u001b[0m     output \u001b[38;5;241m=\u001b[39m \u001b[38;5;28mself\u001b[39m\u001b[38;5;241m.\u001b[39m_get_sequential_output(iterable)\n\u001b[1;32m   1862\u001b[0m     \u001b[38;5;28mnext\u001b[39m(output)\n\u001b[0;32m-> 1863\u001b[0m     \u001b[38;5;28;01mreturn\u001b[39;00m output \u001b[38;5;28;01mif\u001b[39;00m \u001b[38;5;28mself\u001b[39m\u001b[38;5;241m.\u001b[39mreturn_generator \u001b[38;5;28;01melse\u001b[39;00m \u001b[38;5;28;43mlist\u001b[39;49m\u001b[43m(\u001b[49m\u001b[43moutput\u001b[49m\u001b[43m)\u001b[49m\n\u001b[1;32m   1865\u001b[0m \u001b[38;5;66;03m# Let's create an ID that uniquely identifies the current call. If the\u001b[39;00m\n\u001b[1;32m   1866\u001b[0m \u001b[38;5;66;03m# call is interrupted early and that the same instance is immediately\u001b[39;00m\n\u001b[1;32m   1867\u001b[0m \u001b[38;5;66;03m# re-used, this id will be used to prevent workers that were\u001b[39;00m\n\u001b[1;32m   1868\u001b[0m \u001b[38;5;66;03m# concurrently finalizing a task from the previous call to run the\u001b[39;00m\n\u001b[1;32m   1869\u001b[0m \u001b[38;5;66;03m# callback.\u001b[39;00m\n\u001b[1;32m   1870\u001b[0m \u001b[38;5;28;01mwith\u001b[39;00m \u001b[38;5;28mself\u001b[39m\u001b[38;5;241m.\u001b[39m_lock:\n",
      "File \u001b[0;32m/usr/local/lib/python3.8/site-packages/joblib/parallel.py:1792\u001b[0m, in \u001b[0;36mParallel._get_sequential_output\u001b[0;34m(self, iterable)\u001b[0m\n\u001b[1;32m   1790\u001b[0m \u001b[38;5;28mself\u001b[39m\u001b[38;5;241m.\u001b[39mn_dispatched_batches \u001b[38;5;241m+\u001b[39m\u001b[38;5;241m=\u001b[39m \u001b[38;5;241m1\u001b[39m\n\u001b[1;32m   1791\u001b[0m \u001b[38;5;28mself\u001b[39m\u001b[38;5;241m.\u001b[39mn_dispatched_tasks \u001b[38;5;241m+\u001b[39m\u001b[38;5;241m=\u001b[39m \u001b[38;5;241m1\u001b[39m\n\u001b[0;32m-> 1792\u001b[0m res \u001b[38;5;241m=\u001b[39m \u001b[43mfunc\u001b[49m\u001b[43m(\u001b[49m\u001b[38;5;241;43m*\u001b[39;49m\u001b[43margs\u001b[49m\u001b[43m,\u001b[49m\u001b[43m \u001b[49m\u001b[38;5;241;43m*\u001b[39;49m\u001b[38;5;241;43m*\u001b[39;49m\u001b[43mkwargs\u001b[49m\u001b[43m)\u001b[49m\n\u001b[1;32m   1793\u001b[0m \u001b[38;5;28mself\u001b[39m\u001b[38;5;241m.\u001b[39mn_completed_tasks \u001b[38;5;241m+\u001b[39m\u001b[38;5;241m=\u001b[39m \u001b[38;5;241m1\u001b[39m\n\u001b[1;32m   1794\u001b[0m \u001b[38;5;28mself\u001b[39m\u001b[38;5;241m.\u001b[39mprint_progress()\n",
      "File \u001b[0;32m/usr/local/lib/python3.8/site-packages/sklearn/utils/parallel.py:127\u001b[0m, in \u001b[0;36m_FuncWrapper.__call__\u001b[0;34m(self, *args, **kwargs)\u001b[0m\n\u001b[1;32m    125\u001b[0m     config \u001b[38;5;241m=\u001b[39m {}\n\u001b[1;32m    126\u001b[0m \u001b[38;5;28;01mwith\u001b[39;00m config_context(\u001b[38;5;241m*\u001b[39m\u001b[38;5;241m*\u001b[39mconfig):\n\u001b[0;32m--> 127\u001b[0m     \u001b[38;5;28;01mreturn\u001b[39;00m \u001b[38;5;28;43mself\u001b[39;49m\u001b[38;5;241;43m.\u001b[39;49m\u001b[43mfunction\u001b[49m\u001b[43m(\u001b[49m\u001b[38;5;241;43m*\u001b[39;49m\u001b[43margs\u001b[49m\u001b[43m,\u001b[49m\u001b[43m \u001b[49m\u001b[38;5;241;43m*\u001b[39;49m\u001b[38;5;241;43m*\u001b[39;49m\u001b[43mkwargs\u001b[49m\u001b[43m)\u001b[49m\n",
      "File \u001b[0;32m/usr/local/lib/python3.8/site-packages/sklearn/model_selection/_validation.py:729\u001b[0m, in \u001b[0;36m_fit_and_score\u001b[0;34m(estimator, X, y, scorer, train, test, verbose, parameters, fit_params, return_train_score, return_parameters, return_n_test_samples, return_times, return_estimator, split_progress, candidate_progress, error_score)\u001b[0m\n\u001b[1;32m    727\u001b[0m         estimator\u001b[38;5;241m.\u001b[39mfit(X_train, \u001b[38;5;241m*\u001b[39m\u001b[38;5;241m*\u001b[39mfit_params)\n\u001b[1;32m    728\u001b[0m     \u001b[38;5;28;01melse\u001b[39;00m:\n\u001b[0;32m--> 729\u001b[0m         \u001b[43mestimator\u001b[49m\u001b[38;5;241;43m.\u001b[39;49m\u001b[43mfit\u001b[49m\u001b[43m(\u001b[49m\u001b[43mX_train\u001b[49m\u001b[43m,\u001b[49m\u001b[43m \u001b[49m\u001b[43my_train\u001b[49m\u001b[43m,\u001b[49m\u001b[43m \u001b[49m\u001b[38;5;241;43m*\u001b[39;49m\u001b[38;5;241;43m*\u001b[39;49m\u001b[43mfit_params\u001b[49m\u001b[43m)\u001b[49m\n\u001b[1;32m    731\u001b[0m \u001b[38;5;28;01mexcept\u001b[39;00m \u001b[38;5;167;01mException\u001b[39;00m:\n\u001b[1;32m    732\u001b[0m     \u001b[38;5;66;03m# Note fit time as time until error\u001b[39;00m\n\u001b[1;32m    733\u001b[0m     fit_time \u001b[38;5;241m=\u001b[39m time\u001b[38;5;241m.\u001b[39mtime() \u001b[38;5;241m-\u001b[39m start_time\n",
      "File \u001b[0;32m/usr/local/lib/python3.8/site-packages/sklearn/base.py:1152\u001b[0m, in \u001b[0;36m_fit_context.<locals>.decorator.<locals>.wrapper\u001b[0;34m(estimator, *args, **kwargs)\u001b[0m\n\u001b[1;32m   1145\u001b[0m     estimator\u001b[38;5;241m.\u001b[39m_validate_params()\n\u001b[1;32m   1147\u001b[0m \u001b[38;5;28;01mwith\u001b[39;00m config_context(\n\u001b[1;32m   1148\u001b[0m     skip_parameter_validation\u001b[38;5;241m=\u001b[39m(\n\u001b[1;32m   1149\u001b[0m         prefer_skip_nested_validation \u001b[38;5;129;01mor\u001b[39;00m global_skip_validation\n\u001b[1;32m   1150\u001b[0m     )\n\u001b[1;32m   1151\u001b[0m ):\n\u001b[0;32m-> 1152\u001b[0m     \u001b[38;5;28;01mreturn\u001b[39;00m \u001b[43mfit_method\u001b[49m\u001b[43m(\u001b[49m\u001b[43mestimator\u001b[49m\u001b[43m,\u001b[49m\u001b[43m \u001b[49m\u001b[38;5;241;43m*\u001b[39;49m\u001b[43margs\u001b[49m\u001b[43m,\u001b[49m\u001b[43m \u001b[49m\u001b[38;5;241;43m*\u001b[39;49m\u001b[38;5;241;43m*\u001b[39;49m\u001b[43mkwargs\u001b[49m\u001b[43m)\u001b[49m\n",
      "File \u001b[0;32m/usr/local/lib/python3.8/site-packages/sklearn/ensemble/_forest.py:456\u001b[0m, in \u001b[0;36mBaseForest.fit\u001b[0;34m(self, X, y, sample_weight)\u001b[0m\n\u001b[1;32m    445\u001b[0m trees \u001b[38;5;241m=\u001b[39m [\n\u001b[1;32m    446\u001b[0m     \u001b[38;5;28mself\u001b[39m\u001b[38;5;241m.\u001b[39m_make_estimator(append\u001b[38;5;241m=\u001b[39m\u001b[38;5;28;01mFalse\u001b[39;00m, random_state\u001b[38;5;241m=\u001b[39mrandom_state)\n\u001b[1;32m    447\u001b[0m     \u001b[38;5;28;01mfor\u001b[39;00m i \u001b[38;5;129;01min\u001b[39;00m \u001b[38;5;28mrange\u001b[39m(n_more_estimators)\n\u001b[1;32m    448\u001b[0m ]\n\u001b[1;32m    450\u001b[0m \u001b[38;5;66;03m# Parallel loop: we prefer the threading backend as the Cython code\u001b[39;00m\n\u001b[1;32m    451\u001b[0m \u001b[38;5;66;03m# for fitting the trees is internally releasing the Python GIL\u001b[39;00m\n\u001b[1;32m    452\u001b[0m \u001b[38;5;66;03m# making threading more efficient than multiprocessing in\u001b[39;00m\n\u001b[1;32m    453\u001b[0m \u001b[38;5;66;03m# that case. However, for joblib 0.12+ we respect any\u001b[39;00m\n\u001b[1;32m    454\u001b[0m \u001b[38;5;66;03m# parallel_backend contexts set at a higher level,\u001b[39;00m\n\u001b[1;32m    455\u001b[0m \u001b[38;5;66;03m# since correctness does not rely on using threads.\u001b[39;00m\n\u001b[0;32m--> 456\u001b[0m trees \u001b[38;5;241m=\u001b[39m \u001b[43mParallel\u001b[49m\u001b[43m(\u001b[49m\n\u001b[1;32m    457\u001b[0m \u001b[43m    \u001b[49m\u001b[43mn_jobs\u001b[49m\u001b[38;5;241;43m=\u001b[39;49m\u001b[38;5;28;43mself\u001b[39;49m\u001b[38;5;241;43m.\u001b[39;49m\u001b[43mn_jobs\u001b[49m\u001b[43m,\u001b[49m\n\u001b[1;32m    458\u001b[0m \u001b[43m    \u001b[49m\u001b[43mverbose\u001b[49m\u001b[38;5;241;43m=\u001b[39;49m\u001b[38;5;28;43mself\u001b[39;49m\u001b[38;5;241;43m.\u001b[39;49m\u001b[43mverbose\u001b[49m\u001b[43m,\u001b[49m\n\u001b[1;32m    459\u001b[0m \u001b[43m    \u001b[49m\u001b[43mprefer\u001b[49m\u001b[38;5;241;43m=\u001b[39;49m\u001b[38;5;124;43m\"\u001b[39;49m\u001b[38;5;124;43mthreads\u001b[39;49m\u001b[38;5;124;43m\"\u001b[39;49m\u001b[43m,\u001b[49m\n\u001b[1;32m    460\u001b[0m \u001b[43m\u001b[49m\u001b[43m)\u001b[49m\u001b[43m(\u001b[49m\n\u001b[1;32m    461\u001b[0m \u001b[43m    \u001b[49m\u001b[43mdelayed\u001b[49m\u001b[43m(\u001b[49m\u001b[43m_parallel_build_trees\u001b[49m\u001b[43m)\u001b[49m\u001b[43m(\u001b[49m\n\u001b[1;32m    462\u001b[0m \u001b[43m        \u001b[49m\u001b[43mt\u001b[49m\u001b[43m,\u001b[49m\n\u001b[1;32m    463\u001b[0m \u001b[43m        \u001b[49m\u001b[38;5;28;43mself\u001b[39;49m\u001b[38;5;241;43m.\u001b[39;49m\u001b[43mbootstrap\u001b[49m\u001b[43m,\u001b[49m\n\u001b[1;32m    464\u001b[0m \u001b[43m        \u001b[49m\u001b[43mX\u001b[49m\u001b[43m,\u001b[49m\n\u001b[1;32m    465\u001b[0m \u001b[43m        \u001b[49m\u001b[43my\u001b[49m\u001b[43m,\u001b[49m\n\u001b[1;32m    466\u001b[0m \u001b[43m        \u001b[49m\u001b[43msample_weight\u001b[49m\u001b[43m,\u001b[49m\n\u001b[1;32m    467\u001b[0m \u001b[43m        \u001b[49m\u001b[43mi\u001b[49m\u001b[43m,\u001b[49m\n\u001b[1;32m    468\u001b[0m \u001b[43m        \u001b[49m\u001b[38;5;28;43mlen\u001b[39;49m\u001b[43m(\u001b[49m\u001b[43mtrees\u001b[49m\u001b[43m)\u001b[49m\u001b[43m,\u001b[49m\n\u001b[1;32m    469\u001b[0m \u001b[43m        \u001b[49m\u001b[43mverbose\u001b[49m\u001b[38;5;241;43m=\u001b[39;49m\u001b[38;5;28;43mself\u001b[39;49m\u001b[38;5;241;43m.\u001b[39;49m\u001b[43mverbose\u001b[49m\u001b[43m,\u001b[49m\n\u001b[1;32m    470\u001b[0m \u001b[43m        \u001b[49m\u001b[43mclass_weight\u001b[49m\u001b[38;5;241;43m=\u001b[39;49m\u001b[38;5;28;43mself\u001b[39;49m\u001b[38;5;241;43m.\u001b[39;49m\u001b[43mclass_weight\u001b[49m\u001b[43m,\u001b[49m\n\u001b[1;32m    471\u001b[0m \u001b[43m        \u001b[49m\u001b[43mn_samples_bootstrap\u001b[49m\u001b[38;5;241;43m=\u001b[39;49m\u001b[43mn_samples_bootstrap\u001b[49m\u001b[43m,\u001b[49m\n\u001b[1;32m    472\u001b[0m \u001b[43m    \u001b[49m\u001b[43m)\u001b[49m\n\u001b[1;32m    473\u001b[0m \u001b[43m    \u001b[49m\u001b[38;5;28;43;01mfor\u001b[39;49;00m\u001b[43m \u001b[49m\u001b[43mi\u001b[49m\u001b[43m,\u001b[49m\u001b[43m \u001b[49m\u001b[43mt\u001b[49m\u001b[43m \u001b[49m\u001b[38;5;129;43;01min\u001b[39;49;00m\u001b[43m \u001b[49m\u001b[38;5;28;43menumerate\u001b[39;49m\u001b[43m(\u001b[49m\u001b[43mtrees\u001b[49m\u001b[43m)\u001b[49m\n\u001b[1;32m    474\u001b[0m \u001b[43m\u001b[49m\u001b[43m)\u001b[49m\n\u001b[1;32m    476\u001b[0m \u001b[38;5;66;03m# Collect newly grown trees\u001b[39;00m\n\u001b[1;32m    477\u001b[0m \u001b[38;5;28mself\u001b[39m\u001b[38;5;241m.\u001b[39mestimators_\u001b[38;5;241m.\u001b[39mextend(trees)\n",
      "File \u001b[0;32m/usr/local/lib/python3.8/site-packages/sklearn/utils/parallel.py:65\u001b[0m, in \u001b[0;36mParallel.__call__\u001b[0;34m(self, iterable)\u001b[0m\n\u001b[1;32m     60\u001b[0m config \u001b[38;5;241m=\u001b[39m get_config()\n\u001b[1;32m     61\u001b[0m iterable_with_config \u001b[38;5;241m=\u001b[39m (\n\u001b[1;32m     62\u001b[0m     (_with_config(delayed_func, config), args, kwargs)\n\u001b[1;32m     63\u001b[0m     \u001b[38;5;28;01mfor\u001b[39;00m delayed_func, args, kwargs \u001b[38;5;129;01min\u001b[39;00m iterable\n\u001b[1;32m     64\u001b[0m )\n\u001b[0;32m---> 65\u001b[0m \u001b[38;5;28;01mreturn\u001b[39;00m \u001b[38;5;28;43msuper\u001b[39;49m\u001b[43m(\u001b[49m\u001b[43m)\u001b[49m\u001b[38;5;241;43m.\u001b[39;49m\u001b[38;5;21;43m__call__\u001b[39;49m\u001b[43m(\u001b[49m\u001b[43miterable_with_config\u001b[49m\u001b[43m)\u001b[49m\n",
      "File \u001b[0;32m/usr/local/lib/python3.8/site-packages/joblib/parallel.py:1863\u001b[0m, in \u001b[0;36mParallel.__call__\u001b[0;34m(self, iterable)\u001b[0m\n\u001b[1;32m   1861\u001b[0m     output \u001b[38;5;241m=\u001b[39m \u001b[38;5;28mself\u001b[39m\u001b[38;5;241m.\u001b[39m_get_sequential_output(iterable)\n\u001b[1;32m   1862\u001b[0m     \u001b[38;5;28mnext\u001b[39m(output)\n\u001b[0;32m-> 1863\u001b[0m     \u001b[38;5;28;01mreturn\u001b[39;00m output \u001b[38;5;28;01mif\u001b[39;00m \u001b[38;5;28mself\u001b[39m\u001b[38;5;241m.\u001b[39mreturn_generator \u001b[38;5;28;01melse\u001b[39;00m \u001b[38;5;28;43mlist\u001b[39;49m\u001b[43m(\u001b[49m\u001b[43moutput\u001b[49m\u001b[43m)\u001b[49m\n\u001b[1;32m   1865\u001b[0m \u001b[38;5;66;03m# Let's create an ID that uniquely identifies the current call. If the\u001b[39;00m\n\u001b[1;32m   1866\u001b[0m \u001b[38;5;66;03m# call is interrupted early and that the same instance is immediately\u001b[39;00m\n\u001b[1;32m   1867\u001b[0m \u001b[38;5;66;03m# re-used, this id will be used to prevent workers that were\u001b[39;00m\n\u001b[1;32m   1868\u001b[0m \u001b[38;5;66;03m# concurrently finalizing a task from the previous call to run the\u001b[39;00m\n\u001b[1;32m   1869\u001b[0m \u001b[38;5;66;03m# callback.\u001b[39;00m\n\u001b[1;32m   1870\u001b[0m \u001b[38;5;28;01mwith\u001b[39;00m \u001b[38;5;28mself\u001b[39m\u001b[38;5;241m.\u001b[39m_lock:\n",
      "File \u001b[0;32m/usr/local/lib/python3.8/site-packages/joblib/parallel.py:1792\u001b[0m, in \u001b[0;36mParallel._get_sequential_output\u001b[0;34m(self, iterable)\u001b[0m\n\u001b[1;32m   1790\u001b[0m \u001b[38;5;28mself\u001b[39m\u001b[38;5;241m.\u001b[39mn_dispatched_batches \u001b[38;5;241m+\u001b[39m\u001b[38;5;241m=\u001b[39m \u001b[38;5;241m1\u001b[39m\n\u001b[1;32m   1791\u001b[0m \u001b[38;5;28mself\u001b[39m\u001b[38;5;241m.\u001b[39mn_dispatched_tasks \u001b[38;5;241m+\u001b[39m\u001b[38;5;241m=\u001b[39m \u001b[38;5;241m1\u001b[39m\n\u001b[0;32m-> 1792\u001b[0m res \u001b[38;5;241m=\u001b[39m \u001b[43mfunc\u001b[49m\u001b[43m(\u001b[49m\u001b[38;5;241;43m*\u001b[39;49m\u001b[43margs\u001b[49m\u001b[43m,\u001b[49m\u001b[43m \u001b[49m\u001b[38;5;241;43m*\u001b[39;49m\u001b[38;5;241;43m*\u001b[39;49m\u001b[43mkwargs\u001b[49m\u001b[43m)\u001b[49m\n\u001b[1;32m   1793\u001b[0m \u001b[38;5;28mself\u001b[39m\u001b[38;5;241m.\u001b[39mn_completed_tasks \u001b[38;5;241m+\u001b[39m\u001b[38;5;241m=\u001b[39m \u001b[38;5;241m1\u001b[39m\n\u001b[1;32m   1794\u001b[0m \u001b[38;5;28mself\u001b[39m\u001b[38;5;241m.\u001b[39mprint_progress()\n",
      "File \u001b[0;32m/usr/local/lib/python3.8/site-packages/sklearn/utils/parallel.py:127\u001b[0m, in \u001b[0;36m_FuncWrapper.__call__\u001b[0;34m(self, *args, **kwargs)\u001b[0m\n\u001b[1;32m    125\u001b[0m     config \u001b[38;5;241m=\u001b[39m {}\n\u001b[1;32m    126\u001b[0m \u001b[38;5;28;01mwith\u001b[39;00m config_context(\u001b[38;5;241m*\u001b[39m\u001b[38;5;241m*\u001b[39mconfig):\n\u001b[0;32m--> 127\u001b[0m     \u001b[38;5;28;01mreturn\u001b[39;00m \u001b[38;5;28;43mself\u001b[39;49m\u001b[38;5;241;43m.\u001b[39;49m\u001b[43mfunction\u001b[49m\u001b[43m(\u001b[49m\u001b[38;5;241;43m*\u001b[39;49m\u001b[43margs\u001b[49m\u001b[43m,\u001b[49m\u001b[43m \u001b[49m\u001b[38;5;241;43m*\u001b[39;49m\u001b[38;5;241;43m*\u001b[39;49m\u001b[43mkwargs\u001b[49m\u001b[43m)\u001b[49m\n",
      "File \u001b[0;32m/usr/local/lib/python3.8/site-packages/sklearn/ensemble/_forest.py:188\u001b[0m, in \u001b[0;36m_parallel_build_trees\u001b[0;34m(tree, bootstrap, X, y, sample_weight, tree_idx, n_trees, verbose, class_weight, n_samples_bootstrap)\u001b[0m\n\u001b[1;32m    185\u001b[0m     \u001b[38;5;28;01melif\u001b[39;00m class_weight \u001b[38;5;241m==\u001b[39m \u001b[38;5;124m\"\u001b[39m\u001b[38;5;124mbalanced_subsample\u001b[39m\u001b[38;5;124m\"\u001b[39m:\n\u001b[1;32m    186\u001b[0m         curr_sample_weight \u001b[38;5;241m*\u001b[39m\u001b[38;5;241m=\u001b[39m compute_sample_weight(\u001b[38;5;124m\"\u001b[39m\u001b[38;5;124mbalanced\u001b[39m\u001b[38;5;124m\"\u001b[39m, y, indices\u001b[38;5;241m=\u001b[39mindices)\n\u001b[0;32m--> 188\u001b[0m     \u001b[43mtree\u001b[49m\u001b[38;5;241;43m.\u001b[39;49m\u001b[43mfit\u001b[49m\u001b[43m(\u001b[49m\u001b[43mX\u001b[49m\u001b[43m,\u001b[49m\u001b[43m \u001b[49m\u001b[43my\u001b[49m\u001b[43m,\u001b[49m\u001b[43m \u001b[49m\u001b[43msample_weight\u001b[49m\u001b[38;5;241;43m=\u001b[39;49m\u001b[43mcurr_sample_weight\u001b[49m\u001b[43m,\u001b[49m\u001b[43m \u001b[49m\u001b[43mcheck_input\u001b[49m\u001b[38;5;241;43m=\u001b[39;49m\u001b[38;5;28;43;01mFalse\u001b[39;49;00m\u001b[43m)\u001b[49m\n\u001b[1;32m    189\u001b[0m \u001b[38;5;28;01melse\u001b[39;00m:\n\u001b[1;32m    190\u001b[0m     tree\u001b[38;5;241m.\u001b[39mfit(X, y, sample_weight\u001b[38;5;241m=\u001b[39msample_weight, check_input\u001b[38;5;241m=\u001b[39m\u001b[38;5;28;01mFalse\u001b[39;00m)\n",
      "File \u001b[0;32m/usr/local/lib/python3.8/site-packages/sklearn/base.py:1152\u001b[0m, in \u001b[0;36m_fit_context.<locals>.decorator.<locals>.wrapper\u001b[0;34m(estimator, *args, **kwargs)\u001b[0m\n\u001b[1;32m   1145\u001b[0m     estimator\u001b[38;5;241m.\u001b[39m_validate_params()\n\u001b[1;32m   1147\u001b[0m \u001b[38;5;28;01mwith\u001b[39;00m config_context(\n\u001b[1;32m   1148\u001b[0m     skip_parameter_validation\u001b[38;5;241m=\u001b[39m(\n\u001b[1;32m   1149\u001b[0m         prefer_skip_nested_validation \u001b[38;5;129;01mor\u001b[39;00m global_skip_validation\n\u001b[1;32m   1150\u001b[0m     )\n\u001b[1;32m   1151\u001b[0m ):\n\u001b[0;32m-> 1152\u001b[0m     \u001b[38;5;28;01mreturn\u001b[39;00m \u001b[43mfit_method\u001b[49m\u001b[43m(\u001b[49m\u001b[43mestimator\u001b[49m\u001b[43m,\u001b[49m\u001b[43m \u001b[49m\u001b[38;5;241;43m*\u001b[39;49m\u001b[43margs\u001b[49m\u001b[43m,\u001b[49m\u001b[43m \u001b[49m\u001b[38;5;241;43m*\u001b[39;49m\u001b[38;5;241;43m*\u001b[39;49m\u001b[43mkwargs\u001b[49m\u001b[43m)\u001b[49m\n",
      "File \u001b[0;32m/usr/local/lib/python3.8/site-packages/sklearn/tree/_classes.py:1320\u001b[0m, in \u001b[0;36mDecisionTreeRegressor.fit\u001b[0;34m(self, X, y, sample_weight, check_input)\u001b[0m\n\u001b[1;32m   1290\u001b[0m \u001b[38;5;129m@_fit_context\u001b[39m(prefer_skip_nested_validation\u001b[38;5;241m=\u001b[39m\u001b[38;5;28;01mTrue\u001b[39;00m)\n\u001b[1;32m   1291\u001b[0m \u001b[38;5;28;01mdef\u001b[39;00m \u001b[38;5;21mfit\u001b[39m(\u001b[38;5;28mself\u001b[39m, X, y, sample_weight\u001b[38;5;241m=\u001b[39m\u001b[38;5;28;01mNone\u001b[39;00m, check_input\u001b[38;5;241m=\u001b[39m\u001b[38;5;28;01mTrue\u001b[39;00m):\n\u001b[1;32m   1292\u001b[0m \u001b[38;5;250m    \u001b[39m\u001b[38;5;124;03m\"\"\"Build a decision tree regressor from the training set (X, y).\u001b[39;00m\n\u001b[1;32m   1293\u001b[0m \n\u001b[1;32m   1294\u001b[0m \u001b[38;5;124;03m    Parameters\u001b[39;00m\n\u001b[0;32m   (...)\u001b[0m\n\u001b[1;32m   1317\u001b[0m \u001b[38;5;124;03m        Fitted estimator.\u001b[39;00m\n\u001b[1;32m   1318\u001b[0m \u001b[38;5;124;03m    \"\"\"\u001b[39;00m\n\u001b[0;32m-> 1320\u001b[0m     \u001b[38;5;28;43msuper\u001b[39;49m\u001b[43m(\u001b[49m\u001b[43m)\u001b[49m\u001b[38;5;241;43m.\u001b[39;49m\u001b[43m_fit\u001b[49m\u001b[43m(\u001b[49m\n\u001b[1;32m   1321\u001b[0m \u001b[43m        \u001b[49m\u001b[43mX\u001b[49m\u001b[43m,\u001b[49m\n\u001b[1;32m   1322\u001b[0m \u001b[43m        \u001b[49m\u001b[43my\u001b[49m\u001b[43m,\u001b[49m\n\u001b[1;32m   1323\u001b[0m \u001b[43m        \u001b[49m\u001b[43msample_weight\u001b[49m\u001b[38;5;241;43m=\u001b[39;49m\u001b[43msample_weight\u001b[49m\u001b[43m,\u001b[49m\n\u001b[1;32m   1324\u001b[0m \u001b[43m        \u001b[49m\u001b[43mcheck_input\u001b[49m\u001b[38;5;241;43m=\u001b[39;49m\u001b[43mcheck_input\u001b[49m\u001b[43m,\u001b[49m\n\u001b[1;32m   1325\u001b[0m \u001b[43m    \u001b[49m\u001b[43m)\u001b[49m\n\u001b[1;32m   1326\u001b[0m     \u001b[38;5;28;01mreturn\u001b[39;00m \u001b[38;5;28mself\u001b[39m\n",
      "File \u001b[0;32m/usr/local/lib/python3.8/site-packages/sklearn/tree/_classes.py:443\u001b[0m, in \u001b[0;36mBaseDecisionTree._fit\u001b[0;34m(self, X, y, sample_weight, check_input, missing_values_in_feature_mask)\u001b[0m\n\u001b[1;32m    432\u001b[0m \u001b[38;5;28;01melse\u001b[39;00m:\n\u001b[1;32m    433\u001b[0m     builder \u001b[38;5;241m=\u001b[39m BestFirstTreeBuilder(\n\u001b[1;32m    434\u001b[0m         splitter,\n\u001b[1;32m    435\u001b[0m         min_samples_split,\n\u001b[0;32m   (...)\u001b[0m\n\u001b[1;32m    440\u001b[0m         \u001b[38;5;28mself\u001b[39m\u001b[38;5;241m.\u001b[39mmin_impurity_decrease,\n\u001b[1;32m    441\u001b[0m     )\n\u001b[0;32m--> 443\u001b[0m \u001b[43mbuilder\u001b[49m\u001b[38;5;241;43m.\u001b[39;49m\u001b[43mbuild\u001b[49m\u001b[43m(\u001b[49m\u001b[38;5;28;43mself\u001b[39;49m\u001b[38;5;241;43m.\u001b[39;49m\u001b[43mtree_\u001b[49m\u001b[43m,\u001b[49m\u001b[43m \u001b[49m\u001b[43mX\u001b[49m\u001b[43m,\u001b[49m\u001b[43m \u001b[49m\u001b[43my\u001b[49m\u001b[43m,\u001b[49m\u001b[43m \u001b[49m\u001b[43msample_weight\u001b[49m\u001b[43m,\u001b[49m\u001b[43m \u001b[49m\u001b[43mmissing_values_in_feature_mask\u001b[49m\u001b[43m)\u001b[49m\n\u001b[1;32m    445\u001b[0m \u001b[38;5;28;01mif\u001b[39;00m \u001b[38;5;28mself\u001b[39m\u001b[38;5;241m.\u001b[39mn_outputs_ \u001b[38;5;241m==\u001b[39m \u001b[38;5;241m1\u001b[39m \u001b[38;5;129;01mand\u001b[39;00m is_classifier(\u001b[38;5;28mself\u001b[39m):\n\u001b[1;32m    446\u001b[0m     \u001b[38;5;28mself\u001b[39m\u001b[38;5;241m.\u001b[39mn_classes_ \u001b[38;5;241m=\u001b[39m \u001b[38;5;28mself\u001b[39m\u001b[38;5;241m.\u001b[39mn_classes_[\u001b[38;5;241m0\u001b[39m]\n",
      "\u001b[0;31mKeyboardInterrupt\u001b[0m: "
     ]
    }
   ],
   "source": [
    "def run():\n",
    "    #datasets = ['ASSET', 'AutoMeTS', 'BenchLS', 'britannica', 'EW-SEW-Turk', 'HutSSF', \n",
    "    #            'metaeval', 'MTurkSF', 'NNSeval', 'OneStopEnglish', 'QuestEval', 'SemEval_2007',\n",
    "    #            'SimpEval_22', 'simpa', 'TurkCorpus']#['BenchLS', 'britannica', 'MTurkSF', 'NNSeval', 'SemEval_2007'] #'britannica', 'ASSET', 'MTurkSF', 'Wiki-Manual','eval'\n",
    "\n",
    "    datasets = ['simpa'] # 'TurkCorpus'\n",
    "\n",
    "    n = 10\n",
    "\n",
    "    #X, y = load_data(datasets, make_categorical_data=False, use1249LFs=True, multiple_datasets=True)\n",
    "    X, y = load_data(datasets, make_categorical_data=False, use1249LFs=True, multiple_datasets=True)\n",
    "\n",
    "    print(len(X))\n",
    "\n",
    "    avg_scores = False\n",
    "    if avg_scores:\n",
    "        scores = cross_val_predict(regs['reg_rf'], X, y, cv=10)\n",
    "        print(len(scores))\n",
    "        print(sum(scores)/len(scores))\n",
    "        \n",
    "        cnts = 0\n",
    "        cntc = 0\n",
    "        for i in range(len(y)):\n",
    "            if y[i] == 0:\n",
    "                cnts += scores[i]\n",
    "            else:\n",
    "                cntc += scores[i]\n",
    "\n",
    "        print(cnts/(len(scores)/2))\n",
    "        print(cntc/(len(scores)/2))\n",
    "\n",
    "    else:\n",
    "        print(run_reg(True, X, y, 'vanilla', n)[0])\n",
    "\n",
    "run()"
   ]
  },
  {
   "cell_type": "code",
   "execution_count": 16,
   "metadata": {},
   "outputs": [],
   "source": [
    "# train one model and pkl it\n",
    "from sklearn.metrics import mean_squared_error\n",
    "\n",
    "\n",
    "datasets = ['ASSET', 'AutoMeTS', 'BenchLS', 'britannica', 'EW-SEW-Turk', 'HutSSF', \n",
    "                'metaeval', 'MTurkSF', 'NNSeval', 'OneStopEnglish', 'QuestEval', 'SemEval_2007',\n",
    "                'SimpEval_22', 'simpa', 'TurkCorpus']#['BenchLS', 'britannica', 'MTurkSF', 'NNSeval', 'SemEval_2007'] #'britannica', 'ASSET', 'MTurkSF', 'Wiki-Manual','eval'\n",
    "\n",
    "X, y = load_200_data(datasets, make_categorical_data=False, use1249LFs=True, multiple_datasets=True)\n",
    "\n",
    "\n",
    "\n",
    "splitperc = int(len(X)*0.8)\n",
    "\n",
    "r = reg_rf.fit(X[:splitperc], y[:splitperc])"
   ]
  },
  {
   "cell_type": "code",
   "execution_count": 14,
   "metadata": {},
   "outputs": [],
   "source": [
    "import pickle as pkl\n",
    "from sklearn.metrics import mean_absolute_error, r2_score"
   ]
  },
  {
   "cell_type": "code",
   "execution_count": 2,
   "metadata": {},
   "outputs": [
    {
     "ename": "NameError",
     "evalue": "name 'r' is not defined",
     "output_type": "error",
     "traceback": [
      "\u001b[0;31m---------------------------------------------------------------------------\u001b[0m",
      "\u001b[0;31mNameError\u001b[0m                                 Traceback (most recent call last)",
      "Cell \u001b[0;32mIn[2], line 2\u001b[0m\n\u001b[1;32m      1\u001b[0m \u001b[38;5;28;01mwith\u001b[39;00m \u001b[38;5;28mopen\u001b[39m(\u001b[38;5;124m\"\u001b[39m\u001b[38;5;124m/workspace/datasets/model_200.pkl\u001b[39m\u001b[38;5;124m\"\u001b[39m, \u001b[38;5;124m\"\u001b[39m\u001b[38;5;124mwb\u001b[39m\u001b[38;5;124m\"\u001b[39m) \u001b[38;5;28;01mas\u001b[39;00m output_file:\n\u001b[0;32m----> 2\u001b[0m    pkl\u001b[38;5;241m.\u001b[39mdump(\u001b[43mr\u001b[49m, output_file)\n",
      "\u001b[0;31mNameError\u001b[0m: name 'r' is not defined"
     ]
    }
   ],
   "source": [
    "with open(\"/workspace/datasets/model_200.pkl\", \"wb\") as output_file:\n",
    "   pkl.dump(r, output_file)"
   ]
  },
  {
   "cell_type": "code",
   "execution_count": null,
   "metadata": {},
   "outputs": [],
   "source": [
    "pred = r.predict(X[splitperc:])"
   ]
  },
  {
   "cell_type": "code",
   "execution_count": null,
   "metadata": {},
   "outputs": [
    {
     "name": "stdout",
     "output_type": "stream",
     "text": [
      "0.795\n"
     ]
    }
   ],
   "source": [
    "msw = reg_scoring(y[splitperc:], pred)\n",
    "print(msw)"
   ]
  },
  {
   "cell_type": "code",
   "execution_count": null,
   "metadata": {},
   "outputs": [],
   "source": [
    "import pickle as pkl"
   ]
  },
  {
   "cell_type": "code",
   "execution_count": 15,
   "metadata": {},
   "outputs": [
    {
     "name": "stdout",
     "output_type": "stream",
     "text": [
      "{0: (0.14716, 'It was an opening night movie on August 31, 2016.'), 1: (0.5786, 'Other actors were seriously considered for other roles, including Alan Alda and Sidney Poitier for the President, Judd Hirsch for Leo, Eugene Levy for Toby, and CCH Pounder for C.J.'), 2: (0.42809, 'The airline operates its largest hub at Seattle – Tacoma International Airport, and it also operates hubs in Anchorage, Los Angeles, Portland, San Francisco and focus cities at San Diego and San Jose.'), 3: (0.27425, 'By eighth grade he was penning parodies of the nuns, and in high school, besides writing for the school newspaper, he started an underground tabloid.'), 4: (0.68227, \"Padmé Amidala (born Padmé Naberrie) is a fictional character in the ``Star Wars'' universe, appearing in the prequel trilogy portrayed by actress Natalie Portman.\"), 5: (0.85619, \"The Bears went on to release a further two EPs on Southern Fried Records, 'Curious Nature EP' in the latter part of 2010 and 'Bearhug EP' in early 2011. Both were accompanied by further remix EPs with contributors including Maxxi Soundsystem and Midland.\"), 6: (0.95652, 'The ceremonial county borders Tyne and Wear to the north/north east, Northumberland to the north, Cumbria to the west and North Yorkshire to the south; the borough of Stockton-on-Tees is unique in England in being divided between two ceremonial counties, with the part of the borough north of the River Tees being in Durham and the part south of the Tees being in North Yorkshire.'), 7: (0.82609, 'Brisbane Convention & Exhibition Centre (BCEC) is owned by South Bank Corporation and proudly managed by leading international venue management specialists, AEG Ogden.'), 8: (0.49498, \"There is little formal infrastructure serving Korogocho's residents, and most housing was built by families living there, and is made of found or recycled materials.\"), 9: (0.76589, \"He was also known for being Li Xiucheng's cousin, and for being very tall (200 cm tall) for a native ofGuangxi province. During his military tenure he was given the title of King of Shi (侍王) (meaning ''Servant Prince'').\"), 10: (0.74916, 'A critical mass is required to reduce the risk to the issuer, also a greater amount of countries issuing these types of securities is required so that investors are able to diversify.'), 11: (0.32441, 'He was born in Walsall, Staffordshire, England. Frank Sydney Spears arrived in South Africa as a designer for Brimble and Briggs Ltd. in 1928.'), 12: (0.96321, 'Before civil parishes were introduced, the Counties (Detached Parts) Act 1844 transferred many (but not all) parishes which were detached parts of a county to the county in which they were geographically located.'), 13: (0.76923, 'Though the \"Toronto Star\" describes it as \"a lesbian-friendly tune\", whether homophobia fuels negative reactions to the song or the song itself appears to divide critics.'), 14: (0.53177, 'In 1981 Walter Giardino as a guitarist and vocalist founded Punto Rojo with Gustavo Andino (drums) and Roberto Cosseddu (bass) the band was successful on the under scene but never record an album.'), 15: (0.90635, 'The Oracle sensed this and decided that she was no longer fit to keep the Heart and entrusted it to Cassidy, driving Nerissa over the edge.'), 16: (0.78261, 'In 1940, he took 3rd in Lvov (Lviv, Lwów, Lemberg), which was won by Abram Khavin.'), 17: (0.51505, \"Over 200 Scouts from across London, led by the Enfield District Scout Band, took part in the 2007 Parade, heralding the start of the UK's ''2007 Centenary of Scouting Celebrations''.\"), 18: (0.71906, 'The Provost Marshal General is a United States Army staff position reporting to the Chief of Staff of the United States Army that handles investigations and incarcerations, bringing all aspects of law enforcement in the U.S. Army in a single office.'), 19: (0.78595, 'The original idol of Shri Shantinath Swami has started going in the ground. The idol of the new Shantinath Swami was found by the old pujari Dalcha maharaj.'), 20: (0.54181, 'It is bordered by the cities of Seattle on the west, Bellevue and Kirkland on the east, Renton on the south and Kenmore on the north, and surrounds Mercer Island.'), 21: (0.17391, 'Warner Southern College is an accredited private Christian liberal arts college in Lake Wales, Florida. It is affiliated with the Church of God (Anderson).'), 22: (0.60535, 'John Barnes MBE is a Jamaican-born British former footballer, rapper and manager, best - known for his time at Watford and Liverpool in the 1980s and 1990s.'), 23: (0.51171, \"Universal Express Pass is referred to as ''Universal Express'' on park signage, and as ''Express Pass'' by team members and guests. This pass admits users to a separate line for the attraction, which is given priority status when boarding.\"), 24: (0.24749, \"She is married to Actor/Director Paul Clarkson. They met playing opposite each other in ''The Hired Man''.\"), 25: (0.55853, 'Miguel Mercado Melgar (born August 30, 1975 in Santa Cruz de la Sierra), is a Bolivian football striker currently under contract with The Strongest. He played Copa America 1995 for Bolivian national football team with No.11 shirt.'), 26: (0.71572, 'The car was designed by Neil Oatley around advanced racecar technology. The MP4/8 was fitted with a semi-automatic transmission, active suspension and traction control systems.'), 27: (0.59532, 'Moving between Praia Vermelha and the Sugarloaf Mountain, it stops at Morro da Urca (at) on its way up and down. It is used by around 2,500 visitors every day and reaches the summit of the mountain.'), 28: (0.33445, 'She was blacklisted by Hollywood movie studio executives in the 1950s.'), 29: (0.25753, 'He normally appears in a running gag, where he usually suffers unfortunate, seemingly fatal accidents.'), 30: (1.0, 'In chemistry, a conjugated system is a system of connected p orbitals with delocalized electrons in a molecule, which in general lowers the overall energy of the molecule and increases stability.'), 31: (0.50167, 'It is the principal city in the Chicago Metropolitan Area, situated in the Midwestern United States and the Great Lakes region.'), 32: (0.73913, 'John Nichols Boozman (; born December 10, 1950) is the senior United States Senator for Arkansas (since 2015).'), 33: (0.10033, 'Tropical Storm Jose was a tropical storm that lived for a very short time from August 22 to August 23.'), 34: (0.81605, 'In contrast, coupe ́ varieties of the some vehicles such as the Honda Accord are usually built on shorter wheelbases than the sedans they are based on.'), 35: (0.4214, 'It is the only palm grove of its type anywhere in Europe, the northernmost of its kind and one of the largest in the world, surpassed in size only by some in Arab countries.'), 36: (0.44482, 'Aaron MacKenzie (born March 7, 1981 in Terrace Bay, Ontario) is a Canadian professional ice hockey defenceman who currently plays for Denver Cutthroats of the Central Hockey League (CHL).'), 37: (0.09699, 'Jeff Bridges was nominated for an Academy Award for Best Supporting Actor.'), 38: (0.46823, 'More than forty years later, the Immigration Act of 1965, removed the quotas and immigration from Syria to the United States increased very much.'), 39: (0.68896, \"Sosa offers to have one of his contacts in the Justice Department write off Tony's charges if Tony kills a journalist who is going to make a speech against Sosa to the United Nations.\"), 40: (0.36455, 'Pérez competed in the United States-based Skip Barber National Championship in 2004.'), 41: (0.34783, 'The Human Centipede did not get very many good reviews, but Tom Six made a sequel to the movie called The Human Centipede II (Full Sequence).'), 42: (0.28094, 'Its name is a portmanteau of the words minimal and Unix.'), 43: (0.58194, 'The Kia ceed is a small family car released in the European market by the Korean manufacturer Kia Motors in December 2006, and was a replacement for the poorly selling Kia Cerato.'), 44: (0.15385, \"In casting ``Glee'', series creator Ryan Murphy sought out actors who could identify with the rush of starring in theatrical roles.\"), 45: (0.35117, 'Football in Tahiti is administered by the Fédération Tahitienne de Football and was founded in 1938.'), 46: (0.16722, 'Daniel Handler wrote A Series of Unfortunate Events under the pseudonym Lemony Snicket both because he wanted to make the author a character in the story and because he wanted to hide his real name.'), 47: (0.01672, 'Around 120,000 people use the Kansas Turnpike every day.'), 48: (0.02007, 'Baltic countries are Estonia, Latvia and Lithuania.'), 49: (0.67224, 'His research at Brown was on the effects on diffusion of temperature gradients.'), 50: (0.40134, 'It was the first in the Savoy group of hotels and restaurants, which were owned by his family for over a century.'), 51: (0.02341, 'He is a great lion and has been gone for many years, but has come back.'), 52: (0.12375, 'Olympique de Marseille is a football club from France.'), 53: (0.00334, 'The university has about 29,306 students.'), 54: (0.77258, 'Both Kerry and Democratic National Committee Chairman Howard Dean have stated their opinion that voting in Ohio did not proceed fairly and that, had it done so, the Democratic ticket might have won that state and therefore the election.'), 55: (0.62207, 'Outside this radius, the abundance of metals steadily decreases with increasing distance from the core.'), 56: (0.25418, 'He later built a smithy under Mount Etna on the island of Sicily.'), 57: (0.79264, 'The name of the town is believed to derive either from an Aboriginal word meaning \"under the hills, surrounded by hills, or towards a high place\" or from Bennelong, the name of a noted Aborigine.'), 58: (0.40468, \"Trajan's Column is a Roman triumphal column in Rome, Italy, that commemorates Roman emperor Trajan's victory in the Dacian Wars.\"), 59: (0.2408, 'She also lost in the second round at Wimbledon in June 2008.'), 60: (0.25084, 'The submarines were powered by a diesel-electric system.'), 61: (0.41472, 'Linda Brown Buck is an American biologist best known for her work on the olfactory system.'), 62: (0.39465, 'It is located in the Upper Midwestern region of the United States, bordered by the Canadian provinces of Saskatchewan and Manitoba to the north, the states of Minnesota to the east, South Dakota to the south, and Montana to the west.'), 63: (0.45819, 'India no longer looks after the external, defense, communications, and foreign affairs of Bhutan.'), 64: (0.09365, 'Miranda Kerr was born in Sydney.'), 65: (0.12709, 'Population is 16,950 2009.'), 66: (0.63211, 'Christopher Emmanuel Paul (born may 6, 1985) is a professional basketball player who currently plays point guard for the Oklahoma city thunder of the NBA. He has also played six seasons with the New Orleans hornets. His nickname is cp3. In 2008, Paul won an Olympic gold medal as part of the United States basketball team. Paul played college basketball at Wake Forest University.'), 67: (0.67559, 'In 1994, Bush found immediate success with the release of their debut album, \"Sixteen Stone\", which is certified 6 × multi-platinum by the RIAA.'), 68: (0.20736, 'As of 2000, the population was 9,287.'), 69: (0.05351, '\"Gari\" sweet, pickled ginger can often be found alongside a plate of sushi and also a little bit of wasabi, used as a palate cleanser.'), 70: (0.88294, 'They are polymers formed from 20 possible amino acids by RNA translation.'), 71: (0.29431, 'In China and Russia, syphilis has gotten more common among heterosexual \"straight\" people since the 1990s.'), 72: (0.63545, \"O'Keeffe later revealed in the Daily Mirror that Kreed Kafer and Rik Eedles were anagrams of `Derek Faker' and `Derek Lies'.\"), 73: (0.17726, 'Julio Hernán Rossi born 22 February 1977 is an Argentine football player.'), 74: (0.70234, 'Following the instructions of Akilattirattu Ammanai Akilam, the Nizhal Thangals small pagodas have been established across the country for worship and the study of scripture.'), 75: (0.21405, 'During the last years Kotor has been visited by many tourists, who are attracted by both the beauty of the Gulf of Kotor and the old town.'), 76: (0.23077, 'In 2002, the series was picked up by Showtime, where it aired as a supporting feature to Queer as Folk.'), 77: (0.13043, 'In 1643 the crew of the Dutch ship Heemstede made the first recorded landing.'), 78: (0.61204, 'Following an incident at his home in 1878, police parties searched for him in the bush.'), 79: (0.89298, \"Constantine VII Porphyrogennetos or Porphyrogenitus, ``the Purple-born'', (September 2, 905 -- November 9, 959) was the son of the Byzantine emperor Leo VI and his fourth wife Zoe Karbonopsina.\"), 80: (0.34114, 'A referee, who is situated at ringside, must witness an elimination in order for it to be valid.'), 81: (0.10368, 'With her election, Pelosi became the first woman, the first Californian and the first Italian-American to hold the Speakership.'), 82: (0.75585, 'The character Signior Opera, the image of the favored castrato singer within the puppet show, is a parody of the foreigners who performed as singers, along with the audiences that accepted them.'), 83: (0.30435, 'The official historical version says that the country was uninhabited before the arrival of the Portuguese sailors.'), 84: (0.21739, 'The United States team has for a long time been a great team, and is currently ranked the best team, by FIFA.'), 85: (0.9398, \"At this time, courtiers assembled to watch the king and members of the royal family pass, and might make a particular request by intoning: ``Sire, Marly?''\"), 86: (0.65886, 'This cycle of a predator and prey co-evolving is sometimes called an evolutionary arms race. In this case it results in the newts producing levels of toxin far in excess of what is needed to kill any other conceivable predator.'), 87: (0.26087, 'Children can hear some high-pitched sounds that older adults cannot hear, as in humans the upper limit pitch of hearing gets lower as a person gets older.'), 88: (0.79599, 'Young realized that the police could no longer rely on habits little changed for a century.'), 89: (0.89967, 'Overnight, convection associated with Laura began to diminish and lose tropical characteristics, but still retained its status.'), 90: (0.23411, 'The adult Robin gives alarm calls and dive-bombs predators, including domestic cats, dogs and humans that come near the young birds.'), 91: (0.16054, 'The passage of the storm temporarily left about 20,000 electrical customers without power, though most outages were quickly restored.'), 92: (0.73579, 'Books to read David Dutton, Austen Chamberlain – Gentleman in Politics, Bolton: R. Anderson, 1985.'), 93: (0.42475, 'This template works together with.'), 94: (0.22742, 'Arata Kodama (born 8 October 1982) is a Japanese football player. He plays for Shimizu S-Pulse.'), 95: (0.14047, 'The original coastal fishing village is now a laid-back, mixed-use neighborhood of private homes, hotels, condominiums, restaurants, and tourist shops.'), 96: (0.31438, \"``Si Una Vez'' (``If Once'') is a song by Mexican-American Tejano pop singer Selena, released as the fifth single from her album Amor Prohibido (1994).\"), 97: (0.80936, \"The route is known as the ``Northwest Passage Scenic Byway,'' a National Scenic Byway. Achiet-le-Petit is a commune in the Pas-de-Calais department in northern France.\"), 98: (0.49164, 'Religion is mainly based on ethnic groups, with the largest religion being Romanian Orthodoxy, observed by 68.38 % of the population, mostly ethnic Romanians.'), 99: (0.50836, 'Close to the England average are also Redcar and Cleveland and Northumberland.'), 100: (0.94314, 'These templates are still usable, but they just transclude this one (e.g. is a shortcut for), and for.'), 101: (0.29766, 'The park was the site of The Great Exhibition of 1851, for which the Crystal Palace was designed.'), 102: (0.08027, 'The film premiered at the 2006 Cannes Film Festival.'), 103: (0.13712, 'The wind farm area spans parts of four Texas counties and covers nearly 100,000 acres, several times the size of Manhattan.'), 104: (0.61873, 'Vulcan made pearl-handled knives and spoons for his foster mother, he made a silver chariot for himself, and bridles so that seahorses could transport him quickly.'), 105: (0.95987, \"From 1502 Tromboncino was employed by the even more infamous Lucrezia Borgia in Ferrara, where he wrote music for the famous intermedi of her opulent court, and most significantly for her wedding to Alfonso d'Este.\"), 106: (0.11706, 'Finished goods are goods that have completed the manufacturing process but have not yet been sold or distributed to the end user.'), 107: (0.10702, 'He was the President of Zambia from January 2002 until his death in August 2008.'), 108: (0.82943, 'Guillaume de Machaut\\'s narrative output is dominated by the \"dit\" (literally \"spoken\", i.e. a poem not meant to be sung).'), 109: (0.26756, 'As an opera singer, Fischer-Dieskau performed mainly in Berlin and at the Bavarian State Opera in Munich.'), 110: (0.1204, 'She is married to James Danforth Quayle, the former Vice President. She was the unofficial Second Lady from 1989 to 1993.'), 111: (0.04682, 'Albany is a village in Green County, Wisconsin, United States.'), 112: (0.35452, 'LINEAR has found 226,193 new objects since it started. Out of those, 2,019 were near-Earth asteroids and 236 were comets.'), 113: (0.62542, 'In 1874 Saint-Saëns retired from the church called the Madeleine and Fauré became choirmaster.'), 114: (0.06355, 'It is found in the region Pays de la Loire in the Sarthe department in the west of France.'), 115: (0.3913, 'The team is managed by Christian Horner, boss of the Arden International GP2 Series team.'), 116: (0.60201, 'LÃ¡szlÃ³ sÃ¡rosi (27 february 1932 â\\x80\" 2 april 2016) was a hungarian footballer and coach. he played as a defender for vasas and hungary between the 1940s and 1960s. he was born in budapest.sÃ¡rosi died on 2 april 2016 in budapest, aged 84.'), 117: (0.0602, \"Many news reporters simply list them as ``Los Angeles Angels''.\"), 118: (0.52508, 'The palace-ensemble along with the city center is a UNESCO World Heritage Site.'), 119: (0.48829, 'The Maluku Islands (also known as the Moluccas, Moluccan Islands or simply Maluku) are an archipelago in Indonesia, and part of the larger Malay Archipelago.'), 120: (0.07358, 'In 1871 the fort got an extra barracks.'), 121: (0.64214, 'Locations According to CBS News CBS News, 38 states have some form of Cyber High School curriculum delivery, which often includes giving a computer, internet connection, textbooks and Cyber High School software.'), 122: (0.18395, 'Close to 5,000 species of mollusc have been recorded on the reef, including the giant clam and various nudibranchs and cone snails.'), 123: (0.04013, 'Dutch john is a town in daggett county, utah, united states. as of the 2010 census, 145 people live in dutch john.'), 124: (0.6388, 'The high end of low is the seventh studio album by american rock band, marilyn manson. it was released on may 20, 2009. the producers of the album were sean beavan, marilyn manson, chris vrenna and jeordie white. some critics said that they praised the album for showing a more human manson after following his divorce, and is a return to the sound of the well-received mechanical animals.'), 125: (0.3612, 'In January 1879, he married a widow named Louisa Hearn, and they spent some time prospecting for gold near Southern Cross.'), 126: (0.38796, 'Kelly, dressed in home-made plate metal armour and helmet, was captured and sent to jail.'), 127: (0.20067, 'Kachchi is a language and is spoken in regions such as rann of kutch, sindh ; karachi, pakistan. over 50,000 people spoke it in 1998.'), 128: (0.94983, \"Sir augustus frederick d'este, kch (1794-1848) was the son of prince augustus frederick, duke of sussex and lady augusta murray and the grandson of george iii. his parents marriage was in contravention of the royal marriages act 1772, which meant that augustus d'este was legally considered illegitimate.\"), 129: (0.46488, 'Biberist is a municipality in the district Wasseramt in the canton of Solothurn in Switzerland.'), 130: (0.87625, \"S/2004 S 12 is about 5 kilometres in diameter, and orbits Saturn at an average distance of 19,906,000 km in 1048.541 days, at an inclination of 164° to the ecliptic (162° to Saturn's equator), with an eccentricity of 0.396.\"), 131: (0.05017, 'Abilene (pronounced) is a city in dickinson county, kansas, united states. it is also the county seat. in 2010, 6,844 people lived there. the dwight d. eisenhower presidential library and museum is in abilene.'), 132: (0.04348, 'Aldi shops also exist in Australia and the United States.'), 133: (0.19732, 'Sauchy-Cauchy is a commune in the Pas-de-Calais department in the Nord-Pas-de-Calais region of France.'), 134: (0.28428, 'In 2001, Chase did the role as the voice of the lead character, Chihiro Ogino, a 6 year old Japanese girl, in the American version of the animated Japanese movie, Spirited Away.'), 135: (0.01338, 'They harness a clean and renewable energy source.'), 136: (0.99331, \"It is not the creature of State the whole truth must be told, the people brought it into existence, established it, and have hitherto supported it, for the very purpose, amongst others, of imposing certain salutary restraints on State sovereignties.''\"), 137: (0.32776, 'Literature William Golding\\'s Lord of the Flies features frequent references to \"The Conch\".'), 138: (0.56522, 'These territories include some former overseas territories and other French overseas holdings with a particular status.'), 139: (0.46154, 'It is known from six partial skeletons, including part of a skull, which have been found in the United States, in Colorado, Oklahoma, Utah, and Wyoming.'), 140: (0.61538, 'It was heavily used during World War II, the Korean War, the Vietnam War, as well as during operations in Iraq in the 1990s and 2000s.'), 141: (0.41806, 'Carlo Maderno (1556 - January 30 1629) was an Italian-Swiss architect, born in Ticino, who is remembered as one of the fathers of Baroque architecture.'), 142: (0.7592, 'Sheffield Bird Study Group, South Yorkshire Badger Group, South Yorkshire Bat Group) should be contacted initially for species and habitat information to inform desk studies.'), 143: (0.24415, 'Some computers can boot up from flash drives.'), 144: (0.22074, 'Louis Suarez Miramontes is a Spanish Former footballer and manager'), 145: (0.9097, 'For full information on the EU Services Directive and Points of Single Contact for other member states from the European Commission.'), 146: (0.96656, \"A dark albedo feature about across has been named Olbers in honour of Vesta's discoverer, but it does not appear in elevation maps as a fresh crater would, and its nature is presently unknown, perhaps an old basaltic surface.\"), 147: (0.05686, 'US war involvement ends.'), 148: (0.47492, 'In human, trapezius muscle or trapezius is a large muscle that extends longitudinally on the upper portion of a human spine.'), 149: (0.27759, 'It is revealed that French museums had nearly 2,000 pieces of art that had been stolen by Nazis.'), 150: (0.53512, 'We realise that the needs of both maintained schools and academies will change over time, and are committed to adapting our services in order to meet your school’s individual needs.'), 151: (0.08361, 'Besides the instant powder form, traditional Mexican hot chocolate includes semi-sweet chocolate, cinnamon, sugar and vanilla.'), 152: (0.00669, 'We have developed a toolkit with 5 tools to support people and organisations in implementing the learning from the training.'), 153: (0.35786, 'The start to Hurricane Beula was a tropical wave moving across the tropical Atlantic.'), 154: (0.31104, 'Since 1990, the district has had a partnership with Main-Kinzig in Hessen, Germany.'), 155: (0.57525, 'Its articles are now supported by press release systems like World News, scoop.'), 156: (0.69565, 'Water based paints are able to be got rid of with general waste, but all other paints are classified as hazardous waste and will need to be taken to Blackstock Road Household Waste Recycling Centre.'), 157: (0.83278, 'No information on this page or any other spoken or written information we provide will form the basis of any guarantee, claim or contract by ourselves with anyone else.'), 158: (0.6689, 'It is rare and valuable in finer grades and has been prized as a gem and ornamental stone for thousands of years owing to its unique hue.'), 159: (0.74582, '\"Dan pulled in Ruth Marie as a fifth person in his alliance, but after losing another Immunity Challenge, Sally convinced the La Mina men that she was a more valuable player.\"'), 160: (0.03679, 'He traveled over 200,000 miles, an incredible achievement for pre-aviation times.'), 161: (0.84615, 'In 1438 Trevi passed under the non spiritual rule of the Chruch as a part of the diplomacy of Perugia. From then onwards its history combined with that of States of the Church first. Afterwords it was with the united Kingdom of Italy, which was in the year 1860.'), 162: (0.16388, 'Barneville-la-Bertran is a commune in the Calvados department in the Basse-Normandie region in northwestern France.'), 163: (0.51839, 'You are required by law to pay your business rates bills on time and we are required by law to make sure these payments are made.'), 164: (0.50502, 'At the point which i had now reached i made a halt, which lasted five years.'), 165: (0.43478, 'The flies are clothed in black or pale colored hairs. They are either black, metallic green, or metallic blue.'), 166: (0.37458, 'For Adam Baldwin, who grew up watching westerns, the role of Jayne Cobb was particularly resonant.'), 167: (0.97659, 'He that knows he has no other than particular ideas, will not puzzle himself in vain to find out and conceive the abstract idea annexed to any name.'), 168: (0.699, 'In 911, French King Charles the Simple was able to make an agreement with the Viking warleader Rollo, a chieftain of disputed Norwegian or Danish origins.'), 169: (0.58863, 'The two men toured New England and successfully raised private and public funds to found a school for deaf students in Hartford, which later became known as the American School for the Deaf.'), 170: (0.06689, 'A postal vote enables you to receive\\xa0and return your ballot paper via the post rather than going to the polling station.'), 171: (0.80268, 'Dan pulled in Ruth Marie as a fifth person in his alliance, but after losing another Immunity Challenge, Sally convinced the La Mina men that she was a more valuable player.'), 172: (0.66221, 'He led a furious comeback as he completed 15 passes out of 20 attempted for 258 yds and 2 TDs.'), 173: (0.39799, 'Therefore, Rollo served Charles, converted to Christianity, and defended northern France from the Vikings.'), 174: (0.44147, 'The sixth, seventh, and eighth digits show the city or number of unincorporated areas.'), 175: (0.89632, 'The site commands a high profile location on one of the busiest roads in Sheffield fronting the main A6102 Prince of Wales Road and comprises a former housing site which has been wholly demolished.'), 176: (0.38462, 'Etymology Tirunelveli is also called Nellai.'), 177: (0.11037, 'He worked with Slipknot on their fourth studio album.'), 178: (0.1505, 'Almahala Tripoli is a Libyan football club based in Tripoli, Libya.'), 179: (0.69231, 'Orchestration Stravinsky first conceived of writing the ballet in 1913.'), 180: (0.07023, 'Cold Bay is a city in Alaska.'), 181: (0.45151, 'A surgeon at the Dartmouth-HItchcock Medical Center by the name of Dr. William Mosenthal was the first to use this idea.'), 182: (0.11371, 'The dead body of a  is referred to as a cadaver, or corpse'), 183: (0.66555, 'A perfectly elastic collision is defined as one in which there is no loss of kinetic energy in the collision. An inelastic collision is one in which part of the kinetic energy is changed to some other form of energy in the collision.'), 184: (0.31773, 'Legacy of Kings In February 1998, the making of Legacy of Kings began.'), 185: (0.1806, 'The series returned from hiatus on February 7, 2007 and was aired at 10:00 pm.'), 186: (0.38127, 'In May, Noori and his cousin, Abdullah Karim, launched Lazeez, which means delicious. They sell hot dogs, burgers, and chicken sandwiches out of the back of five customized three-wheelers outfitted with hot plates and mini deep-fryers.'), 187: (0.68562, 'Why can the will influence the tongue and fingers, not the heart or liver?'), 188: (0.47157, 'That is because real estate, businesses and other assets in the underground economies of the Third World can not be used as collateral to raise capital to finance industrial and commercial expansion.'), 189: (0.92977, 'Bagnotar is bounded by the union councils to the north by Sarbhana, to the east and south by Namli Maira and west by Bagh.'), 190: (0.64548, \"RIAA Website Although total worldwide album sales are not calculated by any single entity, as of 2004 several industry sources estimated Rush's total worldwide album sales at over 40 million units.\"), 191: (0.87291, 'Waterson took the Labour whip in Parliament.'), 192: (0.71237, 'Some Han Chinese believe they share common ancestors, sometimes ascribed to the patriarchs Yellow Emperor and Yan Emperor, some thousands of years ago'), 193: (0.43144, \"But the CMI's numbers also showed that the pay gap is closing: the difference between the average salaries earned by male and female bosses appeared to be smaller than in 2012.\"), 194: (0.41137, 'Also he also unsuccessfully went against the Saarbrücken constituency.'), 195: (0.8194, 'Following the December 2007 decision by landlords, the Vale of Glamorgan Council to terminate the £65,000 funding of the Barry Island Railway, the society struggled to maintain a service.'), 196: (0.55184, \"Virtopsies use powerful machines. Together, the machines are called a 'Virtobot'. Virtopsies can find injuries that are not seen during a traditional autopsy, as well as air pockets, heart attacks and even cancer.\"), 197: (0.14381, 'At the end of the day we will have a chat about how it has gone and let you know what went well and what you will need more practice on.'), 198: (0.72575, 'The job: A private butler can be called on by his or her employer to do anything from wardrobe management to chauffeuring and pet care. Typical duties include managing other staff, serving at every meal, running errands, looking after guests, booking restaurants, house security, housekeeping, cooking and anything else the household needs.'), 199: (0.19398, 'These two tissues transport fluid and nutrients internally.'), 200: (0.90301, 'However, in criminal cases in which the sentence is expected to exceed two years, the professional judge is assisted by two lay judges with equal rights as the professional judge (Schöffengericht).'), 201: (0.36789, 'The head of Ornitholestes was relatively small.'), 202: (0.19064, 'Yass is a valuable area for raising sheep which produce very fine wool due to the soil and climatic conditions of the Yass area.'), 203: (0.77592, \"Wouldn't it be fitting, the Guardian posited, to honor the 84-year-old icon of reunification with the prestigious Nobel Prize almost 25 years to the date of the Berlin Wall's fall.\"), 204: (0.33779, \"They claimed to be playing an April Fool's joke, but most people who saw the signs were unfamiliar with the phrase.\"), 205: (0.49833, 'The island of Ireland lies only 30 k from the southwestern shores of Kintyre; Norway is 305 k to the east and the Faroes, 270 k to the north'), 206: (0.2107, 'The National Coat of Arms of Denmark consists of three crowned blue lions accompanied by nine red hearts, all in a golden shield.'), 207: (0.0301, 'Toothpaste often contains xanthan gum to give the toothpaste a smooth texture.'), 208: (0.40803, 'Polydor Records is a record label currently headquartered in the UK, and is a subsidiary of Universal Music Group.'), 209: (0.9699, 'Like ferns, other basal land plants, and many algae, these gymnosperms have flagellate sperm, which swim through a watery fluid to fertilize the egg cells.'), 210: (0.77926, 'In geology, when an igneous intrusion cuts across a formation of sedimentary rock, it can be determined that the igneous intrusion is younger than the sedimentary rock.'), 211: (0.97324, 'For besides that the existence of such a moral instinct is itself one of the matters in dispute those believers in it who have any pretensions to philosophy, have been obliged to abandon the idea that it discerns what is right or wrong in the particular case in hand, as our other senses discern the sight or sound actually present.'), 212: (0.34448, 'The Countess tells him it is only Susanna, trying on her wedding dress.'), 213: (0.99666, 'This made plans for reviews every 5 years and replaced the parish as the rating authority with county boroughs, boroughs, urban and rural districts.'), 214: (0.85953, 'Feynman diagrams are graphs that represent the trajectories of particles in intermediate stages of a scattering process. Unlike a bubble chamber picture, only the sum of all the Feynman diagrams represent any given particle interaction; particles do not choose a particular diagram each time they interact.'), 215: (0.3311, '\"Buffyverse\" is a term is used online among fans of Buffy/Angel online to describe the fictional universe established by Buffy/Angel though it was first established by Slayer.'), 216: (0.52843, 'Storm matches, also known as lifeboat matches or flare matches, have an easy to strike tip like a normal match, but much of the stick is coated with a combustible compound which will keep burning even in a strong wind.'), 217: (0.57191, '\"The Celsius or Centigrade thermometer\" was used for a particular type of thermometer at least as early as 1850.'), 218: (0.43813, 'OpenOffice.org Calc is the spreadsheet software of the OpenOffice.org software package.'), 219: (0.13378, 'The constellation contains about 50 galaxies that can be seen through an amateur telescope.'), 220: (0.94649, 'Is a Contaminated Land Risk Assessment required to identify all potential sources of contamination and provide details about the nature of any risks to human health and the wider environment?'), 221: (0.58528, \"Andrew Coates, the head of planetary science at the Mullard Space Science Laboratory, said: 'It's a really thrilling time for solar system exploration.'\"), 222: (0.86622, 'A tropical wave, which had before hand spawned Tropical Depression Six, interacted with an upper - level low pressure area to develop an area of deep convection near Hispaniola on July 23, 2003'), 223: (0.0, 'Rollins retired to become a coach.'), 224: (0.44816, 'In looking to the weather system, the American National weather Service issued wind watches for the Oregon Coast.'), 225: (0.02676, 'For more information on fostering please see our Fostering Brochure, or have a look at some of the stories from foster carers.'), 226: (0.7291, '\"Intense feelings of resentment trigger the initial retaliation, which causes the other party to feel equally aggrieved and vengeful.\"'), 227: (0.37124, 'Four individuals made up the communal roost.'), 228: (0.301, 'Not all of our archive material is actually stored at Sheffield Archives. You may have to ask for some items before you come to view them.'), 229: (0.72241, 'Our proposed measures include improving bus stops along these routes to make them mnore accessible and bring them up to current standards. This will take the form of providing raised kerbs, constructing tactile paving, introducing bus-stop clearways and, where needed, fitting new bus shelters.'), 230: (0.53846, 'I was abroad at the time, but i sent in my name to the committee as soon as i heard of it, and took an active part in the proceedings from the time of my return.'), 231: (0.98997, 'The most obvious feature of the course of instruction that i have partly retraced is the great effort to give during the years of childhood an amount of knowledge in what are considered the higher branches of education knowledge that is seldom acquired until the age of manhood, if then.'), 232: (0.76254, \"For much of the twentieth century it was used by the Queensland Government as a settlement for Aboriginals considered guilty of such offenses as being ``disruptive'', being pregnant to a white man or being born with ``mixed blood''\"), 233: (0.83946, 'Happiness is a by-role of function.'), 234: (0.82274, 'It now seemed to me of primary importance to maintain a proper balance among the faculties.'), 235: (0.23746, 'After the meeting, Obama played golf with British Prime Minister, David Cameron. Obama had dinner with Cameron and the US ambassador, Matthew Barzun, and, then, travelled to Germany.'), 236: (0.15719, 'Every act seems totally natural like it could have really happened, and yet the movie is not a dull slice-of-life diorama either.'), 237: (0.95318, 'At present it is formed by the Aa, which descends from the Rigi and enters the southern leg of the lake'), 238: (0.52174, \"About a quarter of Sheffield's housing invesments is social rented either from the council or registered housing providers.\"), 239: (0.18729, '\"Nearby there is the Goobang National Park, and Peak Hill which features an Open Cut Mine that can be toured during holidays.\"'), 240: (0.28763, 'Ross Anderson, one of the research team, said: \"Guilty people fidget more and we can now measure this.\"'), 241: (0.2709, 'Batman is a 1960s American live action television series, based on the DC comic book character of the same name.'), 242: (0.85284, \"He concluded that the type II-R had been ``transformed'' into the lethal III-S strain by a ``transforming principle'' that was somehow part of the dead III-S strain bacteria.\"), 243: (0.22408, \"Then he went back to work, restoring the century-old farmhouse that will soon become his young family's home.\"), 244: (0.81271, '\"Whatever the truth of the rumors, James required a royal match to preserve the Stuart line.\"'), 245: (0.65552, '\"Fiction Records is a UK formerly indie label, now wholly owned by Polydor a subsidiary of Universal Music Group, started by Chris Parry in 1978 that is best known as being the home of The Cure for over 20 years.\"'), 246: (0.91304, 'The Romans believed the fumes created by burning castoreum could induce an abortion; Paracelsus thought it could be used in the treatment of epilepsy; and medieval beekeepers used it to increase honey production.'), 247: (0.75251, \"A brief stint on Go Kart Records saw the release of ``Fly the Flag'', and now with their most recent release of ``Windward Tides and Wayward Sails'' in 2003 finds them on Union Label Group\"), 248: (0.83612, 'She displays whatever emanation form will tame Any given (person), just as, for example, the full moon in the sky Emerges as (various) reflections in different water vessels.'), 249: (0.93645, 'The progressive principle can be the love of liberty or the love of improvement; and either way it is antagonistic to the sway of custom, involving at least emancipation from that yoke; and what is of most interest in the history of mankind is this contest between improvement and custom.'), 250: (0.56856, 'As a central element it shows a golden aquila holding a cross in its beak and a mace and a sword in its claws.'), 251: (0.54849, 'The group have also performed at various charity projects such as Band Aid 20, Live 8, Sound Relief, Hope for Haiti Now: A Global Benefit for Earthquake Relief, and the Teenage Cancer Trust.'), 252: (0.48161, \"Unrest after Michael Brown's death in Ferguson forced cancellations of practices.\"), 253: (0.97993, 'Persons of genius are, ex vi termini, more individual than any other people less capable, consequently, of fitting themselves, without hurtful compression, into any of the small number of moulds which society provides in order to save its members the trouble of forming their own character.'), 254: (0.64883, 'He held several senior positions in the Royal Flying Corps during World War I, serving as the commander of Royal Flying Corps in France from 1915 to 1917.'), 255: (0.7893, \"So impressed was Rostropovich with his young pupil that at the end of her study with him, he declared her ``the only cellist of the younger generation that could equal and overtake own achievement.''\"), 256: (0.70569, 'These enable the individual radio to be ‘stunned’ from the system remotely and removed from service until a time when the crime reduction manager feels sure it is safe to put the equipment back to work on the system.'), 257: (0.98662, \"Not to be confused with ``terms'' in colloquial usages, the shortened form of technical terms which are defined within a control or speciality field\"), 258: (0.32107, 'It has been suggested that eastern Pacific Ocean tropical cyclones are formed out of tropical waves that originate in North Africa as well.'), 259: (0.8796, 'We have chosen to allocate this local CIL to individual wards and to use our Local Area Partnerships as a mechanism for making decisions on how to spend the local CIL.'), 260: (0.45485, 'The Shinto pantheon alone consists of an uncountable number of kami.'), 261: (0.74247, 'Shortly thereafter, an inland tropical storm warning was issued for Pearl River, Walthall, and Pike counties in Mississippi and Washington Parish in Louisiana.'), 262: (0.20401, 'Researchers used the horned frog for the experiment. The horned frog is an amphibian from South America. It has protrusions that resemble horns above its eye sockets. The horned frog is also a popular pet.'), 263: (0.6087, 'Information which would allow for the identification of the individual is not included, as this may be a breach of the Data Protection Act 1998.'), 264: (0.91973, 'This is evident from sect. 29, 30, and 33, where we have shown what is meant by real things in opposition to chimeras or ideas of our own framing; but then they both equally exist in the mind, and in that sense they are alike ideas.'), 265: (0.8495, \"``[ new York Times, 9/11/02 ] OCT 5, 2002: detectives investigators say the FBI's efforts to block their inquiry makes them skeptical of FBI assertions.\"), 266: (0.92308, 'Additional shared features include spiracles and, in sturgeons, a heterocercal tail (the vertebrae extend into the larger lobe of the caudal fin).'), 267: (0.01003, 'They raised it up to 350 degrees c. They placed a few kernels on the scorching surface.'), 268: (0.79933, 'According to a recent study, car travel has reduced among people born in the 1990s compared to previous generations. According to the study, people born in the 1990s are making 4% fewer car trips and travelling 18% fewer miles per year, on average, than members of previous generations did at the same stage in their lives.'), 269: (0.86288, 'The feathers not directly employed in the biplane wing structure, like those on the tibia and the tail, could have been used to control drag and alter the flight path, trajectory, etc..'), 270: (0.62876, 'People with cardiomyopathy are often at risk of arrhythmia or sudden cardiac death or both, and the heart.'), 271: (0.93311, 'So the principle of giving to each what he deserves i.e. good for good as well as evil for evil is not only included within the idea of justice as i have defined it but is a proper object of that intensity of sentiment which leads people to put the just higher than the merely expedient.'), 272: (0.26421, \"Jeddah is the main gateway to Mecca, Islam's holiest city. || Able-bodied Muslims must visit Mecca at least once in their lifetime.\"), 273: (0.30769, 'U.S. officials believe the militants have divided the girls into smaller groups and hidden them in the deep forests of northeastern Nigeria, an area about the size of West Virginia.'), 274: (0.88963, '\"Occupy Wall Street had some important things to say about the gap between rich and poor but it was negative about the 1%,\" said Jamie Traeger-Muney, a wealth psychologist. The media, she said, makes the rich \"feel like they need to hide or feel ashamed\".'), 275: (0.54515, 'The reservoir has a volume of 4.26 mio m and a surface area of 0.25 km.'), 276: (0.86957, 'It also includes housing development opportunities in Attercliffe and at Waverley; the River Don and Sheffield and Tinsley Canal; tram and train networks; two motorway junctions on the M1; retail centres at Attercliffe, Meadowhall and Rotherham; and the new Advanced Manufacturing Park at Waverley.'), 277: (0.98328, \"Most of the new Trusts follow government office regional boundaries, exceptions to this are the Isle of Wight where provision will remain with the Island's Primary Care Trust, and South East and South West England which are both split into two Trusts.\"), 278: (0.91639, 'We may be said to have some knowledge or notion of our own minds, of spirits and active beings, whereof in a strict sense we have not ideas.'), 279: (0.47826, 'Some local residents fear the pipeline would accelerate development of the oil sands, and create additional pollution.'), 280: (0.67893, 'Most digital media are based on analog data into digital data and vice - versa.'), 281: (0.73244, 'Everyone agrees that the qualities of things never really exist in isolation from one another; rather, they are mixed and blended together, several in the same object.'), 282: (0.59197, 'Summerslam (2009) is an upcoming professional wrestling event produced by world wrestling (entertainment), which will take place on August 23, 2009 at center Los Angeles, Angeles.'), 283: (0.80602, 'They are evidence of the sympathy felt with the brutalities in jamaica by the brutal part of the population at home.'), 284: (0.29097, '\"One day, she was given a home in ÌÐstergÌ¦tland as a gift by some rich women after she had cured them successfully and treated them.\"'), 285: (0.59866, 'They named the place Alcante or Alcanatif which means Port of Salt, due to the old salt industry of Phoenicians and Romans.'), 286: (0.65217, 'The roof of the West Stand is corrugated iron this also houses the main television gantry which is accessed from the upper section seating area by a temporary ladder.'), 287: (0.55518, 'Football coaches have to take certain actions to relieve stress stops when WBGT readings get too high.'), 288: (0.88629, 'Although these things are indifferent in common uses, when they are brought into divine worship without divine authority they are as abominable to god as the sacrifice of a dog.'), 289: (0.17057, 'It is good that the cocoa industry promised $10 million to help. It is part of a 2010 agreement made between the U.S., the Ivory Coast, and Ghana. Ivory Coast and Ghana produce a lot of cocoa.'), 290: (0.48495, 'About 9,00 arrests issued to students in the 2011-2012 school year involved black and Latino students, according to data given to the Labor/Community Strategy Center.'), 291: (0.08696, \"Gollum bites off Frodo's finger with the Ring.\"), 292: (0.84281, 'McCombe said in 2011 that there was \"ample evidence\" that there may have been systematic torture of detainees\\x94. On Friday he ruled that a fair trial was possible, and highlighted the fact that thousands of documents came to light in 2011 after the Foreign Office admitted to a secret archive of colonial-era files.'), 293: (0.03344, 'Antimony is toxic.'), 294: (0.37793, \"However, after Flynn was able to get enough support to become council president, Arroyo said that he was happy for him. Arroyo said that he was happy for Flynn's kindness and work ethic, and that he looked forward to seeing how Flynn used those qualities in his new job.\"), 295: (0.70903, \"Foster's most recent book, The Ecological Revolution: Making Peace with the Planet, examines the ecological crisis, and includes essays on global warming, peak oil, species extinction, world water shortages, global hunger, alternative energy sources, sustainable development, and environmental justice.\"), 296: (0.92642, 'She was found by Walter Pidgeon when he came to film some footage in 1944, who visited Willow Run to shoot footage.'), 297: (0.56187, 'They worry silver may lose its power to fight infections if bacteria become more resistant as has already happened with some other drugs and with triclosan, an ingredient added to products'), 298: (0.07692, 'Scene 2: the Doctor rushes by the Captain in the street, who urges him to slow down.'), 299: (0.0903, 'The crowded conditions keep male penguins protecting eggs in the freezing Antarctic.')}\n"
     ]
    }
   ],
   "source": [
    "with open(\"/workspace/datasets/ds_labels/gpt300_Scores.pkl\", \"rb\") as input_file:\n",
    "    datax = pkl.load(input_file)\n",
    "\n",
    "    print(datax)"
   ]
  },
  {
   "cell_type": "code",
   "execution_count": 16,
   "metadata": {},
   "outputs": [],
   "source": [
    "def train_predict_compare(model, predict, gold_type):\n",
    "    reg_model = None\n",
    "\n",
    "    # versions of trained regression models\n",
    "    if model == 'general':\n",
    "        with open(\"/workspace/datasets/model_200.pkl\", \"rb\") as input_file:\n",
    "            reg_model = pkl.load(input_file)\n",
    "\n",
    "    if model == 'arts94':\n",
    "        X_ta, y_ta = load_ARTS_data(94)\n",
    "        reg_model = reg_rf.fit(X_ta, y_ta)\n",
    "    if model == 'arts300':\n",
    "        X_ta, y_ta = load_ARTS_data(300)\n",
    "        reg_model = reg_rf.fit(X_ta, y_ta)\n",
    "\n",
    "    if model == 'ta_children':\n",
    "        X_ta, y_ta = load_200_data(['britannica', 'TurkCorpus'], make_categorical_data=False, use1249LFs=True, multiple_datasets=True)\n",
    "        reg_model = reg_rf.fit(X_ta, y_ta)\n",
    "    if model == 'ta_language':\n",
    "        X_ta, y_ta = load_200_data(['NNSeval', 'OneStopEnglish', 'simpa', 'TurkCorpus'], make_categorical_data=False, use1249LFs=True, multiple_datasets=True)\n",
    "        reg_model = reg_rf.fit(X_ta, y_ta)\n",
    "    if model == 'd_medical':\n",
    "        X_ta, y_ta = load_200_data(['AutoMeTS', 'MTurkSF'], make_categorical_data=False, use1249LFs=True, multiple_datasets=True)\n",
    "        reg_model = reg_rf.fit(X_ta, y_ta)\n",
    "    if model == 'd_news':\n",
    "        X_ta, y_ta = load_200_data(['HutSSF', 'OneStopEnglish'], make_categorical_data=False, use1249LFs=True, multiple_datasets=True)\n",
    "        reg_model = reg_rf.fit(X_ta, y_ta)\n",
    "    if model == 'd_encyclopedia':\n",
    "        X_ta, y_ta = load_200_data(['britannica', 'EW-SEW-Turk', 'metaeval', 'NNSeval', 'SimpEval_22', 'TurkCorpus'], make_categorical_data=False, use1249LFs=True, multiple_datasets=True)\n",
    "        reg_model = reg_rf.fit(X_ta, y_ta)\n",
    "\n",
    "\n",
    "    # versions of predicted data\n",
    "    if predict == 94:\n",
    "        arts_X, unused_y = load_ARTS_data(94)\n",
    "        pred_y = reg_model.predict(arts_X)\n",
    "    if predict == 300:\n",
    "        arts_X, unused_y = load_ARTS_data(300)\n",
    "        pred_y = reg_model.predict(arts_X)\n",
    "\n",
    "\n",
    "    #versions of comparision data\n",
    "    if gold_type == 'G5':\n",
    "        unused_X, gold_y = load_ARTS_data(94)\n",
    "    if gold_type == 'ChatGPT':\n",
    "        unused_X, gold_y = load_ARTS_data(300)\n",
    "        \n",
    "    if gold_type == 'rand':\n",
    "        gold_y = []\n",
    "        random.seed(42)\n",
    "        for i in range(len(pred_y)):\n",
    "            gold_y.append(random.random())\n",
    "    if gold_type == 'zero5':\n",
    "        gold_y = []\n",
    "        for i in range(len(pred_y)):\n",
    "            gold_y.append(0.5)\n",
    "    if gold_type == 'stable':\n",
    "        gold_y = []\n",
    "        for i in range(len(pred_y)):\n",
    "            gold_y.append(0.5526)\n",
    "\n",
    "    return pred_y, gold_y"
   ]
  },
  {
   "cell_type": "code",
   "execution_count": 4,
   "metadata": {},
   "outputs": [],
   "source": [
    "from sklearn.metrics import mean_squared_error\n",
    "from sklearn.metrics import mean_absolute_error\n",
    "from sklearn.metrics import r2_score"
   ]
  },
  {
   "cell_type": "code",
   "execution_count": 21,
   "metadata": {},
   "outputs": [
    {
     "name": "stdout",
     "output_type": "stream",
     "text": [
      "0.27544970204145736\n",
      "0.09349789978328642\n",
      "-1.17266680391845\n"
     ]
    }
   ],
   "source": [
    "model = 'd_news'\n",
    "predict = 94\n",
    "gold_type = 'G5'\n",
    "new_g = [0.5] * 94\n",
    "\n",
    "gold_y, pred_y = train_predict_compare(model, predict, gold_type)\n",
    "\n",
    "msw = mean_absolute_error(gold_y, new_g)\n",
    "print(msw)\n",
    "\n",
    "print(mean_squared_error(gold_y, new_g))\n",
    "\n",
    "print(r2_score(gold_y, new_g))\n",
    "\n"
   ]
  }
 ],
 "metadata": {
  "kernelspec": {
   "display_name": "Python 3",
   "language": "python",
   "name": "python3"
  },
  "language_info": {
   "codemirror_mode": {
    "name": "ipython",
    "version": 3
   },
   "file_extension": ".py",
   "mimetype": "text/x-python",
   "name": "python",
   "nbconvert_exporter": "python",
   "pygments_lexer": "ipython3",
   "version": "3.8.18"
  }
 },
 "nbformat": 4,
 "nbformat_minor": 2
}
