{
 "cells": [
  {
   "cell_type": "code",
   "execution_count": 1,
   "metadata": {},
   "outputs": [
    {
     "name": "stderr",
     "output_type": "stream",
     "text": [
      "/usr/local/lib/python3.8/site-packages/torchvision/io/image.py:13: UserWarning: Failed to load image Python extension: \n",
      "  warn(f\"Failed to load image Python extension: {e}\")\n"
     ]
    },
    {
     "name": "stdout",
     "output_type": "stream",
     "text": [
      "resources get initialised\n"
     ]
    },
    {
     "name": "stderr",
     "output_type": "stream",
     "text": [
      "Some weights of BertModel were not initialized from the model checkpoint at SpanBERT/spanbert-large-cased and are newly initialized: ['bert.pooler.dense.weight', 'bert.pooler.dense.bias']\n",
      "You should probably TRAIN this model on a down-stream task to be able to use it for predictions and inference.\n"
     ]
    }
   ],
   "source": [
    "from bats_label_model import BatsModel"
   ]
  },
  {
   "cell_type": "code",
   "execution_count": 2,
   "metadata": {},
   "outputs": [
    {
     "name": "stderr",
     "output_type": "stream",
     "text": [
      "100%|██████████| 100/100 [00:02<00:00, 46.38epoch/s]\n",
      "/workspace/pruning_lfs.py:67: RuntimeWarning: invalid value encountered in scalar divide\n",
      "  merged_data.append([index, polarity, cov_simp, cov_src, precision, 1 - precision, cov_simp+cov_src, abs(cov_simp - cov_src), abs(cov_simp - cov_src)/(cov_simp+cov_src)])\n"
     ]
    }
   ],
   "source": [
    "ds_name = 'eval'\n",
    "\n",
    "bm = BatsModel(ds_name=ds_name)"
   ]
  },
  {
   "cell_type": "code",
   "execution_count": null,
   "metadata": {},
   "outputs": [],
   "source": [
    "ds_name = 'britannica'\n",
    "\n",
    "bm = BatsModel(ds_name=ds_name)"
   ]
  },
  {
   "cell_type": "code",
   "execution_count": null,
   "metadata": {},
   "outputs": [],
   "source": [
    "ds_name_m = 'MTurkSF'\n",
    "\n",
    "mm = BatsModel(ds_name=ds_name_m)"
   ]
  },
  {
   "cell_type": "code",
   "execution_count": null,
   "metadata": {},
   "outputs": [],
   "source": [
    "w_bm = bm.label_model.get_weights()\n",
    "w_mm = mm.label_model.get_weights()"
   ]
  },
  {
   "cell_type": "code",
   "execution_count": null,
   "metadata": {},
   "outputs": [],
   "source": [
    "w_mm"
   ]
  },
  {
   "cell_type": "code",
   "execution_count": null,
   "metadata": {},
   "outputs": [],
   "source": [
    "child_example = 'Hans likes his bike. Hans has a brown jacket.'\n",
    "\n",
    "bm.calc_score(child_example)"
   ]
  },
  {
   "cell_type": "code",
   "execution_count": null,
   "metadata": {},
   "outputs": [],
   "source": [
    "child_example = 'Hans likes his bike. Hans has a brown jacket.'\n",
    "print(bm.calc_naive_score(child_example)) # children, encyclopedia\n",
    "print(mm.calc_naive_score(child_example)) # non-experts, medical"
   ]
  },
  {
   "cell_type": "code",
   "execution_count": null,
   "metadata": {},
   "outputs": [],
   "source": [
    "child_example = 'Hans is ill. He has a rash. It is itching.'\n",
    "print(bm.calc_naive_score(child_example)) # children, encyclopedia\n",
    "print(mm.calc_naive_score(child_example)) # non-experts, medical"
   ]
  },
  {
   "cell_type": "code",
   "execution_count": null,
   "metadata": {},
   "outputs": [],
   "source": [
    "non_ex_example = 'Hans enjoys riding his bicycle. He is wearing his brown blazer.'\n",
    "print(bm.calc_naive_score(non_ex_example)) # children, encyclopedia\n",
    "print(mm.calc_naive_score(non_ex_example)) # non-experts, medical"
   ]
  },
  {
   "cell_type": "code",
   "execution_count": null,
   "metadata": {},
   "outputs": [],
   "source": [
    "non_ex_example = 'Hans has cancer, he is an experienced and seasoned patient but he still is experiencing excruciating pain in his joints.'\n",
    "print(bm.calc_naive_score(non_ex_example)) # children, encyclopedia\n",
    "print(mm.calc_naive_score(non_ex_example)) # non-experts, medical"
   ]
  }
 ],
 "metadata": {
  "kernelspec": {
   "display_name": "Python 3",
   "language": "python",
   "name": "python3"
  },
  "language_info": {
   "codemirror_mode": {
    "name": "ipython",
    "version": 3
   },
   "file_extension": ".py",
   "mimetype": "text/x-python",
   "name": "python",
   "nbconvert_exporter": "python",
   "pygments_lexer": "ipython3",
   "version": "3.8.18"
  }
 },
 "nbformat": 4,
 "nbformat_minor": 2
}
