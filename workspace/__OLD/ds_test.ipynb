{
 "cells": [
  {
   "cell_type": "code",
   "execution_count": 1,
   "metadata": {},
   "outputs": [],
   "source": [
    "import pandas as pd\n",
    "import os\n",
    "import pickle\n",
    "import random\n"
   ]
  },
  {
   "cell_type": "code",
   "execution_count": 3,
   "metadata": {},
   "outputs": [],
   "source": [
    "from load_datasets import load_asset_ds\n",
    "from load_datasets import load_automets_ds\n",
    "from load_datasets import load_benchls_ds\n",
    "from load_datasets import load_britannica_ds\n",
    "from load_datasets import load_dwikipedia_ds\n",
    "from load_datasets import load_ewsewgmpm_ds\n",
    "from load_datasets import load_ewsewturk_ds\n",
    "from load_datasets import load_htss_ds\n",
    "from load_datasets import load_hutssf_ds\n",
    "from load_datasets import load_massalign_ds\n",
    "from load_datasets import load_metaeval_ds\n",
    "from load_datasets import load_mturksf_ds\n",
    "from load_datasets import load_nnseval_ds\n",
    "from load_datasets import load_onestopenglish_ds\n",
    "from load_datasets import load_pwkp_ds\n",
    "from load_datasets import load_questeval_ds\n",
    "from load_datasets import load_semeval07_ds\n",
    "from load_datasets import load_simpa_ds\n",
    "from load_datasets import load_simpeval_ds\n",
    "from load_datasets import load_sscorpus_ds\n",
    "from load_datasets import load_turkcorpus_ds\n",
    "from load_datasets import load_wikiauto_ds\n",
    "from load_datasets import load_wikimanual_ds\n",
    "from load_datasets import load_wikisplit_ds\n",
    "from load_datasets import load_wikipediav1_ds\n",
    "from load_datasets import load_wikipediav2_ds\n",
    "from load_datasets import path_to_datasets\n",
    "\n",
    "if not os.path.isdir(path_to_datasets):\n",
    "    os.mkdir(path_to_datasets)\n",
    "\n",
    "asset = load_asset_ds()\n",
    "automets = load_automets_ds()\n",
    "benchls = load_benchls_ds()\n",
    "britannica = load_britannica_ds()\n",
    "dwikipedia = load_dwikipedia_ds()\n",
    "ewsewgmpm = load_ewsewgmpm_ds()\n",
    "ewsewturk = load_ewsewturk_ds()\n",
    "htss = load_htss_ds()\n",
    "hutssf = load_hutssf_ds()\n",
    "massalign = load_massalign_ds()\n",
    "metaeval = load_metaeval_ds()\n",
    "mturksf = load_mturksf_ds()\n",
    "nnseval = load_nnseval_ds()\n",
    "onestopenglish = load_onestopenglish_ds()\n",
    "pwkp = load_pwkp_ds()\n",
    "questeval = load_questeval_ds()\n",
    "semeval07 = load_semeval07_ds()\n",
    "simpa = load_simpa_ds()\n",
    "simpeval = load_simpeval_ds()\n",
    "sscorpus = load_sscorpus_ds()\n",
    "turkcorpus = load_turkcorpus_ds()\n",
    "wikiauto = load_wikiauto_ds()\n",
    "wikimanual = load_wikimanual_ds()\n",
    "wikisplit = load_wikisplit_ds()\n",
    "wikipediav1 = load_wikipediav1_ds()\n",
    "wikipediav2 = load_wikipediav2_ds()"
   ]
  },
  {
   "cell_type": "code",
   "execution_count": 68,
   "metadata": {},
   "outputs": [
    {
     "name": "stdout",
     "output_type": "stream",
     "text": [
      "1004944 & 175.0 & 193.19\n"
     ]
    }
   ],
   "source": [
    "ds = wikisplit\n",
    "\n",
    "string = ''\n",
    "string += str(len(ds)) + ' & '\n",
    "lens = 0\n",
    "for t in ds['src']:\n",
    "    lens += len(t)\n",
    "string += str(round(lens/len(ds), 2)) + ' & '\n",
    "lens = 0\n",
    "for t in ds['simp']:\n",
    "    lens += len(t)\n",
    "string += str(round(lens/len(ds), 2))\n",
    "\n",
    "print(string)\n",
    "\n",
    "#for i in range(10):\n",
    "#    print(ds['src'][i])\n",
    "#    print(ds['simp'][i])\n",
    "#    print('---')"
   ]
  }
 ],
 "metadata": {
  "kernelspec": {
   "display_name": "Python 3",
   "language": "python",
   "name": "python3"
  },
  "language_info": {
   "codemirror_mode": {
    "name": "ipython",
    "version": 3
   },
   "file_extension": ".py",
   "mimetype": "text/x-python",
   "name": "python",
   "nbconvert_exporter": "python",
   "pygments_lexer": "ipython3",
   "version": "3.8.18"
  }
 },
 "nbformat": 4,
 "nbformat_minor": 2
}
