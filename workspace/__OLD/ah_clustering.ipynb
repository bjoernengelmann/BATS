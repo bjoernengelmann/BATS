{
 "cells": [
  {
   "cell_type": "code",
   "execution_count": 16,
   "metadata": {},
   "outputs": [],
   "source": [
    "import pickle\n",
    "import numpy as np\n",
    "from labeling_functions import get_all_lfs\n",
    "#from itables import init_notebook_mode\n",
    "\n",
    "from tqdm import tqdm\n",
    "#init_notebook_mode(all_interactive=True)\n",
    "all_lfs = get_all_lfs()\n",
    "\n",
    "from matplotlib import pyplot as plt\n",
    "from scipy.cluster.hierarchy import dendrogram\n",
    "\n",
    "from pruning_lfs import prune_lfs"
   ]
  },
  {
   "cell_type": "code",
   "execution_count": 4,
   "metadata": {},
   "outputs": [],
   "source": [
    "# clustering\n",
    "\n",
    "val_simp_labels = pickle.load(open(\"/workspace/datasets/ds_labels/MTurkSF_simp_labels.pkl\", \"rb\"))\n",
    "val_src_labels = pickle.load(open(\"/workspace/datasets/ds_labels/MTurkSF_src_labels.pkl\", \"rb\"))\n",
    "\n",
    "val_all_labels = np.concatenate([val_simp_labels, val_src_labels])"
   ]
  },
  {
   "cell_type": "code",
   "execution_count": 5,
   "metadata": {},
   "outputs": [
    {
     "data": {
      "text/plain": [
       "(221, 328)"
      ]
     },
     "execution_count": 5,
     "metadata": {},
     "output_type": "execute_result"
    }
   ],
   "source": [
    "val_src_labels.shape"
   ]
  },
  {
   "cell_type": "code",
   "execution_count": 6,
   "metadata": {},
   "outputs": [
    {
     "data": {
      "text/plain": [
       "(442, 328)"
      ]
     },
     "execution_count": 6,
     "metadata": {},
     "output_type": "execute_result"
    }
   ],
   "source": [
    "val_all_labels.shape"
   ]
  },
  {
   "cell_type": "code",
   "execution_count": 8,
   "metadata": {},
   "outputs": [],
   "source": [
    "from sklearn.cluster import AgglomerativeClustering"
   ]
  },
  {
   "cell_type": "code",
   "execution_count": 9,
   "metadata": {},
   "outputs": [
    {
     "data": {
      "text/plain": [
       "1249"
      ]
     },
     "execution_count": 9,
     "metadata": {},
     "output_type": "execute_result"
    }
   ],
   "source": [
    "len(all_lfs)"
   ]
  },
  {
   "cell_type": "code",
   "execution_count": 10,
   "metadata": {},
   "outputs": [],
   "source": [
    "#transpose mat to consider lfs as samples to cluster on\n",
    "\n",
    "X = val_all_labels.transpose()\n"
   ]
  },
  {
   "cell_type": "code",
   "execution_count": 11,
   "metadata": {},
   "outputs": [
    {
     "data": {
      "text/plain": [
       "(328, 442)"
      ]
     },
     "execution_count": 11,
     "metadata": {},
     "output_type": "execute_result"
    }
   ],
   "source": [
    "X.shape"
   ]
  },
  {
   "cell_type": "code",
   "execution_count": 37,
   "metadata": {},
   "outputs": [],
   "source": [
    "num_clusters = 4"
   ]
  },
  {
   "cell_type": "code",
   "execution_count": 38,
   "metadata": {},
   "outputs": [],
   "source": [
    "clustering = AgglomerativeClustering(n_clusters=num_clusters).fit(X)\n",
    "clustering_for_dendo = AgglomerativeClustering(distance_threshold=0, n_clusters=None).fit(X)"
   ]
  },
  {
   "cell_type": "code",
   "execution_count": 39,
   "metadata": {},
   "outputs": [
    {
     "data": {
      "text/plain": [
       "array([0, 0, 0, 0, 2, 2, 2, 2, 2, 2, 1, 1, 1, 1, 1, 1, 1, 1, 1, 0, 0, 0,\n",
       "       0, 0, 0, 0, 0, 0, 0, 0, 0, 0, 0, 0, 0, 0, 0, 0, 0, 0, 0, 0, 0, 0,\n",
       "       0, 0, 0, 0, 0, 0, 0, 0, 0, 0, 0, 0, 0, 0, 0, 0, 3, 1, 1, 1, 0, 0,\n",
       "       0, 0, 0, 0, 0, 0, 0, 0, 0, 3, 1, 2, 2, 0, 0, 2, 2, 2, 2, 2, 2, 2,\n",
       "       2, 2, 2, 2, 2, 0, 0, 2, 2, 2, 2, 2, 2, 2, 2, 2, 2, 2, 2, 2, 2, 2,\n",
       "       2, 2, 2, 2, 2, 2, 2, 2, 2, 2, 2, 2, 0, 2, 0, 0, 0, 0, 0, 0, 0, 0,\n",
       "       0, 0, 0, 0, 0, 0, 0, 0, 0, 3, 3, 3, 3, 3, 3, 3, 3, 3, 3, 3, 3, 3,\n",
       "       3, 3, 1, 0, 2, 2, 1, 1, 0, 0, 0, 0, 0, 0, 0, 0, 0, 0, 0, 1, 1, 0,\n",
       "       0, 0, 0, 0, 0, 0, 0, 0, 0, 0, 0, 1, 1, 1, 2, 0, 0, 0, 0, 0, 0, 0,\n",
       "       0, 0, 0, 0, 0, 0, 0, 0, 0, 0, 0, 0, 0, 0, 0, 0, 0, 0, 0, 0, 0, 0,\n",
       "       0, 0, 0, 0, 0, 2, 2, 0, 0, 0, 0, 0, 0, 0, 0, 0, 0, 0, 0, 0, 0, 0,\n",
       "       0, 0, 0, 0, 0, 0, 0, 0, 3, 3, 3, 3, 3, 3, 3, 1, 1, 3, 3, 3, 3, 3,\n",
       "       1, 1, 1, 3, 3, 3, 3, 1, 1, 1, 1, 1, 3, 3, 1, 2, 2, 2, 2, 2, 0, 0,\n",
       "       0, 0, 0, 0, 0, 0, 0, 0, 0, 0, 0, 0, 0, 0, 0, 0, 0, 0, 0, 0, 0, 0,\n",
       "       0, 0, 1, 1, 0, 0, 0, 0, 0, 0, 1, 1, 1, 1, 1, 0, 0, 0, 0, 0])"
      ]
     },
     "execution_count": 39,
     "metadata": {},
     "output_type": "execute_result"
    }
   ],
   "source": [
    "clustering.labels_"
   ]
  },
  {
   "cell_type": "code",
   "execution_count": 40,
   "metadata": {},
   "outputs": [
    {
     "data": {
      "text/plain": [
       "Counter({0: 196, 2: 58, 1: 39, 3: 35})"
      ]
     },
     "execution_count": 40,
     "metadata": {},
     "output_type": "execute_result"
    }
   ],
   "source": [
    "from collections import Counter\n",
    "\n",
    "Counter(clustering.labels_)"
   ]
  },
  {
   "cell_type": "code",
   "execution_count": 41,
   "metadata": {},
   "outputs": [],
   "source": [
    "def plot_dendrogram(model, **kwargs):\n",
    "    # Create linkage matrix and then plot the dendrogram\n",
    "\n",
    "    # create the counts of samples under each node\n",
    "    counts = np.zeros(model.children_.shape[0])\n",
    "    n_samples = len(model.labels_)\n",
    "    for i, merge in enumerate(model.children_):\n",
    "        current_count = 0\n",
    "        for child_idx in merge:\n",
    "            if child_idx < n_samples:\n",
    "                current_count += 1  # leaf node\n",
    "            else:\n",
    "                current_count += counts[child_idx - n_samples]\n",
    "        counts[i] = current_count\n",
    "\n",
    "    linkage_matrix = np.column_stack(\n",
    "        [model.children_, model.distances_, counts]\n",
    "    ).astype(float)\n",
    "\n",
    "    # Plot the corresponding dendrogram\n",
    "    dendrogram(linkage_matrix, **kwargs)\n"
   ]
  },
  {
   "cell_type": "code",
   "execution_count": 42,
   "metadata": {},
   "outputs": [
    {
     "data": {
      "image/png": "[encoded data removed]",
      "text/plain": [
       "<Figure size 640x480 with 1 Axes>"
      ]
     },
     "metadata": {},
     "output_type": "display_data"
    }
   ],
   "source": [
    "plt.title(\"Hierarchical Clustering Dendrogram\")\n",
    "# plot the top three levels of the dendrogram\n",
    "plot_dendrogram(clustering_for_dendo, truncate_mode=\"level\", p=3)\n",
    "plt.xlabel(\"Number of points in node (or index of point if no parenthesis).\")\n",
    "plt.show()"
   ]
  },
  {
   "cell_type": "code",
   "execution_count": 43,
   "metadata": {},
   "outputs": [],
   "source": [
    "#cluster assignments"
   ]
  },
  {
   "cell_type": "code",
   "execution_count": 44,
   "metadata": {},
   "outputs": [
    {
     "name": "stderr",
     "output_type": "stream",
     "text": [
      "/workspace/pruning_lfs.py:52: RuntimeWarning: invalid value encountered in scalar divide\n",
      "  merged_data.append([index, polarity, cov_simp, cov_src, precision, 1 - precision, cov_simp+cov_src, abs(cov_simp - cov_src), abs(cov_simp - cov_src)/(cov_simp+cov_src)])\n"
     ]
    },
    {
     "data": {
      "text/plain": [
       "328"
      ]
     },
     "execution_count": 44,
     "metadata": {},
     "output_type": "execute_result"
    }
   ],
   "source": [
    "all_lfs = prune_lfs()\n",
    "len(all_lfs)"
   ]
  },
  {
   "cell_type": "code",
   "execution_count": 45,
   "metadata": {},
   "outputs": [],
   "source": [
    "clusters_lf_map = {i:[] for i in range(num_clusters)}\n",
    "\n",
    "for i in range(len(all_lfs)):\n",
    "    clusters_lf_map[clustering.labels_[i]].append(all_lfs[i].name) "
   ]
  },
  {
   "cell_type": "code",
   "execution_count": 46,
   "metadata": {},
   "outputs": [
    {
     "name": "stdout",
     "output_type": "stream",
     "text": [
      "0\n",
      "lf_words_cnt_wcount=15_SIMPLE\n",
      "lf_words_cnt_wcount=16_SIMPLE\n",
      "lf_words_cnt_wcount=17_SIMPLE\n",
      "lf_words_cnt_wcount=18_SIMPLE\n",
      "lf_words_cnt_wcount=29_NOT_SIMPLE\n",
      "lf_words_cnt_wcount=30_NOT_SIMPLE\n",
      "lf_words_cnt_wcount=31_NOT_SIMPLE\n",
      "lf_words_cnt_wcount=32_NOT_SIMPLE\n",
      "lf_words_cnt_wcount=33_NOT_SIMPLE\n",
      "lf_words_cnt_wcount=34_NOT_SIMPLE\n",
      "lf_words_cnt_wcount=35_NOT_SIMPLE\n",
      "lf_words_cnt_wcount=36_NOT_SIMPLE\n",
      "lf_words_cnt_wcount=37_NOT_SIMPLE\n",
      "lf_words_cnt_wcount=38_NOT_SIMPLE\n",
      "lf_words_cnt_wcount=39_NOT_SIMPLE\n",
      "lf_infrequent_words_cnt=1_bunny_SIMPLE\n",
      "lf_infrequent_words_cnt=2_sheep_SIMPLE\n",
      "lf_infrequent_words_cnt=2_bat_SIMPLE\n",
      "low_prop_long_words_syllables_long=2_prop=0.25_label=0\n",
      "low_prop_long_words_letters_long=5_prop=0.3_label=0\n",
      "low_prop_long_words_letters_long=6_prop=0.15_label=0\n",
      "low_prop_long_words_letters_long=6_prop=0.2_label=0\n",
      "low_prop_long_words_letters_long=7_prop=0.1_label=0\n",
      "low_prop_long_words_letters_long=8_prop=0.05_label=0\n",
      "low_prop_long_words_letters_long=8_prop=0.075_label=0\n",
      "low_prop_long_words_letters_long=8_prop=0.2_label=0\n",
      "low_prop_long_words_letters_long=9_prop=0.01_label=0\n",
      "low_prop_long_words_letters_long=9_prop=0.025_label=0\n",
      "low_prop_long_words_letters_long=9_prop=0.05_label=0\n",
      "low_prop_long_words_letters_long=9_prop=0.15_label=0\n",
      "low_fkg_threshold=6_0\n",
      "low_fkg_threshold=8_0\n",
      "low_fkg_threshold=9_0\n",
      "low_fkg_threshold=10_0\n",
      "low_fkg_threshold=11_0\n",
      "low_fkg_threshold=12_0\n",
      "high_fkre_threshold=80_0\n",
      "high_fkre_threshold=70_0\n",
      "high_fkre_threshold=60_0\n",
      "lf_median_age_of_acquisition=4.5_SIMPLE\n",
      "lf_median_age_of_acquisition=4.6_SIMPLE\n",
      "lf_median_age_of_acquisition=4.7_SIMPLE\n",
      "lf_median_age_of_acquisition=4.75_SIMPLE\n",
      "lf_median_age_of_acquisition=5_SIMPLE\n",
      "lf_median_age_of_acquisition=5.25_SIMPLE\n",
      "lf_max_age_of_acquisition=15_NOT_SIMPLE\n",
      "lf_max_age_of_acquisition=16_NOT_SIMPLE\n",
      "lf_max_age_of_acquisition=17_NOT_SIMPLE\n",
      "lf_max_age_of_acquisition=18_NOT_SIMPLE\n",
      "lf_max_age_of_acquisition=19_NOT_SIMPLE\n",
      "lf_avg_age_of_acquisition=4.75_SIMPLE\n",
      "lf_avg_age_of_acquisition=5_SIMPLE\n",
      "lf_avg_age_of_acquisition=5.25_SIMPLE\n",
      "lf_avg_age_of_acquisition=5.5_SIMPLE\n",
      "lf_avg_age_of_acquisition=5.75_SIMPLE\n",
      "lf_avg_age_of_acquisition=6_SIMPLE\n",
      "lf_avg_concreteness=2.5_SIMPLE\n",
      "lf_avg_concreteness=2.75_SIMPLE\n",
      "low_num_words_in_sents_avg_thres=15_label=0\n",
      "low_num_words_in_sents_avg_thres=17_label=0\n",
      "lf_avg_imageability=3.65_SIMPLE\n",
      "depth_of_syntactic_tree_label=1_thresh=9\n",
      "depth_of_syntactic_tree_label=1_thresh=10\n",
      "depth_of_syntactic_tree_label=1_thresh=11\n",
      "depth_of_syntactic_tree_label=1_thresh=12\n",
      "depth_of_syntactic_tree_label=1_thresh=13\n",
      "depth_of_syntactic_tree_label=1_thresh=14\n",
      "depth_of_syntactic_tree_label=1_thresh=15\n",
      "depth_of_syntactic_tree_label=1_thresh=16\n",
      "depth_of_syntactic_tree_label=1_thresh=17\n",
      "avg_num_punctuation_text_label=0_thresh=1\n",
      "avg_num_punctuation_text_label=0_thresh=1.2\n",
      "avg_num_punctuation_text_label=0_thresh=1.5\n",
      "avg_num_punctuation_text_label=0_thresh=1.75\n",
      "avg_num_punctuation_text_label=0_thresh=1.8\n",
      "avg_num_punctuation_text_label=0_thresh=1.95\n",
      "avg_num_punctuation_text_label=0_thresh=2\n",
      "avg_num_punctuation_text_label=0_thresh=2.5\n",
      "num_unique_lemmas_label=0_thresh=15\n",
      "num_unique_lemmas_label=1_thresh=30\n",
      "num_unique_lemmas_label=1_thresh=35\n",
      "num_unique_lemmas_label=1_thresh=40\n",
      "num_unique_lemmas_norm_label=0_thresh=0.675\n",
      "num_unique_lemmas_norm_label=0_thresh=0.7\n",
      "ratio_academic_word_list_label=0_thresh=0.03\n",
      "ratio_academic_word_list_label=0_thresh=0.04\n",
      "ratio_academic_word_list_label=1_thresh=0.15\n",
      "lf_median_concreteness=2.5_SIMPLE\n",
      "lf_content_ratio_thresh=0.3_label=SIMPLE\n",
      "lf_content_ratio_thresh=0.6_label=NOT_SIMPLE\n",
      "entity_token_ratio_paragraph_label=1_thresh=0.05\n",
      "entity_token_ratio_paragraph_label=1_thresh=0.075\n",
      "average_entities_paragraph_label=1_thresh=5\n",
      "average_entities_paragraph_label=1_thresh=6\n",
      "average_entities_paragraph_label=1_thresh=7\n",
      "average_entities_paragraph_label=1_thresh=8\n",
      "average_entities_paragraph_label=1_thresh=9\n",
      "average_entities_paragraph_label=1_thresh=10\n",
      "average_entities_paragraph_label=1_thresh=11\n",
      "average_entities_paragraph_label=1_thresh=12\n",
      "average_entities_paragraph_label=1_thresh=13\n",
      "average_entities_paragraph_label=1_thresh=14\n",
      "avg_num_words_before_main_verb_label=1_thresh=10\n",
      "avg_num_words_before_main_verb_label=1_thresh=12\n",
      "avg_num_words_before_main_verb_label=1_thresh=13\n",
      "avg_num_words_before_main_verb_label=1_thresh=14\n",
      "avg_num_words_before_main_verb_label=1_thresh=15\n",
      "avg_num_words_before_main_verb_label=1_thresh=16\n",
      "avg_num_words_before_main_verb_label=1_thresh=17\n",
      "avg_num_words_before_main_verb_label=1_thresh=18\n",
      "perc_past_perfect_label=0_thresh=0.3\n",
      "perc_past_perfect_label=0_thresh=0.4\n",
      "num_past_perfect_label=1_thresh=10\n",
      "num_past_perfect_label=1_thresh=12\n",
      "num_past_perfect_label=1_thresh=13\n",
      "num_past_perfect_label=1_thresh=14\n",
      "num_past_perfect_label=1_thresh=15\n",
      "num_past_perfect_label=1_thresh=16\n",
      "num_past_perfect_label=1_thresh=17\n",
      "num_past_perfect_label=1_thresh=18\n",
      "num_past_perfect_label=1_thresh=19\n",
      "num_past_perfect_label=1_thresh=20\n",
      "num_past_tense_label=1_thresh=6\n",
      "num_past_tense_label=1_thresh=7\n",
      "num_past_tense_label=1_thresh=8\n",
      "num_past_tense_label=1_thresh=12\n",
      "num_past_tense_label=1_thresh=15\n",
      "freq_third_person_singular_pronouns_label=1_thresh=1\n",
      "freq_third_person_singular_pronouns_label=1_thresh=2\n",
      "freq_third_person_singular_pronouns_label=1_thresh=3\n",
      "freq_third_person_singular_pronouns_label=1_thresh=4\n",
      "freq_third_person_singular_pronouns_label=1_thresh=5\n",
      "freq_third_person_singular_pronouns_label=1_thresh=6\n",
      "freq_third_person_singular_pronouns_label=1_thresh=7\n",
      "freq_third_person_singular_pronouns_label=1_thresh=8\n",
      "freq_third_person_singular_pronouns_label=1_thresh=9\n",
      "freq_negations_label=1_thresh=1\n",
      "freq_negations_label=1_thresh=2\n",
      "freq_negations_label=1_thresh=3\n",
      "freq_negations_label=1_thresh=4\n",
      "freq_negations_label=1_thresh=5\n",
      "freq_negations_label=1_thresh=6\n",
      "freq_negations_label=1_thresh=7\n",
      "freq_negations_label=1_thresh=8\n",
      "perc_more_than_8_characters_label=0_thresh=0\n",
      "perc_more_than_8_characters_label=0_thresh=0.01\n",
      "perc_more_than_8_characters_label=0_thresh=0.02\n",
      "perc_more_than_8_characters_label=0_thresh=0.035\n",
      "perc_more_than_8_characters_label=0_thresh=0.05\n",
      "lf_infrequent_words_per_sentence=1_bunny_SIMPLE\n",
      "lf_infrequent_words_per_sentence=1_roadrunner_SIMPLE\n",
      "lf_infrequent_words_per_sentence=1_anisakis_SIMPLE\n",
      "lf_infrequent_words_per_sentence=1_leopard_SIMPLE\n",
      "lf_infrequent_words_per_sentence=2_sheep_SIMPLE\n",
      "lf_infrequent_words_per_sentence=2_bunny_SIMPLE\n",
      "lf_infrequent_words_per_sentence=2_octopus_SIMPLE\n",
      "lf_infrequent_words_per_sentence=2_okapi_SIMPLE\n",
      "lf_infrequent_words_per_sentence=2_bat_SIMPLE\n",
      "lf_infrequent_words_per_sentence=2_leopard_SIMPLE\n",
      "low_modifier_ratio_thres=0.15_label=0\n",
      "lf_min_imageability=2_NOT_SIMPLE\n",
      "lf_min_imageability=2.5_NOT_SIMPLE\n",
      "no_relative_clauses_label=1_thresh=3\n",
      "no_relative_clauses_label=1_thresh=4\n",
      "no_relative_clauses_label=1_thresh=5\n",
      "no_relative_clauses_label=1_thresh=6\n",
      "no_relative_clauses_label=1_thresh=7\n",
      "no_relative_clauses_label=1_thresh=8\n",
      "no_relative_clauses_label=1_thresh=9\n",
      "no_relative_clauses_label=1_thresh=10\n",
      "no_relative_clauses_label=1_thresh=11\n",
      "no_relative_clauses_label=1_thresh=12\n",
      "no_relative_sub_clauses_label=1_thresh=3\n",
      "no_relative_sub_clauses_label=1_thresh=4\n",
      "no_relative_sub_clauses_label=1_thresh=5\n",
      "no_relative_sub_clauses_label=1_thresh=6\n",
      "no_relative_sub_clauses_label=1_thresh=7\n",
      "no_relative_sub_clauses_label=1_thresh=8\n",
      "no_relative_sub_clauses_label=1_thresh=9\n",
      "no_relative_sub_clauses_label=1_thresh=10\n",
      "no_relative_sub_clauses_label=1_thresh=11\n",
      "no_relative_sub_clauses_label=1_thresh=12\n",
      "avarage_distance_appearance_same_entities_paragraph_label=1_thresh=2\n",
      "avarage_distance_appearance_same_entities_paragraph_label=1_thresh=2.5\n",
      "avarage_distance_appearance_same_entities_paragraph_label=1_thresh=3\n",
      "low_num_words_in_sents_max_thres=30_label=1\n",
      "low_num_words_in_sents_max_thres=35_label=1\n",
      "low_num_words_in_sents_max_thres=40_label=1\n",
      "low_num_words_in_sents_max_thres=42_label=1\n",
      "low_num_words_in_sents_max_thres=45_label=1\n",
      "low_num_words_in_sents_max_thres=50_label=1\n",
      "low_num_words_in_sents_avg_thres=30_label=1\n",
      "low_num_words_in_sents_avg_thres=35_label=1\n",
      "low_num_words_in_sents_avg_thres=40_label=1\n",
      "low_num_words_in_sents_avg_thres=42_label=1\n",
      "low_num_words_in_sents_avg_thres=45_label=1\n",
      "\n",
      "\n",
      "1\n",
      "lf_words_cnt_wcount=20_NOT_SIMPLE\n",
      "lf_words_cnt_wcount=21_NOT_SIMPLE\n",
      "lf_words_cnt_wcount=22_NOT_SIMPLE\n",
      "lf_words_cnt_wcount=23_NOT_SIMPLE\n",
      "lf_words_cnt_wcount=24_NOT_SIMPLE\n",
      "lf_words_cnt_wcount=25_NOT_SIMPLE\n",
      "lf_words_cnt_wcount=26_NOT_SIMPLE\n",
      "lf_words_cnt_wcount=27_NOT_SIMPLE\n",
      "lf_words_cnt_wcount=28_NOT_SIMPLE\n",
      "lf_median_age_of_acquisition=6_NOT_SIMPLE\n",
      "lf_max_age_of_acquisition=12_NOT_SIMPLE\n",
      "lf_max_age_of_acquisition=13_NOT_SIMPLE\n",
      "lf_avg_age_of_acquisition=7_NOT_SIMPLE\n",
      "avg_num_punctuation_text_label=1_thresh=4\n",
      "num_unique_lemmas_label=1_thresh=20\n",
      "num_unique_lemmas_label=1_thresh=25\n",
      "entity_token_ratio_paragraph_label=1_thresh=0\n",
      "entity_token_ratio_paragraph_label=1_thresh=0.025\n",
      "unique_entity_total_entity_ratio_sentence_thresh=0.5_label=1\n",
      "unique_entity_total_entity_ratio_sentence_thresh=0.6_label=1\n",
      "unique_entity_total_entity_ratio_sentence_thresh=0.7_label=1\n",
      "lf_infrequent_words_per_sentence=4_okapi_NOT_SIMPLE\n",
      "lf_infrequent_words_per_sentence=4_anisakis_NOT_SIMPLE\n",
      "lf_infrequent_words_per_sentence=5_roadrunner_NOT_SIMPLE\n",
      "lf_infrequent_words_per_sentence=5_okapi_NOT_SIMPLE\n",
      "lf_infrequent_words_per_sentence=5_anisakis_NOT_SIMPLE\n",
      "low_fkg_threshold=13_1\n",
      "low_fkg_threshold=14_1\n",
      "low_fkg_threshold=15_1\n",
      "low_fkg_threshold=16_1\n",
      "low_fkg_threshold=18_1\n",
      "high_fkre_threshold=30_1\n",
      "low_num_words_in_sents_max_thres=26_label=1\n",
      "low_num_words_in_sents_max_thres=28_label=1\n",
      "low_num_words_in_sents_avg_thres=20_label=1\n",
      "low_num_words_in_sents_avg_thres=22_label=1\n",
      "low_num_words_in_sents_avg_thres=24_label=1\n",
      "low_num_words_in_sents_avg_thres=26_label=1\n",
      "low_num_words_in_sents_avg_thres=28_label=1\n",
      "\n",
      "\n",
      "2\n",
      "lf_words_cnt_wcount=19_SIMPLE\n",
      "lf_words_cnt_wcount=20_SIMPLE\n",
      "lf_words_cnt_wcount=21_SIMPLE\n",
      "lf_words_cnt_wcount=22_SIMPLE\n",
      "lf_words_cnt_wcount=23_SIMPLE\n",
      "lf_words_cnt_wcount=24_SIMPLE\n",
      "lf_median_concreteness=2.25_NOT_SIMPLE\n",
      "lf_median_concreteness=2.375_NOT_SIMPLE\n",
      "lf_avg_concreteness=2.5_NOT_SIMPLE\n",
      "unique_entity_total_entity_ratio_sentence_thresh=0.5_label=0\n",
      "unique_entity_total_entity_ratio_sentence_thresh=0.6_label=0\n",
      "unique_entity_total_entity_ratio_sentence_thresh=0.7_label=0\n",
      "average_entities_sentence_label=0_thresh=0.75\n",
      "average_entities_sentence_label=0_thresh=1.5\n",
      "entity_token_ratio_sentence_label=0_thresh=0.045\n",
      "entity_token_ratio_sentence_label=0_thresh=0.05\n",
      "entity_token_ratio_sentence_label=0_thresh=0.055\n",
      "entity_token_ratio_sentence_label=0_thresh=0.06\n",
      "low_num_words_in_sents_max_thres=26_label=0\n",
      "low_num_words_in_sents_max_thres=28_label=0\n",
      "low_num_words_in_sents_avg_thres=20_label=0\n",
      "low_num_words_in_sents_avg_thres=22_label=0\n",
      "low_num_words_in_sents_avg_thres=25_label=0\n",
      "distance_appearance_same_entities_paragraph_dist_label=0_thresh_dist=1_num0\n",
      "distance_appearance_same_entities_paragraph_dist_label=0_thresh_dist=1_num1\n",
      "distance_appearance_same_entities_paragraph_dist_label=0_thresh_dist=1_num2\n",
      "distance_appearance_same_entities_paragraph_dist_label=0_thresh_dist=1_num3\n",
      "distance_appearance_same_entities_paragraph_dist_label=0_thresh_dist=2_num0\n",
      "distance_appearance_same_entities_paragraph_dist_label=0_thresh_dist=2_num1\n",
      "distance_appearance_same_entities_paragraph_dist_label=0_thresh_dist=2_num2\n",
      "distance_appearance_same_entities_paragraph_dist_label=0_thresh_dist=2_num3\n",
      "distance_appearance_same_entities_paragraph_dist_label=0_thresh_dist=3_num0\n",
      "distance_appearance_same_entities_paragraph_dist_label=0_thresh_dist=3_num1\n",
      "distance_appearance_same_entities_paragraph_dist_label=0_thresh_dist=3_num2\n",
      "distance_appearance_same_entities_paragraph_dist_label=0_thresh_dist=3_num3\n",
      "distance_appearance_same_entities_sentence_dist_label=0_thresh_dist=1_num1\n",
      "distance_appearance_same_entities_sentence_dist_label=0_thresh_dist=1_num2\n",
      "distance_appearance_same_entities_sentence_dist_label=0_thresh_dist=1_num3\n",
      "distance_appearance_same_entities_sentence_dist_label=0_thresh_dist=1_num4\n",
      "distance_appearance_same_entities_sentence_dist_label=0_thresh_dist=2_num1\n",
      "distance_appearance_same_entities_sentence_dist_label=0_thresh_dist=2_num2\n",
      "distance_appearance_same_entities_sentence_dist_label=0_thresh_dist=2_num3\n",
      "distance_appearance_same_entities_sentence_dist_label=0_thresh_dist=2_num4\n",
      "distance_appearance_same_entities_sentence_dist_label=0_thresh_dist=3_num1\n",
      "distance_appearance_same_entities_sentence_dist_label=0_thresh_dist=3_num2\n",
      "distance_appearance_same_entities_sentence_dist_label=0_thresh_dist=3_num3\n",
      "distance_appearance_same_entities_sentence_dist_label=0_thresh_dist=3_num4\n",
      "depth_of_syntactic_tree_label=0_thresh=7\n",
      "num_unique_lemmas_label=0_thresh=20\n",
      "num_unique_lemmas_label=0_thresh=25\n",
      "avg_num_words_before_main_verb_label=0_thresh=6\n",
      "freq_negations_label=0_thresh=1\n",
      "freq_negations_label=0_thresh=2\n",
      "percentage_passive_voice=0.5_1\n",
      "percentage_passive_voice=0.6_1\n",
      "percentage_passive_voice=0.7_1\n",
      "percentage_passive_voice=0.8_1\n",
      "percentage_passive_voice=0.9_1\n",
      "\n",
      "\n",
      "3\n",
      "lf_median_age_of_acquisition=5_NOT_SIMPLE\n",
      "lf_avg_age_of_acquisition=6_NOT_SIMPLE\n",
      "avg_num_punctuation_text_label=1_thresh=2.5\n",
      "avg_num_punctuation_text_label=1_thresh=2.6\n",
      "avg_num_punctuation_text_label=1_thresh=2.7\n",
      "avg_num_punctuation_text_label=1_thresh=2.8\n",
      "avg_num_punctuation_text_label=1_thresh=2.9\n",
      "avg_num_punctuation_text_label=1_thresh=3\n",
      "avg_num_punctuation_text_label=1_thresh=3.1\n",
      "avg_num_punctuation_text_label=1_thresh=3.2\n",
      "avg_num_punctuation_text_label=1_thresh=3.3\n",
      "avg_num_punctuation_text_label=1_thresh=3.4\n",
      "avg_num_punctuation_text_label=1_thresh=3.5\n",
      "avg_num_punctuation_text_label=1_thresh=3.6\n",
      "avg_num_punctuation_text_label=1_thresh=3.7\n",
      "avg_num_punctuation_text_label=1_thresh=3.8\n",
      "avg_num_punctuation_text_label=1_thresh=3.9\n",
      "lf_infrequent_words_per_sentence=3_roadrunner_NOT_SIMPLE\n",
      "lf_infrequent_words_per_sentence=3_okapi_NOT_SIMPLE\n",
      "lf_infrequent_words_per_sentence=3_anisakis_NOT_SIMPLE\n",
      "lf_infrequent_words_per_sentence=4_sheep_NOT_SIMPLE\n",
      "lf_infrequent_words_per_sentence=4_bunny_NOT_SIMPLE\n",
      "lf_infrequent_words_per_sentence=4_octopus_NOT_SIMPLE\n",
      "lf_infrequent_words_per_sentence=4_roadrunner_NOT_SIMPLE\n",
      "lf_infrequent_words_per_sentence=4_bat_NOT_SIMPLE\n",
      "lf_infrequent_words_per_sentence=4_leopard_NOT_SIMPLE\n",
      "lf_infrequent_words_per_sentence=5_sheep_NOT_SIMPLE\n",
      "lf_infrequent_words_per_sentence=5_bunny_NOT_SIMPLE\n",
      "lf_infrequent_words_per_sentence=5_octopus_NOT_SIMPLE\n",
      "lf_infrequent_words_per_sentence=5_bat_NOT_SIMPLE\n",
      "lf_infrequent_words_per_sentence=5_leopard_NOT_SIMPLE\n",
      "low_fkg_threshold=11_1\n",
      "low_fkg_threshold=12_1\n",
      "high_fkre_threshold=50_1\n",
      "high_fkre_threshold=40_1\n",
      "\n",
      "\n"
     ]
    }
   ],
   "source": [
    "for key, lf_list in clusters_lf_map.items():\n",
    "    print(key)\n",
    "    for lf in lf_list:\n",
    "        print(lf)\n",
    "    print()\n",
    "    print()"
   ]
  },
  {
   "cell_type": "code",
   "execution_count": 53,
   "metadata": {},
   "outputs": [],
   "source": [
    "cluster_dic = {}\n",
    "\n",
    "for i in range(len(all_lfs)):\n",
    "    cluster_dic[all_lfs[i].name] = clustering.labels_[i]\n",
    "\n"
   ]
  },
  {
   "cell_type": "code",
   "execution_count": 56,
   "metadata": {},
   "outputs": [],
   "source": [
    "pickle.dump(cluster_dic, open(\"/workspace/datasets/auto_cluster_dic.pkl\", \"wb\"))"
   ]
  },
  {
   "cell_type": "code",
   "execution_count": null,
   "metadata": {},
   "outputs": [],
   "source": []
  }
 ],
 "metadata": {
  "kernelspec": {
   "display_name": "Python 3",
   "language": "python",
   "name": "python3"
  },
  "language_info": {
   "codemirror_mode": {
    "name": "ipython",
    "version": 3
   },
   "file_extension": ".py",
   "mimetype": "text/x-python",
   "name": "python",
   "nbconvert_exporter": "python",
   "pygments_lexer": "ipython3",
   "version": "3.8.18"
  }
 },
 "nbformat": 4,
 "nbformat_minor": 2
}
