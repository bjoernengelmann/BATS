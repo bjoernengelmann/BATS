{
 "cells": [
  {
   "cell_type": "code",
   "execution_count": 13,
   "metadata": {},
   "outputs": [
    {
     "name": "stdout",
     "output_type": "stream",
     "text": [
      "Collecting spacy==3.3.3\n",
      "  Using cached spacy-3.3.3-cp38-cp38-manylinux_2_17_aarch64.manylinux2014_aarch64.whl.metadata (23 kB)\n",
      "Requirement already satisfied: spacy-legacy<3.1.0,>=3.0.9 in /usr/local/lib/python3.8/site-packages (from spacy==3.3.3) (3.0.12)\n",
      "Requirement already satisfied: spacy-loggers<2.0.0,>=1.0.0 in /usr/local/lib/python3.8/site-packages (from spacy==3.3.3) (1.0.5)\n",
      "Requirement already satisfied: murmurhash<1.1.0,>=0.28.0 in /usr/local/lib/python3.8/site-packages (from spacy==3.3.3) (1.0.10)\n",
      "Requirement already satisfied: cymem<2.1.0,>=2.0.2 in /usr/local/lib/python3.8/site-packages (from spacy==3.3.3) (2.0.8)\n",
      "Requirement already satisfied: preshed<3.1.0,>=3.0.2 in /usr/local/lib/python3.8/site-packages (from spacy==3.3.3) (3.0.9)\n",
      "Collecting thinc<8.1.0,>=8.0.14 (from spacy==3.3.3)\n",
      "  Using cached thinc-8.0.17-cp38-cp38-manylinux_2_17_aarch64.manylinux2014_aarch64.whl (2.3 MB)\n",
      "Requirement already satisfied: blis<0.8.0,>=0.4.0 in /usr/local/lib/python3.8/site-packages (from spacy==3.3.3) (0.7.11)\n",
      "Requirement already satisfied: wasabi<1.1.0,>=0.9.1 in /usr/local/lib/python3.8/site-packages (from spacy==3.3.3) (0.10.1)\n",
      "Requirement already satisfied: srsly<3.0.0,>=2.4.3 in /usr/local/lib/python3.8/site-packages (from spacy==3.3.3) (2.4.8)\n",
      "Requirement already satisfied: catalogue<2.1.0,>=2.0.6 in /usr/local/lib/python3.8/site-packages (from spacy==3.3.3) (2.0.10)\n",
      "Requirement already satisfied: typer<0.5.0,>=0.3.0 in /usr/local/lib/python3.8/site-packages (from spacy==3.3.3) (0.4.2)\n",
      "Requirement already satisfied: pathy>=0.3.5 in /usr/local/lib/python3.8/site-packages (from spacy==3.3.3) (0.11.0)\n",
      "Requirement already satisfied: smart-open<7.0.0,>=5.2.1 in /usr/local/lib/python3.8/site-packages (from spacy==3.3.3) (6.4.0)\n",
      "Requirement already satisfied: tqdm<5.0.0,>=4.38.0 in /usr/local/lib/python3.8/site-packages (from spacy==3.3.3) (4.66.1)\n",
      "Requirement already satisfied: numpy>=1.15.0 in /usr/local/lib/python3.8/site-packages (from spacy==3.3.3) (1.24.3)\n",
      "Requirement already satisfied: requests<3.0.0,>=2.13.0 in /usr/local/lib/python3.8/site-packages (from spacy==3.3.3) (2.31.0)\n",
      "Collecting pydantic!=1.8,!=1.8.1,<1.9.0,>=1.7.4 (from spacy==3.3.3)\n",
      "  Using cached pydantic-1.8.2-py3-none-any.whl (126 kB)\n",
      "Requirement already satisfied: jinja2 in /usr/local/lib/python3.8/site-packages (from spacy==3.3.3) (3.1.3)\n",
      "Requirement already satisfied: setuptools in /usr/local/lib/python3.8/site-packages (from spacy==3.3.3) (69.0.3)\n",
      "Requirement already satisfied: packaging>=20.0 in /usr/local/lib/python3.8/site-packages (from spacy==3.3.3) (23.2)\n",
      "Collecting typing-extensions<4.6.0,>=3.7.4.1 (from spacy==3.3.3)\n",
      "  Using cached typing_extensions-4.5.0-py3-none-any.whl (27 kB)\n",
      "Requirement already satisfied: langcodes<4.0.0,>=3.2.0 in /usr/local/lib/python3.8/site-packages (from spacy==3.3.3) (3.3.0)\n",
      "Requirement already satisfied: pathlib-abc==0.1.1 in /usr/local/lib/python3.8/site-packages (from pathy>=0.3.5->spacy==3.3.3) (0.1.1)\n",
      "Requirement already satisfied: charset-normalizer<4,>=2 in /usr/local/lib/python3.8/site-packages (from requests<3.0.0,>=2.13.0->spacy==3.3.3) (3.3.2)\n",
      "Requirement already satisfied: idna<4,>=2.5 in /usr/local/lib/python3.8/site-packages (from requests<3.0.0,>=2.13.0->spacy==3.3.3) (3.6)\n",
      "Requirement already satisfied: urllib3<3,>=1.21.1 in /usr/local/lib/python3.8/site-packages (from requests<3.0.0,>=2.13.0->spacy==3.3.3) (1.26.18)\n",
      "Requirement already satisfied: certifi>=2017.4.17 in /usr/local/lib/python3.8/site-packages (from requests<3.0.0,>=2.13.0->spacy==3.3.3) (2023.11.17)\n",
      "Requirement already satisfied: click<9.0.0,>=7.1.1 in /usr/local/lib/python3.8/site-packages (from typer<0.5.0,>=0.3.0->spacy==3.3.3) (8.1.7)\n",
      "Requirement already satisfied: MarkupSafe>=2.0 in /usr/local/lib/python3.8/site-packages (from jinja2->spacy==3.3.3) (2.1.3)\n",
      "Using cached spacy-3.3.3-cp38-cp38-manylinux_2_17_aarch64.manylinux2014_aarch64.whl (6.1 MB)\n",
      "Installing collected packages: typing-extensions, pydantic, thinc, spacy\n",
      "  Attempting uninstall: typing-extensions\n",
      "    Found existing installation: typing_extensions 4.9.0\n",
      "    Uninstalling typing_extensions-4.9.0:\n",
      "      Successfully uninstalled typing_extensions-4.9.0\n",
      "  Attempting uninstall: pydantic\n",
      "    Found existing installation: pydantic 1.9.2\n",
      "    Uninstalling pydantic-1.9.2:\n",
      "      Successfully uninstalled pydantic-1.9.2\n",
      "  Attempting uninstall: thinc\n",
      "    Found existing installation: thinc 8.1.12\n",
      "    Uninstalling thinc-8.1.12:\n",
      "      Successfully uninstalled thinc-8.1.12\n",
      "  Attempting uninstall: spacy\n",
      "    Found existing installation: spacy 3.4.0\n",
      "    Uninstalling spacy-3.4.0:\n",
      "      Successfully uninstalled spacy-3.4.0\n",
      "\u001b[31mERROR: pip's dependency resolver does not currently take into account all the packages that are installed. This behaviour is the source of the following dependency conflicts.\n",
      "fastapi 0.109.2 requires typing-extensions>=4.8.0, but you have typing-extensions 4.5.0 which is incompatible.\n",
      "gradio 4.16.0 requires pydantic>=2.0, but you have pydantic 1.8.2 which is incompatible.\n",
      "gradio 4.16.0 requires typer[all]<1.0,>=0.9, but you have typer 0.4.2 which is incompatible.\n",
      "openai 1.11.1 requires pydantic<3,>=1.9.0, but you have pydantic 1.8.2 which is incompatible.\n",
      "openai 1.11.1 requires typing-extensions<5,>=4.7, but you have typing-extensions 4.5.0 which is incompatible.\n",
      "pydantic-core 2.16.2 requires typing-extensions!=4.7.0,>=4.6.0, but you have typing-extensions 4.5.0 which is incompatible.\u001b[0m\u001b[31m\n",
      "\u001b[0mSuccessfully installed pydantic-1.8.2 spacy-3.3.3 thinc-8.0.17 typing-extensions-4.5.0\n",
      "\u001b[33mWARNING: Running pip as the 'root' user can result in broken permissions and conflicting behaviour with the system package manager. It is recommended to use a virtual environment instead: https://pip.pypa.io/warnings/venv\u001b[0m\u001b[33m\n",
      "\u001b[0m\n",
      "\u001b[1m[\u001b[0m\u001b[34;49mnotice\u001b[0m\u001b[1;39;49m]\u001b[0m\u001b[39;49m A new release of pip is available: \u001b[0m\u001b[31;49m23.3.2\u001b[0m\u001b[39;49m -> \u001b[0m\u001b[32;49m24.0\u001b[0m\n",
      "\u001b[1m[\u001b[0m\u001b[34;49mnotice\u001b[0m\u001b[1;39;49m]\u001b[0m\u001b[39;49m To update, run: \u001b[0m\u001b[32;49mpip install --upgrade pip\u001b[0m\n"
     ]
    }
   ],
   "source": [
    "!python -m pip install spacy==3.3.3"
   ]
  },
  {
   "cell_type": "code",
   "execution_count": 14,
   "metadata": {},
   "outputs": [
    {
     "name": "stdout",
     "output_type": "stream",
     "text": [
      "Collecting pydantic==2.0\n",
      "  Downloading pydantic-2.0-py3-none-any.whl.metadata (117 kB)\n",
      "\u001b[2K     \u001b[90m━━━━━━━━━━━━━━━━━━━━━━━━━━━━━━━━━━━━━\u001b[0m \u001b[32m118.0/118.0 kB\u001b[0m \u001b[31m933.4 kB/s\u001b[0m eta \u001b[36m0:00:00\u001b[0ma \u001b[36m0:00:01\u001b[0m\n",
      "\u001b[?25hRequirement already satisfied: annotated-types>=0.4.0 in /usr/local/lib/python3.8/site-packages (from pydantic==2.0) (0.6.0)\n",
      "Collecting pydantic-core==2.0.1 (from pydantic==2.0)\n",
      "  Downloading pydantic_core-2.0.1-cp38-cp38-manylinux_2_17_aarch64.manylinux2014_aarch64.whl.metadata (5.2 kB)\n",
      "Collecting typing-extensions>=4.6.1 (from pydantic==2.0)\n",
      "  Using cached typing_extensions-4.9.0-py3-none-any.whl.metadata (3.0 kB)\n",
      "Downloading pydantic-2.0-py3-none-any.whl (355 kB)\n",
      "\u001b[2K   \u001b[90m━━━━━━━━━━━━━━━━━━━━━━━━━━━━━━━━━━━━━━━━\u001b[0m \u001b[32m355.6/355.6 kB\u001b[0m \u001b[31m3.1 MB/s\u001b[0m eta \u001b[36m0:00:00\u001b[0ma \u001b[36m0:00:01\u001b[0m\n",
      "\u001b[?25hDownloading pydantic_core-2.0.1-cp38-cp38-manylinux_2_17_aarch64.manylinux2014_aarch64.whl (1.4 MB)\n",
      "\u001b[2K   \u001b[90m━━━━━━━━━━━━━━━━━━━━━━━━━━━━━━━━━━━━━━━━\u001b[0m \u001b[32m1.4/1.4 MB\u001b[0m \u001b[31m5.2 MB/s\u001b[0m eta \u001b[36m0:00:00\u001b[0m00:01\u001b[0m00:01\u001b[0mm\n",
      "\u001b[?25hUsing cached typing_extensions-4.9.0-py3-none-any.whl (32 kB)\n",
      "Installing collected packages: typing-extensions, pydantic-core, pydantic\n",
      "  Attempting uninstall: typing-extensions\n",
      "    Found existing installation: typing_extensions 4.5.0\n",
      "    Uninstalling typing_extensions-4.5.0:\n",
      "      Successfully uninstalled typing_extensions-4.5.0\n",
      "  Attempting uninstall: pydantic-core\n",
      "    Found existing installation: pydantic_core 2.16.2\n",
      "    Uninstalling pydantic_core-2.16.2:\n",
      "      Successfully uninstalled pydantic_core-2.16.2\n",
      "  Attempting uninstall: pydantic\n",
      "    Found existing installation: pydantic 1.8.2\n",
      "    Uninstalling pydantic-1.8.2:\n",
      "      Successfully uninstalled pydantic-1.8.2\n",
      "\u001b[31mERROR: pip's dependency resolver does not currently take into account all the packages that are installed. This behaviour is the source of the following dependency conflicts.\n",
      "fastapi 0.109.2 requires pydantic!=1.8,!=1.8.1,!=2.0.0,!=2.0.1,!=2.1.0,<3.0.0,>=1.7.4, but you have pydantic 2.0 which is incompatible.\n",
      "gradio 4.16.0 requires typer[all]<1.0,>=0.9, but you have typer 0.4.2 which is incompatible.\n",
      "spacy 3.3.3 requires pydantic!=1.8,!=1.8.1,<1.9.0,>=1.7.4, but you have pydantic 2.0 which is incompatible.\n",
      "spacy 3.3.3 requires typing-extensions<4.6.0,>=3.7.4.1, but you have typing-extensions 4.9.0 which is incompatible.\n",
      "tensorflow-cpu-aws 2.13.1 requires typing-extensions<4.6.0,>=3.6.6, but you have typing-extensions 4.9.0 which is incompatible.\n",
      "thinc 8.0.17 requires pydantic!=1.8,!=1.8.1,<1.9.0,>=1.7.4, but you have pydantic 2.0 which is incompatible.\u001b[0m\u001b[31m\n",
      "\u001b[0mSuccessfully installed pydantic-2.0 pydantic-core-2.0.1 typing-extensions-4.9.0\n",
      "\u001b[33mWARNING: Running pip as the 'root' user can result in broken permissions and conflicting behaviour with the system package manager. It is recommended to use a virtual environment instead: https://pip.pypa.io/warnings/venv\u001b[0m\u001b[33m\n",
      "\u001b[0m\n",
      "\u001b[1m[\u001b[0m\u001b[34;49mnotice\u001b[0m\u001b[1;39;49m]\u001b[0m\u001b[39;49m A new release of pip is available: \u001b[0m\u001b[31;49m23.3.2\u001b[0m\u001b[39;49m -> \u001b[0m\u001b[32;49m24.0\u001b[0m\n",
      "\u001b[1m[\u001b[0m\u001b[34;49mnotice\u001b[0m\u001b[1;39;49m]\u001b[0m\u001b[39;49m To update, run: \u001b[0m\u001b[32;49mpip install --upgrade pip\u001b[0m\n"
     ]
    }
   ],
   "source": [
    "!python -m pip install pydantic==2.0"
   ]
  },
  {
   "cell_type": "code",
   "execution_count": 8,
   "metadata": {},
   "outputs": [
    {
     "ename": "ImportError",
     "evalue": "cannot import name 'ModelMetaclass' from 'pydantic.main' (/usr/local/lib/python3.8/site-packages/pydantic/main.py)",
     "output_type": "error",
     "traceback": [
      "\u001b[0;31m---------------------------------------------------------------------------\u001b[0m",
      "\u001b[0;31mImportError\u001b[0m                               Traceback (most recent call last)",
      "Cell \u001b[0;32mIn[8], line 17\u001b[0m\n\u001b[1;32m     13\u001b[0m \u001b[38;5;28;01mfrom\u001b[39;00m \u001b[38;5;21;01msnorkel\u001b[39;00m\u001b[38;5;21;01m.\u001b[39;00m\u001b[38;5;21;01mlabeling\u001b[39;00m \u001b[38;5;28;01mimport\u001b[39;00m PandasLFApplier\n\u001b[1;32m     15\u001b[0m \u001b[38;5;28;01mimport\u001b[39;00m \u001b[38;5;21;01mglob\u001b[39;00m\n\u001b[0;32m---> 17\u001b[0m \u001b[38;5;28;01mfrom\u001b[39;00m \u001b[38;5;21;01mlabeling_functions\u001b[39;00m \u001b[38;5;28;01mimport\u001b[39;00m get_all_lfs\n",
      "File \u001b[0;32m/workspace/labeling_functions.py:12\u001b[0m\n\u001b[1;32m      8\u001b[0m \u001b[38;5;28;01mfrom\u001b[39;00m \u001b[38;5;21;01msnorkel\u001b[39;00m\u001b[38;5;21;01m.\u001b[39;00m\u001b[38;5;21;01mpreprocess\u001b[39;00m \u001b[38;5;28;01mimport\u001b[39;00m preprocessor\n\u001b[1;32m     10\u001b[0m \u001b[38;5;28;01mfrom\u001b[39;00m \u001b[38;5;21;01mwordfreq\u001b[39;00m \u001b[38;5;28;01mimport\u001b[39;00m word_frequency\n\u001b[0;32m---> 12\u001b[0m \u001b[38;5;28;01mimport\u001b[39;00m \u001b[38;5;21;01mspacy\u001b[39;00m\n\u001b[1;32m     13\u001b[0m \u001b[38;5;28;01mfrom\u001b[39;00m \u001b[38;5;21;01mspacy_syllables\u001b[39;00m \u001b[38;5;28;01mimport\u001b[39;00m SpacySyllables\n\u001b[1;32m     14\u001b[0m \u001b[38;5;28;01mimport\u001b[39;00m \u001b[38;5;21;01mspacy_universal_sentence_encoder\u001b[39;00m\n",
      "File \u001b[0;32m/usr/local/lib/python3.8/site-packages/spacy/__init__.py:11\u001b[0m\n\u001b[1;32m      8\u001b[0m setup_default_warnings()  \u001b[38;5;66;03m# noqa: E402\u001b[39;00m\n\u001b[1;32m     10\u001b[0m \u001b[38;5;66;03m# These are imported as part of the API\u001b[39;00m\n\u001b[0;32m---> 11\u001b[0m \u001b[38;5;28;01mfrom\u001b[39;00m \u001b[38;5;21;01mthinc\u001b[39;00m\u001b[38;5;21;01m.\u001b[39;00m\u001b[38;5;21;01mapi\u001b[39;00m \u001b[38;5;28;01mimport\u001b[39;00m prefer_gpu, require_gpu, require_cpu  \u001b[38;5;66;03m# noqa: F401\u001b[39;00m\n\u001b[1;32m     12\u001b[0m \u001b[38;5;28;01mfrom\u001b[39;00m \u001b[38;5;21;01mthinc\u001b[39;00m\u001b[38;5;21;01m.\u001b[39;00m\u001b[38;5;21;01mapi\u001b[39;00m \u001b[38;5;28;01mimport\u001b[39;00m Config\n\u001b[1;32m     14\u001b[0m \u001b[38;5;28;01mfrom\u001b[39;00m \u001b[38;5;21;01m.\u001b[39;00m \u001b[38;5;28;01mimport\u001b[39;00m pipeline  \u001b[38;5;66;03m# noqa: F401\u001b[39;00m\n",
      "File \u001b[0;32m/usr/local/lib/python3.8/site-packages/thinc/__init__.py:5\u001b[0m\n\u001b[1;32m      2\u001b[0m \u001b[38;5;28;01mimport\u001b[39;00m \u001b[38;5;21;01mnumpy\u001b[39;00m\n\u001b[1;32m      4\u001b[0m \u001b[38;5;28;01mfrom\u001b[39;00m \u001b[38;5;21;01m.\u001b[39;00m\u001b[38;5;21;01mabout\u001b[39;00m \u001b[38;5;28;01mimport\u001b[39;00m __version__\n\u001b[0;32m----> 5\u001b[0m \u001b[38;5;28;01mfrom\u001b[39;00m \u001b[38;5;21;01m.\u001b[39;00m\u001b[38;5;21;01mconfig\u001b[39;00m \u001b[38;5;28;01mimport\u001b[39;00m registry\n",
      "File \u001b[0;32m/usr/local/lib/python3.8/site-packages/thinc/config.py:11\u001b[0m\n\u001b[1;32m      9\u001b[0m \u001b[38;5;28;01mfrom\u001b[39;00m \u001b[38;5;21;01mpathlib\u001b[39;00m \u001b[38;5;28;01mimport\u001b[39;00m Path\n\u001b[1;32m     10\u001b[0m \u001b[38;5;28;01mfrom\u001b[39;00m \u001b[38;5;21;01mpydantic\u001b[39;00m \u001b[38;5;28;01mimport\u001b[39;00m BaseModel, create_model, ValidationError, Extra\n\u001b[0;32m---> 11\u001b[0m \u001b[38;5;28;01mfrom\u001b[39;00m \u001b[38;5;21;01mpydantic\u001b[39;00m\u001b[38;5;21;01m.\u001b[39;00m\u001b[38;5;21;01mmain\u001b[39;00m \u001b[38;5;28;01mimport\u001b[39;00m ModelMetaclass\n\u001b[1;32m     12\u001b[0m \u001b[38;5;28;01mfrom\u001b[39;00m \u001b[38;5;21;01mpydantic\u001b[39;00m\u001b[38;5;21;01m.\u001b[39;00m\u001b[38;5;21;01mfields\u001b[39;00m \u001b[38;5;28;01mimport\u001b[39;00m ModelField\n\u001b[1;32m     13\u001b[0m \u001b[38;5;28;01mfrom\u001b[39;00m \u001b[38;5;21;01mwasabi\u001b[39;00m \u001b[38;5;28;01mimport\u001b[39;00m table\n",
      "\u001b[0;31mImportError\u001b[0m: cannot import name 'ModelMetaclass' from 'pydantic.main' (/usr/local/lib/python3.8/site-packages/pydantic/main.py)"
     ]
    }
   ],
   "source": [
    "import numpy as np\n",
    "import pandas as pd\n",
    "import os\n",
    "import tqdm\n",
    "import pickle\n",
    "from tqdm.notebook import tqdm\n",
    "\n",
    "from functools import lru_cache\n",
    "\n",
    "from snorkel.labeling import labeling_function\n",
    "from snorkel.labeling import LabelingFunction\n",
    "from snorkel.labeling.model import LabelModel\n",
    "from snorkel.labeling import PandasLFApplier\n",
    "\n",
    "import glob\n",
    "\n",
    "from labeling_functions import get_all_lfs"
   ]
  },
  {
   "cell_type": "code",
   "execution_count": 2,
   "metadata": {},
   "outputs": [],
   "source": [
    "ABSTAIN = -1\n",
    "SIMPLE = 0\n",
    "NOT_SIMPLE = 1\n",
    "LOST_MEANING = 2\n",
    "\n",
    "label_map = {-1: \"ABSTAIN\", 0: \"SIMPLE\", 1: \"NOT_SIMPLE\", 2: \"LOST_MEANING\"}"
   ]
  },
  {
   "cell_type": "code",
   "execution_count": 6,
   "metadata": {},
   "outputs": [],
   "source": [
    "#current_type = \"simp\"\n",
    "current_type = \"src\""
   ]
  },
  {
   "cell_type": "code",
   "execution_count": 7,
   "metadata": {},
   "outputs": [
    {
     "ename": "NameError",
     "evalue": "name 'get_all_lfs' is not defined",
     "output_type": "error",
     "traceback": [
      "\u001b[0;31m---------------------------------------------------------------------------\u001b[0m",
      "\u001b[0;31mNameError\u001b[0m                                 Traceback (most recent call last)",
      "Cell \u001b[0;32mIn[7], line 1\u001b[0m\n\u001b[0;32m----> 1\u001b[0m all_lfs \u001b[38;5;241m=\u001b[39m \u001b[43mget_all_lfs\u001b[49m()\n",
      "\u001b[0;31mNameError\u001b[0m: name 'get_all_lfs' is not defined"
     ]
    }
   ],
   "source": [
    "all_lfs = get_all_lfs()"
   ]
  },
  {
   "cell_type": "code",
   "execution_count": 6,
   "metadata": {},
   "outputs": [
    {
     "name": "stdout",
     "output_type": "stream",
     "text": [
      "\"Sad Eyed Lady of the Lowlands\" is a song by the American singer-songwriter Bob Dylan.\n",
      "First released as the final track on Dylan's seventh studio album Blonde on Blonde (1966), the song lasts 11 minutes and 23 seconds, and occupies the entire fourth side of the double album. The song was written by Dylan and produced by Bob Johnston. The recording session began at 6 pm on February 15, 1966, at Columbia Studio A, Nashville, Tennessee, but Dylan worked on the lyrics for several hours while the experienced Nashville session musicians hired to accompany him stood by. Four takes were recorded in the early hours of February 16; the final recording was released on Blonde on Blonde. The music is a waltz in 6/8 time.\n",
      "Some writers have concluded that the song refers to Joan Baez, although most agree that it was composed for Dylan's wife Sara Lownds.\n",
      "Dylan's lyrics polarized critics. On its release, several reviewers found them impenetrable, but rated the song favorably. Later writers often agree with this, praising the sound, dismissing the lyrics, and rating the song as amongst Dylan's best work.\n"
     ]
    }
   ],
   "source": [
    "txt = [ '\"Sad Eyed Lady of the Lowlands\" is a song by the American singer-songwriter Bob Dylan.', \n",
    "        \"First released as the final track on Dylan's seventh studio album Blonde on Blonde (1966), the song lasts 11 minutes and 23 seconds, and occupies the entire fourth side of the double album. The song was written by Dylan and produced by Bob Johnston. The recording session began at 6 pm on February 15, 1966, at Columbia Studio A, Nashville, Tennessee, but Dylan worked on the lyrics for several hours while the experienced Nashville session musicians hired to accompany him stood by. Four takes were recorded in the early hours of February 16; the final recording was released on Blonde on Blonde. The music is a waltz in 6/8 time.\",\n",
    "        \"Some writers have concluded that the song refers to Joan Baez, although most agree that it was composed for Dylan's wife Sara Lownds.\",\n",
    "        \"Dylan's lyrics polarized critics. On its release, several reviewers found them impenetrable, but rated the song favorably. Later writers often agree with this, praising the sound, dismissing the lyrics, and rating the song as amongst Dylan's best work.\"]\n",
    "\n",
    "\n",
    "\n",
    "for t in txt:\n",
    "        applier = PandasLFApplier(all_lfs)\n",
    "        labels = applier.apply(txt, progress_bar=True)"
   ]
  },
  {
   "cell_type": "code",
   "execution_count": 3,
   "metadata": {},
   "outputs": [],
   "source": [
    "label_path = f\"/workspace/vectors/\""
   ]
  },
  {
   "cell_type": "code",
   "execution_count": 4,
   "metadata": {},
   "outputs": [],
   "source": [
    "if not os.path.isdir(label_path):\n",
    "    os.mkdir(label_path)"
   ]
  },
  {
   "cell_type": "code",
   "execution_count": 19,
   "metadata": {},
   "outputs": [],
   "source": [
    "def get_finished_batches(path = f\"/workspace/vectors/*\"):\n",
    "    label_paths = glob.glob(path)\n",
    "    fin_batches = [int(path.split(\"_\")[-1]) for path in label_paths if \"labels_\" in path and current_type in path]\n",
    "    return set(fin_batches)"
   ]
  },
  {
   "cell_type": "code",
   "execution_count": 20,
   "metadata": {},
   "outputs": [],
   "source": [
    "def save_used_lfs(all_lfs, path = f\"/workspace/datasets/{selected_dataset}labels/used_lfs.pkl\"):\n",
    "    names = [lf.name for lf in all_lfs]\n",
    "    pickle.dump(names, open(path, \"wb\"))"
   ]
  },
  {
   "cell_type": "code",
   "execution_count": 21,
   "metadata": {},
   "outputs": [
    {
     "data": {
      "application/vnd.jupyter.widget-view+json": {
       "model_id": "a9f9f6d713c54edfb7cbe8d1e940a1c1",
       "version_major": 2,
       "version_minor": 0
      },
      "text/plain": [
       "  0%|          | 0/12 [00:00<?, ?it/s]"
      ]
     },
     "metadata": {},
     "output_type": "display_data"
    },
    {
     "name": "stderr",
     "output_type": "stream",
     "text": [
      "100%|██████████| 20/20 [00:11<00:00,  1.77it/s]\n"
     ]
    },
    {
     "name": "stdout",
     "output_type": "stream",
     "text": [
      "finished on 0/221\n"
     ]
    },
    {
     "name": "stderr",
     "output_type": "stream",
     "text": [
      "100%|██████████| 20/20 [00:11<00:00,  1.80it/s]\n"
     ]
    },
    {
     "name": "stdout",
     "output_type": "stream",
     "text": [
      "finished on 20/221\n"
     ]
    },
    {
     "name": "stderr",
     "output_type": "stream",
     "text": [
      "100%|██████████| 20/20 [00:11<00:00,  1.78it/s]\n"
     ]
    },
    {
     "name": "stdout",
     "output_type": "stream",
     "text": [
      "finished on 40/221\n"
     ]
    },
    {
     "name": "stderr",
     "output_type": "stream",
     "text": [
      "100%|██████████| 20/20 [00:11<00:00,  1.76it/s]\n"
     ]
    },
    {
     "name": "stdout",
     "output_type": "stream",
     "text": [
      "finished on 60/221\n"
     ]
    },
    {
     "name": "stderr",
     "output_type": "stream",
     "text": [
      "100%|██████████| 20/20 [00:11<00:00,  1.78it/s]\n"
     ]
    },
    {
     "name": "stdout",
     "output_type": "stream",
     "text": [
      "finished on 80/221\n"
     ]
    },
    {
     "name": "stderr",
     "output_type": "stream",
     "text": [
      " 75%|███████▌  | 15/20 [00:08<00:03,  1.63it/s]"
     ]
    }
   ],
   "source": [
    "batch_size = 20\n",
    "start = 0\n",
    "\n",
    "save_used_lfs(all_lfs)\n",
    "\n",
    "for i in tqdm(range(start, len(dataset), batch_size), position=1):\n",
    "    if not i in get_finished_batches():\n",
    "        try:\n",
    "            applier = PandasLFApplier(all_lfs)\n",
    "            labels = applier.apply(dataset[i:i+batch_size], progress_bar=True)\n",
    "            \n",
    "            pickle.dump(labels, open(f\"/workspace/datasets/{selected_dataset}labels/labels_{current_type}_{i}\", \"wb\"))\n",
    "            print(f\"finished on {i}/{len(dataset)}\")\n",
    "\n",
    "        except Exception as e:\n",
    "            print(f\"something went wrong with batch {i}\")\n",
    "            print(e)"
   ]
  },
  {
   "cell_type": "code",
   "execution_count": 16,
   "metadata": {},
   "outputs": [],
   "source": [
    "#build ds labels\n",
    "ds_label_path = f\"/workspace/datasets/ds_labels\"\n",
    "if not os.path.isdir(ds_label_path):\n",
    "    os.mkdir(ds_label_path)"
   ]
  },
  {
   "cell_type": "code",
   "execution_count": 17,
   "metadata": {},
   "outputs": [],
   "source": [
    "def build_labels(ds=\"MTurkSF\"):\n",
    "    simp_paths = sorted(glob.glob(f\"workspace/datasets/{ds}labels/labels_simp*\"), key=lambda x: int(x.split(\"_\")[-1]))\n",
    "    src_paths = sorted(glob.glob(f\"workspace/datasets/{ds}labels/labels_src*\"), key=lambda x: int(x.split(\"_\")[-1]))\n",
    "\n",
    "    simp_labels = [pickle.load(open(path, \"rb\")) for path in simp_paths]\n",
    "    src_labels = [pickle.load(open(path, \"rb\")) for path in src_paths]\n",
    "\n",
    "    simp_labels = np.concatenate(simp_labels)\n",
    "    src_labels = np.concatenate(src_labels)\n",
    "\n",
    "    pickle.dump(simp_labels, open(f\"{ds_label_path}/{ds}_simp_labels.pkl\", \"wb\"))\n",
    "    pickle.dump(src_labels, open(f\"{ds_label_path}/{ds}_src_labels.pkl\", \"wb\"))"
   ]
  },
  {
   "cell_type": "code",
   "execution_count": null,
   "metadata": {},
   "outputs": [],
   "source": [
    "selected_dataset\n"
   ]
  },
  {
   "cell_type": "code",
   "execution_count": null,
   "metadata": {},
   "outputs": [],
   "source": [
    "build_labels(selected_dataset)"
   ]
  },
  {
   "cell_type": "code",
   "execution_count": null,
   "metadata": {},
   "outputs": [],
   "source": []
  }
 ],
 "metadata": {
  "kernelspec": {
   "display_name": "Python 3",
   "language": "python",
   "name": "python3"
  },
  "language_info": {
   "codemirror_mode": {
    "name": "ipython",
    "version": 3
   },
   "file_extension": ".py",
   "mimetype": "text/x-python",
   "name": "python",
   "nbconvert_exporter": "python",
   "pygments_lexer": "ipython3",
   "version": "3.8.18"
  }
 },
 "nbformat": 4,
 "nbformat_minor": 2
}
