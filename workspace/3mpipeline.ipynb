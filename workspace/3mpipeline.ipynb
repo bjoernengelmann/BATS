{
 "cells": [
  {
   "cell_type": "code",
   "execution_count": null,
   "metadata": {},
   "outputs": [],
   "source": [
    "import numpy as np\n",
    "import pandas as pd\n",
    "import os\n",
    "import tqdm\n",
    "import pickle\n",
    "from tqdm.notebook import tqdm\n",
    "\n",
    "from functools import lru_cache\n",
    "\n",
    "from snorkel.labeling import labeling_function\n",
    "from snorkel.labeling import LabelingFunction\n",
    "from snorkel.labeling.model import LabelModel\n",
    "from snorkel.labeling import PandasLFApplier\n",
    "\n",
    "#from labeling_functions import get_all_lfs\n",
    "from pruning_lfs import prune_lfs\n",
    "\n",
    "import glob"
   ]
  },
  {
   "cell_type": "code",
   "execution_count": null,
   "metadata": {},
   "outputs": [],
   "source": [
    "all_lfs = prune_lfs()"
   ]
  },
  {
   "cell_type": "code",
   "execution_count": null,
   "metadata": {},
   "outputs": [],
   "source": [
    "len(all_lfs)"
   ]
  },
  {
   "cell_type": "code",
   "execution_count": null,
   "metadata": {},
   "outputs": [],
   "source": [
    "with open(\"workspace/datasets/final_combined_with_index.pkl\", 'rb') as f:\n",
    "    dataset = pickle.load(f)"
   ]
  },
  {
   "cell_type": "code",
   "execution_count": null,
   "metadata": {},
   "outputs": [],
   "source": [
    "ABSTAIN = -1\n",
    "SIMPLE = 0\n",
    "NOT_SIMPLE = 1\n",
    "LOST_MEANING = 2\n",
    "\n",
    "label_map = {-1: \"ABSTAIN\", 0: \"SIMPLE\", 1: \"NOT_SIMPLE\", 2: \"LOST_MEANING\"}"
   ]
  },
  {
   "cell_type": "code",
   "execution_count": null,
   "metadata": {},
   "outputs": [],
   "source": [
    "current_type = \"simp\"\n",
    "#current_type = \"src\""
   ]
  },
  {
   "cell_type": "code",
   "execution_count": null,
   "metadata": {},
   "outputs": [],
   "source": [
    "dataset['simplified_snt'] = dataset[current_type]\n",
    "dataset['source_snt'] = dataset['src']"
   ]
  },
  {
   "cell_type": "code",
   "execution_count": 32,
   "metadata": {},
   "outputs": [],
   "source": [
    "selected_dataset = \"MTurkSF\""
   ]
  },
  {
   "cell_type": "code",
   "execution_count": null,
   "metadata": {},
   "outputs": [],
   "source": [
    "dataset = dataset[dataset['ds_id'] == selected_dataset]"
   ]
  },
  {
   "cell_type": "code",
   "execution_count": null,
   "metadata": {},
   "outputs": [],
   "source": [
    "dataset"
   ]
  },
  {
   "cell_type": "code",
   "execution_count": null,
   "metadata": {},
   "outputs": [],
   "source": [
    "label_path = f\"/workspace/datasets/{selected_dataset}labels/\""
   ]
  },
  {
   "cell_type": "code",
   "execution_count": null,
   "metadata": {},
   "outputs": [],
   "source": [
    "if not os.path.isdir(label_path):\n",
    "    os.mkdir(label_path)"
   ]
  },
  {
   "cell_type": "code",
   "execution_count": null,
   "metadata": {},
   "outputs": [],
   "source": [
    "def get_finished_batches(path = f\"/workspace/datasets/{selected_dataset}labels/*\"):\n",
    "    label_paths = glob.glob(path)\n",
    "    fin_batches = [int(path.split(\"_\")[-1]) for path in label_paths if \"labels_\" in path]\n",
    "    return set(fin_batches)"
   ]
  },
  {
   "cell_type": "code",
   "execution_count": null,
   "metadata": {},
   "outputs": [],
   "source": [
    "def save_used_lfs(all_lfs, path = f\"/workspace/datasets/{selected_dataset}labels/used_lfs.pkl\"):\n",
    "    names = [lf.name for lf in all_lfs]\n",
    "    pickle.dump(names, open(path, \"wb\"))"
   ]
  },
  {
   "cell_type": "code",
   "execution_count": null,
   "metadata": {},
   "outputs": [],
   "source": [
    "batch_size = 20\n",
    "start = 0\n",
    "\n",
    "save_used_lfs(all_lfs)\n",
    "\n",
    "for i in tqdm(range(start, len(dataset), batch_size), position=1):\n",
    "    if not i in get_finished_batches():\n",
    "        try:\n",
    "            applier = PandasLFApplier(all_lfs)\n",
    "            labels = applier.apply(dataset[i:i+batch_size], progress_bar=True)\n",
    "            \n",
    "            pickle.dump(labels, open(f\"/workspace/datasets/{selected_dataset}labels/labels_{current_type}_{i}\", \"wb\"))\n",
    "            print(f\"finished on {i}/{len(dataset)}\")\n",
    "\n",
    "        except Exception as e:\n",
    "            print(f\"something went wrong with batch {i}\")\n",
    "            print(e)"
   ]
  },
  {
   "cell_type": "code",
   "execution_count": 16,
   "metadata": {},
   "outputs": [],
   "source": [
    "#build ds labels\n",
    "ds_label_path = f\"/workspace/datasets/ds_labels\"\n",
    "if not os.path.isdir(ds_label_path):\n",
    "    os.mkdir(ds_label_path)"
   ]
  },
  {
   "cell_type": "code",
   "execution_count": 29,
   "metadata": {},
   "outputs": [],
   "source": [
    "def build_labels(ds=\"MTurkSF\"):\n",
    "    simp_paths = sorted(glob.glob(f\"workspace/datasets/{ds}labels/labels_simp*\"))\n",
    "    src_paths = sorted(glob.glob(f\"workspace/datasets/{ds}labels/labels_src*\"))\n",
    "\n",
    "    print(simp_paths)\n",
    "    simp_labels = [pickle.load(open(path, \"rb\")) for path in simp_paths]\n",
    "    src_labels = [pickle.load(open(path, \"rb\")) for path in src_paths]\n",
    "\n",
    "    simp_labels = np.concatenate(simp_labels)\n",
    "    src_labels = np.concatenate(src_labels)\n",
    "\n",
    "    pickle.dump(simp_labels, open(f\"{ds_label_path}/{ds}_simp_labels.pkl\", \"wb\"))\n",
    "    pickle.dump(src_labels, open(f\"{ds_label_path}/{ds}_src_labels.pkl\", \"wb\"))"
   ]
  },
  {
   "cell_type": "code",
   "execution_count": 33,
   "metadata": {},
   "outputs": [
    {
     "data": {
      "text/plain": [
       "'MTurkSF'"
      ]
     },
     "execution_count": 33,
     "metadata": {},
     "output_type": "execute_result"
    }
   ],
   "source": [
    "selected_dataset"
   ]
  },
  {
   "cell_type": "code",
   "execution_count": 34,
   "metadata": {},
   "outputs": [
    {
     "name": "stdout",
     "output_type": "stream",
     "text": [
      "['workspace/datasets/MTurkSFlabels/labels_simp_0', 'workspace/datasets/MTurkSFlabels/labels_simp_100', 'workspace/datasets/MTurkSFlabels/labels_simp_200']\n"
     ]
    }
   ],
   "source": [
    "build_labels(selected_dataset)"
   ]
  },
  {
   "cell_type": "code",
   "execution_count": 26,
   "metadata": {},
   "outputs": [],
   "source": [
    "test =pickle.load(open(\"/workspace/datasets/ds_labels/britannica_simp_labels.pkl\", \"rb\"))"
   ]
  },
  {
   "cell_type": "code",
   "execution_count": 28,
   "metadata": {},
   "outputs": [
    {
     "data": {
      "text/plain": [
       "(600, 311)"
      ]
     },
     "execution_count": 28,
     "metadata": {},
     "output_type": "execute_result"
    }
   ],
   "source": [
    "test.shape"
   ]
  },
  {
   "cell_type": "code",
   "execution_count": null,
   "metadata": {},
   "outputs": [],
   "source": []
  }
 ],
 "metadata": {
  "kernelspec": {
   "display_name": "Python 3",
   "language": "python",
   "name": "python3"
  },
  "language_info": {
   "codemirror_mode": {
    "name": "ipython",
    "version": 3
   },
   "file_extension": ".py",
   "mimetype": "text/x-python",
   "name": "python",
   "nbconvert_exporter": "python",
   "pygments_lexer": "ipython3",
   "version": "3.8.18"
  }
 },
 "nbformat": 4,
 "nbformat_minor": 2
}
