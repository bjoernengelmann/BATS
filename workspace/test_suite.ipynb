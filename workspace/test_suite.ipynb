{
 "cells": [
  {
   "cell_type": "code",
   "execution_count": 1,
   "metadata": {},
   "outputs": [
    {
     "name": "stderr",
     "output_type": "stream",
     "text": [
      "2023-11-28 12:44:53.588984: I tensorflow/tsl/cuda/cudart_stub.cc:28] Could not find cuda drivers on your machine, GPU will not be used.\n",
      "2023-11-28 12:44:53.624281: I tensorflow/tsl/cuda/cudart_stub.cc:28] Could not find cuda drivers on your machine, GPU will not be used.\n",
      "2023-11-28 12:44:53.624826: I tensorflow/core/platform/cpu_feature_guard.cc:182] This TensorFlow binary is optimized to use available CPU instructions in performance-critical operations.\n",
      "To enable the following instructions: AVX2 FMA, in other operations, rebuild TensorFlow with the appropriate compiler flags.\n",
      "2023-11-28 12:44:54.350011: W tensorflow/compiler/tf2tensorrt/utils/py_utils.cc:38] TF-TRT Warning: Could not find TensorRT\n"
     ]
    },
    {
     "name": "stdout",
     "output_type": "stream",
     "text": [
      "resources get initialised\n"
     ]
    },
    {
     "name": "stderr",
     "output_type": "stream",
     "text": [
      "Some weights of BertModel were not initialized from the model checkpoint at SpanBERT/spanbert-large-cased and are newly initialized: ['bert.pooler.dense.bias', 'bert.pooler.dense.weight']\n",
      "You should probably TRAIN this model on a down-stream task to be able to use it for predictions and inference.\n"
     ]
    }
   ],
   "source": [
    "from bats_label_model import BatsModel\n",
    "import numpy as np\n",
    "import pickle\n",
    "\n",
    "from sklearn.utils import shuffle\n"
   ]
  },
  {
   "cell_type": "code",
   "execution_count": 2,
   "metadata": {},
   "outputs": [
    {
     "name": "stderr",
     "output_type": "stream",
     "text": [
      "100%|██████████| 100/100 [00:07<00:00, 13.28epoch/s]\n",
      "/workspace/pruning_lfs.py:67: RuntimeWarning: invalid value encountered in scalar divide\n",
      "  merged_data.append([index, polarity, cov_simp, cov_src, precision, 1 - precision, cov_simp+cov_src, abs(cov_simp - cov_src), abs(cov_simp - cov_src)/(cov_simp+cov_src)])\n",
      "/usr/local/lib/python3.8/site-packages/snorkel/labeling/model/label_model.py:387: RuntimeWarning: divide by zero encountered in divide\n",
      "  return np.clip(accs / self.coverage, 1e-6, 1.0)\n"
     ]
    }
   ],
   "source": [
    "model = BatsModel(\"NNSeval-1249\")"
   ]
  },
  {
   "cell_type": "code",
   "execution_count": 3,
   "metadata": {},
   "outputs": [
    {
     "ename": "AttributeError",
     "evalue": "'BatsModel' object has no attribute 'lfs_vec'",
     "output_type": "error",
     "traceback": [
      "\u001b[0;31m---------------------------------------------------------------------------\u001b[0m",
      "\u001b[0;31mAttributeError\u001b[0m                            Traceback (most recent call last)",
      "\u001b[1;32m/workspace/test_suite.ipynb Cell 3\u001b[0m line \u001b[0;36m3\n\u001b[1;32m      <a href='vscode-notebook-cell://attached-container%2B7b22636f6e7461696e65724e616d65223a222f7573622d706970656c696e655f7573622d706970656c696e655f31227d/workspace/test_suite.ipynb#X52sdnNjb2RlLXJlbW90ZQ%3D%3D?line=0'>1</a>\u001b[0m X, y \u001b[39m=\u001b[39m np\u001b[39m.\u001b[39mconcatenate([model\u001b[39m.\u001b[39msimp_labels, model\u001b[39m.\u001b[39msrc_labels]), np\u001b[39m.\u001b[39marray([\u001b[39m0\u001b[39m]\u001b[39m*\u001b[39m\u001b[39mlen\u001b[39m(model\u001b[39m.\u001b[39msimp_labels) \u001b[39m+\u001b[39m [\u001b[39m1\u001b[39m]\u001b[39m*\u001b[39m\u001b[39mlen\u001b[39m(model\u001b[39m.\u001b[39msrc_labels))\n\u001b[1;32m      <a href='vscode-notebook-cell://attached-container%2B7b22636f6e7461696e65724e616d65223a222f7573622d706970656c696e655f7573622d706970656c696e655f31227d/workspace/test_suite.ipynb#X52sdnNjb2RlLXJlbW90ZQ%3D%3D?line=1'>2</a>\u001b[0m X, y \u001b[39m=\u001b[39m shuffle(X, y, random_state\u001b[39m=\u001b[39m\u001b[39m42\u001b[39m)\n\u001b[0;32m----> <a href='vscode-notebook-cell://attached-container%2B7b22636f6e7461696e65724e616d65223a222f7573622d706970656c696e655f7573622d706970656c696e655f31227d/workspace/test_suite.ipynb#X52sdnNjb2RlLXJlbW90ZQ%3D%3D?line=2'>3</a>\u001b[0m sel_indices \u001b[39m=\u001b[39m np\u001b[39m.\u001b[39marray(model\u001b[39m.\u001b[39;49mlfs_vec)\u001b[39m.\u001b[39mnonzero()[\u001b[39m0\u001b[39m]\n\u001b[1;32m      <a href='vscode-notebook-cell://attached-container%2B7b22636f6e7461696e65724e616d65223a222f7573622d706970656c696e655f7573622d706970656c696e655f31227d/workspace/test_suite.ipynb#X52sdnNjb2RlLXJlbW90ZQ%3D%3D?line=3'>4</a>\u001b[0m opt_X \u001b[39m=\u001b[39m np\u001b[39m.\u001b[39mtake(X, sel_indices, axis\u001b[39m=\u001b[39m\u001b[39m1\u001b[39m)\n\u001b[1;32m      <a href='vscode-notebook-cell://attached-container%2B7b22636f6e7461696e65724e616d65223a222f7573622d706970656c696e655f7573622d706970656c696e655f31227d/workspace/test_suite.ipynb#X52sdnNjb2RlLXJlbW90ZQ%3D%3D?line=5'>6</a>\u001b[0m \u001b[39mprint\u001b[39m(opt_X\u001b[39m.\u001b[39mshape)\n",
      "\u001b[0;31mAttributeError\u001b[0m: 'BatsModel' object has no attribute 'lfs_vec'"
     ]
    }
   ],
   "source": [
    "X, y = np.concatenate([model.simp_labels, model.src_labels]), np.array([0]*len(model.simp_labels) + [1]*len(model.src_labels))\n",
    "X, y = shuffle(X, y, random_state=42)\n",
    "sel_indices = np.array(model.lfs_vec).nonzero()[0]\n",
    "opt_X = np.take(X, sel_indices, axis=1)\n",
    "\n",
    "print(opt_X.shape)\n",
    "\n",
    "clf.score(opt_X, y)"
   ]
  },
  {
   "cell_type": "code",
   "execution_count": null,
   "metadata": {},
   "outputs": [],
   "source": [
    "model.lfs_vec.shape[0]"
   ]
  },
  {
   "cell_type": "code",
   "execution_count": null,
   "metadata": {},
   "outputs": [],
   "source": [
    "with open(\"/workspace/datasets/eval_simp_labels.pkl\", 'rb') as f:\n",
    "    eval_simp = pickle.load(f)"
   ]
  },
  {
   "cell_type": "code",
   "execution_count": null,
   "metadata": {},
   "outputs": [],
   "source": [
    "with open(\"workspace/datasets/final_combined_with_index.pkl\", 'rb') as f:\n",
    "    dataset = pickle.load(f)"
   ]
  },
  {
   "cell_type": "code",
   "execution_count": null,
   "metadata": {},
   "outputs": [],
   "source": [
    "dataset['simplified_snt'] = dataset['simp']\n",
    "dataset['source_snt'] = dataset['src']"
   ]
  },
  {
   "cell_type": "code",
   "execution_count": null,
   "metadata": {},
   "outputs": [],
   "source": [
    "selected_dataset = \"MTurkSF\"\n",
    "dataset = dataset[dataset['ds_id'] == selected_dataset]"
   ]
  },
  {
   "cell_type": "code",
   "execution_count": null,
   "metadata": {},
   "outputs": [],
   "source": [
    "dataset"
   ]
  },
  {
   "cell_type": "code",
   "execution_count": null,
   "metadata": {},
   "outputs": [],
   "source": [
    "for i in range(30):\n",
    "    t1 = dataset.iloc[1].src\n",
    "    print(model.calc_score(t1))"
   ]
  },
  {
   "cell_type": "code",
   "execution_count": null,
   "metadata": {},
   "outputs": [],
   "source": [
    "def foo1(x=[]):\n",
    "    x.append(\"a\")\n",
    "    print(x)"
   ]
  },
  {
   "cell_type": "code",
   "execution_count": null,
   "metadata": {},
   "outputs": [],
   "source": [
    "foo1()"
   ]
  },
  {
   "cell_type": "code",
   "execution_count": null,
   "metadata": {},
   "outputs": [],
   "source": [
    "t1_bin =model.transform_to_bin_vec(t1)"
   ]
  },
  {
   "cell_type": "code",
   "execution_count": null,
   "metadata": {},
   "outputs": [],
   "source": [
    "t1_bin"
   ]
  },
  {
   "cell_type": "code",
   "execution_count": null,
   "metadata": {},
   "outputs": [],
   "source": [
    "weights"
   ]
  },
  {
   "cell_type": "code",
   "execution_count": null,
   "metadata": {},
   "outputs": [],
   "source": [
    "s_val = 0\n",
    "ns_val = 0\n",
    "\n",
    "for i in range(len(t1_bin[0])):\n",
    "    if t1_bin[0][i] == 0:\n",
    "        s_val += weights[i]\n",
    "    elif t1_bin[0][i] == 1:\n",
    "        ns_val += weights[i]"
   ]
  },
  {
   "cell_type": "code",
   "execution_count": null,
   "metadata": {},
   "outputs": [],
   "source": [
    "s_val_p = s_val / (s_val + ns_val)"
   ]
  },
  {
   "cell_type": "code",
   "execution_count": null,
   "metadata": {},
   "outputs": [],
   "source": [
    "ns_val_p = ns_val / (s_val + ns_val)"
   ]
  },
  {
   "cell_type": "code",
   "execution_count": null,
   "metadata": {},
   "outputs": [],
   "source": [
    "ns_val_p"
   ]
  },
  {
   "cell_type": "code",
   "execution_count": null,
   "metadata": {},
   "outputs": [],
   "source": [
    "from snorkel.labeling import labeling_function, PandasLFApplier, LabelingFunction\n",
    "from snorkel.labeling.apply.dask import PandasParallelLFApplier, DaskLFApplier\n",
    "import pandas as pd\n",
    "import dask.dataframe as dd\n",
    "import numpy as np\n",
    "import pickle\n",
    "import time\n",
    "\n",
    "def is_odd(x):\n",
    "    time.sleep(0.01)\n",
    "    return 1 if x.val % 2 == 1 else 0\n",
    "\n",
    "test_lfs = [LabelingFunction(f\"lf_{i}\", is_odd) for i in range(6)]"
   ]
  },
  {
   "cell_type": "code",
   "execution_count": null,
   "metadata": {},
   "outputs": [],
   "source": [
    "rand_ints = np.random.randint(100, size=500)\n",
    "df = pd.DataFrame(dict(val=rand_ints))\n",
    "ddf = dd.from_pandas(df, npartitions=6)"
   ]
  },
  {
   "cell_type": "code",
   "execution_count": null,
   "metadata": {},
   "outputs": [],
   "source": [
    "applier = PandasLFApplier(lfs)\n",
    "labels = applier.apply(pd.DataFrame(dict(val=rand_ints)))"
   ]
  },
  {
   "cell_type": "code",
   "execution_count": null,
   "metadata": {},
   "outputs": [],
   "source": [
    "applier_p = PandasParallelLFApplier(lfs)\n",
    "labels = applier_p.apply(pd.DataFrame(dict(val=rand_ints)), n_parallel=6)"
   ]
  },
  {
   "cell_type": "code",
   "execution_count": null,
   "metadata": {},
   "outputs": [],
   "source": [
    "dask_applier = DaskLFApplier(lfs)"
   ]
  },
  {
   "cell_type": "code",
   "execution_count": null,
   "metadata": {},
   "outputs": [],
   "source": [
    "labels = dask_applier.apply(df = ddf)"
   ]
  },
  {
   "cell_type": "code",
   "execution_count": null,
   "metadata": {},
   "outputs": [],
   "source": [
    "#try it own multiprocessing\n",
    "from multiprocessing import Process\n",
    "\n",
    "\n",
    "def apply_lfs(df, lfs, i, size):\n",
    "    applier = PandasLFApplier(lfs)\n",
    "    labels = applier.apply(df[i:i+size])\n",
    "    pickle.dump(open(f\"./test_{i}.pkl\", \"wb\"), labels)\n"
   ]
  },
  {
   "cell_type": "code",
   "execution_count": null,
   "metadata": {},
   "outputs": [],
   "source": [
    "procs = []\n",
    "\n",
    "start = time.perf_counter()\n",
    "\n",
    "for i in range(5):\n",
    "    print(f\"start process {i}\")\n",
    "    proc = Process(target=apply_lfs, args=(df[i:i+100], test_lfs))\n",
    "    procs.append(proc)\n",
    "    proc.start()\n",
    "\n",
    "\n",
    "for proc in procs:\n",
    "    proc.join()\n",
    "\n",
    "end = time.perf_counter()\n",
    "print(f\"Duration: {np.round(end-start, 2)} seconds\")"
   ]
  },
  {
   "cell_type": "code",
   "execution_count": null,
   "metadata": {},
   "outputs": [],
   "source": []
  }
 ],
 "metadata": {
  "kernelspec": {
   "display_name": "Python 3",
   "language": "python",
   "name": "python3"
  },
  "language_info": {
   "codemirror_mode": {
    "name": "ipython",
    "version": 3
   },
   "file_extension": ".py",
   "mimetype": "text/x-python",
   "name": "python",
   "nbconvert_exporter": "python",
   "pygments_lexer": "ipython3",
   "version": "3.8.18"
  }
 },
 "nbformat": 4,
 "nbformat_minor": 2
}
