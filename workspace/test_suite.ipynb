{
 "cells": [
  {
   "cell_type": "code",
   "execution_count": 1,
   "metadata": {},
   "outputs": [
    {
     "name": "stderr",
     "output_type": "stream",
     "text": [
      "/usr/local/lib/python3.8/site-packages/torch/cuda/__init__.py:83: UserWarning: CUDA initialization: CUDA unknown error - this may be due to an incorrectly set up environment, e.g. changing env variable CUDA_VISIBLE_DEVICES after program start. Setting the available devices to be zero. (Triggered internally at  ../c10/cuda/CUDAFunctions.cpp:109.)\n",
      "  return torch._C._cuda_getDeviceCount() > 0\n",
      "2023-11-09 08:13:16.525017: I tensorflow/tsl/cuda/cudart_stub.cc:28] Could not find cuda drivers on your machine, GPU will not be used.\n",
      "2023-11-09 08:13:16.559098: I tensorflow/tsl/cuda/cudart_stub.cc:28] Could not find cuda drivers on your machine, GPU will not be used.\n",
      "2023-11-09 08:13:16.559640: I tensorflow/core/platform/cpu_feature_guard.cc:182] This TensorFlow binary is optimized to use available CPU instructions in performance-critical operations.\n",
      "To enable the following instructions: AVX2 FMA, in other operations, rebuild TensorFlow with the appropriate compiler flags.\n",
      "2023-11-09 08:13:17.478421: W tensorflow/compiler/tf2tensorrt/utils/py_utils.cc:38] TF-TRT Warning: Could not find TensorRT\n"
     ]
    },
    {
     "name": "stdout",
     "output_type": "stream",
     "text": [
      "resources get initialised\n"
     ]
    },
    {
     "name": "stderr",
     "output_type": "stream",
     "text": [
      "Some weights of BertModel were not initialized from the model checkpoint at SpanBERT/spanbert-large-cased and are newly initialized: ['bert.pooler.dense.weight', 'bert.pooler.dense.bias']\n",
      "You should probably TRAIN this model on a down-stream task to be able to use it for predictions and inference.\n"
     ]
    },
    {
     "name": "stdout",
     "output_type": "stream",
     "text": [
      "huggingface/tokenizers: The current process just got forked, after parallelism has already been used. Disabling parallelism to avoid deadlocks...\n",
      "To disable this warning, you can either:\n",
      "\t- Avoid using `tokenizers` before the fork if possible\n",
      "\t- Explicitly set the environment variable TOKENIZERS_PARALLELISM=(true | false)\n",
      "huggingface/tokenizers: The current process just got forked, after parallelism has already been used. Disabling parallelism to avoid deadlocks...\n",
      "To disable this warning, you can either:\n",
      "\t- Avoid using `tokenizers` before the fork if possible\n",
      "\t- Explicitly set the environment variable TOKENIZERS_PARALLELISM=(true | false)\n",
      "huggingface/tokenizers: The current process just got forked, after parallelism has already been used. Disabling parallelism to avoid deadlocks...\n",
      "To disable this warning, you can either:\n",
      "\t- Avoid using `tokenizers` before the fork if possible\n",
      "\t- Explicitly set the environment variable TOKENIZERS_PARALLELISM=(true | false)\n",
      "huggingface/tokenizers: The current process just got forked, after parallelism has already been used. Disabling parallelism to avoid deadlocks...\n",
      "To disable this warning, you can either:\n",
      "\t- Avoid using `tokenizers` before the fork if possible\n",
      "\t- Explicitly set the environment variable TOKENIZERS_PARALLELISM=(true | false)\n",
      "huggingface/tokenizers: The current process just got forked, after parallelism has already been used. Disabling parallelism to avoid deadlocks...\n",
      "To disable this warning, you can either:\n",
      "\t- Avoid using `tokenizers` before the fork if possible\n",
      "\t- Explicitly set the environment variable TOKENIZERS_PARALLELISM=(true | false)\n",
      "huggingface/tokenizers: The current process just got forked, after parallelism has already been used. Disabling parallelism to avoid deadlocks...\n",
      "To disable this warning, you can either:\n",
      "\t- Avoid using `tokenizers` before the fork if possible\n",
      "\t- Explicitly set the environment variable TOKENIZERS_PARALLELISM=(true | false)\n",
      "huggingface/tokenizers: The current process just got forked, after parallelism has already been used. Disabling parallelism to avoid deadlocks...\n",
      "To disable this warning, you can either:\n",
      "\t- Avoid using `tokenizers` before the fork if possible\n",
      "\t- Explicitly set the environment variable TOKENIZERS_PARALLELISM=(true | false)\n",
      "huggingface/tokenizers: The current process just got forked, after parallelism has already been used. Disabling parallelism to avoid deadlocks...\n",
      "To disable this warning, you can either:\n",
      "\t- Avoid using `tokenizers` before the fork if possible\n",
      "\t- Explicitly set the environment variable TOKENIZERS_PARALLELISM=(true | false)\n",
      "huggingface/tokenizers: The current process just got forked, after parallelism has already been used. Disabling parallelism to avoid deadlocks...\n",
      "To disable this warning, you can either:\n",
      "\t- Avoid using `tokenizers` before the fork if possible\n",
      "\t- Explicitly set the environment variable TOKENIZERS_PARALLELISM=(true | false)\n",
      "huggingface/tokenizers: The current process just got forked, after parallelism has already been used. Disabling parallelism to avoid deadlocks...\n",
      "To disable this warning, you can either:\n",
      "\t- Avoid using `tokenizers` before the fork if possible\n",
      "\t- Explicitly set the environment variable TOKENIZERS_PARALLELISM=(true | false)\n",
      "huggingface/tokenizers: The current process just got forked, after parallelism has already been used. Disabling parallelism to avoid deadlocks...\n",
      "To disable this warning, you can either:\n",
      "\t- Avoid using `tokenizers` before the fork if possible\n",
      "\t- Explicitly set the environment variable TOKENIZERS_PARALLELISM=(true | false)\n",
      "huggingface/tokenizers: The current process just got forked, after parallelism has already been used. Disabling parallelism to avoid deadlocks...\n",
      "To disable this warning, you can either:\n",
      "\t- Avoid using `tokenizers` before the fork if possible\n",
      "\t- Explicitly set the environment variable TOKENIZERS_PARALLELISM=(true | false)\n",
      "huggingface/tokenizers: The current process just got forked, after parallelism has already been used. Disabling parallelism to avoid deadlocks...\n",
      "To disable this warning, you can either:\n",
      "\t- Avoid using `tokenizers` before the fork if possible\n",
      "\t- Explicitly set the environment variable TOKENIZERS_PARALLELISM=(true | false)\n",
      "huggingface/tokenizers: The current process just got forked, after parallelism has already been used. Disabling parallelism to avoid deadlocks...\n",
      "To disable this warning, you can either:\n",
      "\t- Avoid using `tokenizers` before the fork if possible\n",
      "\t- Explicitly set the environment variable TOKENIZERS_PARALLELISM=(true | false)\n",
      "huggingface/tokenizers: The current process just got forked, after parallelism has already been used. Disabling parallelism to avoid deadlocks...\n",
      "To disable this warning, you can either:\n",
      "\t- Avoid using `tokenizers` before the fork if possible\n",
      "\t- Explicitly set the environment variable TOKENIZERS_PARALLELISM=(true | false)\n",
      "huggingface/tokenizers: The current process just got forked, after parallelism has already been used. Disabling parallelism to avoid deadlocks...\n",
      "To disable this warning, you can either:\n",
      "\t- Avoid using `tokenizers` before the fork if possible\n",
      "\t- Explicitly set the environment variable TOKENIZERS_PARALLELISM=(true | false)\n",
      "huggingface/tokenizers: The current process just got forked, after parallelism has already been used. Disabling parallelism to avoid deadlocks...\n",
      "To disable this warning, you can either:\n",
      "\t- Avoid using `tokenizers` before the fork if possible\n",
      "\t- Explicitly set the environment variable TOKENIZERS_PARALLELISM=(true | false)\n",
      "huggingface/tokenizers: The current process just got forked, after parallelism has already been used. Disabling parallelism to avoid deadlocks...\n",
      "To disable this warning, you can either:\n",
      "\t- Avoid using `tokenizers` before the fork if possible\n",
      "\t- Explicitly set the environment variable TOKENIZERS_PARALLELISM=(true | false)\n",
      "huggingface/tokenizers: The current process just got forked, after parallelism has already been used. Disabling parallelism to avoid deadlocks...\n",
      "To disable this warning, you can either:\n",
      "\t- Avoid using `tokenizers` before the fork if possible\n",
      "\t- Explicitly set the environment variable TOKENIZERS_PARALLELISM=(true | false)\n",
      "huggingface/tokenizers: The current process just got forked, after parallelism has already been used. Disabling parallelism to avoid deadlocks...\n",
      "To disable this warning, you can either:\n",
      "\t- Avoid using `tokenizers` before the fork if possible\n",
      "\t- Explicitly set the environment variable TOKENIZERS_PARALLELISM=(true | false)\n",
      "huggingface/tokenizers: The current process just got forked, after parallelism has already been used. Disabling parallelism to avoid deadlocks...\n",
      "To disable this warning, you can either:\n",
      "\t- Avoid using `tokenizers` before the fork if possible\n",
      "\t- Explicitly set the environment variable TOKENIZERS_PARALLELISM=(true | false)\n",
      "huggingface/tokenizers: The current process just got forked, after parallelism has already been used. Disabling parallelism to avoid deadlocks...\n",
      "To disable this warning, you can either:\n",
      "\t- Avoid using `tokenizers` before the fork if possible\n",
      "\t- Explicitly set the environment variable TOKENIZERS_PARALLELISM=(true | false)\n",
      "huggingface/tokenizers: The current process just got forked, after parallelism has already been used. Disabling parallelism to avoid deadlocks...\n",
      "To disable this warning, you can either:\n",
      "\t- Avoid using `tokenizers` before the fork if possible\n",
      "\t- Explicitly set the environment variable TOKENIZERS_PARALLELISM=(true | false)\n",
      "huggingface/tokenizers: The current process just got forked, after parallelism has already been used. Disabling parallelism to avoid deadlocks...\n",
      "To disable this warning, you can either:\n",
      "\t- Avoid using `tokenizers` before the fork if possible\n",
      "\t- Explicitly set the environment variable TOKENIZERS_PARALLELISM=(true | false)\n",
      "huggingface/tokenizers: The current process just got forked, after parallelism has already been used. Disabling parallelism to avoid deadlocks...\n",
      "To disable this warning, you can either:\n",
      "\t- Avoid using `tokenizers` before the fork if possible\n",
      "\t- Explicitly set the environment variable TOKENIZERS_PARALLELISM=(true | false)\n",
      "huggingface/tokenizers: The current process just got forked, after parallelism has already been used. Disabling parallelism to avoid deadlocks...\n",
      "To disable this warning, you can either:\n",
      "\t- Avoid using `tokenizers` before the fork if possible\n",
      "\t- Explicitly set the environment variable TOKENIZERS_PARALLELISM=(true | false)\n",
      "huggingface/tokenizers: The current process just got forked, after parallelism has already been used. Disabling parallelism to avoid deadlocks...\n",
      "To disable this warning, you can either:\n",
      "\t- Avoid using `tokenizers` before the fork if possible\n",
      "\t- Explicitly set the environment variable TOKENIZERS_PARALLELISM=(true | false)\n",
      "huggingface/tokenizers: The current process just got forked, after parallelism has already been used. Disabling parallelism to avoid deadlocks...\n",
      "To disable this warning, you can either:\n",
      "\t- Avoid using `tokenizers` before the fork if possible\n",
      "\t- Explicitly set the environment variable TOKENIZERS_PARALLELISM=(true | false)\n",
      "huggingface/tokenizers: The current process just got forked, after parallelism has already been used. Disabling parallelism to avoid deadlocks...\n",
      "To disable this warning, you can either:\n",
      "\t- Avoid using `tokenizers` before the fork if possible\n",
      "\t- Explicitly set the environment variable TOKENIZERS_PARALLELISM=(true | false)\n",
      "huggingface/tokenizers: The current process just got forked, after parallelism has already been used. Disabling parallelism to avoid deadlocks...\n",
      "To disable this warning, you can either:\n",
      "\t- Avoid using `tokenizers` before the fork if possible\n",
      "\t- Explicitly set the environment variable TOKENIZERS_PARALLELISM=(true | false)\n",
      "huggingface/tokenizers: The current process just got forked, after parallelism has already been used. Disabling parallelism to avoid deadlocks...\n",
      "To disable this warning, you can either:\n",
      "\t- Avoid using `tokenizers` before the fork if possible\n",
      "\t- Explicitly set the environment variable TOKENIZERS_PARALLELISM=(true | false)\n",
      "huggingface/tokenizers: The current process just got forked, after parallelism has already been used. Disabling parallelism to avoid deadlocks...\n",
      "To disable this warning, you can either:\n",
      "\t- Avoid using `tokenizers` before the fork if possible\n",
      "\t- Explicitly set the environment variable TOKENIZERS_PARALLELISM=(true | false)\n",
      "huggingface/tokenizers: The current process just got forked, after parallelism has already been used. Disabling parallelism to avoid deadlocks...\n",
      "To disable this warning, you can either:\n",
      "\t- Avoid using `tokenizers` before the fork if possible\n",
      "\t- Explicitly set the environment variable TOKENIZERS_PARALLELISM=(true | false)\n",
      "huggingface/tokenizers: The current process just got forked, after parallelism has already been used. Disabling parallelism to avoid deadlocks...\n",
      "To disable this warning, you can either:\n",
      "\t- Avoid using `tokenizers` before the fork if possible\n",
      "\t- Explicitly set the environment variable TOKENIZERS_PARALLELISM=(true | false)\n",
      "huggingface/tokenizers: The current process just got forked, after parallelism has already been used. Disabling parallelism to avoid deadlocks...\n",
      "To disable this warning, you can either:\n",
      "\t- Avoid using `tokenizers` before the fork if possible\n",
      "\t- Explicitly set the environment variable TOKENIZERS_PARALLELISM=(true | false)\n",
      "huggingface/tokenizers: The current process just got forked, after parallelism has already been used. Disabling parallelism to avoid deadlocks...\n",
      "To disable this warning, you can either:\n",
      "\t- Avoid using `tokenizers` before the fork if possible\n",
      "\t- Explicitly set the environment variable TOKENIZERS_PARALLELISM=(true | false)\n",
      "huggingface/tokenizers: The current process just got forked, after parallelism has already been used. Disabling parallelism to avoid deadlocks...\n",
      "To disable this warning, you can either:\n",
      "\t- Avoid using `tokenizers` before the fork if possible\n",
      "\t- Explicitly set the environment variable TOKENIZERS_PARALLELISM=(true | false)\n",
      "huggingface/tokenizers: The current process just got forked, after parallelism has already been used. Disabling parallelism to avoid deadlocks...\n",
      "To disable this warning, you can either:\n",
      "\t- Avoid using `tokenizers` before the fork if possible\n",
      "\t- Explicitly set the environment variable TOKENIZERS_PARALLELISM=(true | false)\n"
     ]
    }
   ],
   "source": [
    "from bats_label_model import BatsModel\n",
    "import numpy as np\n",
    "import pickle"
   ]
  },
  {
   "cell_type": "code",
   "execution_count": 2,
   "metadata": {},
   "outputs": [
    {
     "name": "stderr",
     "output_type": "stream",
     "text": [
      "100%|██████████| 100/100 [00:00<00:00, 240.53epoch/s]\n",
      "/workspace/pruning_lfs.py:52: RuntimeWarning: invalid value encountered in scalar divide\n",
      "  merged_data.append([index, polarity, cov_simp, cov_src, precision, 1 - precision, cov_simp+cov_src, abs(cov_simp - cov_src), abs(cov_simp - cov_src)/(cov_simp+cov_src)])\n"
     ]
    }
   ],
   "source": [
    "model = BatsModel(\"MTurkSF\")"
   ]
  },
  {
   "cell_type": "code",
   "execution_count": 3,
   "metadata": {},
   "outputs": [
    {
     "name": "stderr",
     "output_type": "stream",
     "text": [
      "/usr/local/lib/python3.8/site-packages/snorkel/labeling/model/label_model.py:387: RuntimeWarning: divide by zero encountered in divide\n",
      "  return np.clip(accs / self.coverage, 1e-6, 1.0)\n"
     ]
    }
   ],
   "source": [
    "weights = model.label_model.get_weights()"
   ]
  },
  {
   "cell_type": "code",
   "execution_count": 4,
   "metadata": {},
   "outputs": [
    {
     "data": {
      "text/plain": [
       "328"
      ]
     },
     "execution_count": 4,
     "metadata": {},
     "output_type": "execute_result"
    }
   ],
   "source": [
    "len(weights)"
   ]
  },
  {
   "cell_type": "code",
   "execution_count": 5,
   "metadata": {},
   "outputs": [
    {
     "data": {
      "text/plain": [
       "271.4152804268529"
      ]
     },
     "execution_count": 5,
     "metadata": {},
     "output_type": "execute_result"
    }
   ],
   "source": [
    "np.sum(weights)"
   ]
  },
  {
   "cell_type": "code",
   "execution_count": 6,
   "metadata": {},
   "outputs": [
    {
     "data": {
      "text/plain": [
       "array([0.9619469 , 0.94821669, 0.95290867, 0.94552206, 0.93662476,\n",
       "       0.93108783, 0.90712451, 0.90388951, 0.88531515, 0.84030419,\n",
       "       0.76680436, 0.85770602, 0.90444668, 0.93324921, 0.98498478,\n",
       "       1.        , 1.        , 1.        , 1.        , 1.        ,\n",
       "       1.        , 1.        , 1.        , 1.        , 1.        ,\n",
       "       1.        , 1.        , 1.        , 1.        , 1.        ,\n",
       "       1.        , 1.        , 1.        , 0.36036249, 1.        ,\n",
       "       1.        , 1.        , 1.        , 0.9917048 , 1.        ,\n",
       "       0.59083392, 1.        , 1.        , 1.        , 0.62489727,\n",
       "       1.        , 1.        , 1.        , 1.        , 0.95396569,\n",
       "       0.91701336, 1.        , 1.        , 1.        , 0.93452978,\n",
       "       0.95360781, 0.94669524, 0.94613218, 0.78217966, 0.74080199,\n",
       "       0.45792043, 0.48611538, 0.51263501, 0.65157632, 1.        ,\n",
       "       1.        , 1.        , 1.        , 1.        , 1.        ,\n",
       "       1.        , 0.99296066, 1.        , 0.94520921, 0.71858308,\n",
       "       0.46821452, 0.55750174, 0.44309505, 0.37092851, 0.53361407,\n",
       "       0.61217084, 0.34628125, 0.79510855, 0.79510855, 0.77973981,\n",
       "       0.79054503, 0.598916  , 0.58590248, 0.57713621, 0.57853709,\n",
       "       0.56820071, 0.77003485, 0.71521037, 0.96194707, 0.95290867,\n",
       "       0.93108783, 0.90388951, 0.78091874, 0.50000001, 0.50000001,\n",
       "       0.50000001, 0.50000001, 0.50000001, 0.50000001, 0.50000001,\n",
       "       0.50000001, 0.50000001, 0.50000001, 0.50000001, 0.50000001,\n",
       "       0.50000001, 0.50000001, 0.50000001, 0.50000001, 0.50000001,\n",
       "       0.50000001, 0.50000001, 0.50000001, 0.50000001, 0.50000001,\n",
       "       0.50000001, 0.50000001, 0.62668413, 0.71521037, 1.        ,\n",
       "       1.        , 1.        , 1.        , 1.        , 1.        ,\n",
       "       1.        , 1.        , 1.        , 0.91515651, 0.91515651,\n",
       "       0.91515651, 0.91515651, 0.91515651, 0.91515651, 0.91808339,\n",
       "       0.91808339, 0.58898925, 0.58898925, 0.58898925, 0.58898925,\n",
       "       0.58898925, 0.71112948, 0.71112948, 0.71112948, 0.71112948,\n",
       "       0.71112948, 0.71112948, 0.71112948, 0.71112948, 0.71112948,\n",
       "       0.71112948, 1.        , 0.96741071, 0.93142882, 0.82156135,\n",
       "       0.76264988, 0.98538382, 1.        , 1.        , 1.        ,\n",
       "       0.03683334, 0.03157143, 0.4922694 , 0.49574726, 0.02104762,\n",
       "       0.58293547, 0.64443602, 0.01774148, 0.74909059, 0.66854279,\n",
       "       0.56167301, 0.65149264, 1.        , 1.        , 1.        ,\n",
       "       1.        , 1.        , 1.        , 1.        , 1.        ,\n",
       "       1.        , 1.        , 0.77512579, 0.77512579, 0.7645272 ,\n",
       "       0.67222304, 0.83983566, 0.99667348, 1.        , 1.        ,\n",
       "       1.        , 1.        , 1.        , 1.        , 0.6667214 ,\n",
       "       0.60785473, 1.        , 1.        , 1.        , 1.        ,\n",
       "       1.        , 1.        , 1.        , 1.        , 1.        ,\n",
       "       1.        , 1.        , 1.        , 1.        , 1.        ,\n",
       "       1.        , 0.11050001, 1.        , 1.        , 1.        ,\n",
       "       1.        , 1.        , 1.        , 1.        , 1.        ,\n",
       "       0.50000001, 0.50000001, 1.        , 1.        , 1.        ,\n",
       "       1.        , 1.        , 1.        , 1.        , 1.        ,\n",
       "       1.        , 1.        , 1.        , 1.        , 1.        ,\n",
       "       1.        , 0.93125645, 0.92204895, 1.        , 1.        ,\n",
       "       1.        , 0.98954124, 0.91350636, 1.        , 0.98726563,\n",
       "       0.67576342, 0.67739198, 0.69110013, 0.48955423, 0.52415139,\n",
       "       0.62287329, 0.7989436 , 0.88565847, 0.92951436, 0.47766372,\n",
       "       0.60745631, 0.53322138, 0.62253393, 0.72042139, 0.94277301,\n",
       "       0.99440018, 1.        , 0.51897338, 0.70077514, 0.52628617,\n",
       "       0.58547256, 0.71656577, 0.76212048, 0.79626701, 0.81136053,\n",
       "       1.        , 0.49866352, 0.54394157, 0.69047836, 0.3978722 ,\n",
       "       0.3978722 , 0.3978722 , 0.3978722 , 0.3978722 , 0.57627452,\n",
       "       1.        , 0.16496788, 1.        , 1.        , 1.        ,\n",
       "       1.        , 1.        , 1.        , 1.        , 1.        ,\n",
       "       1.        , 1.        , 1.        , 1.        , 1.        ,\n",
       "       1.        , 1.        , 1.        , 1.        , 1.        ,\n",
       "       1.        , 1.        , 1.        , 1.        , 1.        ,\n",
       "       1.        , 1.        , 1.        , 1.        , 1.        ,\n",
       "       1.        , 1.        , 1.        , 0.76680425, 0.90444674,\n",
       "       0.98498478, 1.        , 1.        , 1.        , 1.        ,\n",
       "       1.        , 1.        , 1.        ])"
      ]
     },
     "execution_count": 6,
     "metadata": {},
     "output_type": "execute_result"
    }
   ],
   "source": [
    "weights"
   ]
  },
  {
   "cell_type": "code",
   "execution_count": 7,
   "metadata": {},
   "outputs": [],
   "source": [
    "norm_weigts = weights/np.sum(weights)"
   ]
  },
  {
   "cell_type": "code",
   "execution_count": 8,
   "metadata": {},
   "outputs": [
    {
     "data": {
      "text/plain": [
       "0.9999999999999999"
      ]
     },
     "execution_count": 8,
     "metadata": {},
     "output_type": "execute_result"
    }
   ],
   "source": [
    "np.sum(norm_weigts)"
   ]
  },
  {
   "cell_type": "code",
   "execution_count": 9,
   "metadata": {},
   "outputs": [],
   "source": [
    "all_lfs = model.all_lfs"
   ]
  },
  {
   "cell_type": "code",
   "execution_count": null,
   "metadata": {},
   "outputs": [],
   "source": []
  },
  {
   "cell_type": "code",
   "execution_count": 10,
   "metadata": {},
   "outputs": [],
   "source": [
    "with open(\"/workspace/datasets/eval_simp_labels.pkl\", 'rb') as f:\n",
    "    eval_simp = pickle.load(f)"
   ]
  },
  {
   "cell_type": "code",
   "execution_count": 11,
   "metadata": {},
   "outputs": [],
   "source": [
    "with open(\"workspace/datasets/final_combined_with_index.pkl\", 'rb') as f:\n",
    "    dataset = pickle.load(f)"
   ]
  },
  {
   "cell_type": "code",
   "execution_count": 12,
   "metadata": {},
   "outputs": [],
   "source": [
    "dataset['simplified_snt'] = dataset['simp']\n",
    "dataset['source_snt'] = dataset['src']"
   ]
  },
  {
   "cell_type": "code",
   "execution_count": 13,
   "metadata": {},
   "outputs": [],
   "source": [
    "selected_dataset = \"MTurkSF\"\n",
    "dataset = dataset[dataset['ds_id'] == selected_dataset]"
   ]
  },
  {
   "cell_type": "code",
   "execution_count": 14,
   "metadata": {},
   "outputs": [
    {
     "data": {
      "text/html": [
       "<div>\n",
       "<style scoped>\n",
       "    .dataframe tbody tr th:only-of-type {\n",
       "        vertical-align: middle;\n",
       "    }\n",
       "\n",
       "    .dataframe tbody tr th {\n",
       "        vertical-align: top;\n",
       "    }\n",
       "\n",
       "    .dataframe thead th {\n",
       "        text-align: right;\n",
       "    }\n",
       "</style>\n",
       "<table border=\"1\" class=\"dataframe\">\n",
       "  <thead>\n",
       "    <tr style=\"text-align: right;\">\n",
       "      <th></th>\n",
       "      <th>ds_id</th>\n",
       "      <th>Year</th>\n",
       "      <th>Target_Audience</th>\n",
       "      <th>Domain</th>\n",
       "      <th>index</th>\n",
       "      <th>src</th>\n",
       "      <th>src_id</th>\n",
       "      <th>simp</th>\n",
       "      <th>simp_id</th>\n",
       "      <th>label</th>\n",
       "      <th>...</th>\n",
       "      <th>duplicated</th>\n",
       "      <th>topic</th>\n",
       "      <th>src_title</th>\n",
       "      <th>simp_title</th>\n",
       "      <th>similarity</th>\n",
       "      <th>topics</th>\n",
       "      <th>val_split</th>\n",
       "      <th>bert_score</th>\n",
       "      <th>simplified_snt</th>\n",
       "      <th>source_snt</th>\n",
       "    </tr>\n",
       "  </thead>\n",
       "  <tbody>\n",
       "    <tr>\n",
       "      <th>506530</th>\n",
       "      <td>MTurkSF</td>\n",
       "      <td>2022</td>\n",
       "      <td>non-experts</td>\n",
       "      <td>medical</td>\n",
       "      <td>MTurkSF__0__0</td>\n",
       "      <td>Abdominal wall defects are a type of congenita...</td>\n",
       "      <td>0</td>\n",
       "      <td>Abdominal wall defects are a type of congenita...</td>\n",
       "      <td>0</td>\n",
       "      <td>NaN</td>\n",
       "      <td>...</td>\n",
       "      <td>False</td>\n",
       "      <td>abdominalwalldefect</td>\n",
       "      <td>NaN</td>\n",
       "      <td>NaN</td>\n",
       "      <td>NaN</td>\n",
       "      <td>NaN</td>\n",
       "      <td>False</td>\n",
       "      <td>0.953776</td>\n",
       "      <td>Abdominal wall defects are a type of congenita...</td>\n",
       "      <td>Abdominal wall defects are a type of congenita...</td>\n",
       "    </tr>\n",
       "    <tr>\n",
       "      <th>506531</th>\n",
       "      <td>MTurkSF</td>\n",
       "      <td>2022</td>\n",
       "      <td>non-experts</td>\n",
       "      <td>medical</td>\n",
       "      <td>MTurkSF__0__1</td>\n",
       "      <td>Abdominal wall defects are a type of congenita...</td>\n",
       "      <td>0</td>\n",
       "      <td>Abdominal wall defects are a type of congenita...</td>\n",
       "      <td>1</td>\n",
       "      <td>NaN</td>\n",
       "      <td>...</td>\n",
       "      <td>False</td>\n",
       "      <td>abdominalwalldefect</td>\n",
       "      <td>NaN</td>\n",
       "      <td>NaN</td>\n",
       "      <td>NaN</td>\n",
       "      <td>NaN</td>\n",
       "      <td>False</td>\n",
       "      <td>0.968228</td>\n",
       "      <td>Abdominal wall defects are a type of congenita...</td>\n",
       "      <td>Abdominal wall defects are a type of congenita...</td>\n",
       "    </tr>\n",
       "    <tr>\n",
       "      <th>506532</th>\n",
       "      <td>MTurkSF</td>\n",
       "      <td>2022</td>\n",
       "      <td>non-experts</td>\n",
       "      <td>medical</td>\n",
       "      <td>MTurkSF__0__2</td>\n",
       "      <td>Abdominal wall defects are a type of congenita...</td>\n",
       "      <td>0</td>\n",
       "      <td>Abdominal wall defects are a type of congenita...</td>\n",
       "      <td>2</td>\n",
       "      <td>NaN</td>\n",
       "      <td>...</td>\n",
       "      <td>False</td>\n",
       "      <td>abdominalwalldefect</td>\n",
       "      <td>NaN</td>\n",
       "      <td>NaN</td>\n",
       "      <td>NaN</td>\n",
       "      <td>NaN</td>\n",
       "      <td>False</td>\n",
       "      <td>0.954932</td>\n",
       "      <td>Abdominal wall defects are a type of congenita...</td>\n",
       "      <td>Abdominal wall defects are a type of congenita...</td>\n",
       "    </tr>\n",
       "    <tr>\n",
       "      <th>506533</th>\n",
       "      <td>MTurkSF</td>\n",
       "      <td>2022</td>\n",
       "      <td>non-experts</td>\n",
       "      <td>medical</td>\n",
       "      <td>MTurkSF__0__3</td>\n",
       "      <td>Abdominal wall defects are a type of congenita...</td>\n",
       "      <td>0</td>\n",
       "      <td>Abdominal wall defects are a type of congenita...</td>\n",
       "      <td>3</td>\n",
       "      <td>NaN</td>\n",
       "      <td>...</td>\n",
       "      <td>False</td>\n",
       "      <td>abdominalwalldefect</td>\n",
       "      <td>NaN</td>\n",
       "      <td>NaN</td>\n",
       "      <td>NaN</td>\n",
       "      <td>NaN</td>\n",
       "      <td>False</td>\n",
       "      <td>0.923728</td>\n",
       "      <td>Abdominal wall defects are a type of congenita...</td>\n",
       "      <td>Abdominal wall defects are a type of congenita...</td>\n",
       "    </tr>\n",
       "    <tr>\n",
       "      <th>506534</th>\n",
       "      <td>MTurkSF</td>\n",
       "      <td>2022</td>\n",
       "      <td>non-experts</td>\n",
       "      <td>medical</td>\n",
       "      <td>MTurkSF__0__4</td>\n",
       "      <td>Abdominal wall defects are a type of congenita...</td>\n",
       "      <td>0</td>\n",
       "      <td>Abdominal wall defects are a type of congenita...</td>\n",
       "      <td>4</td>\n",
       "      <td>NaN</td>\n",
       "      <td>...</td>\n",
       "      <td>False</td>\n",
       "      <td>abdominalwalldefect</td>\n",
       "      <td>NaN</td>\n",
       "      <td>NaN</td>\n",
       "      <td>NaN</td>\n",
       "      <td>NaN</td>\n",
       "      <td>False</td>\n",
       "      <td>0.956304</td>\n",
       "      <td>Abdominal wall defects are a type of congenita...</td>\n",
       "      <td>Abdominal wall defects are a type of congenita...</td>\n",
       "    </tr>\n",
       "    <tr>\n",
       "      <th>...</th>\n",
       "      <td>...</td>\n",
       "      <td>...</td>\n",
       "      <td>...</td>\n",
       "      <td>...</td>\n",
       "      <td>...</td>\n",
       "      <td>...</td>\n",
       "      <td>...</td>\n",
       "      <td>...</td>\n",
       "      <td>...</td>\n",
       "      <td>...</td>\n",
       "      <td>...</td>\n",
       "      <td>...</td>\n",
       "      <td>...</td>\n",
       "      <td>...</td>\n",
       "      <td>...</td>\n",
       "      <td>...</td>\n",
       "      <td>...</td>\n",
       "      <td>...</td>\n",
       "      <td>...</td>\n",
       "      <td>...</td>\n",
       "      <td>...</td>\n",
       "    </tr>\n",
       "    <tr>\n",
       "      <th>506746</th>\n",
       "      <td>MTurkSF</td>\n",
       "      <td>2022</td>\n",
       "      <td>non-experts</td>\n",
       "      <td>medical</td>\n",
       "      <td>MTurkSF__62__216</td>\n",
       "      <td>Visual impairment may cause difficulties with ...</td>\n",
       "      <td>62</td>\n",
       "      <td>Visual impairment may cause difficult with nor...</td>\n",
       "      <td>216</td>\n",
       "      <td>NaN</td>\n",
       "      <td>...</td>\n",
       "      <td>False</td>\n",
       "      <td>visual-impairment</td>\n",
       "      <td>NaN</td>\n",
       "      <td>NaN</td>\n",
       "      <td>NaN</td>\n",
       "      <td>NaN</td>\n",
       "      <td>False</td>\n",
       "      <td>0.909561</td>\n",
       "      <td>Visual impairment may cause difficult with nor...</td>\n",
       "      <td>Visual impairment may cause difficulties with ...</td>\n",
       "    </tr>\n",
       "    <tr>\n",
       "      <th>506747</th>\n",
       "      <td>MTurkSF</td>\n",
       "      <td>2022</td>\n",
       "      <td>non-experts</td>\n",
       "      <td>medical</td>\n",
       "      <td>MTurkSF__62__217</td>\n",
       "      <td>Visual impairment may cause difficulties with ...</td>\n",
       "      <td>62</td>\n",
       "      <td>Visual impairment may cause trouble with norma...</td>\n",
       "      <td>217</td>\n",
       "      <td>NaN</td>\n",
       "      <td>...</td>\n",
       "      <td>False</td>\n",
       "      <td>visual-impairment</td>\n",
       "      <td>NaN</td>\n",
       "      <td>NaN</td>\n",
       "      <td>NaN</td>\n",
       "      <td>NaN</td>\n",
       "      <td>False</td>\n",
       "      <td>0.982249</td>\n",
       "      <td>Visual impairment may cause trouble with norma...</td>\n",
       "      <td>Visual impairment may cause difficulties with ...</td>\n",
       "    </tr>\n",
       "    <tr>\n",
       "      <th>506748</th>\n",
       "      <td>MTurkSF</td>\n",
       "      <td>2022</td>\n",
       "      <td>non-experts</td>\n",
       "      <td>medical</td>\n",
       "      <td>MTurkSF__60__218</td>\n",
       "      <td>Visual impairment, also known as vision impair...</td>\n",
       "      <td>60</td>\n",
       "      <td>Visual impairment, also known as vision impair...</td>\n",
       "      <td>218</td>\n",
       "      <td>NaN</td>\n",
       "      <td>...</td>\n",
       "      <td>False</td>\n",
       "      <td>visual-impairment</td>\n",
       "      <td>NaN</td>\n",
       "      <td>NaN</td>\n",
       "      <td>NaN</td>\n",
       "      <td>NaN</td>\n",
       "      <td>False</td>\n",
       "      <td>0.984148</td>\n",
       "      <td>Visual impairment, also known as vision impair...</td>\n",
       "      <td>Visual impairment, also known as vision impair...</td>\n",
       "    </tr>\n",
       "    <tr>\n",
       "      <th>506749</th>\n",
       "      <td>MTurkSF</td>\n",
       "      <td>2022</td>\n",
       "      <td>non-experts</td>\n",
       "      <td>medical</td>\n",
       "      <td>MTurkSF__60__219</td>\n",
       "      <td>Visual impairment, also known as vision impair...</td>\n",
       "      <td>60</td>\n",
       "      <td>Visual impairment, also known as vision impair...</td>\n",
       "      <td>219</td>\n",
       "      <td>NaN</td>\n",
       "      <td>...</td>\n",
       "      <td>False</td>\n",
       "      <td>visual-impairment</td>\n",
       "      <td>NaN</td>\n",
       "      <td>NaN</td>\n",
       "      <td>NaN</td>\n",
       "      <td>NaN</td>\n",
       "      <td>False</td>\n",
       "      <td>0.964666</td>\n",
       "      <td>Visual impairment, also known as vision impair...</td>\n",
       "      <td>Visual impairment, also known as vision impair...</td>\n",
       "    </tr>\n",
       "    <tr>\n",
       "      <th>506750</th>\n",
       "      <td>MTurkSF</td>\n",
       "      <td>2022</td>\n",
       "      <td>non-experts</td>\n",
       "      <td>medical</td>\n",
       "      <td>MTurkSF__60__220</td>\n",
       "      <td>Visual impairment, also known as vision impair...</td>\n",
       "      <td>60</td>\n",
       "      <td>Visual impairment, also known as vision impair...</td>\n",
       "      <td>220</td>\n",
       "      <td>NaN</td>\n",
       "      <td>...</td>\n",
       "      <td>False</td>\n",
       "      <td>visual-impairment</td>\n",
       "      <td>NaN</td>\n",
       "      <td>NaN</td>\n",
       "      <td>NaN</td>\n",
       "      <td>NaN</td>\n",
       "      <td>False</td>\n",
       "      <td>0.928627</td>\n",
       "      <td>Visual impairment, also known as vision impair...</td>\n",
       "      <td>Visual impairment, also known as vision impair...</td>\n",
       "    </tr>\n",
       "  </tbody>\n",
       "</table>\n",
       "<p>221 rows × 22 columns</p>\n",
       "</div>"
      ],
      "text/plain": [
       "          ds_id  Year Target_Audience   Domain             index  \\\n",
       "506530  MTurkSF  2022     non-experts  medical     MTurkSF__0__0   \n",
       "506531  MTurkSF  2022     non-experts  medical     MTurkSF__0__1   \n",
       "506532  MTurkSF  2022     non-experts  medical     MTurkSF__0__2   \n",
       "506533  MTurkSF  2022     non-experts  medical     MTurkSF__0__3   \n",
       "506534  MTurkSF  2022     non-experts  medical     MTurkSF__0__4   \n",
       "...         ...   ...             ...      ...               ...   \n",
       "506746  MTurkSF  2022     non-experts  medical  MTurkSF__62__216   \n",
       "506747  MTurkSF  2022     non-experts  medical  MTurkSF__62__217   \n",
       "506748  MTurkSF  2022     non-experts  medical  MTurkSF__60__218   \n",
       "506749  MTurkSF  2022     non-experts  medical  MTurkSF__60__219   \n",
       "506750  MTurkSF  2022     non-experts  medical  MTurkSF__60__220   \n",
       "\n",
       "                                                      src  src_id  \\\n",
       "506530  Abdominal wall defects are a type of congenita...       0   \n",
       "506531  Abdominal wall defects are a type of congenita...       0   \n",
       "506532  Abdominal wall defects are a type of congenita...       0   \n",
       "506533  Abdominal wall defects are a type of congenita...       0   \n",
       "506534  Abdominal wall defects are a type of congenita...       0   \n",
       "...                                                   ...     ...   \n",
       "506746  Visual impairment may cause difficulties with ...      62   \n",
       "506747  Visual impairment may cause difficulties with ...      62   \n",
       "506748  Visual impairment, also known as vision impair...      60   \n",
       "506749  Visual impairment, also known as vision impair...      60   \n",
       "506750  Visual impairment, also known as vision impair...      60   \n",
       "\n",
       "                                                     simp  simp_id label  ...  \\\n",
       "506530  Abdominal wall defects are a type of congenita...        0   NaN  ...   \n",
       "506531  Abdominal wall defects are a type of congenita...        1   NaN  ...   \n",
       "506532  Abdominal wall defects are a type of congenita...        2   NaN  ...   \n",
       "506533  Abdominal wall defects are a type of congenita...        3   NaN  ...   \n",
       "506534  Abdominal wall defects are a type of congenita...        4   NaN  ...   \n",
       "...                                                   ...      ...   ...  ...   \n",
       "506746  Visual impairment may cause difficult with nor...      216   NaN  ...   \n",
       "506747  Visual impairment may cause trouble with norma...      217   NaN  ...   \n",
       "506748  Visual impairment, also known as vision impair...      218   NaN  ...   \n",
       "506749  Visual impairment, also known as vision impair...      219   NaN  ...   \n",
       "506750  Visual impairment, also known as vision impair...      220   NaN  ...   \n",
       "\n",
       "       duplicated                topic  src_title simp_title similarity  \\\n",
       "506530      False  abdominalwalldefect        NaN        NaN        NaN   \n",
       "506531      False  abdominalwalldefect        NaN        NaN        NaN   \n",
       "506532      False  abdominalwalldefect        NaN        NaN        NaN   \n",
       "506533      False  abdominalwalldefect        NaN        NaN        NaN   \n",
       "506534      False  abdominalwalldefect        NaN        NaN        NaN   \n",
       "...           ...                  ...        ...        ...        ...   \n",
       "506746      False    visual-impairment        NaN        NaN        NaN   \n",
       "506747      False    visual-impairment        NaN        NaN        NaN   \n",
       "506748      False    visual-impairment        NaN        NaN        NaN   \n",
       "506749      False    visual-impairment        NaN        NaN        NaN   \n",
       "506750      False    visual-impairment        NaN        NaN        NaN   \n",
       "\n",
       "       topics  val_split bert_score  \\\n",
       "506530    NaN      False   0.953776   \n",
       "506531    NaN      False   0.968228   \n",
       "506532    NaN      False   0.954932   \n",
       "506533    NaN      False   0.923728   \n",
       "506534    NaN      False   0.956304   \n",
       "...       ...        ...        ...   \n",
       "506746    NaN      False   0.909561   \n",
       "506747    NaN      False   0.982249   \n",
       "506748    NaN      False   0.984148   \n",
       "506749    NaN      False   0.964666   \n",
       "506750    NaN      False   0.928627   \n",
       "\n",
       "                                           simplified_snt  \\\n",
       "506530  Abdominal wall defects are a type of congenita...   \n",
       "506531  Abdominal wall defects are a type of congenita...   \n",
       "506532  Abdominal wall defects are a type of congenita...   \n",
       "506533  Abdominal wall defects are a type of congenita...   \n",
       "506534  Abdominal wall defects are a type of congenita...   \n",
       "...                                                   ...   \n",
       "506746  Visual impairment may cause difficult with nor...   \n",
       "506747  Visual impairment may cause trouble with norma...   \n",
       "506748  Visual impairment, also known as vision impair...   \n",
       "506749  Visual impairment, also known as vision impair...   \n",
       "506750  Visual impairment, also known as vision impair...   \n",
       "\n",
       "                                               source_snt  \n",
       "506530  Abdominal wall defects are a type of congenita...  \n",
       "506531  Abdominal wall defects are a type of congenita...  \n",
       "506532  Abdominal wall defects are a type of congenita...  \n",
       "506533  Abdominal wall defects are a type of congenita...  \n",
       "506534  Abdominal wall defects are a type of congenita...  \n",
       "...                                                   ...  \n",
       "506746  Visual impairment may cause difficulties with ...  \n",
       "506747  Visual impairment may cause difficulties with ...  \n",
       "506748  Visual impairment, also known as vision impair...  \n",
       "506749  Visual impairment, also known as vision impair...  \n",
       "506750  Visual impairment, also known as vision impair...  \n",
       "\n",
       "[221 rows x 22 columns]"
      ]
     },
     "execution_count": 14,
     "metadata": {},
     "output_type": "execute_result"
    }
   ],
   "source": [
    "dataset"
   ]
  },
  {
   "cell_type": "code",
   "execution_count": 16,
   "metadata": {},
   "outputs": [
    {
     "name": "stdout",
     "output_type": "stream",
     "text": [
      "1.0\n",
      "1.0\n",
      "1.0\n",
      "1.0\n",
      "1.0\n",
      "1.0\n",
      "1.0\n",
      "1.0\n",
      "1.0\n",
      "1.0\n",
      "1.0\n",
      "1.0\n",
      "1.0\n",
      "1.0\n",
      "1.0\n",
      "1.0\n",
      "1.0\n",
      "1.0\n",
      "1.0\n",
      "1.0\n",
      "1.0\n",
      "1.0\n",
      "1.0\n",
      "1.0\n",
      "1.0\n",
      "1.0\n",
      "1.0\n",
      "1.0\n",
      "1.0\n",
      "1.0\n"
     ]
    }
   ],
   "source": [
    "for i in range(30):\n",
    "    t1 = dataset.iloc[1].src\n",
    "    print(model.calc_score(t1))"
   ]
  },
  {
   "cell_type": "code",
   "execution_count": 18,
   "metadata": {},
   "outputs": [],
   "source": [
    "def foo1(x=[]):\n",
    "    x.append(\"a\")\n",
    "    print(x)"
   ]
  },
  {
   "cell_type": "code",
   "execution_count": 20,
   "metadata": {},
   "outputs": [
    {
     "name": "stdout",
     "output_type": "stream",
     "text": [
      "['a', 'a']\n"
     ]
    }
   ],
   "source": [
    "foo1()"
   ]
  },
  {
   "cell_type": "code",
   "execution_count": 8,
   "metadata": {},
   "outputs": [
    {
     "ename": "NameError",
     "evalue": "name 'model' is not defined",
     "output_type": "error",
     "traceback": [
      "\u001b[0;31m---------------------------------------------------------------------------\u001b[0m",
      "\u001b[0;31mNameError\u001b[0m                                 Traceback (most recent call last)",
      "\u001b[1;32m/workspace/test_sute.ipynb Cell 19\u001b[0m line \u001b[0;36m1\n\u001b[0;32m----> <a href='vscode-notebook-cell://attached-container%2B7b22636f6e7461696e65724e616d65223a222f7573622d706970656c696e655f7573622d706970656c696e655f31227d/workspace/test_sute.ipynb#X24sdnNjb2RlLXJlbW90ZQ%3D%3D?line=0'>1</a>\u001b[0m t1_bin \u001b[39m=\u001b[39mmodel\u001b[39m.\u001b[39mtransform_to_bin_vec(t1)\n",
      "\u001b[0;31mNameError\u001b[0m: name 'model' is not defined"
     ]
    }
   ],
   "source": [
    "t1_bin =model.transform_to_bin_vec(t1)"
   ]
  },
  {
   "cell_type": "code",
   "execution_count": null,
   "metadata": {},
   "outputs": [],
   "source": [
    "t1_bin"
   ]
  },
  {
   "cell_type": "code",
   "execution_count": null,
   "metadata": {},
   "outputs": [],
   "source": [
    "weights"
   ]
  },
  {
   "cell_type": "code",
   "execution_count": 19,
   "metadata": {},
   "outputs": [],
   "source": [
    "s_val = 0\n",
    "ns_val = 0\n",
    "\n",
    "for i in range(len(t1_bin[0])):\n",
    "    if t1_bin[0][i] == 0:\n",
    "        s_val += weights[i]\n",
    "    elif t1_bin[0][i] == 1:\n",
    "        ns_val += weights[i]"
   ]
  },
  {
   "cell_type": "code",
   "execution_count": 31,
   "metadata": {},
   "outputs": [],
   "source": [
    "s_val_p = s_val / (s_val + ns_val)"
   ]
  },
  {
   "cell_type": "code",
   "execution_count": 34,
   "metadata": {},
   "outputs": [],
   "source": [
    "ns_val_p = ns_val / (s_val + ns_val)"
   ]
  },
  {
   "cell_type": "code",
   "execution_count": 35,
   "metadata": {},
   "outputs": [
    {
     "data": {
      "text/plain": [
       "0.567854532929395"
      ]
     },
     "execution_count": 35,
     "metadata": {},
     "output_type": "execute_result"
    }
   ],
   "source": [
    "ns_val_p"
   ]
  },
  {
   "cell_type": "code",
   "execution_count": 65,
   "metadata": {},
   "outputs": [],
   "source": [
    "from snorkel.labeling import labeling_function, PandasLFApplier, LabelingFunction\n",
    "from snorkel.labeling.apply.dask import PandasParallelLFApplier, DaskLFApplier\n",
    "import pandas as pd\n",
    "import dask.dataframe as dd\n",
    "import numpy as np\n",
    "import pickle\n",
    "import time\n",
    "\n",
    "def is_odd(x):\n",
    "    time.sleep(0.01)\n",
    "    return 1 if x.val % 2 == 1 else 0\n",
    "\n",
    "test_lfs = [LabelingFunction(f\"lf_{i}\", is_odd) for i in range(6)]"
   ]
  },
  {
   "cell_type": "code",
   "execution_count": 59,
   "metadata": {},
   "outputs": [],
   "source": [
    "rand_ints = np.random.randint(100, size=500)\n",
    "df = pd.DataFrame(dict(val=rand_ints))\n",
    "ddf = dd.from_pandas(df, npartitions=6)"
   ]
  },
  {
   "cell_type": "code",
   "execution_count": 60,
   "metadata": {},
   "outputs": [
    {
     "name": "stderr",
     "output_type": "stream",
     "text": [
      "100%|██████████| 500/500 [00:30<00:00, 16.29it/s]\n"
     ]
    }
   ],
   "source": [
    "applier = PandasLFApplier(lfs)\n",
    "labels = applier.apply(pd.DataFrame(dict(val=rand_ints)))"
   ]
  },
  {
   "cell_type": "code",
   "execution_count": 61,
   "metadata": {},
   "outputs": [],
   "source": [
    "applier_p = PandasParallelLFApplier(lfs)\n",
    "labels = applier_p.apply(pd.DataFrame(dict(val=rand_ints)), n_parallel=6)"
   ]
  },
  {
   "cell_type": "code",
   "execution_count": 62,
   "metadata": {},
   "outputs": [],
   "source": [
    "dask_applier = DaskLFApplier(lfs)"
   ]
  },
  {
   "cell_type": "code",
   "execution_count": 63,
   "metadata": {},
   "outputs": [],
   "source": [
    "labels = dask_applier.apply(df = ddf)"
   ]
  },
  {
   "cell_type": "code",
   "execution_count": 75,
   "metadata": {},
   "outputs": [],
   "source": [
    "#try it own multiprocessing\n",
    "from multiprocessing import Process\n",
    "\n",
    "\n",
    "def apply_lfs(df, lfs, i, size):\n",
    "    applier = PandasLFApplier(lfs)\n",
    "    labels = applier.apply(df[i:i+size])\n",
    "    pickle.dump(open(f\"./test_{i}.pkl\", \"wb\"), labels)\n"
   ]
  },
  {
   "cell_type": "code",
   "execution_count": 79,
   "metadata": {},
   "outputs": [
    {
     "name": "stdout",
     "output_type": "stream",
     "text": [
      "start process 0\n",
      "start process 1\n"
     ]
    },
    {
     "name": "stderr",
     "output_type": "stream",
     "text": [
      "  0%|          | 0/100 [00:00<?, ?it/s]"
     ]
    },
    {
     "name": "stdout",
     "output_type": "stream",
     "text": [
      "start process 2\n"
     ]
    },
    {
     "name": "stderr",
     "output_type": "stream",
     "text": [
      "  0%|          | 0/100 [00:00<?, ?it/s]"
     ]
    },
    {
     "name": "stdout",
     "output_type": "stream",
     "text": [
      "start process 3\n"
     ]
    },
    {
     "name": "stderr",
     "output_type": "stream",
     "text": [
      "  0%|          | 0/100 [00:00<?, ?it/s]"
     ]
    },
    {
     "name": "stdout",
     "output_type": "stream",
     "text": [
      "start process 4\n"
     ]
    },
    {
     "name": "stderr",
     "output_type": "stream",
     "text": [
      "100%|██████████| 100/100 [00:06<00:00, 16.27it/s]\n",
      "100%|██████████| 100/100 [00:06<00:00, 16.29it/s]\n",
      "100%|██████████| 100/100 [00:06<00:00, 16.30it/s]\n",
      "100%|██████████| 100/100 [00:06<00:00, 16.29it/s]\n",
      "100%|██████████| 100/100 [00:06<00:00, 16.30it/s]\n"
     ]
    },
    {
     "name": "stdout",
     "output_type": "stream",
     "text": [
      "Duration: 6.19 seconds\n"
     ]
    }
   ],
   "source": [
    "procs = []\n",
    "\n",
    "start = time.perf_counter()\n",
    "\n",
    "for i in range(5):\n",
    "    print(f\"start process {i}\")\n",
    "    proc = Process(target=apply_lfs, args=(df[i:i+100], test_lfs))\n",
    "    procs.append(proc)\n",
    "    proc.start()\n",
    "\n",
    "\n",
    "for proc in procs:\n",
    "    proc.join()\n",
    "\n",
    "end = time.perf_counter()\n",
    "print(f\"Duration: {np.round(end-start, 2)} seconds\")"
   ]
  },
  {
   "cell_type": "code",
   "execution_count": null,
   "metadata": {},
   "outputs": [],
   "source": []
  }
 ],
 "metadata": {
  "kernelspec": {
   "display_name": "Python 3",
   "language": "python",
   "name": "python3"
  },
  "language_info": {
   "codemirror_mode": {
    "name": "ipython",
    "version": 3
   },
   "file_extension": ".py",
   "mimetype": "text/x-python",
   "name": "python",
   "nbconvert_exporter": "python",
   "pygments_lexer": "ipython3",
   "version": "3.8.18"
  }
 },
 "nbformat": 4,
 "nbformat_minor": 2
}
